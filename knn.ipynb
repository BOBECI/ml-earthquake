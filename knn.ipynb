{
 "cells": [
  {
   "cell_type": "code",
   "execution_count": 1,
   "metadata": {
    "pycharm": {
     "is_executing": false
    }
   },
   "outputs": [
    {
     "name": "stderr",
     "text": [
      "/home/emreunel/anaconda3/envs/ass3/lib/python3.7/site-packages/sklearn/utils/__init__.py:4: DeprecationWarning: Using or importing the ABCs from 'collections' instead of from 'collections.abc' is deprecated since Python 3.3,and in 3.9 it will stop working\n",
      "  from collections import Sequence\n",
      "/home/emreunel/anaconda3/envs/ass3/lib/python3.7/site-packages/sklearn/model_selection/_split.py:18: DeprecationWarning: Using or importing the ABCs from 'collections' instead of from 'collections.abc' is deprecated since Python 3.3,and in 3.9 it will stop working\n",
      "  from collections import Iterable\n",
      "/home/emreunel/anaconda3/envs/ass3/lib/python3.7/site-packages/sklearn/model_selection/_search.py:16: DeprecationWarning: Using or importing the ABCs from 'collections' instead of from 'collections.abc' is deprecated since Python 3.3,and in 3.9 it will stop working\n",
      "  from collections import Mapping, namedtuple, defaultdict, Sequence\n",
      "/home/emreunel/anaconda3/envs/ass3/lib/python3.7/site-packages/sklearn/ensemble/weight_boosting.py:29: DeprecationWarning: numpy.core.umath_tests is an internal NumPy module and should not be imported. It will be removed in a future NumPy release.\n",
      "  from numpy.core.umath_tests import inner1d\n"
     ],
     "output_type": "stream"
    }
   ],
   "source": [
    "# importing libraries\n",
    "import pandas as pd\n",
    "import numpy as np\n",
    "import torch\n",
    "import matplotlib.pyplot as plt\n",
    "from sklearn.metrics import accuracy_score\n",
    "from imblearn.combine import SMOTEENN"
   ]
  },
  {
   "cell_type": "code",
   "execution_count": 2,
   "metadata": {
    "pycharm": {
     "is_executing": false,
     "name": "#%%\n"
    }
   },
   "outputs": [],
   "source": [
    "# load dataset\n",
    "data = pd.read_csv(\"dataset/preprocessed.csv\")"
   ]
  },
  {
   "cell_type": "code",
   "execution_count": 3,
   "metadata": {
    "pycharm": {
     "is_executing": false,
     "name": "#%% \n"
    }
   },
   "outputs": [],
   "source": [
    "# load dataset to numpy\n",
    "data_npWNan = data.iloc[:, :].values\n",
    "tempNp = data_npWNan[data_npWNan[:, -1] != -1]\n",
    "data_np = tempNp[:-2, :]"
   ]
  },
  {
   "cell_type": "code",
   "execution_count": 4,
   "outputs": [
    {
     "name": "stdout",
     "text": [
      "Frequency of unique values of the said array:\n",
      "[[     1      2      3      4      5]\n",
      " [ 78815  87257 136412 183844 275764]]\n"
     ],
     "output_type": "stream"
    }
   ],
   "source": [
    "# showing frequency of targets\n",
    "unique_elements, counts_elements = np.unique(data_np[:, -1], return_counts=True)\n",
    "print(\"Frequency of unique values of the said array:\")\n",
    "print(np.asarray((unique_elements, counts_elements)))"
   ],
   "metadata": {
    "collapsed": false,
    "pycharm": {
     "name": "#%%\n",
     "is_executing": false
    }
   }
  },
  {
   "cell_type": "code",
   "execution_count": 5,
   "metadata": {
    "pycharm": {
     "is_executing": false,
     "name": "#%%\n"
    }
   },
   "outputs": [],
   "source": [
    "# kd tree function which will split data according to features's covariance\n",
    "def kd_tree(data, counter, arr):\n",
    "    if counter == 1:\n",
    "        arr.append(data)\n",
    "    if counter > 0:\n",
    "        covarr = data[:-1].var(axis = 0)\n",
    "        maxelement = covarr.argmax(axis = 0) \n",
    "        data = data[data[:, maxelement].argsort()]\n",
    "        half = int(len(data) / 2)\n",
    "        kd_tree(data[: half], counter - 1, arr)\n",
    "        kd_tree(data[half :], counter - 1, arr)   \n",
    "kdTreeArr = []\n",
    "kd_tree(data_np, 2, kdTreeArr)"
   ]
  },
  {
   "cell_type": "code",
   "execution_count": 6,
   "metadata": {
    "pycharm": {
     "is_executing": false,
     "name": "#%% \n"
    }
   },
   "outputs": [],
   "source": [
    "# network \n",
    "# cosine similarity can be implemented by dot product\n",
    "from torch import nn\n",
    "class Network(nn.Module):\n",
    "    def __init__(self, input_dim, output_dim):\n",
    "        super().__init__()        \n",
    "        # Inputs to hidden layer linear transformation \n",
    "        self.output = nn.Linear(input_dim, output_dim) \n",
    "    def forward(self, x):\n",
    "        x = self.output(x)\n",
    "        return x"
   ]
  },
  {
   "cell_type": "code",
   "execution_count": 7,
   "metadata": {
    "pycharm": {
     "is_executing": false,
     "name": "#%% \n"
    }
   },
   "outputs": [],
   "source": [
    "# In order to use dot product we have to normalize train data\n",
    "def normalize_encodings(encodings):\n",
    "    ref_norms = np.linalg.norm(encodings, axis=0)\n",
    "    return encodings / ref_norms"
   ]
  },
  {
   "cell_type": "code",
   "execution_count": 8,
   "metadata": {
    "pycharm": {
     "is_executing": false,
     "name": "#%%\n"
    }
   },
   "outputs": [],
   "source": [
    "# select k neighbour which have larger similarity and vote them to predict\n",
    "def select_k(similarity_mat, k_neighbour, train_label, true_label):\n",
    "    truePred = 0\n",
    "    for houseIndex in range(len(similarity_mat)):\n",
    "        vote = train_label[similarity_mat[houseIndex][-1 * k_neighbour:]]\n",
    "        pred = np.bincount(vote).argmax()\n",
    "        if true_label[houseIndex] == pred:\n",
    "            truePred += 1\n",
    "    accur = truePred / len(true_label)\n",
    "    return accur"
   ]
  },
  {
   "cell_type": "code",
   "execution_count": 9,
   "metadata": {
    "pycharm": {
     "is_executing": false,
     "name": "#%%\n"
    }
   },
   "outputs": [],
   "source": [
    "# Find similarity with dot product\n",
    "def similarity(X_test):\n",
    "    X_test = X_test.astype('float32')\n",
    "    X_test = torch.from_numpy(X_test)\n",
    "    X_test = X_test.cuda()\n",
    "    with torch.no_grad():\n",
    "        out = knn(X_test)\n",
    "    del X_test\n",
    "    return out"
   ]
  },
  {
   "cell_type": "code",
   "execution_count": 10,
   "metadata": {
    "pycharm": {
     "is_executing": false,
     "name": "#%%\n"
    }
   },
   "outputs": [
    {
     "name": "stderr",
     "text": [
      "/home/emreunel/anaconda3/envs/ass3/lib/python3.7/site-packages/imblearn/utils/deprecation.py:50: DeprecationWarning: 'k' is deprecated from 0.2 and will be removed in 0.4. Use 'k_neighbors' instead.\n",
      "  category=DeprecationWarning)\n",
      "/home/emreunel/anaconda3/envs/ass3/lib/python3.7/site-packages/imblearn/utils/deprecation.py:50: DeprecationWarning: 'm' is deprecated from 0.2 and will be removed in 0.4. Use 'm_neighbors' instead.\n",
      "  category=DeprecationWarning)\n",
      "/home/emreunel/anaconda3/envs/ass3/lib/python3.7/site-packages/imblearn/utils/deprecation.py:50: DeprecationWarning: 'k' is deprecated from 0.2 and will be removed in 0.4. Use 'k_neighbors' instead.\n",
      "  category=DeprecationWarning)\n",
      "/home/emreunel/anaconda3/envs/ass3/lib/python3.7/site-packages/imblearn/utils/deprecation.py:50: DeprecationWarning: 'm' is deprecated from 0.2 and will be removed in 0.4. Use 'm_neighbors' instead.\n",
      "  category=DeprecationWarning)\n"
     ],
     "output_type": "stream"
    },
    {
     "name": "stdout",
     "text": [
      "kdTree'nin  1 . partindasindasin,  0 . k fold partindasindasin  29 . batchi yapiyorsun\n",
      "kdTree'nin  2 . partindasindasin,  0 . k fold partindasindasin  29 . batchi yapiyorsun\n"
     ],
     "output_type": "stream"
    }
   ],
   "source": [
    "# for all part of data calculate similarity\n",
    "# use k fold cross validation to find number of k in k-nn\n",
    "from sklearn.model_selection import train_test_split\n",
    "from sklearn.preprocessing import StandardScaler\n",
    "import gc \n",
    "cvCount = 5  \n",
    "numberOfKTry = 5  \n",
    "startK = 700\n",
    "kUpgrade = 20\n",
    "accuracyCount = np.array([0.0] * numberOfKTry)\n",
    "batchSize = 30\n",
    "maxKCount = startK + numberOfKTry * kUpgrade\n",
    "import datetime\n",
    "a = datetime.datetime.now().replace(microsecond=0)\n",
    "kdPartCount = 0\n",
    "for kdTreePart in kdTreeArr:  \n",
    "    kdPartCount +=1\n",
    "    feature = kdTreePart[:, :-1]\n",
    "    target = kdTreePart[:, -1]\n",
    "    #part 0\n",
    "    X_trainAndVal, X_test, y_trainAndVal, y_test = train_test_split(feature, target, test_size = 0.2, random_state = 0)\n",
    "    sm = SMOTEENN(random_state = 27, n_jobs = -1)\n",
    "    X_trainAndVal, y_trainAndVal = sm.fit_sample(X_trainAndVal, y_trainAndVal)\n",
    "    c = datetime.datetime.now().replace(microsecond=0)\n",
    "    # Feature Scaling\n",
    "    sc = StandardScaler()    \n",
    "    cvCounter = 0\n",
    "    for cv in range(cvCount):  \n",
    "        cvCounter += 1              \n",
    "        X_train, X_val, y_train, y_val = train_test_split(X_trainAndVal, y_trainAndVal, test_size = 0.2, random_state = 0)\n",
    "        X_train = sc.fit_transform(X_train) \n",
    "        X_val = sc.transform(X_val)\n",
    "        X_train = normalize_encodings(X_train)\n",
    "        knn = Network(X_train.shape[1], X_train.shape[0])\n",
    "        knn = knn.cuda()\n",
    "        knn.weight = X_train.T\n",
    "        len_val = len(X_val) // batchSize + 1\n",
    "        val_index = 0\n",
    "        batchCount = 0 \n",
    "        for i in range(batchSize): \n",
    "            if(i == batchSize-1 and cv == 0):\n",
    "                print(\"kdTree'nin \",kdPartCount,\". partindasindasin, \",cv,\". k fold partindasindasin \",i,\". batchi yapiyorsun\")\n",
    "            batchCount +=1             \n",
    "            xValBatch = X_val[val_index : val_index + len_val]\n",
    "            yValBatch = y_val[val_index : val_index + len_val]\n",
    "            out = similarity(xValBatch)\n",
    "            index = 0\n",
    "            out = out.cpu().detach().numpy()\n",
    "            similarityMat = np.argpartition(out, -1 * maxKCount, axis = 1)[:, -1 * maxKCount:]\n",
    "            for x in range(len(similarityMat)):       \n",
    "                similarityMat[x] = similarityMat[x][np.argsort(out[x][similarityMat[x]])]\n",
    "            for kTry in range(startK, numberOfKTry * kUpgrade + startK, kUpgrade):\n",
    "                delta = select_k(similarityMat, kTry, y_train, yValBatch)\n",
    "                accuracyCount[index] += delta\n",
    "                index += 1\n",
    "            val_index += len_val\n",
    "            del out, xValBatch, yValBatch, similarityMat\n",
    "            torch.cuda.empty_cache()\n",
    "            gc.collect()\n",
    "        del X_train, X_val, y_train, y_val\n",
    "        gc.collect()\n",
    "    d = datetime.datetime.now().replace(microsecond=0)\n",
    "    del X_trainAndVal, X_test, y_trainAndVal, y_test\n",
    "    gc.collect()"
   ]
  },
  {
   "cell_type": "code",
   "execution_count": 11,
   "outputs": [
    {
     "name": "stdout",
     "text": [
      "son sure  0:20:24\n"
     ],
     "output_type": "stream"
    }
   ],
   "source": [
    "#calculate time difference\n",
    "b = datetime.datetime.now().replace(microsecond=0)\n",
    "print(\"son sure \",b-a)"
   ],
   "metadata": {
    "collapsed": false,
    "pycharm": {
     "name": "#%%\n",
     "is_executing": false
    }
   }
  },
  {
   "cell_type": "code",
   "execution_count": 12,
   "metadata": {
    "pycharm": {
     "is_executing": false,
     "name": "#%%\n"
    }
   },
   "outputs": [
    {
     "name": "stdout",
     "text": [
      "en iyi k degeri  760\n"
     ],
     "output_type": "stream"
    }
   ],
   "source": [
    "# select best K-NN k value\n",
    "accuracyCount /= (cvCount  * len(kdTreeArr) * batchSize)\n",
    "bestKIndex = accuracyCount.argmax(axis=0) \n",
    "bestK = startK + bestKIndex * kUpgrade\n",
    "print(\"en iyi k degeri \",bestK)"
   ]
  },
  {
   "cell_type": "code",
   "execution_count": 13,
   "outputs": [
    {
     "name": "stdout",
     "text": [
      "best accuracy  0.2892657423743422\n"
     ],
     "output_type": "stream"
    }
   ],
   "source": [
    "print(\"best accuracy \",max(accuracyCount))"
   ],
   "metadata": {
    "collapsed": false,
    "pycharm": {
     "name": "#%%\n",
     "is_executing": false
    }
   }
  },
  {
   "cell_type": "code",
   "execution_count": 14,
   "metadata": {
    "pycharm": {
     "is_executing": false
    }
   },
   "outputs": [],
   "source": [
    "kNumber = []\n",
    "for kTry in range(startK, numberOfKTry * kUpgrade + startK, kUpgrade):\n",
    "    kNumber.append(kTry)"
   ]
  },
  {
   "cell_type": "code",
   "execution_count": 21,
   "metadata": {
    "pycharm": {
     "is_executing": false,
     "name": "#%%\n"
    }
   },
   "outputs": [
    {
     "data": {
      "text/plain": "<Figure size 432x288 with 1 Axes>",
      "image/png": "[encoded data removed]"
     },
     "metadata": {
      "needs_background": "light"
     },
     "output_type": "display_data"
    }
   ],
   "source": [
    "# show accuracy on different k value\n",
    "plt.plot(kNumber, accuracyCount, label = 'knn accur')\n",
    "plt.legend()\n",
    "plt.show()"
   ]
  }
 ],
 "metadata": {
  "kernelspec": {
   "display_name": "Python 3",
   "language": "python",
   "name": "python3"
  },
  "language_info": {
   "codemirror_mode": {
    "name": "ipython",
    "version": 3
   },
   "file_extension": ".py",
   "mimetype": "text/x-python",
   "name": "python",
   "nbconvert_exporter": "python",
   "pygments_lexer": "ipython3",
   "version": "3.7.4"
  },
  "pycharm": {
   "stem_cell": {
    "cell_type": "raw",
    "source": [],
    "metadata": {
     "collapsed": false
    }
   }
  }
 },
 "nbformat": 4,
 "nbformat_minor": 1
}