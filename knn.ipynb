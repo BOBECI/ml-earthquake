{
 "cells": [
  {
   "cell_type": "code",
   "execution_count": 1,
   "metadata": {
    "pycharm": {
     "is_executing": false
    }
   },
   "outputs": [],
   "source": [
    "import pandas as pd\n",
    "import numpy as np\n",
    "import torch\n",
    "import matplotlib.pyplot as plt\n",
    "from sklearn.metrics import accuracy_score"
   ]
  },
  {
   "cell_type": "code",
   "execution_count": 2,
   "metadata": {
    "pycharm": {
     "is_executing": false,
     "name": "#%%\n"
    }
   },
   "outputs": [],
   "source": [
    "sortedFeatureCorr = pd.read_csv(\"dataset/corr.csv\")\n",
    "data = pd.read_csv(\"dataset/preprocessed.csv\")\n"
   ]
  },
  {
   "cell_type": "code",
   "execution_count": 3,
   "metadata": {
    "pycharm": {
     "is_executing": false,
     "name": "#%%\n"
    }
   },
   "outputs": [],
   "source": [
    "best_feature_count = 2\n",
    "worst_feature_count = 1"
   ]
  },
  {
   "cell_type": "code",
   "execution_count": 4,
   "metadata": {
    "pycharm": {
     "is_executing": false,
     "name": "#%%\n"
    }
   },
   "outputs": [],
   "source": [
    "a = sortedFeatureCorr.iloc[:, 0].values\n",
    "\n"
   ]
  },
  {
   "cell_type": "code",
   "execution_count": 5,
   "metadata": {
    "pycharm": {
     "is_executing": false,
     "name": "#%%\n"
    }
   },
   "outputs": [],
   "source": [
    "for i in range(best_feature_count, sortedFeatureCorr.shape[0] - worst_feature_count):\n",
    "    data = data.drop(a[i], axis = 1)\n",
    "\n",
    "data = data.drop(list(data.columns)[0], axis = 1)"
   ]
  },
  {
   "cell_type": "code",
   "execution_count": 6,
   "metadata": {
    "pycharm": {
     "is_executing": false,
     "name": "#%% \n"
    }
   },
   "outputs": [
    {
     "name": "stdout",
     "text": [
      "Frequency of unique values of the said array:\n",
      "[[     1      2      3      4      5]\n",
      " [ 78815  87257 136412 183844 275764]]\n",
      "feature (762092, 3)\n"
     ],
     "output_type": "stream"
    }
   ],
   "source": [
    "data_npWNan = data.iloc[:, :].values\n",
    "\n",
    "tempNp = data_npWNan[data_npWNan[:, -1] != -1]\n",
    "data_np = tempNp[:-2, :]\n",
    "unique_elements, counts_elements = np.unique(data_np[:, -1], return_counts=True)\n",
    "print(\"Frequency of unique values of the said array:\")\n",
    "print(np.asarray((unique_elements, counts_elements)))"
   ]
  },
  {
   "cell_type": "code",
   "execution_count": 7,
   "metadata": {
    "pycharm": {
     "is_executing": false,
     "name": "#%%\n"
    }
   },
   "outputs": [],
   "source": [
    "def kd_tree(data, counter, arr):\n",
    "    if counter == 1:\n",
    "        arr.append(data)\n",
    "    if counter > 0:\n",
    "        covarr = data[:-1].var(axis = 0)\n",
    "        maxelement = covarr.argmax(axis = 0) \n",
    "        data = data[data[:, maxelement].argsort()]\n",
    "        half = int(len(data) / 2)\n",
    "        kd_tree(data[: half], counter - 1, arr)\n",
    "        kd_tree(data[half :], counter - 1, arr)\n",
    "    \n",
    "kdTreeArr = []\n",
    "kd_tree(data_np, 3, kdTreeArr)"
   ]
  },
  {
   "cell_type": "code",
   "execution_count": 8,
   "metadata": {
    "pycharm": {
     "is_executing": false,
     "name": "#%% \n"
    }
   },
   "outputs": [],
   "source": [
    "from torch import nn\n",
    "\n",
    "class Network(nn.Module):\n",
    "    def __init__(self):\n",
    "        super().__init__()        \n",
    "        # Inputs to hidden layer linear transformation \n",
    "        self.output = nn.Linear(best_feature_count + worst_feature_count - 1, 121934) \n",
    "    def forward(self, x):\n",
    "        x = self.output(x)\n",
    "        return x"
   ]
  },
  {
   "cell_type": "code",
   "execution_count": 9,
   "metadata": {
    "pycharm": {
     "is_executing": false,
     "name": "#%% \n"
    }
   },
   "outputs": [],
   "source": [
    "knn = Network()\n",
    "knn = knn.cuda()"
   ]
  },
  {
   "cell_type": "code",
   "execution_count": 10,
   "metadata": {
    "pycharm": {
     "is_executing": false,
     "name": "#%% \n"
    }
   },
   "outputs": [],
   "source": [
    "def normalize_encodings(encodings):\n",
    "    ref_norms = np.linalg.norm(encodings, axis=0)\n",
    "    return encodings / ref_norms"
   ]
  },
  {
   "cell_type": "code",
   "execution_count": 11,
   "metadata": {
    "pycharm": {
     "is_executing": false,
     "name": "#%%\n"
    }
   },
   "outputs": [],
   "source": [
    "def select_k(similarity_mat, k_neighbour, train_label, true_label):\n",
    "    truePred = 0\n",
    "    for houseIndex in range(len(similarity_mat)):\n",
    "        vote = train_label[similarity_mat[houseIndex][-1 * k_neighbour:]]\n",
    "        pred = np.bincount(vote).argmax()\n",
    "        if true_label[houseIndex] == pred:\n",
    "            truePred += 1\n",
    "    accur = truePred / len(true_label)\n",
    "    return accur"
   ]
  },
  {
   "cell_type": "code",
   "execution_count": 12,
   "metadata": {
    "pycharm": {
     "is_executing": false,
     "name": "#%% \n"
    }
   },
   "outputs": [],
   "source": [
    "def similarity(X_test):\n",
    "    X_test = X_test.astype('float32')\n",
    "    X_test = torch.from_numpy(X_test)\n",
    "    X_test = X_test.cuda()\n",
    "    out = knn(X_test)\n",
    "    del X_test\n",
    "    return out\n"
   ]
  },
  {
   "cell_type": "code",
   "execution_count": 13,
   "metadata": {
    "pycharm": {
     "is_executing": false,
     "name": "#%%\n"
    }
   },
   "outputs": [
    {
     "name": "stdout",
     "text": [
      "kdTree'nin  1 . partindasindasin,  0 . k fold partindasindasin  49 . batchi yapiyorsun\n",
      "kdTree'nin  1 . partindasindasin,  4 . k fold partindasindasin  49 . batchi yapiyorsun\n",
      "kdTree'nin  1 . partindasindasin,  8 . k fold partindasindasin  49 . batchi yapiyorsun\n",
      "kdTree'nin  2 . partindasindasin,  0 . k fold partindasindasin  49 . batchi yapiyorsun\n",
      "kdTree'nin  2 . partindasindasin,  4 . k fold partindasindasin  49 . batchi yapiyorsun\n",
      "kdTree'nin  2 . partindasindasin,  8 . k fold partindasindasin  49 . batchi yapiyorsun\n",
      "kdTree'nin  3 . partindasindasin,  0 . k fold partindasindasin  49 . batchi yapiyorsun\n",
      "kdTree'nin  3 . partindasindasin,  4 . k fold partindasindasin  49 . batchi yapiyorsun\n",
      "kdTree'nin  3 . partindasindasin,  8 . k fold partindasindasin  49 . batchi yapiyorsun\n",
      "kdTree'nin  4 . partindasindasin,  0 . k fold partindasindasin  49 . batchi yapiyorsun\n",
      "kdTree'nin  4 . partindasindasin,  4 . k fold partindasindasin  49 . batchi yapiyorsun\n",
      "kdTree'nin  4 . partindasindasin,  8 . k fold partindasindasin  49 . batchi yapiyorsun\n"
     ],
     "output_type": "stream"
    }
   ],
   "source": [
    "from sklearn.model_selection import train_test_split\n",
    "from sklearn.preprocessing import StandardScaler\n",
    "import gc \n",
    "\n",
    "cvCount = 10\n",
    "numberOfKTry = 10\n",
    "accuracyCount = np.array([0.0] * numberOfKTry)\n",
    "startK = 770\n",
    "kUpgrade = 2\n",
    "batchSize = 50\n",
    "maxKCount = startK + numberOfKTry * kUpgrade\n",
    "\n",
    "    \n",
    "kdPartCount = 0\n",
    "for kdTreePart in kdTreeArr:  # 4 tane\n",
    "    kdPartCount +=1\n",
    "    feature = kdTreePart[:, :-1]\n",
    "    target = kdTreePart[:, -1]\n",
    "\n",
    "    #part 0\n",
    "    X_trainAndVal, X_test, y_trainAndVal, y_test = train_test_split(feature, target, test_size = 0.2, random_state = 0)\n",
    "    \n",
    "    # Feature Scaling\n",
    "    sc = StandardScaler()\n",
    "    \n",
    "    cvCounter = 0\n",
    "    for cv in range(cvCount):  # 10 tane\n",
    "        cvCounter += 1        \n",
    "        \n",
    "        X_train, X_val, y_train, y_val = train_test_split(X_trainAndVal, y_trainAndVal, test_size = 0.2, random_state = 0)\n",
    "        X_train = sc.fit_transform(X_train) \n",
    "        X_val = sc.transform(X_val)\n",
    "        X_train = normalize_encodings(X_train)\n",
    "        knn.weight = X_train.T\n",
    "        \n",
    "        len_val = len(X_val) // batchSize + 1\n",
    "        val_index = 0\n",
    "        \n",
    "        batchCount = 0 \n",
    "        \n",
    "        for i in range(batchSize):  # 50 tane\n",
    "            if(i == batchSize-1 and cv % 4 == 0):\n",
    "                print(\"kdTree'nin \",kdPartCount,\". partindasindasin, \",cv,\". k fold partindasindasin \",i,\". batchi yapiyorsun\")\n",
    "            batchCount +=1 \n",
    "            \n",
    "            \n",
    "            xValBatch = X_val[val_index : val_index + len_val]\n",
    "            yValBatch = y_val[val_index : val_index + len_val]\n",
    "            out = similarity(xValBatch)\n",
    "            \n",
    "            index = 0\n",
    "            out = out.cpu().detach().numpy()\n",
    "            \n",
    "            similarityMat = np.argpartition(out, -1 * maxKCount, axis = 1)[:, -1 * maxKCount:]\n",
    "    \n",
    "            for x in range(len(similarityMat)):       \n",
    "                similarityMat[x] = similarityMat[x][np.argsort(out[x][similarityMat[x]])]\n",
    "            \n",
    "            for kTry in range(startK, numberOfKTry * kUpgrade + startK, kUpgrade):\n",
    "                delta = select_k(similarityMat, kTry, y_train, yValBatch)\n",
    "                accuracyCount[index] += delta\n",
    "                index += 1\n",
    "            val_index += len_val\n",
    "            del out, xValBatch, yValBatch\n",
    "            torch.cuda.empty_cache()\n",
    "            gc.collect()\n",
    "            \n",
    "        del X_train, X_val, y_train, y_val\n",
    "        gc.collect()\n",
    "        \n",
    "    del X_trainAndVal, X_test, y_trainAndVal, y_test\n",
    "    gc.collect()\n",
    "\n"
   ]
  },
  {
   "cell_type": "code",
   "execution_count": 14,
   "metadata": {
    "pycharm": {
     "is_executing": false,
     "name": "#%%\n"
    }
   },
   "outputs": [
    {
     "name": "stdout",
     "text": [
      "en iyi k degeri  770\n"
     ],
     "output_type": "stream"
    }
   ],
   "source": [
    "accuracyCount /= (cvCount  * len(kdTreeArr) * batchSize)\n",
    "bestKIndex = accuracyCount.argmax(axis=0) \n",
    "bestK = startK + bestKIndex * kUpgrade\n",
    "print(\"en iyi k degeri \",bestK)"
   ]
  },
  {
   "cell_type": "code",
   "execution_count": 15,
   "metadata": {
    "pycharm": {
     "is_executing": false,
     "name": "#%%\n"
    }
   },
   "outputs": [
    {
     "name": "stdout",
     "text": [
      "[0.64901214 0.64901214 0.64901214 0.64901214 0.64901214 0.64901214\n",
      " 0.64901214 0.64901214 0.64901214 0.64901214]\n"
     ],
     "output_type": "stream"
    }
   ],
   "source": [
    "print(accuracyCount)\n"
   ]
  },
  {
   "cell_type": "code",
   "execution_count": 16,
   "metadata": {
    "pycharm": {
     "is_executing": false
    }
   },
   "outputs": [
    {
     "name": "stdout",
     "text": [
      "770\n",
      "772\n",
      "774\n",
      "776\n",
      "778\n",
      "780\n",
      "782\n",
      "784\n",
      "786\n",
      "788\n"
     ],
     "output_type": "stream"
    }
   ],
   "source": [
    "kNumber = []\n",
    "for kTry in range(startK, numberOfKTry * kUpgrade + startK, kUpgrade):\n",
    "    print(kTry)\n",
    "    kNumber.append(kTry)"
   ]
  },
  {
   "cell_type": "code",
   "execution_count": 17,
   "metadata": {
    "pycharm": {
     "is_executing": false,
     "name": "#%%\n"
    }
   },
   "outputs": [
    {
     "data": {
      "text/plain": "<Figure size 432x288 with 1 Axes>",
      "image/png": "[encoded data removed]"
     },
     "metadata": {
      "needs_background": "light"
     },
     "output_type": "display_data"
    }
   ],
   "source": [
    "plt.plot(kNumber, accuracyCount, label = 'knn accur')\n",
    "\n",
    "plt.legend()\n",
    "plt.show()\n"
   ]
  }
 ],
 "metadata": {
  "kernelspec": {
   "display_name": "Python 3",
   "language": "python",
   "name": "python3"
  },
  "language_info": {
   "codemirror_mode": {
    "name": "ipython",
    "version": 3
   },
   "file_extension": ".py",
   "mimetype": "text/x-python",
   "name": "python",
   "nbconvert_exporter": "python",
   "pygments_lexer": "ipython3",
   "version": "3.7.4"
  },
  "pycharm": {
   "stem_cell": {
    "cell_type": "raw",
    "source": [],
    "metadata": {
     "collapsed": false
    }
   }
  }
 },
 "nbformat": 4,
 "nbformat_minor": 1
}