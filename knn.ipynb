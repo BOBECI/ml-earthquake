{
 "cells": [
  {
   "cell_type": "code",
   "execution_count": 1,
   "metadata": {
    "collapsed": true,
    "pycharm": {
     "is_executing": false
    }
   },
   "outputs": [],
   "source": [
    "import cupy as cp\n",
    "import pandas as pd\n",
    "import numpy as np\n",
    "import torch\n",
    "import matplotlib.pyplot as plt\n",
    "from sklearn.metrics import accuracy_score"
   ]
  },
  {
   "cell_type": "code",
   "execution_count": 2,
   "outputs": [],
   "source": [
    "sortedFeatureCorr = pd.read_csv(\"dataset/corr.csv\")\n",
    "data = pd.read_csv(\"dataset/preprocessed.csv\")"
   ],
   "metadata": {
    "collapsed": false,
    "pycharm": {
     "name": "#%%\n",
     "is_executing": false
    }
   }
  },
  {
   "cell_type": "code",
   "execution_count": 3,
   "outputs": [],
   "source": [
    "import time\n",
    "def stopWatch(value):\n",
    "    valueD = (((value/365)/24)/60)\n",
    "    Days = int (valueD)\n",
    "    valueH = (valueD-Days)*365\n",
    "    Hours = int(valueH)\n",
    "    valueM = (valueH - Hours)*24\n",
    "    Minutes = int(valueM)\n",
    "    valueS = (valueM - Minutes)*60\n",
    "    Seconds = int(valueS)\n",
    "    #start=time.time()\n",
    "    #end=time.time()\n",
    "    #stopWatch(end-start)\n",
    "    print (Days,\";\",Hours,\":\",Minutes,\";\",Seconds)"
   ],
   "metadata": {
    "collapsed": false,
    "pycharm": {
     "name": "#%%\n",
     "is_executing": false
    }
   }
  },
  {
   "cell_type": "code",
   "execution_count": 4,
   "outputs": [],
   "source": [
    "first_feature_count =           11\n",
    "last_feature_count =            10"
   ],
   "metadata": {
    "collapsed": false,
    "pycharm": {
     "name": "#%%\n",
     "is_executing": false
    }
   }
  },
  {
   "cell_type": "code",
   "execution_count": 5,
   "outputs": [],
   "source": [
    "a = sortedFeatureCorr.iloc[:, 0].values"
   ],
   "metadata": {
    "collapsed": false,
    "pycharm": {
     "name": "#%%\n",
     "is_executing": false
    }
   }
  },
  {
   "cell_type": "code",
   "execution_count": 6,
   "outputs": [],
   "source": [
    "for i in range(first_feature_count , sortedFeatureCorr.shape[0] - last_feature_count):\n",
    "    data = data.drop(a[i], axis=1)\n",
    "data=data.drop(list(data.columns)[0], axis=1)\n"
   ],
   "metadata": {
    "collapsed": false,
    "pycharm": {
     "name": "#%%\n",
     "is_executing": false
    }
   }
  },
  {
   "cell_type": "code",
   "execution_count": 7,
   "outputs": [
    {
     "name": "stdout",
     "text": [
      "feature (762104, 21)\n"
     ],
     "output_type": "stream"
    }
   ],
   "source": [
    "data_np = data.iloc[:-2, :].values\n",
    "#target = data.iloc[:, -1].values\n",
    "\n",
    "print(\"feature \" + str(data_np.shape))\n",
    "\n",
    "#print(\"target \" + str(target.shape))\n",
    "\n"
   ],
   "metadata": {
    "collapsed": false,
    "pycharm": {
     "name": "#%% \n",
     "is_executing": false
    }
   }
  },
  {
   "cell_type": "code",
   "execution_count": 8,
   "outputs": [
    {
     "name": "stdout",
     "text": [
      "[ 2  2 70  1  0  0  0  0  0  0  1  1  0  0  1  0  0  1  0  1  2]\n(762104, 21)\nmax covarıance feature ındex 2 ve half degerı 381052\n[ 2  2 70  1  0  0  0  0  0  0  1  1  0  0  1  0  0  1  0  1  2]\n(381052, 21)\nmax covarıance feature ındex 2 ve half degerı 190526\n[ 2  2 70  1  0  0  0  0  0  0  1  1  0  0  1  0  0  1  0  1  2]\n(190526, 21)\nmax covarıance feature ındex 2 ve half degerı 95263\n[  1   1 280   1   0   0   0   0   0   0   1   1   0   1   0   0   0   1\n   0   1   4]",
      "\n(190526, 21)\nmax covarıance feature ındex 2 ve half degerı 95263\n[  2   2 358   1   0   0   0   0   0   0   1   1   0   0   1   0   0   1\n   0   1   5]\n(381052, 21)\nmax covarıance feature ındex 2 ve half degerı 190526\n[  2   2 358   1   0   0   0   0   0   0   1   1   0   0   1   0   0   1\n   0   1   5]\n(190526, 21)\nmax covarıance feature ındex 2 ve half degerı 95263\n[  2   5 470   1   0   0   0   0   0   1   0   0   0   0   1   0   0   1\n   0   0   5]",
      "\n(190526, 21)\nmax covarıance feature ındex 2 ve half degerı 95263\n"
     ],
     "output_type": "stream"
    }
   ],
   "source": [
    "def kd_tree(data, counter, arr):\n",
    "    if(counter == 1):\n",
    "        arr.append(data)\n",
    "    if (counter > 0):\n",
    "        covArr = data[:-1].var(axis=0)\n",
    "        maxElement = covArr.argmax(axis=0) \n",
    "        data = data[data[:,maxElement].argsort()]\n",
    "        half = int(len (data) / 2)\n",
    "        print(data [0])\n",
    "        print(data.shape)\n",
    "        print(\"max covarıance feature ındex \" + str(maxElement) + \" ve half degerı \" + str(half))\n",
    "        kd_tree(data[: half], counter - 1,arr)\n",
    "        kd_tree(data[half :], counter - 1, arr)\n",
    "    \n",
    "kdTreeArr = []\n",
    "kd_tree(data_np, 3, kdTreeArr)"
   ],
   "metadata": {
    "collapsed": false,
    "pycharm": {
     "name": "#%%\n",
     "is_executing": false
    }
   }
  },
  {
   "cell_type": "code",
   "execution_count": 9,
   "outputs": [
    {
     "data": {
      "text/plain": "190526"
     },
     "metadata": {},
     "output_type": "execute_result",
     "execution_count": 9
    }
   ],
   "source": [
    "len(kdTreeArr[3])"
   ],
   "metadata": {
    "collapsed": false,
    "pycharm": {
     "name": "#%%\n",
     "is_executing": false
    }
   }
  },
  {
   "cell_type": "code",
   "source": [
    "from torch import nn\n",
    "\n",
    "class network(nn.Module):\n",
    "    def __init__(self):\n",
    "        super().__init__()        \n",
    "        # Inputs to hidden layer linear transformation\n",
    "        self.output = nn.Linear(first_feature_count + last_feature_count - 1, 121936) \n",
    "    def forward(self, x):\n",
    "        x = self.output(x)\n",
    "        return x"
   ],
   "metadata": {
    "collapsed": false,
    "pycharm": {
     "name": "#%% \n",
     "is_executing": false
    }
   },
   "execution_count": 10,
   "outputs": []
  },
  {
   "cell_type": "code",
   "execution_count": 11,
   "outputs": [],
   "source": [
    "knn = network()\n",
    "knn = knn.cuda()\n",
    "\n"
   ],
   "metadata": {
    "collapsed": false,
    "pycharm": {
     "name": "#%% \n",
     "is_executing": false
    }
   }
  },
  {
   "cell_type": "code",
   "execution_count": 12,
   "outputs": [],
   "source": [
    "def normalize_ecnodings(encodings):\n",
    "    ref_norms = np.linalg.norm(encodings, axis=0)\n",
    "    return encodings / ref_norms"
   ],
   "metadata": {
    "collapsed": false,
    "pycharm": {
     "name": "#%% \n",
     "is_executing": false
    }
   }
  },
  {
   "cell_type": "code",
   "execution_count": 13,
   "outputs": [],
   "source": [
    "def select_k(similarityMat, k_neighbour, train, trueLabel):\n",
    "    truePred = 0\n",
    "    for houseIndex in range(len(similarityMat)):\n",
    "        maxIndices = np.argpartition(similarityMat[houseIndex], -1 *k_neighbour)[-1 * k_neighbour:]\n",
    "        neigVote = train[houseIndex][maxIndices]\n",
    "        pred = np.bincount(neigVote).argmax()\n",
    "        if(trueLabel[houseIndex] == pred):\n",
    "            truePred += 1\n",
    "        \n",
    "    return truePred / len(similarityMat)"
   ],
   "metadata": {
    "collapsed": false,
    "pycharm": {
     "name": "#%%\n",
     "is_executing": false
    }
   }
  },
  {
   "cell_type": "code",
   "source": [
    "def similarity(X_test):\n",
    "    X_test = X_test.astype('float32')\n",
    "    X_test = torch.from_numpy(X_test)\n",
    "    X_test = X_test.cuda()\n",
    "    out = knn(X_test)\n",
    "    del X_test\n",
    "    return out\n",
    "\n"
   ],
   "metadata": {
    "collapsed": false,
    "pycharm": {
     "name": "#%% \n",
     "is_executing": false
    }
   },
   "execution_count": 14,
   "outputs": []
  },
  {
   "cell_type": "code",
   "execution_count": 15,
   "outputs": [
    {
     "name": "stdout",
     "text": [
      "feature (762104, 21)\ntarget (190526,)\nX_train (121936, 20)\n",
      "similarity shape (6097, 121936)\n"
     ],
     "output_type": "stream"
    },
    {
     "traceback": [
      "\u001b[1;31m---------------------------------------------------------------------------\u001b[0m",
      "\u001b[1;31mIndexError\u001b[0m                                Traceback (most recent call last)",
      "\u001b[1;32m<ipython-input-15-896012f7a60c>\u001b[0m in \u001b[0;36m<module>\u001b[1;34m\u001b[0m\n\u001b[0;32m     44\u001b[0m             \u001b[0mprint\u001b[0m\u001b[1;33m(\u001b[0m\u001b[1;34m\"similarity shape \"\u001b[0m\u001b[1;33m+\u001b[0m\u001b[0mstr\u001b[0m\u001b[1;33m(\u001b[0m\u001b[0mout\u001b[0m\u001b[1;33m.\u001b[0m\u001b[0mshape\u001b[0m\u001b[1;33m)\u001b[0m\u001b[1;33m)\u001b[0m\u001b[1;33m\u001b[0m\u001b[1;33m\u001b[0m\u001b[0m\n\u001b[0;32m     45\u001b[0m             \u001b[1;32mfor\u001b[0m \u001b[0mkTry\u001b[0m \u001b[1;32min\u001b[0m \u001b[0mrange\u001b[0m\u001b[1;33m(\u001b[0m\u001b[0mstartK\u001b[0m\u001b[1;33m,\u001b[0m \u001b[0mnumberOfKTry\u001b[0m \u001b[1;33m*\u001b[0m \u001b[0mkUpgrade\u001b[0m \u001b[1;33m+\u001b[0m \u001b[0mstartK\u001b[0m\u001b[1;33m,\u001b[0m \u001b[0mkUpgrade\u001b[0m\u001b[1;33m)\u001b[0m\u001b[1;33m:\u001b[0m\u001b[1;33m\u001b[0m\u001b[1;33m\u001b[0m\u001b[0m\n\u001b[1;32m---> 46\u001b[1;33m                 \u001b[0maccuracyCount\u001b[0m\u001b[1;33m[\u001b[0m\u001b[0mindex\u001b[0m\u001b[1;33m]\u001b[0m \u001b[1;33m+=\u001b[0m \u001b[0mselect_k\u001b[0m\u001b[1;33m(\u001b[0m\u001b[0mout\u001b[0m\u001b[1;33m,\u001b[0m \u001b[0mkTry\u001b[0m\u001b[1;33m,\u001b[0m\u001b[0mX_train\u001b[0m \u001b[1;33m,\u001b[0m \u001b[0myValBatch\u001b[0m\u001b[1;33m)\u001b[0m\u001b[1;33m\u001b[0m\u001b[1;33m\u001b[0m\u001b[0m\n\u001b[0m\u001b[0;32m     47\u001b[0m                 \u001b[0mindex\u001b[0m \u001b[1;33m+=\u001b[0m \u001b[1;36m1\u001b[0m\u001b[1;33m\u001b[0m\u001b[1;33m\u001b[0m\u001b[0m\n\u001b[0;32m     48\u001b[0m             \u001b[0mvalindex\u001b[0m \u001b[1;33m+=\u001b[0m \u001b[0mlenval\u001b[0m\u001b[1;33m\u001b[0m\u001b[1;33m\u001b[0m\u001b[0m\n",
      "\u001b[1;32m<ipython-input-13-c695f7045fbc>\u001b[0m in \u001b[0;36mselect_k\u001b[1;34m(similarityMat, k_neighbour, train, trueLabel)\u001b[0m\n\u001b[0;32m      3\u001b[0m     \u001b[1;32mfor\u001b[0m \u001b[0mhouseIndex\u001b[0m \u001b[1;32min\u001b[0m \u001b[0mrange\u001b[0m\u001b[1;33m(\u001b[0m\u001b[0mlen\u001b[0m\u001b[1;33m(\u001b[0m\u001b[0msimilarityMat\u001b[0m\u001b[1;33m)\u001b[0m\u001b[1;33m)\u001b[0m\u001b[1;33m:\u001b[0m\u001b[1;33m\u001b[0m\u001b[1;33m\u001b[0m\u001b[0m\n\u001b[0;32m      4\u001b[0m         \u001b[0mmaxIndices\u001b[0m \u001b[1;33m=\u001b[0m \u001b[0mnp\u001b[0m\u001b[1;33m.\u001b[0m\u001b[0margpartition\u001b[0m\u001b[1;33m(\u001b[0m\u001b[0msimilarityMat\u001b[0m\u001b[1;33m[\u001b[0m\u001b[0mhouseIndex\u001b[0m\u001b[1;33m]\u001b[0m\u001b[1;33m,\u001b[0m \u001b[1;33m-\u001b[0m\u001b[1;36m1\u001b[0m \u001b[1;33m*\u001b[0m\u001b[0mk_neighbour\u001b[0m\u001b[1;33m)\u001b[0m\u001b[1;33m[\u001b[0m\u001b[1;33m-\u001b[0m\u001b[1;36m1\u001b[0m \u001b[1;33m*\u001b[0m \u001b[0mk_neighbour\u001b[0m\u001b[1;33m:\u001b[0m\u001b[1;33m]\u001b[0m\u001b[1;33m\u001b[0m\u001b[1;33m\u001b[0m\u001b[0m\n\u001b[1;32m----> 5\u001b[1;33m         \u001b[0mneigVote\u001b[0m \u001b[1;33m=\u001b[0m \u001b[0mtrain\u001b[0m\u001b[1;33m[\u001b[0m\u001b[0mhouseIndex\u001b[0m\u001b[1;33m]\u001b[0m\u001b[1;33m[\u001b[0m\u001b[0mmaxIndices\u001b[0m\u001b[1;33m]\u001b[0m\u001b[1;33m\u001b[0m\u001b[1;33m\u001b[0m\u001b[0m\n\u001b[0m\u001b[0;32m      6\u001b[0m         \u001b[0mpred\u001b[0m \u001b[1;33m=\u001b[0m \u001b[0mnp\u001b[0m\u001b[1;33m.\u001b[0m\u001b[0mbincount\u001b[0m\u001b[1;33m(\u001b[0m\u001b[0mneigVote\u001b[0m\u001b[1;33m)\u001b[0m\u001b[1;33m.\u001b[0m\u001b[0margmax\u001b[0m\u001b[1;33m(\u001b[0m\u001b[1;33m)\u001b[0m\u001b[1;33m\u001b[0m\u001b[1;33m\u001b[0m\u001b[0m\n\u001b[0;32m      7\u001b[0m         \u001b[1;32mif\u001b[0m\u001b[1;33m(\u001b[0m\u001b[0mtrueLabel\u001b[0m\u001b[1;33m[\u001b[0m\u001b[0mhouseIndex\u001b[0m\u001b[1;33m]\u001b[0m \u001b[1;33m==\u001b[0m \u001b[0mpred\u001b[0m\u001b[1;33m)\u001b[0m\u001b[1;33m:\u001b[0m\u001b[1;33m\u001b[0m\u001b[1;33m\u001b[0m\u001b[0m\n",
      "\u001b[1;31mIndexError\u001b[0m: index 28903 is out of bounds for axis 0 with size 20"
     ],
     "ename": "IndexError",
     "evalue": "index 28903 is out of bounds for axis 0 with size 20",
     "output_type": "error"
    }
   ],
   "source": [
    "from sklearn.model_selection import train_test_split\n",
    "from sklearn.preprocessing import StandardScaler\n",
    "\n",
    "cvCount = 10\n",
    "kForKnn = 5\n",
    "numberOfKTry = 8\n",
    "accuracyCount = np.zeros(numberOfKTry)\n",
    "startK = 5\n",
    "kUpgrade = 4\n",
    "for kdTreePart in kdTreeArr:\n",
    "    \n",
    "    feature = kdTreePart[:, :-1]\n",
    "    target = kdTreePart[:, -1]\n",
    "\n",
    "    print(\"feature \" + str(data_np.shape))\n",
    "\n",
    "    print(\"target \" + str(target.shape))\n",
    "\n",
    "\n",
    "    #part 0\n",
    "    X_trainAndVal, X_test, y_trainAndVal, y_test = train_test_split(feature, target, test_size = 0.2, random_state = 0)\n",
    "    \n",
    "    # Feature Scaling\n",
    "    sc = StandardScaler()\n",
    "    \n",
    "    for cv in range(cvCount):\n",
    "        X_train, X_val, y_train, y_val = train_test_split(X_trainAndVal, y_trainAndVal, test_size = 0.2, random_state = 0)\n",
    "        print( \"X_train \"+str(X_train.shape))\n",
    "        \n",
    "        X_train = sc.fit_transform(X_train) \n",
    "        X_val = sc.transform(X_val)\n",
    "        X_train = normalize_ecnodings(X_train)\n",
    "        knn.weight = X_train.T\n",
    "        batchSize = 5\n",
    "        lenval=len(X_val) // batchSize + 1\n",
    "        valindex=0\n",
    "        for i in range(batchSize):\n",
    "            xValBatch=X_val[valindex : valindex + lenval]\n",
    "            yValBatch=y_val[valindex : valindex + lenval]\n",
    "            out = similarity(xValBatch)\n",
    "            \n",
    "            index = 0\n",
    "            out=out.cpu().detach().numpy()\n",
    "            print(\"similarity shape \"+str(out.shape))\n",
    "            for kTry in range(startK, numberOfKTry * kUpgrade + startK, kUpgrade):\n",
    "                accuracyCount[index] += select_k(out, kTry,X_train , yValBatch)\n",
    "                index += 1\n",
    "            valindex += lenval\n",
    "            del out,X_train,X_val,y_train,y_val"
   ],
   "metadata": {
    "collapsed": false,
    "pycharm": {
     "name": "#%%\n",
     "is_executing": false
    }
   }
  },
  {
   "cell_type": "code",
   "execution_count": null,
   "outputs": [],
   "source": [
    "accuracyCount /= (cvCount  * len(kdTreeArr) * batchSize)\n",
    "bestKIndex = accuracyCount.argmax(axis=0) \n",
    "bestK = startK + bestKIndex * kUpgrade"
   ],
   "metadata": {
    "collapsed": false,
    "pycharm": {
     "name": "#%%\n",
     "is_executing": false
    }
   }
  },
  {
   "cell_type": "code",
   "execution_count": null,
   "outputs": [],
   "source": [
    "print(accuracyCount)"
   ],
   "metadata": {
    "collapsed": false,
    "pycharm": {
     "name": "#%%\n",
     "is_executing": false
    }
   }
  }
 ],
 "metadata": {
  "kernelspec": {
   "display_name": "Python 3",
   "language": "python",
   "name": "python3"
  },
  "language_info": {
   "codemirror_mode": {
    "name": "ipython",
    "version": 2
   },
   "file_extension": ".py",
   "mimetype": "text/x-python",
   "name": "python",
   "nbconvert_exporter": "python",
   "pygments_lexer": "ipython2",
   "version": "2.7.6"
  },
  "pycharm": {
   "stem_cell": {
    "cell_type": "raw",
    "source": [],
    "metadata": {
     "collapsed": false
    }
   }
  }
 },
 "nbformat": 4,
 "nbformat_minor": 0
}