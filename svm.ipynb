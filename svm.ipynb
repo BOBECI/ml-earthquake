{
 "cells": [
  {
   "cell_type": "code",
   "execution_count": 1,
   "outputs": [],
   "source": [
    "import itertools\n",
    "from datetime import datetime\n",
    "import pandas as pd\n",
    "import numpy as np\n",
    "from sklearn.model_selection import train_test_split, GridSearchCV\n",
    "from sklearn.svm import LinearSVC\n",
    "\n",
    "sortedFeatureCorr = pd.read_csv(\"dataset/corr.csv\")\n",
    "data = pd.read_csv(\"dataset/preprocessed.csv\")"
   ],
   "metadata": {
    "collapsed": false,
    "pycharm": {
     "name": "#%%\n",
     "is_executing": false
    }
   }
  },
  {
   "cell_type": "code",
   "execution_count": 2,
   "outputs": [],
   "source": [
    "first_feature_count =           11\n",
    "last_feature_count =            10"
   ],
   "metadata": {
    "collapsed": false,
    "pycharm": {
     "name": "#%%\n",
     "is_executing": false
    }
   }
  },
  {
   "cell_type": "code",
   "execution_count": 3,
   "outputs": [],
   "source": [
    "a = sortedFeatureCorr.iloc[:, 0].values"
   ],
   "metadata": {
    "collapsed": false,
    "pycharm": {
     "name": "#%%\n",
     "is_executing": false
    }
   }
  },
  {
   "cell_type": "code",
   "execution_count": 4,
   "outputs": [],
   "source": [
    "for i in range(first_feature_count, sortedFeatureCorr.shape[0] - last_feature_count):\n",
    "    data = data.drop(a[i], axis = 1)\n",
    "data = data.drop(list(data.columns)[0], axis = 1)\n"
   ],
   "metadata": {
    "collapsed": false,
    "pycharm": {
     "name": "#%%\n",
     "is_executing": false
    }
   }
  },
  {
   "cell_type": "code",
   "execution_count": 5,
   "outputs": [
    {
     "name": "stdout",
     "text": [
      "Frequency of unique values of the said array:\n",
      "[[     1      2      3      4      5]\n",
      " [ 78815  87257 136412 183844 275766]]\n"
     ],
     "output_type": "stream"
    }
   ],
   "source": [
    "data_npWNan = data.iloc[:, :].values\n",
    "\n",
    "data_np = data_npWNan[data_npWNan[:,-1]!= -1 ]\n",
    "unique_elements, counts_elements = np.unique(data_np[:,-1], return_counts=True)\n",
    "print(\"Frequency of unique values of the said array:\")\n",
    "print(np.asarray((unique_elements, counts_elements)))"
   ],
   "metadata": {
    "collapsed": false,
    "pycharm": {
     "name": "#%%\n",
     "is_executing": false
    }
   }
  },
  {
   "cell_type": "code",
   "execution_count": 6,
   "outputs": [],
   "source": [
    "feature = data_np[:, :-1]\n",
    "target = data_np[:, -1]"
   ],
   "metadata": {
    "collapsed": false,
    "pycharm": {
     "name": "#%%\n",
     "is_executing": false
    }
   }
  },
  {
   "cell_type": "code",
   "execution_count": 7,
   "outputs": [],
   "source": [
    "X_train_and_val, X_test, y_train_and_val, y_test = train_test_split(feature, target, test_size = 0.2, random_state = 0)\n",
    "X_train, X_val, y_train, y_val = train_test_split(X_train_and_val, y_train_and_val, test_size = 0.2, random_state = 0)"
   ],
   "metadata": {
    "collapsed": false,
    "pycharm": {
     "name": "#%%\n",
     "is_executing": false
    }
   }
  },
  {
   "cell_type": "code",
   "execution_count": 8,
   "outputs": [],
   "source": [
    "from sklearn.preprocessing import StandardScaler\n",
    "\n",
    "sc = StandardScaler()\n",
    "\n",
    "X_train = sc.fit_transform(X_train)\n",
    "X_val = sc.fit_transform(X_val)\n",
    "X_test = sc.fit_transform(X_test)"
   ],
   "metadata": {
    "collapsed": false,
    "pycharm": {
     "name": "#%%\n",
     "is_executing": false
    }
   }
  },
  {
   "cell_type": "code",
   "execution_count": 9,
   "outputs": [],
   "source": [
    "from sklearn.kernel_approximation import Nystroem\n",
    "from sklearn.metrics import accuracy_score, confusion_matrix, precision_score, recall_score, f1_score, classification_report\n",
    "import matplotlib.pyplot as plt\n",
    "\n",
    "params = {'C':[1]}\n",
    "feature_map_nystroem = Nystroem(gamma = .2, random_state = 1)\n",
    "data_transformed = feature_map_nystroem.fit_transform(X_train)\n",
    "cv_transformed = feature_map_nystroem.transform(X_val)\n",
    "linear_svc = LinearSVC(class_weight = 'balanced', max_iter = 1000)\n",
    "grid = GridSearchCV(linear_svc, param_grid = params, n_jobs=-1, verbose = 1)"
   ],
   "metadata": {
    "collapsed": false,
    "pycharm": {
     "name": "#%%\n",
     "is_executing": false
    }
   }
  },
  {
   "cell_type": "code",
   "execution_count": 10,
   "outputs": [
    {
     "name": "stdout",
     "text": [
      "training the model..\n",
      "Fitting 3 folds for each of 1 candidates, totalling 3 fits\n",
      "Done \n",
      " \n",
      "\n",
      "training_time(HH:MM:SS.ms) - 0:21:14.949581\n",
      "\n",
      "\n",
      "Predicting test data\n",
      "Done \n",
      " \n",
      "\n",
      "testing time(HH:MM:SS:ms) - 0:00:00.015014\n",
      "\n",
      "\n"
     ],
     "output_type": "stream"
    },
    {
     "name": "stderr",
     "text": [
      "C:\\Users\\oneri\\AppData\\Local\\Continuum\\anaconda3\\lib\\site-packages\\sklearn\\model_selection\\_split.py:1978: FutureWarning: The default value of cv will change from 3 to 5 in version 0.22. Specify it explicitly to silence this warning.\n",
      "  warnings.warn(CV_WARNING, FutureWarning)\n",
      "[Parallel(n_jobs=-1)]: Using backend LokyBackend with 12 concurrent workers.\n",
      "[Parallel(n_jobs=-1)]: Done   3 out of   3 | elapsed:  9.3min finished\n",
      "C:\\Users\\oneri\\AppData\\Local\\Continuum\\anaconda3\\lib\\site-packages\\sklearn\\svm\\base.py:929: ConvergenceWarning: Liblinear failed to converge, increase the number of iterations.\n",
      "  \"the number of iterations.\", ConvergenceWarning)\n"
     ],
     "output_type": "stream"
    }
   ],
   "source": [
    "# time at which model starts training \n",
    "results = dict()\n",
    "train_start_time = datetime.now()\n",
    "print('training the model..')\n",
    "grid.fit(X_train, y_train)\n",
    "print('Done \\n \\n')\n",
    "train_end_time = datetime.now()\n",
    "results['training_time'] =  train_end_time - train_start_time\n",
    "print('training_time(HH:MM:SS.ms) - {}\\n\\n'.format(results['training_time']))\n",
    "# predict test data\n",
    "print('Predicting test data')\n",
    "test_start_time = datetime.now()\n",
    "y_pred = grid.predict(X_test)\n",
    "test_end_time = datetime.now()\n",
    "print('Done \\n \\n')\n",
    "results['testing_time'] = test_end_time - test_start_time\n",
    "print('testing time(HH:MM:SS:ms) - {}\\n\\n'.format(results['testing_time']))\n",
    "results['predicted'] = y_pred"
   ],
   "metadata": {
    "collapsed": false,
    "pycharm": {
     "name": "#%%\n",
     "is_executing": false
    }
   }
  },
  {
   "cell_type": "code",
   "execution_count": 19,
   "outputs": [
    {
     "name": "stdout",
     "text": [
      "---------Performance Score--------------\n",
      "\n",
      " Micro F1:0.42268352370767426\n",
      "\n",
      " Precision:0.42268352370767426\n",
      "\n",
      " Recall:0.42268352370767426\n",
      "\n",
      " Accuracy:0.42268352370767426\n",
      "\n",
      "--------------------\n",
      "| Confusion Matrix |\n",
      "\n",
      " [[11533   454   153   860  2969]\n",
      " [ 6947   851   368  2014  7231]\n",
      " [ 4806  1158   790  4657 15785]\n",
      " [ 2650   965   931  7116 25150]\n",
      " [ 1918   673   859  7446 44135]]\n",
      "-------------------------\n",
      "| Classifiction Report |\n",
      "              precision    recall  f1-score   support\n",
      "\n",
      "           1       0.41      0.72      0.53     15969\n",
      "           2       0.21      0.05      0.08     17411\n",
      "           3       0.25      0.03      0.05     27196\n",
      "           4       0.32      0.19      0.24     36812\n",
      "           5       0.46      0.80      0.59     55031\n",
      "\n",
      "    accuracy                           0.42    152419\n",
      "   macro avg       0.33      0.36      0.30    152419\n",
      "weighted avg       0.36      0.42      0.34    152419\n",
      "\n"
     ],
     "output_type": "stream"
    },
    {
     "data": {
      "text/plain": "<Figure size 576x576 with 2 Axes>",
      "image/png": "[encoded data removed]"
     },
     "metadata": {
      "needs_background": "light"
     },
     "output_type": "display_data"
    }
   ],
   "source": [
    "print('---------Performance Score--------------')\n",
    "accuracy = accuracy_score(y_true=y_test, y_pred=y_pred)\n",
    "precision= precision_score(y_true=y_test, y_pred=y_pred,average='micro')\n",
    "recall = recall_score(y_true=y_test, y_pred=y_pred,average='micro')\n",
    "micro_f1 = f1_score(y_true=y_test, y_pred=y_pred,average='micro')\n",
    "print('\\n Micro F1:{}'.format(micro_f1))\n",
    "print('\\n Precision:{}'.format(precision))\n",
    "print('\\n Recall:{}'.format(recall))\n",
    "print('\\n Accuracy:{}\\n'.format(accuracy))\n",
    "\n",
    "# confusion matrix\n",
    "cm = confusion_matrix(y_test, y_pred)\n",
    "results['confusion_matrix'] = cm\n",
    "\n",
    "print('--------------------')\n",
    "print('| Confusion Matrix |')\n",
    "print('\\n {}'.format(cm))\n",
    "    \n",
    "# plot confusion matrix\n",
    "plt.figure(figsize = (8,8))\n",
    "plt.grid(b = False)\n",
    "labels = ['1','2','3', \"4\", \"5\"]\n",
    "\n",
    "cm = cm.astype('float') / cm.sum(axis=1)[:, np.newaxis]\n",
    "\n",
    "plt.imshow(cm, interpolation='nearest')\n",
    "plt.title('Normalized confusion matrix')\n",
    "plt.colorbar()\n",
    "tick_marks = np.arange(len(labels))\n",
    "plt.xticks(tick_marks, labels, rotation=90)\n",
    "plt.yticks(tick_marks, labels)\n",
    "\n",
    "fmt = '.2f'\n",
    "thresh = cm.max() / 2.\n",
    "for i, j in itertools.product(range(cm.shape[0]), range(cm.shape[1])):\n",
    "    plt.text(j, i, format(cm[i, j], fmt),\n",
    "             horizontalalignment=\"center\",\n",
    "             color=\"white\" if cm[i, j] > thresh else \"black\")\n",
    "\n",
    "plt.tight_layout()\n",
    "plt.ylabel('True label')\n",
    "plt.xlabel('Predicted label')\n",
    "\n",
    "plt.show()\n",
    "\n",
    "# get classification report\n",
    "print('-------------------------')\n",
    "print('| Classifiction Report |')\n",
    "# store report in results\n",
    "results['classification_report'] = classification_report\n",
    "print(classification_report)\n",
    "\n",
    "# add the trained  model to the results\n",
    "results['model'] = grid\n"
   ],
   "metadata": {
    "collapsed": false,
    "pycharm": {
     "name": "#%%\n",
     "is_executing": false
    }
   }
  }
 ],
 "metadata": {
  "kernelspec": {
   "display_name": "Python 3",
   "language": "python",
   "name": "python3"
  },
  "language_info": {
   "codemirror_mode": {
    "name": "ipython",
    "version": 2
   },
   "file_extension": ".py",
   "mimetype": "text/x-python",
   "name": "python",
   "nbconvert_exporter": "python",
   "pygments_lexer": "ipython2",
   "version": "2.7.6"
  },
  "pycharm": {
   "stem_cell": {
    "cell_type": "raw",
    "source": [],
    "metadata": {
     "collapsed": false
    }
   }
  }
 },
 "nbformat": 4,
 "nbformat_minor": 0
}