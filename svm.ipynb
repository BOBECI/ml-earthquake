{
 "cells": [
  {
   "cell_type": "code",
   "execution_count": 1,
   "outputs": [],
   "source": [
    "import pandas as pd\n",
    "import numpy as np\n",
    "from sklearn.model_selection import train_test_split, GridSearchCV\n",
    "from imblearn.combine import SMOTEENN, SMOTETomek\n",
    "\n",
    "sortedFeatureCorr = pd.read_csv(\"dataset/corr.csv\")\n",
    "data = pd.read_csv(\"dataset/preprocessed.csv\")\n",
    "\n",
    "data = data.drop(data[data.target == -1].index)\n",
    "data = data.drop(list(data.columns)[0], axis = 1)"
   ],
   "metadata": {
    "collapsed": false,
    "pycharm": {
     "name": "#%%\n",
     "is_executing": false
    }
   }
  },
  {
   "cell_type": "code",
   "execution_count": 2,
   "outputs": [],
   "source": [
    "target = data.target\n",
    "feature = data.drop('target', axis=1)"
   ],
   "metadata": {
    "collapsed": false,
    "pycharm": {
     "name": "#%%\n",
     "is_executing": false
    }
   }
  },
  {
   "cell_type": "code",
   "execution_count": 3,
   "outputs": [
    {
     "name": "stdout",
     "text": [
      "(609675, 42)\n",
      "(609675,)\n"
     ],
     "output_type": "stream"
    }
   ],
   "source": [
    "X_train, X_test, y_train, y_test = train_test_split(feature, target, test_size = 0.2, random_state = 31)\n",
    "y_test_3_class = [\"Low\" if x == 1 or x == 2 else \"Medium\" if x == 3  else 'High' for x in y_test]\n",
    "y_train_3_class = [\"Low\" if i == 1 or i == 2 else \"Medium\" if i == 3  else 'High' for i in y_train]\n",
    "\n",
    "print(X_train.shape)\n",
    "print(y_train.shape)"
   ],
   "metadata": {
    "collapsed": false,
    "pycharm": {
     "name": "#%%\n",
     "is_executing": false
    }
   }
  },
  {
   "cell_type": "code",
   "execution_count": 4,
   "outputs": [
    {
     "data": {
      "text/plain": "'sc = StandardScaler()\\nX_train = sc.fit_transform(X_train)\\nX_test = sc.transform(X_test)'"
     },
     "metadata": {},
     "output_type": "execute_result",
     "execution_count": 4
    }
   ],
   "source": [
    "from sklearn.kernel_approximation import Nystroem, RBFSampler\n",
    "from sklearn.metrics import accuracy_score, precision_score, recall_score, f1_score, plot_confusion_matrix\n",
    "import matplotlib.pyplot as plt\n",
    "from warnings import simplefilter\n",
    "from sklearn.linear_model import SGDClassifier\n",
    "\n",
    "# ignore all future warnings\n",
    "simplefilter(action = 'ignore', category = FutureWarning)"
   ],
   "metadata": {
    "collapsed": false,
    "pycharm": {
     "name": "#%%\n",
     "is_executing": false
    }
   }
  },
  {
   "cell_type": "markdown",
   "source": [
    "### Train the model with re-sampling (5 - classes)"
   ],
   "metadata": {
    "collapsed": false
   }
  },
  {
   "cell_type": "code",
   "execution_count": 5,
   "outputs": [],
   "source": [
    "sm = SMOTEENN(random_state = 27, n_jobs = -1)\n",
    "\n",
    "X_train_sampled_5_class, y_train_sampled_5_class = sm.fit_sample(X_train, y_train)"
   ],
   "metadata": {
    "collapsed": false,
    "pycharm": {
     "name": "#%%\n",
     "is_executing": false
    }
   }
  },
  {
   "cell_type": "code",
   "execution_count": 6,
   "outputs": [
    {
     "name": "stdout",
     "text": [
      "(313705, 42)\n"
     ],
     "output_type": "stream"
    }
   ],
   "source": [
    "print(X_train_sampled_5_class.shape)"
   ],
   "metadata": {
    "collapsed": false,
    "pycharm": {
     "name": "#%%\n",
     "is_executing": false
    }
   }
  },
  {
   "cell_type": "code",
   "execution_count": 7,
   "outputs": [],
   "source": [
    "feature_map_rbf = RBFSampler(gamma = 0.0001, random_state = 1, n_components = 40)\n",
    "X_Train_mapped_5_class = feature_map_rbf.fit_transform(X_train_sampled_5_class)\n",
    "clf = SGDClassifier(penalty = \"elasticnet\", loss = \"modified_huber\", n_jobs = -1, \n",
    "                    n_iter_no_change = 500, class_weight = \"balanced\")"
   ],
   "metadata": {
    "collapsed": false,
    "pycharm": {
     "name": "#%%\n",
     "is_executing": false
    }
   }
  },
  {
   "cell_type": "code",
   "execution_count": 8,
   "outputs": [
    {
     "data": {
      "text/plain": "<Figure size 432x288 with 2 Axes>",
      "image/png": "[encoded data removed]"
     },
     "metadata": {
      "needs_background": "light"
     },
     "output_type": "display_data"
    },
    {
     "name": "stdout",
     "text": [
      "---------Performance Score--------------\n",
      "\n",
      " Micro F1: 0.3427459831123416\n",
      "\n",
      " Precision: 0.3427459831123416\n",
      "\n",
      " Recall: 0.3427459831123416\n",
      "\n",
      " Accuracy: 0.3427459831123416\n",
      "\n"
     ],
     "output_type": "stream"
    }
   ],
   "source": [
    "clf.fit(X_Train_mapped_5_class, y_train_sampled_5_class)\n",
    "\n",
    "X_Test_mapped_5_class = feature_map_rbf.fit_transform(X_test)\n",
    "y_pred = clf.predict(X_Test_mapped_5_class)\n",
    "\n",
    "# Plot normalized confusion matrix\n",
    "classes = [\"1\", \"2\", \"3\", \"4\", \"5\"]\n",
    "title = \"SVM Normalized confusion matrix\"\n",
    "disp = plot_confusion_matrix(clf, X_Test_mapped_5_class, y_test, display_labels = classes, cmap = \"copper\", normalize = \"true\")\n",
    "disp.ax_.set_title(title)\n",
    "\n",
    "plt.show()\n",
    "\n",
    "# See the result of the model with Test Set\n",
    "\n",
    "print('---------Performance Score--------------')\n",
    "accuracy = accuracy_score(y_true = y_test, y_pred = y_pred)\n",
    "precision= precision_score(y_true = y_test, y_pred = y_pred, average = 'micro')\n",
    "recall = recall_score(y_true = y_test, y_pred = y_pred, average = 'micro')\n",
    "micro_f1 = f1_score(y_true = y_test, y_pred = y_pred, average = 'micro')\n",
    "\n",
    "print('\\n Micro F1: {}'.format(micro_f1))\n",
    "print('\\n Precision: {}'.format(precision))\n",
    "print('\\n Recall: {}'.format(recall))\n",
    "print('\\n Accuracy: {}\\n'.format(accuracy))"
   ],
   "metadata": {
    "collapsed": false,
    "pycharm": {
     "name": "#%%\n",
     "is_executing": false
    }
   }
  },
  {
   "cell_type": "markdown",
   "source": [
    "### Train the model with re-sampling (3 - classes)"
   ],
   "metadata": {
    "collapsed": false
   }
  },
  {
   "cell_type": "code",
   "execution_count": 9,
   "outputs": [],
   "source": [
    "sm = SMOTEENN(random_state = 27, n_jobs = -1)\n",
    "\n",
    "X_train_sampled_3_class, y_train_sampled_3_class = sm.fit_sample(X_train, y_train_3_class)"
   ],
   "metadata": {
    "collapsed": false,
    "pycharm": {
     "name": "#%%\n",
     "is_executing": false
    }
   }
  },
  {
   "cell_type": "code",
   "execution_count": 10,
   "outputs": [
    {
     "name": "stdout",
     "text": [
      "(489971, 42)\n"
     ],
     "output_type": "stream"
    }
   ],
   "source": [
    "print(X_train_sampled_3_class.shape)"
   ],
   "metadata": {
    "collapsed": false,
    "pycharm": {
     "name": "#%%\n",
     "is_executing": false
    }
   }
  },
  {
   "cell_type": "code",
   "execution_count": 11,
   "outputs": [],
   "source": [
    "feature_map_rbf = RBFSampler(gamma = 0.0001, random_state = 1, n_components = 40)\n",
    "X_Train_mapped_3_class = feature_map_rbf.fit_transform(X_train_sampled_3_class)\n",
    "clf = SGDClassifier(penalty = \"elasticnet\", loss = \"modified_huber\", n_jobs = -1, \n",
    "                    n_iter_no_change = 500, class_weight = \"balanced\")"
   ],
   "metadata": {
    "collapsed": false,
    "pycharm": {
     "name": "#%%\n",
     "is_executing": false
    }
   }
  },
  {
   "cell_type": "code",
   "execution_count": 12,
   "outputs": [
    {
     "data": {
      "text/plain": "<Figure size 432x288 with 2 Axes>",
      "image/png": "[encoded data removed]"
     },
     "metadata": {
      "needs_background": "light"
     },
     "output_type": "display_data"
    },
    {
     "name": "stdout",
     "text": [
      "---------Performance Score--------------\n",
      "\n",
      " Micro F1: 0.529704301957105\n",
      "\n",
      " Precision: 0.529704301957105\n",
      "\n",
      " Recall: 0.529704301957105\n",
      "\n",
      " Accuracy: 0.529704301957105\n",
      "\n"
     ],
     "output_type": "stream"
    }
   ],
   "source": [
    "clf.fit(X_Train_mapped_3_class, y_train_sampled_3_class)\n",
    "\n",
    "X_Test_mapped_3_class = feature_map_rbf.fit_transform(X_test)\n",
    "y_pred = clf.predict(X_Test_mapped_3_class)\n",
    "\n",
    "# Plot normalized confusion matrix\n",
    "classes = [\"1\", \"2\", \"3\", \"4\", \"5\"]\n",
    "title = \"SVM Normalized confusion matrix\"\n",
    "disp = plot_confusion_matrix(clf, X_Test_mapped_3_class, y_test_3_class, display_labels = classes, cmap = \"copper\", normalize = \"true\")\n",
    "disp.ax_.set_title(title)\n",
    "\n",
    "plt.show()\n",
    "\n",
    "# See the result of the model with Test Set\n",
    "\n",
    "print('---------Performance Score--------------')\n",
    "accuracy = accuracy_score(y_true = y_test_3_class, y_pred = y_pred)\n",
    "precision= precision_score(y_true = y_test_3_class, y_pred = y_pred, average = 'micro')\n",
    "recall = recall_score(y_true = y_test_3_class, y_pred = y_pred, average = 'micro')\n",
    "micro_f1 = f1_score(y_true = y_test_3_class, y_pred = y_pred, average = 'micro')\n",
    "\n",
    "print('\\n Micro F1: {}'.format(micro_f1))\n",
    "print('\\n Precision: {}'.format(precision))\n",
    "print('\\n Recall: {}'.format(recall))\n",
    "print('\\n Accuracy: {}\\n'.format(accuracy))\n"
   ],
   "metadata": {
    "collapsed": false,
    "pycharm": {
     "name": "#%%\n",
     "is_executing": false
    }
   }
  }
 ],
 "metadata": {
  "kernelspec": {
   "display_name": "Python 3",
   "language": "python",
   "name": "python3"
  },
  "language_info": {
   "codemirror_mode": {
    "name": "ipython",
    "version": 2
   },
   "file_extension": ".py",
   "mimetype": "text/x-python",
   "name": "python",
   "nbconvert_exporter": "python",
   "pygments_lexer": "ipython2",
   "version": "2.7.6"
  },
  "pycharm": {
   "stem_cell": {
    "cell_type": "raw",
    "source": [],
    "metadata": {
     "collapsed": false
    }
   }
  }
 },
 "nbformat": 4,
 "nbformat_minor": 0
}