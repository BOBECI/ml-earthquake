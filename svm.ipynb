{
 "cells": [
  {
   "cell_type": "code",
   "execution_count": 1,
   "outputs": [],
   "source": [
    "from datetime import datetime\n",
    "import pandas as pd\n",
    "import numpy as np\n",
    "from sklearn.model_selection import train_test_split, GridSearchCV\n",
    "from sklearn.svm import LinearSVC\n",
    "\n",
    "sortedFeatureCorr = pd.read_csv(\"dataset/corr.csv\")\n",
    "data = pd.read_csv(\"dataset/preprocessed.csv\")"
   ],
   "metadata": {
    "collapsed": false,
    "pycharm": {
     "name": "#%%\n",
     "is_executing": false
    }
   }
  },
  {
   "cell_type": "code",
   "execution_count": 2,
   "outputs": [],
   "source": [
    "first_feature_count =           11\n",
    "last_feature_count =            10"
   ],
   "metadata": {
    "collapsed": false,
    "pycharm": {
     "name": "#%%\n",
     "is_executing": false
    }
   }
  },
  {
   "cell_type": "code",
   "execution_count": 3,
   "outputs": [],
   "source": [
    "a = sortedFeatureCorr.iloc[:, 0].values"
   ],
   "metadata": {
    "collapsed": false,
    "pycharm": {
     "name": "#%%\n",
     "is_executing": false
    }
   }
  },
  {
   "cell_type": "code",
   "execution_count": 4,
   "outputs": [],
   "source": [
    "for i in range(first_feature_count, sortedFeatureCorr.shape[0] - last_feature_count):\n",
    "    data = data.drop(a[i], axis = 1)\n",
    "data = data.drop(list(data.columns)[0], axis = 1)"
   ],
   "metadata": {
    "collapsed": false,
    "pycharm": {
     "name": "#%%\n",
     "is_executing": false
    }
   }
  },
  {
   "cell_type": "code",
   "execution_count": 5,
   "outputs": [
    {
     "name": "stdout",
     "text": [
      "Frequency of unique values of the said array:\n",
      "[[     1      2      3      4      5]\n",
      " [ 78815  87257 136412 183844 275766]]\n"
     ],
     "output_type": "stream"
    }
   ],
   "source": [
    "data_npWNan = data.iloc[:, :].values\n",
    "\n",
    "data_np = data_npWNan[data_npWNan[:,-1]!= -1 ]\n",
    "unique_elements, counts_elements = np.unique(data_np[:,-1], return_counts=True)\n",
    "print(\"Frequency of unique values of the said array:\")\n",
    "print(np.asarray((unique_elements, counts_elements)))"
   ],
   "metadata": {
    "collapsed": false,
    "pycharm": {
     "name": "#%%\n",
     "is_executing": false
    }
   }
  },
  {
   "cell_type": "code",
   "execution_count": 6,
   "outputs": [],
   "source": [
    "feature = data_np[:, :-1]\n",
    "target = data_np[:, -1]"
   ],
   "metadata": {
    "collapsed": false,
    "pycharm": {
     "name": "#%%\n",
     "is_executing": false
    }
   }
  },
  {
   "cell_type": "code",
   "execution_count": 7,
   "outputs": [],
   "source": [
    "X_train_and_val, X_test, y_train_and_val, y_test = train_test_split(feature, target, test_size = 0.2, random_state = 0)\n",
    "X_train, X_val, y_train, y_val = train_test_split(X_train_and_val, y_train_and_val, test_size = 0.2, random_state = 0)"
   ],
   "metadata": {
    "collapsed": false,
    "pycharm": {
     "name": "#%%\n",
     "is_executing": false
    }
   }
  },
  {
   "cell_type": "code",
   "execution_count": 8,
   "outputs": [],
   "source": [
    "# Normalize features\n",
    "\n",
    "from sklearn.preprocessing import StandardScaler\n",
    "\n",
    "sc = StandardScaler()\n",
    "\n",
    "X_train = sc.fit_transform(X_train)\n",
    "X_val = sc.fit_transform(X_val)\n",
    "X_test = sc.fit_transform(X_test)"
   ],
   "metadata": {
    "collapsed": false,
    "pycharm": {
     "name": "#%%\n",
     "is_executing": false
    }
   }
  },
  {
   "cell_type": "code",
   "execution_count": 9,
   "outputs": [],
   "source": [
    "from sklearn.kernel_approximation import Nystroem\n",
    "from sklearn.metrics import accuracy_score, confusion_matrix, precision_score, recall_score, f1_score\n",
    "from sklearn.metrics import plot_confusion_matrix\n",
    "import matplotlib.pyplot as plt\n",
    "from warnings import simplefilter\n",
    "\n",
    "# ignore all future warnings\n",
    "simplefilter(action = 'ignore', category = FutureWarning)"
   ],
   "metadata": {
    "collapsed": false,
    "pycharm": {
     "name": "#%%\n",
     "is_executing": false
    }
   }
  },
  {
   "cell_type": "code",
   "execution_count": 10,
   "outputs": [],
   "source": [
    "# find optimal C value --> Regularization parameter\n",
    "params = {'C':[1]}\n",
    "svm_nystroem = Nystroem(gamma = .2, random_state = 1)\n",
    "data_transformed = svm_nystroem.fit_transform(X_train)\n",
    "cv_transformed = svm_nystroem.transform(X_val)\n",
    "\n",
    "linear_svc = LinearSVC(class_weight = 'balanced', max_iter = 2000)\n",
    "grid = GridSearchCV(linear_svc, param_grid = params, n_jobs = -1, verbose = 3)"
   ],
   "metadata": {
    "collapsed": false,
    "pycharm": {
     "name": "#%%\n",
     "is_executing": false
    }
   }
  },
  {
   "cell_type": "code",
   "execution_count": 11,
   "outputs": [
    {
     "name": "stdout",
     "text": [
      "training the model..\n",
      "Fitting 5 folds for each of 1 candidates, totalling 5 fits\n",
      "Done \n",
      " \n",
      "\n",
      "training_time(HH:MM:SS.ms) - -1 day, 23:08:04.207643\n",
      "\n",
      "\n",
      "Predicting test data\n",
      "Done \n",
      " \n",
      "\n",
      "testing time(HH:MM:SS:ms) - 0:00:00.017016\n",
      "\n",
      "\n"
     ],
     "output_type": "stream"
    },
    {
     "name": "stderr",
     "text": [
      "[Parallel(n_jobs=-1)]: Using backend LokyBackend with 12 concurrent workers.\n",
      "[Parallel(n_jobs=-1)]: Done   2 out of   5 | elapsed: 26.9min remaining: 40.4min\n",
      "[Parallel(n_jobs=-1)]: Done   5 out of   5 | elapsed: 27.4min finished\n",
      "C:\\Users\\oneri\\AppData\\Local\\Continuum\\anaconda3\\lib\\site-packages\\sklearn\\svm\\_base.py:947: ConvergenceWarning: Liblinear failed to converge, increase the number of iterations.\n",
      "  \"the number of iterations.\", ConvergenceWarning)\n"
     ],
     "output_type": "stream"
    }
   ],
   "source": [
    "# Train the model\n",
    "\n",
    "train_start_time = datetime.now()\n",
    "print('training the model..')\n",
    "grid.fit(X_train, y_train)\n",
    "print('Done \\n \\n')\n",
    "train_end_time = datetime.now()\n",
    "print('training_time(HH:MM:SS.ms) - {}\\n\\n'.format(train_start_time - train_end_time))\n",
    "# predict test data\n",
    "print('Predicting test data')\n",
    "test_start_time = datetime.now()\n",
    "y_pred = grid.predict(X_val)\n",
    "test_end_time = datetime.now()\n",
    "print('Done \\n \\n')\n",
    "test_time = test_end_time - test_start_time\n",
    "print('testing time(HH:MM:SS:ms) - {}\\n\\n'.format(test_time))"
   ],
   "metadata": {
    "collapsed": false,
    "pycharm": {
     "name": "#%%\n",
     "is_executing": false
    }
   }
  },
  {
   "cell_type": "code",
   "execution_count": 34,
   "outputs": [
    {
     "name": "stdout",
     "text": [
      "---------Performance Score--------------\n",
      "\n",
      " Micro F1: 0.42324189117152583\n",
      "\n",
      " Precision: 0.42324189117152583\n",
      "\n",
      " Recall: 0.42324189117152583\n",
      "\n",
      " Accuracy: 0.42324189117152583\n",
      "\n"
     ],
     "output_type": "stream"
    }
   ],
   "source": [
    "# See the result of the model with Validation Set\n",
    "\n",
    "print('---------Performance Score--------------')\n",
    "accuracy = accuracy_score(y_true = y_val, y_pred = y_pred)\n",
    "precision= precision_score(y_true = y_val, y_pred = y_pred, average = 'micro')\n",
    "recall = recall_score(y_true = y_val, y_pred = y_pred, average = 'micro')\n",
    "micro_f1 = f1_score(y_true = y_val, y_pred = y_pred, average = 'micro')\n",
    "\n",
    "print('\\n Micro F1: {}'.format(micro_f1))\n",
    "print('\\n Precision: {}'.format(precision))\n",
    "print('\\n Recall: {}'.format(recall))\n",
    "print('\\n Accuracy: {}\\n'.format(accuracy))"
   ],
   "metadata": {
    "collapsed": false,
    "pycharm": {
     "name": "#%%\n",
     "is_executing": false
    }
   }
  },
  {
   "cell_type": "code",
   "execution_count": 33,
   "outputs": [
    {
     "data": {
      "text/plain": "<Figure size 432x288 with 2 Axes>",
      "image/png": "[encoded data removed]"
     },
     "metadata": {
      "needs_background": "light"
     },
     "output_type": "display_data"
    }
   ],
   "source": [
    "# Plot normalized confusion matrix\n",
    "classes = [\"1\", \"2\", \"3\", \"4\", \"5\"]\n",
    "title = \"SVM Normalized confusion matrix\"\n",
    "disp = plot_confusion_matrix(grid, X_test, y_test, display_labels = classes, cmap = \"copper\", normalize = \"true\")\n",
    "disp.ax_.set_title(title)\n",
    "\n",
    "plt.show()"
   ],
   "metadata": {
    "collapsed": false,
    "pycharm": {
     "name": "#%%\n",
     "is_executing": false
    }
   }
  },
  {
   "cell_type": "code",
   "execution_count": 32,
   "outputs": [
    {
     "name": "stdout",
     "text": [
      "Micro F1 Score of Test Data: 0.4225654281946477\n"
     ],
     "output_type": "stream"
    }
   ],
   "source": [
    "# See the result of the model with Test Set\n",
    "\n",
    "test_transformed = svm_nystroem.transform(X_test)\n",
    "\n",
    "test_pred = grid.predict(X_test)\n",
    "micro_f1 = f1_score(y_true = y_test, y_pred = test_pred, average = 'micro')\n",
    "print('Micro F1 Score of Test Data: {}'.format(micro_f1))"
   ],
   "metadata": {
    "collapsed": false,
    "pycharm": {
     "name": "#%%\n",
     "is_executing": false
    }
   }
  }
 ],
 "metadata": {
  "kernelspec": {
   "display_name": "Python 3",
   "language": "python",
   "name": "python3"
  },
  "language_info": {
   "codemirror_mode": {
    "name": "ipython",
    "version": 2
   },
   "file_extension": ".py",
   "mimetype": "text/x-python",
   "name": "python",
   "nbconvert_exporter": "python",
   "pygments_lexer": "ipython2",
   "version": "2.7.6"
  },
  "pycharm": {
   "stem_cell": {
    "cell_type": "raw",
    "source": [],
    "metadata": {
     "collapsed": false
    }
   }
  }
 },
 "nbformat": 4,
 "nbformat_minor": 0
}