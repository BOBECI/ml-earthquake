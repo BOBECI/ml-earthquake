{
 "cells": [
  {
   "cell_type": "markdown",
   "metadata": {
    "pycharm": {
     "name": "#%% md\n"
    }
   },
   "source": [
    "At the beginning we have to discover the data and make some process on it. We started with\n",
    "converting categorical features to numeric features."
   ]
  },
  {
   "cell_type": "code",
   "execution_count": 1,
   "metadata": {
    "pycharm": {
     "is_executing": false,
     "name": "#%%\n"
    }
   },
   "outputs": [],
   "source": [
    "import pandas as pd\n",
    "import matplotlib.pyplot as plt\n",
    "import numpy as np\n",
    "import seaborn as sns\n",
    "\n",
    "data = pd.read_csv(\"dataset/csv_building_structure.csv\")\n",
    "\n",
    "# Convert categorical damages to numeric values\n",
    "\n",
    "def grade_to_numeric(grade):\n",
    "    if isinstance(grade, float):\n",
    "        return -1\n",
    "    return int(grade[-1])\n",
    "\n",
    "\n",
    "def age_to_numeric(age): # Group ages in group of 5\n",
    "    if age > 100:\n",
    "        return 21\n",
    "    return age // 5"
   ]
  },
  {
   "cell_type": "markdown",
   "metadata": {
    "pycharm": {
     "name": "#%% md\n"
    }
   },
   "source": [
    "For other categorical features, we used pandas' get_dummies function. With this function, each\n",
    "unique class became a feature. "
   ]
  },
  {
   "cell_type": "code",
   "execution_count": 2,
   "metadata": {
    "pycharm": {
     "is_executing": false,
     "name": "#%%\n"
    }
   },
   "outputs": [
    {
     "name": "stdout",
     "text": [
      "land_surface_condition_Moderate_slope\nland_surface_condition_Steep_slope\n"
     ],
     "output_type": "stream"
    }
   ],
   "source": [
    "land_surface_condition = pd.get_dummies(data['land_surface_condition'])\n",
    "\n",
    "land_surface_condition.drop('Flat', axis = 1, inplace = True)\n",
    "data.drop('land_surface_condition', axis = 1, inplace = True)\n",
    "\n",
    "land_surface_condition.columns = ['land_surface_condition_Moderate_slope', 'land_surface_condition_Steep_slope']\n",
    "\n",
    "for col in land_surface_condition.columns: \n",
    "    print(str(col))"
   ]
  },
  {
   "cell_type": "code",
   "execution_count": 3,
   "metadata": {
    "pycharm": {
     "is_executing": false,
     "name": "#%%\n"
    }
   },
   "outputs": [
    {
     "name": "stdout",
     "text": [
      "roof_type_Bamboo/Timber-Heavy_roof",
      "\nroof_type_Bamboo/Timber-Light_roof\n"
     ],
     "output_type": "stream"
    }
   ],
   "source": [
    "roof_type = pd.get_dummies(data['roof_type'])\n",
    "\n",
    "roof_type.drop('RCC/RB/RBC', axis = 1, inplace = True)\n",
    "data.drop('roof_type', axis = 1, inplace = True)\n",
    "\n",
    "roof_type.columns = ['roof_type_Bamboo/Timber-Heavy_roof', 'roof_type_Bamboo/Timber-Light_roof']\n",
    "\n",
    "for col in roof_type.columns: \n",
    "    print(str(col))"
   ]
  },
  {
   "cell_type": "code",
   "execution_count": 4,
   "metadata": {
    "pycharm": {
     "is_executing": false,
     "name": "#%%\n"
    }
   },
   "outputs": [
    {
     "name": "stdout",
     "text": [
      "ground_floor_type_Brick/Stone\nground_floor_type_Mud\nground_floor_type_RC\nground_floor_type_Timber\n"
     ],
     "output_type": "stream"
    }
   ],
   "source": [
    "ground_floor_type = pd.get_dummies(data['ground_floor_type'])\n",
    "\n",
    "ground_floor_type.drop('Other', axis = 1, inplace = True)\n",
    "data.drop('ground_floor_type', axis = 1, inplace = True)\n",
    "\n",
    "ground_floor_type.columns = ['ground_floor_type_Brick/Stone', 'ground_floor_type_Mud', \"ground_floor_type_RC\", \"ground_floor_type_Timber\"]\n",
    "\n",
    "for col in ground_floor_type.columns: \n",
    "    print(str(col))"
   ]
  },
  {
   "cell_type": "code",
   "execution_count": 5,
   "metadata": {
    "pycharm": {
     "is_executing": false,
     "name": "#%%\n"
    }
   },
   "outputs": [
    {
     "name": "stdout",
     "text": [
      "other_floor_type_Not_applicable\nother_floor_type_TImber/Bamboo-Mud\nother_floor_type_Timber-Planck\n"
     ],
     "output_type": "stream"
    }
   ],
   "source": [
    "other_floor_type = pd.get_dummies(data['other_floor_type'])\n",
    "\n",
    "other_floor_type.drop('RCC/RB/RBC', axis = 1, inplace = True)\n",
    "data.drop('other_floor_type', axis = 1, inplace = True)\n",
    "\n",
    "other_floor_type.columns = ['other_floor_type_Not_applicable', 'other_floor_type_TImber/Bamboo-Mud', \"other_floor_type_Timber-Planck\"]\n",
    "\n",
    "for col in other_floor_type.columns: \n",
    "    print(str(col))"
   ]
  },
  {
   "cell_type": "code",
   "execution_count": 6,
   "metadata": {
    "pycharm": {
     "is_executing": false,
     "name": "#%%\n"
    }
   },
   "outputs": [
    {
     "name": "stdout",
     "text": [
      "foundation_type_Bamboo/Timber\nfoundation_type_Cement-Stone/Brick\nfoundation_type_Mud mortar-Stone/Brick\nfoundation_type_RC\n"
     ],
     "output_type": "stream"
    }
   ],
   "source": [
    "foundation_type = pd.get_dummies(data['foundation_type'])\n",
    "\n",
    "foundation_type.drop('Other', axis = 1, inplace = True)\n",
    "data.drop('foundation_type', axis = 1, inplace = True)\n",
    "\n",
    "foundation_type.columns = ['foundation_type_Bamboo/Timber', 'foundation_type_Cement-Stone/Brick', \"foundation_type_Mud mortar-Stone/Brick\", \"foundation_type_RC\"]\n",
    "\n",
    "for col in foundation_type.columns: \n",
    "    print(str(col))"
   ]
  },
  {
   "cell_type": "code",
   "execution_count": 7,
   "metadata": {
    "pycharm": {
     "is_executing": false,
     "name": "#%%\n"
    }
   },
   "outputs": [
    {
     "name": "stdout",
     "text": [
      "position_Attached-1_side\nposition_Attached-2_side\nposition_Not_attached\n"
     ],
     "output_type": "stream"
    }
   ],
   "source": [
    "position = pd.get_dummies(data['position'])\n",
    "\n",
    "position.drop('Attached-3 side', axis = 1, inplace = True)\n",
    "data.drop('position', axis = 1, inplace = True)\n",
    "\n",
    "position.columns = ['position_Attached-1_side', 'position_Attached-2_side', \"position_Not_attached\"]\n",
    "\n",
    "for col in position.columns: \n",
    "    print(str(col))"
   ]
  },
  {
   "cell_type": "code",
   "execution_count": 8,
   "metadata": {
    "pycharm": {
     "is_executing": false,
     "name": "#%%\n"
    }
   },
   "outputs": [
    {
     "name": "stdout",
     "text": [
      "plan_configuration_Building_with_Central_Courtyard\nplan_configuration_E-shape\nplan_configuration_H-shape\nplan_configuration_L-shape\nplan_configuration_Multi_Projected\nplan_configuration_Rectangular\nplan_configuration_Square\nplan_configuration_T_Shape\nplan_configuration_U_Shape\n"
     ],
     "output_type": "stream"
    }
   ],
   "source": [
    "plan_configuration = pd.get_dummies(data['plan_configuration'])\n",
    "\n",
    "plan_configuration.drop('Others', axis = 1, inplace = True)\n",
    "data.drop('plan_configuration', axis = 1, inplace = True)\n",
    "\n",
    "plan_configuration.columns = [\"plan_configuration_Building_with_Central_Courtyard\", \"plan_configuration_E-shape\", \"plan_configuration_H-shape\", \"plan_configuration_L-shape\", \"plan_configuration_Multi_Projected\", \"plan_configuration_Rectangular\", \"plan_configuration_Square\", \"plan_configuration_T_Shape\", \"plan_configuration_U_Shape\"]\n",
    "\n",
    "for col in plan_configuration.columns: \n",
    "    print(str(col))"
   ]
  },
  {
   "cell_type": "code",
   "execution_count": 9,
   "metadata": {
    "pycharm": {
     "is_executing": false,
     "name": "#%%\n"
    }
   },
   "outputs": [
    {
     "name": "stdout",
     "text": [
      "------------------------------------\nNUMBER OF TOTAL FEATURES :  43\n------------------------------------\n"
     ],
     "output_type": "stream"
    }
   ],
   "source": [
    "# Add newly created features to dataframe\n",
    "\n",
    "data = pd.concat([data,land_surface_condition], axis=1)\n",
    "data = pd.concat([data,roof_type], axis=1)\n",
    "data = pd.concat([data,ground_floor_type], axis=1)\n",
    "data = pd.concat([data,other_floor_type], axis=1)\n",
    "data = pd.concat([data,foundation_type], axis=1)\n",
    "data = pd.concat([data,position], axis=1)\n",
    "data = pd.concat([data,plan_configuration], axis=1)\n",
    "\n",
    "data['target'] = data['damage_grade'].apply(grade_to_numeric)\n",
    "data[\"age_building\"] = data[\"age_building\"].apply(age_to_numeric)\n",
    "\n",
    "# Drop unnecessary features\n",
    "\n",
    "data.drop('damage_grade', axis=1, inplace=True)\n",
    "data.drop('technical_solution_proposed', axis=1, inplace=True)\n",
    "data.drop('district_id', axis=1, inplace=True)\n",
    "data.drop('vdcmun_id', axis=1, inplace=True)\n",
    "data.drop('ward_id', axis=1, inplace=True)\n",
    "data.drop('count_floors_post_eq', axis=1, inplace=True)\n",
    "data.drop('height_ft_post_eq', axis=1, inplace=True)\n",
    "data.drop('building_id', axis=1, inplace=True)\n",
    "data.drop('condition_post_eq', axis=1, inplace=True)\n",
    "\n",
    "print(\"------------------------------------\")\n",
    "print('NUMBER OF TOTAL FEATURES : ', len(data.columns))\n",
    "print(\"------------------------------------\")"
   ]
  },
  {
   "cell_type": "markdown",
   "metadata": {
    "pycharm": {
     "name": "#%% md\n"
    }
   },
   "source": [
    "After finishing with categorical features, created a correlation matrix to see relationships between\n",
    "all features. "
   ]
  },
  {
   "cell_type": "code",
   "execution_count": 10,
   "outputs": [],
   "source": [
    "feature_names=data.columns\n",
    "feature = data.iloc[:, :-1]\n",
    "target = data.iloc[:, -1]"
   ],
   "metadata": {
    "collapsed": false,
    "pycharm": {
     "name": "#%%\n",
     "is_executing": false
    }
   }
  },
  {
   "cell_type": "code",
   "execution_count": 11,
   "outputs": [],
   "source": [
    "from imblearn.combine import SMOTEENN\n",
    "sme = SMOTEENN(random_state=47,n_jobs=-1)\n",
    "feature,target=sme.fit_resample(feature,target)"
   ],
   "metadata": {
    "collapsed": false,
    "pycharm": {
     "name": "#%%\n",
     "is_executing": false
    }
   }
  },
  {
   "cell_type": "code",
   "execution_count": 12,
   "outputs": [
    {
     "name": "stdout",
     "text": [
      "(665702, 43)\n"
     ],
     "output_type": "stream"
    }
   ],
   "source": [
    "target=target.values.reshape(target.shape[0],1)\n",
    "datanp=np.append(feature,target,axis=1)\n",
    "print(datanp.shape)\n",
    "data=pd.DataFrame(data=datanp,columns=feature_names)"
   ],
   "metadata": {
    "collapsed": false,
    "pycharm": {
     "name": "#%%\n",
     "is_executing": false
    }
   }
  },
  {
   "cell_type": "code",
   "execution_count": 13,
   "outputs": [],
   "source": [
    "corr_matrix = data.corr()\n",
    "feature = corr_matrix.index\n",
    "plt.figure(figsize = (45, 45))\n",
    "graph = sns.heatmap(corr_matrix, linewidths = 0.1, annot = False)\n",
    "bottom, top = graph.get_ylim()\n",
    "graph.set_ylim(bottom + 0.5, top - 0.5)\n",
    "plt.savefig('corr_mat.png', bbox_inches = \"tight\")\n",
    "corr_target_row = corr_matrix[\"target\"]"
   ],
   "metadata": {
    "collapsed": false,
    "pycharm": {
     "name": "#%%\n",
     "is_executing": false
    }
   }
  },
  {
   "cell_type": "code",
   "metadata": {
    "pycharm": {
     "is_executing": false,
     "name": "#%%\n"
    }
   },
   "source": [
    "# Get count of each damage_level\n",
    "\n",
    "damage_counts = []\n",
    "\n",
    "for level in data.groupby('target').count()['age_building']:\n",
    "    if level != 12: # if != null\n",
    "        damage_counts.append(level)\n",
    "    \n",
    "damage_counts"
   ],
   "execution_count": 14,
   "outputs": [
    {
     "data": {
      "text/plain": "[274243, 156164, 92120, 55070, 43663, 44442]"
     },
     "metadata": {},
     "output_type": "execute_result",
     "execution_count": 14
    }
   ]
  },
  {
   "cell_type": "code",
   "metadata": {
    "pycharm": {
     "is_executing": false,
     "name": "#%%\n"
    }
   },
   "source": [
    "# Plotting each damage_level count\n",
    "\n",
    "objects = []\n",
    "\n",
    "for i in range(1,6):\n",
    "    level = 'Damage Grade ' + str(i)\n",
    "    objects.append(level)\n",
    "\n",
    "y_pos = np.arange(1, len(damage_counts) + 1)\n",
    "plt.style.use('fivethirtyeight')\n",
    "plt.barh(y_pos, damage_counts, align = 'center', alpha = 1, color = ['green', 'yellowgreen', 'yellow', 'orange', 'red'])\n",
    "plt.yticks(y_pos, objects)\n",
    "plt.title('Post Earthquake Damage Level Counts')\n",
    "plt.xlabel('Count')\n",
    "plt.savefig('dist.png', bbox_inches='tight')"
   ],
   "execution_count": 15,
   "outputs": []
  },
  {
   "cell_type": "code",
   "metadata": {
    "pycharm": {
     "is_executing": false,
     "name": "#%%\n"
    }
   },
   "source": [
    "# See the correlation of each feature against target variable\n",
    "\n",
    "corr_target_row = corr_target_row.sort_values(ascending = True)\n",
    "corr_target_row.head()"
   ],
   "execution_count": 16,
   "outputs": [
    {
     "data": {
      "text/plain": "other_floor_type_Timber-Planck        -0.558529\nroof_type_Bamboo/Timber-Light_roof    -0.362476\nground_floor_type_Mud                 -0.200060\nage_building                          -0.186212\nhas_superstructure_mud_mortar_stone   -0.059772\nName: target, dtype: float64"
     },
     "metadata": {},
     "output_type": "execute_result",
     "execution_count": 16
    }
   ]
  },
  {
   "cell_type": "code",
   "metadata": {
    "pycharm": {
     "is_executing": false,
     "name": "#%%\n"
    }
   },
   "source": [
    "# See the results better in a graph\n",
    "\n",
    "plt.figure(figsize=(14, 14))\n",
    "plt.hlines(y = corr_target_row.index, xmin = 0, xmax = corr_target_row.values)\n",
    "\n",
    "for x, y, tex in zip(corr_target_row.values, corr_target_row.index, corr_target_row.values):\n",
    "    t = plt.text(x, y, round(tex, 2), horizontalalignment = 'right' if x < 0 else 'left', \n",
    "    verticalalignment = 'center', fontdict = {'color':'red' if x < 0 else 'green', 'size':14})\n",
    "\n",
    "plt.title('Correlation of features with respect to damage_grade', fontdict = {'size':20})\n",
    "plt.savefig('cofwrtdg.png', bbox_inches = 'tight')"
   ],
   "execution_count": 17,
   "outputs": []
  },
  {
   "cell_type": "code",
   "metadata": {
    "pycharm": {
     "is_executing": false,
     "name": "#%%\n"
    }
   },
   "source": [
    "# Save results to a .csv file to use in ML models\n",
    "\n",
    "data.to_csv(r'dataset/preprocessed_resample.csv')\n",
    "\n",
    "sortedFeatureCorr = corr_matrix[\"target\"].sort_values(ascending = False).to_frame()\n",
    "sortedFeatureCorr.to_csv(r\"dataset/corr_resample.csv\", index = True)\n",
    "\n"
   ],
   "execution_count": 18,
   "outputs": []
  }
 ],
 "metadata": {
  "kernelspec": {
   "display_name": "Python 3",
   "language": "python",
   "name": "python3"
  },
  "language_info": {
   "codemirror_mode": {
    "name": "ipython",
    "version": 3
   },
   "file_extension": ".py",
   "mimetype": "text/x-python",
   "name": "python",
   "nbconvert_exporter": "python",
   "pygments_lexer": "ipython3",
   "version": "3.7.3"
  },
  "pycharm": {
   "stem_cell": {
    "cell_type": "raw",
    "source": [],
    "metadata": {
     "collapsed": false
    }
   }
  }
 },
 "nbformat": 4,
 "nbformat_minor": 1
}