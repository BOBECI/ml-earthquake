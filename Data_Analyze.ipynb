{
 "cells": [
  {
   "cell_type": "code",
   "execution_count": 1,
   "metadata": {
    "pycharm": {
     "is_executing": false,
     "name": "#%%\n"
    }
   },
   "outputs": [],
   "source": [
    "import pandas as pd\n",
    "import matplotlib.pyplot as plt\n",
    "import numpy as np\n",
    "import seaborn as sns\n",
    "\n",
    "def grade_to_numeric(grade):\n",
    "    if isinstance(grade, float):\n",
    "        return -1\n",
    "    return int(grade[-1])\n",
    "\n",
    "def age(x): #yas 5lik aralıklarda gruplandı\n",
    "    if x > 100:\n",
    "        return 21\n",
    "    return x // 5\n",
    "\n",
    "\n",
    "data = pd.read_csv(\"dataset/csv_building_structure.csv\")\n",
    "\n",
    "data[\"age_building\"] = data[\"age_building\"].apply(age)"
   ]
  },
  {
   "cell_type": "code",
   "execution_count": 2,
   "metadata": {
    "pycharm": {
     "is_executing": false,
     "name": "#%%\n"
    }
   },
   "outputs": [
    {
     "name": "stdout",
     "text": [
      "land_surface_condition_Moderate_slope 0\nland_surface_condition_Steep_slope 1\n"
     ],
     "output_type": "stream"
    }
   ],
   "source": [
    "import pandas as pd\n",
    "land_surface_condition = pd.get_dummies(data['land_surface_condition'])\n",
    "\n",
    "land_surface_condition.drop('Flat', axis=1, inplace=True)\n",
    "data.drop('land_surface_condition', axis=1, inplace=True)\n",
    "\n",
    "land_surface_condition.columns = ['land_surface_condition_Moderate_slope', 'land_surface_condition_Steep_slope']\n",
    "\n",
    "count = 0\n",
    "for col in land_surface_condition.columns: \n",
    "    print(str(col) + \" \" +str(count))\n",
    "    count += 1"
   ]
  },
  {
   "cell_type": "code",
   "execution_count": 3,
   "metadata": {
    "pycharm": {
     "is_executing": false,
     "name": "#%%\n"
    }
   },
   "outputs": [
    {
     "name": "stdout",
     "text": [
      "roof_type_Bamboo/Timber-Heavy_roof 0\nroof_type_Bamboo/Timber-Light_roof 1\n"
     ],
     "output_type": "stream"
    }
   ],
   "source": [
    "roof_type = pd.get_dummies(data['roof_type'])\n",
    "\n",
    "roof_type.drop('RCC/RB/RBC', axis=1, inplace=True)\n",
    "data.drop('roof_type', axis=1, inplace=True)\n",
    "\n",
    "roof_type.columns = ['roof_type_Bamboo/Timber-Heavy_roof', 'roof_type_Bamboo/Timber-Light_roof']\n",
    "\n",
    "\n",
    "count = 0\n",
    "for col in roof_type.columns: \n",
    "    print(str(col) + \" \" +str(count))\n",
    "    count+=1"
   ]
  },
  {
   "cell_type": "code",
   "execution_count": 4,
   "metadata": {
    "pycharm": {
     "is_executing": false,
     "name": "#%%\n"
    }
   },
   "outputs": [
    {
     "name": "stdout",
     "text": [
      "ground_floor_type_Brick/Stone 0\nground_floor_type_Mud 1\nground_floor_type_RC 2\nground_floor_type_Timber 3\n"
     ],
     "output_type": "stream"
    }
   ],
   "source": [
    "ground_floor_type=pd.get_dummies(data['ground_floor_type'])\n",
    "\n",
    "ground_floor_type.drop('Other', axis=1, inplace=True)\n",
    "data.drop('ground_floor_type', axis=1, inplace=True)\n",
    "\n",
    "ground_floor_type.columns = ['ground_floor_type_Brick/Stone', 'ground_floor_type_Mud', \"ground_floor_type_RC\", \"ground_floor_type_Timber\"]\n",
    "\n",
    "\n",
    "count = 0\n",
    "for col in ground_floor_type.columns: \n",
    "    print(str(col) + \" \" +str(count))\n",
    "    count+=1"
   ]
  },
  {
   "cell_type": "code",
   "execution_count": 5,
   "metadata": {
    "pycharm": {
     "is_executing": false,
     "name": "#%%\n"
    }
   },
   "outputs": [
    {
     "name": "stdout",
     "text": [
      "other_floor_type_Not_applicable 0\nother_floor_type_TImber/Bamboo-Mud 1\nother_floor_type_Timber-Planck 2\n"
     ],
     "output_type": "stream"
    }
   ],
   "source": [
    "other_floor_type = pd.get_dummies(data['other_floor_type'])\n",
    "\n",
    "other_floor_type.drop('RCC/RB/RBC', axis=1, inplace=True)\n",
    "data.drop('other_floor_type', axis=1, inplace=True)\n",
    "\n",
    "other_floor_type.columns = ['other_floor_type_Not_applicable', 'other_floor_type_TImber/Bamboo-Mud', \"other_floor_type_Timber-Planck\"]\n",
    "\n",
    "\n",
    "count = 0\n",
    "for col in other_floor_type.columns: \n",
    "    print(str(col) + \" \" +str(count))\n",
    "    count+=1"
   ]
  },
  {
   "cell_type": "code",
   "execution_count": 6,
   "metadata": {
    "pycharm": {
     "is_executing": false,
     "name": "#%%\n"
    }
   },
   "outputs": [
    {
     "name": "stdout",
     "text": [
      "foundation_type_Bamboo/Timber 0\nfoundation_type_Cement-Stone/Brick 1\nfoundation_type_Mud mortar-Stone/Brick 2\nfoundation_type_RC 3\n"
     ],
     "output_type": "stream"
    }
   ],
   "source": [
    "foundation_type = pd.get_dummies(data['foundation_type'])\n",
    "\n",
    "foundation_type.drop('Other', axis=1, inplace=True)\n",
    "data.drop('foundation_type', axis=1, inplace=True)\n",
    "\n",
    "foundation_type.columns = ['foundation_type_Bamboo/Timber', 'foundation_type_Cement-Stone/Brick', \"foundation_type_Mud mortar-Stone/Brick\", \"foundation_type_RC\"]\n",
    "\n",
    "\n",
    "count = 0\n",
    "for col in foundation_type.columns: \n",
    "    print(str(col) + \" \" +str(count))\n",
    "    count+=1"
   ]
  },
  {
   "cell_type": "code",
   "execution_count": 7,
   "metadata": {
    "pycharm": {
     "is_executing": false,
     "name": "#%%\n"
    }
   },
   "outputs": [
    {
     "name": "stdout",
     "text": [
      "position_Attached-1_side 0\nposition_Attached-2_side 1\nposition_Not_attached 2\n"
     ],
     "output_type": "stream"
    }
   ],
   "source": [
    "position = pd.get_dummies(data['position'])\n",
    "\n",
    "position.drop('Attached-3 side', axis=1, inplace=True)\n",
    "data.drop('position', axis=1, inplace=True)\n",
    "\n",
    "position.columns = ['position_Attached-1_side', 'position_Attached-2_side', \"position_Not_attached\"]\n",
    "\n",
    "\n",
    "count = 0\n",
    "for col in position.columns: \n",
    "    print(str(col) + \" \" +str(count))\n",
    "    count+=1"
   ]
  },
  {
   "cell_type": "code",
   "execution_count": 8,
   "metadata": {
    "pycharm": {
     "is_executing": false,
     "name": "#%%\n"
    }
   },
   "outputs": [
    {
     "name": "stdout",
     "text": [
      "plan_configuration_Building_with_Central_Courtyard 0\nplan_configuration_E-shape 1\nplan_configuration_H-shape 2\nplan_configuration_L-shape 3\nplan_configuration_Multi_Projected 4\nplan_configuration_Rectangular 5\nplan_configuration_Square 6\nplan_configuration_T_Shape 7\nplan_configuration_U_Shape 8\n"
     ],
     "output_type": "stream"
    }
   ],
   "source": [
    "plan_configuration = pd.get_dummies(data['plan_configuration'])\n",
    "\n",
    "plan_configuration.drop('Others', axis=1, inplace=True)\n",
    "data.drop('plan_configuration', axis=1, inplace=True)\n",
    "\n",
    "plan_configuration.columns = [\"plan_configuration_Building_with_Central_Courtyard\", \"plan_configuration_E-shape\", \"plan_configuration_H-shape\", \"plan_configuration_L-shape\", \"plan_configuration_Multi_Projected\", \"plan_configuration_Rectangular\", \"plan_configuration_Square\", \"plan_configuration_T_Shape\", \"plan_configuration_U_Shape\"]\n",
    "\n",
    "count = 0\n",
    "for col in plan_configuration.columns: \n",
    "    print(str(col) + \" \" +str(count))\n",
    "    count+=1"
   ]
  },
  {
   "cell_type": "code",
   "execution_count": 9,
   "metadata": {
    "pycharm": {
     "is_executing": false,
     "name": "#%%\n"
    }
   },
   "outputs": [
    {
     "name": "stdout",
     "text": [
      "count_floors_pre_eq 0\nage_building 1\nplinth_area_sq_ft 2\nheight_ft_pre_eq 3\nhas_superstructure_adobe_mud 4\nhas_superstructure_mud_mortar_stone 5\nhas_superstructure_stone_flag 6\nhas_superstructure_cement_mortar_stone 7\nhas_superstructure_mud_mortar_brick 8\nhas_superstructure_cement_mortar_brick 9\nhas_superstructure_timber 10\nhas_superstructure_bamboo 11\nhas_superstructure_rc_non_engineered 12\nhas_superstructure_rc_engineered 13\nhas_superstructure_other 14\nland_surface_condition_Moderate_slope 15\nland_surface_condition_Steep_slope 16\nroof_type_Bamboo/Timber-Heavy_roof 17\nroof_type_Bamboo/Timber-Light_roof 18\nground_floor_type_Brick/Stone 19\nground_floor_type_Mud 20\nground_floor_type_RC 21\nground_floor_type_Timber 22\nother_floor_type_Not_applicable 23\nother_floor_type_TImber/Bamboo-Mud 24\nother_floor_type_Timber-Planck 25\nfoundation_type_Bamboo/Timber 26\nfoundation_type_Cement-Stone/Brick 27\nfoundation_type_Mud mortar-Stone/Brick 28\nfoundation_type_RC 29\nposition_Attached-1_side 30\nposition_Attached-2_side 31\nposition_Not_attached 32\nplan_configuration_Building_with_Central_Courtyard 33\nplan_configuration_E-shape 34\nplan_configuration_H-shape 35\nplan_configuration_L-shape 36\nplan_configuration_Multi_Projected 37\nplan_configuration_Rectangular 38\nplan_configuration_Square 39\nplan_configuration_T_Shape 40\nplan_configuration_U_Shape 41\ntarget 42\n------------------------------------\n43\n------------------------------------\n   count_floors_pre_eq  age_building  plinth_area_sq_ft  height_ft_pre_eq  \\\n0                    1             1                288                 9   \n1                    1             3                364                 9   \n2                    1             4                384                 9   \n3                    1             4                312                 9   \n4                    1             6                308                 9   \n\n   has_superstructure_adobe_mud  has_superstructure_mud_mortar_stone  \\\n0                             0                                    1   \n1                             0                                    1   \n2                             0                                    1   \n3                             0                                    1   \n4                             0                                    1   \n\n   has_superstructure_stone_flag  has_superstructure_cement_mortar_stone  \\\n0                              0                                       0   \n1                              0                                       0   \n2                              0                                       0   \n3                              0                                       0   \n4                              0                                       0   \n\n   has_superstructure_mud_mortar_brick  \\\n0                                    0   \n1                                    0   \n2                                    0   \n3                                    0   \n4                                    0   \n\n   has_superstructure_cement_mortar_brick  ...  \\\n0                                       0  ...   \n1                                       0  ...   \n2                                       0  ...   \n3                                       0  ...   \n4                                       0  ...   \n\n   plan_configuration_Building_with_Central_Courtyard  \\\n0                                                  0    \n1                                                  0    \n2                                                  0    \n3                                                  0    \n4                                                  0    \n\n   plan_configuration_E-shape  plan_configuration_H-shape  \\\n0                           0                           0   \n1                           0                           0   \n2                           0                           0   \n3                           0                           0   \n4                           0                           0   \n\n   plan_configuration_L-shape  plan_configuration_Multi_Projected  \\\n0                           0                                   0   \n1                           0                                   0   \n2                           0                                   0   \n3                           0                                   0   \n4                           0                                   0   \n\n   plan_configuration_Rectangular  plan_configuration_Square  \\\n0                               1                          0   \n1                               1                          0   \n2                               1                          0   \n3                               1                          0   \n4                               1                          0   \n\n   plan_configuration_T_Shape  plan_configuration_U_Shape  target  \n0                           0                           0       3  \n1                           0                           0       5  \n2                           0                           0       2  \n3                           0                           0       2  \n4                           0                           0       1  \n\n[5 rows x 43 columns]\n"
     ],
     "output_type": "stream"
    }
   ],
   "source": [
    "data = pd.concat([data,land_surface_condition], axis=1)\n",
    "\n",
    "data = pd.concat([data,roof_type], axis=1)\n",
    "\n",
    "data = pd.concat([data,ground_floor_type], axis=1)\n",
    "\n",
    "data = pd.concat([data,other_floor_type], axis=1)\n",
    "\n",
    "data = pd.concat([data,foundation_type], axis=1)\n",
    "\n",
    "data = pd.concat([data,position], axis=1)\n",
    "\n",
    "data = pd.concat([data,plan_configuration], axis=1)\n",
    "\n",
    "data['target'] = data['damage_grade'].apply(grade_to_numeric)\n",
    "data.drop('damage_grade', axis=1, inplace=True)\n",
    "data.drop('technical_solution_proposed', axis=1, inplace=True)\n",
    "\n",
    "data.drop('district_id', axis=1, inplace=True)\n",
    "data.drop('vdcmun_id', axis=1, inplace=True)\n",
    "data.drop('ward_id', axis=1, inplace=True)\n",
    "data.drop('count_floors_post_eq', axis=1, inplace=True)\n",
    "data.drop('height_ft_post_eq', axis=1, inplace=True)\n",
    "\n",
    "data.drop('building_id', axis=1, inplace=True)\n",
    "data.drop('condition_post_eq', axis=1, inplace=True)\n",
    "\n",
    "count = 0\n",
    "for col in data.columns: \n",
    "    print(str(col) + \" \" + str(count))\n",
    "    count += 1\n",
    "\n",
    "print(\"------------------------------------\")\n",
    "print(count)\n",
    "print(\"------------------------------------\")"
   ]
  },
  {
   "cell_type": "code",
   "execution_count": 10,
   "metadata": {
    "pycharm": {
     "is_executing": false,
     "name": "#%%\n"
    }
   },
   "outputs": [],
   "source": [
    "corr_matrix = data.corr()\n",
    "feature = corr_matrix.index\n",
    "plt.figure(figsize = (45,45))\n",
    "g=sns.heatmap(corr_matrix,linewidths = 0.1,annot = False)\n",
    "bottom, top = g.get_ylim()\n",
    "g.set_ylim(bottom + 0.5, top - 0.5)\n",
    "plt.savefig('corr_mat.png', bbox_inches = \"tight\")\n",
    "corr_target_row = corr_matrix[\"target\"]"
   ]
  },
  {
   "cell_type": "code",
   "execution_count": 11,
   "metadata": {
    "pycharm": {
     "is_executing": false,
     "name": "#%%\n"
    }
   },
   "outputs": [
    {
     "data": {
      "text/plain": "target\n-1        12\n 1     78815\n 2     87257\n 3    136412\n 4    183844\n 5    275766\nName: age_building, dtype: int64"
     },
     "metadata": {},
     "output_type": "execute_result",
     "execution_count": 11
    }
   ],
   "source": [
    "# Get damage_level counts\n",
    "\n",
    "damage_counts = []\n",
    "data.groupby('target').count()['age_building']"
   ]
  },
  {
   "cell_type": "code",
   "execution_count": 12,
   "metadata": {
    "pycharm": {
     "is_executing": false,
     "name": "#%%\n"
    }
   },
   "outputs": [
    {
     "data": {
      "text/plain": "[78815, 87257, 136412, 183844, 275766]"
     },
     "metadata": {},
     "output_type": "execute_result",
     "execution_count": 12
    }
   ],
   "source": [
    "for x in data.groupby('target').count()['age_building']:\n",
    "    if x != 12:\n",
    "        damage_counts.append(x)\n",
    "    \n",
    "damage_counts"
   ]
  },
  {
   "cell_type": "code",
   "execution_count": 13,
   "metadata": {
    "pycharm": {
     "is_executing": false,
     "name": "#%%\n"
    }
   },
   "outputs": [],
   "source": [
    "# Plotting each damage_level count\n",
    "\n",
    "objects = []\n",
    "\n",
    "for i in range(1,6):\n",
    "    level = 'Damage Grade ' + str(i)\n",
    "    objects.append(level)\n",
    "\n",
    "y_pos = np.arange(1, len(damage_counts) + 1)\n",
    "plt.style.use('fivethirtyeight')\n",
    "plt.barh(y_pos, damage_counts, align = 'center', alpha = 1, color = ['green', 'yellowgreen', 'yellow', 'orange', 'red'])\n",
    "plt.yticks(y_pos, objects)\n",
    "plt.title('Post Earthquake Damage Level Counts')\n",
    "plt.xlabel('Count')\n",
    "plt.savefig('dist.png', bbox_inches='tight')"
   ]
  },
  {
   "cell_type": "code",
   "execution_count": 14,
   "metadata": {
    "pycharm": {
     "is_executing": false,
     "name": "#%%\n"
    }
   },
   "outputs": [
    {
     "data": {
      "text/plain": "ground_floor_type_RC                                 -0.408828\nhas_superstructure_cement_mortar_brick               -0.349327\nfoundation_type_RC                                   -0.319889\nfoundation_type_Bamboo/Timber                        -0.243430\nhas_superstructure_rc_engineered                     -0.211561\nhas_superstructure_rc_non_engineered                 -0.207983\nother_floor_type_Not_applicable                      -0.206328\nfoundation_type_Cement-Stone/Brick                   -0.175559\nplinth_area_sq_ft                                    -0.168040\nhas_superstructure_timber                            -0.111646\nhas_superstructure_bamboo                            -0.110451\nplan_configuration_L-shape                           -0.086136\nhas_superstructure_cement_mortar_stone               -0.066192\nposition_Attached-2_side                             -0.058675\nhas_superstructure_other                             -0.049148\nhas_superstructure_mud_mortar_brick                  -0.031625\nplan_configuration_Multi_Projected                   -0.029845\nground_floor_type_Timber                             -0.024004\nposition_Not_attached                                -0.019976\nplan_configuration_T_Shape                           -0.017512\nplan_configuration_U_Shape                           -0.016946\nplan_configuration_Building_with_Central_Courtyard   -0.011382\nplan_configuration_E-shape                           -0.003180\nplan_configuration_H-shape                           -0.002526\nplan_configuration_Square                            -0.000278\nhas_superstructure_adobe_mud                          0.005960\nland_surface_condition_Moderate_slope                 0.016019\nland_surface_condition_Steep_slope                    0.019606\nground_floor_type_Brick/Stone                         0.026418\nother_floor_type_Timber-Planck                        0.032726\nposition_Attached-1_side                              0.053228\nheight_ft_pre_eq                                      0.055080\nplan_configuration_Rectangular                        0.065108\nhas_superstructure_stone_flag                         0.065976\nroof_type_Bamboo/Timber-Heavy_roof                    0.075074\nroof_type_Bamboo/Timber-Light_roof                    0.106272\ncount_floors_pre_eq                                   0.188366\nage_building                                          0.207952\nother_floor_type_TImber/Bamboo-Mud                    0.251789\nground_floor_type_Mud                                 0.295396\nfoundation_type_Mud mortar-Stone/Brick                0.445825\nhas_superstructure_mud_mortar_stone                   0.480377\ntarget                                                1.000000\nName: target, dtype: float64"
     },
     "metadata": {},
     "output_type": "execute_result",
     "execution_count": 14
    }
   ],
   "source": [
    "corr_target_row = corr_target_row.sort_values(ascending=True)\n",
    "corr_target_row"
   ]
  },
  {
   "cell_type": "code",
   "execution_count": 15,
   "metadata": {
    "pycharm": {
     "is_executing": false,
     "name": "#%%\n"
    }
   },
   "outputs": [],
   "source": [
    "plt.figure(figsize=(14,14))\n",
    "plt.hlines(y = corr_target_row.index, xmin = 0, xmax = corr_target_row.values)\n",
    "for x, y, tex in zip(corr_target_row.values, corr_target_row.index, corr_target_row.values):\n",
    "    t = plt.text(x, y, round(tex, 2), horizontalalignment='right' if x < 0 else 'left', \n",
    "    verticalalignment='center', fontdict={'color':'red' if x < 0 else 'green', 'size':14})\n",
    "\n",
    "plt.title('Correlation of features with respect to damage_grade', fontdict = {'size':20})\n",
    "plt.savefig('cofwrtdg.png', bbox_inches = 'tight')"
   ]
  },
  {
   "cell_type": "code",
   "execution_count": 16,
   "outputs": [],
   "source": [
    "data.to_csv(r'dataset/preprossed.csv')"
   ],
   "metadata": {
    "collapsed": false,
    "pycharm": {
     "name": "#%%\n",
     "is_executing": false
    }
   }
  }
 ],
 "metadata": {
  "kernelspec": {
   "display_name": "Python 3",
   "language": "python",
   "name": "python3"
  },
  "language_info": {
   "codemirror_mode": {
    "name": "ipython",
    "version": 3
   },
   "file_extension": ".py",
   "mimetype": "text/x-python",
   "name": "python",
   "nbconvert_exporter": "python",
   "pygments_lexer": "ipython3",
   "version": "3.7.3"
  },
  "pycharm": {
   "stem_cell": {
    "cell_type": "raw",
    "source": [],
    "metadata": {
     "collapsed": false
    }
   }
  }
 },
 "nbformat": 4,
 "nbformat_minor": 1
}