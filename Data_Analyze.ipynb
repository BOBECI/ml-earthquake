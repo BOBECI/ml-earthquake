{
 "cells": [
  {
   "cell_type": "code",
   "execution_count": 175,
   "metadata": {
    "pycharm": {
     "is_executing": false,
     "name": "#%%\n"
    }
   },
   "outputs": [],
   "source": [
    "import pandas as pd\n",
    "import matplotlib.pyplot as plt\n",
    "import numpy as np\n",
    "import seaborn as sns\n",
    "\n",
    "def grade_to_numeric(grade):\n",
    "    if(isinstance(grade, float)):\n",
    "        return -1\n",
    "    return int(grade[-1])\n",
    "\n",
    "def age(x): #yas 5lik aralıklarda gruplandı\n",
    "    if x>100:\n",
    "        return 21\n",
    "    return x//5\n",
    "\n",
    "\n",
    "\n",
    "data=pd.read_csv(\"dataset/csv_building_structure.csv\")\n",
    "\n",
    "data[\"age_building\"] = data[\"age_building\"].apply(age)\n",
    "\n"
   ]
  },
  {
   "cell_type": "code",
   "execution_count": 176,
   "outputs": [
    {
     "name": "stdout",
     "text": [
      "land_surface_condition_Moderate_slope_0 0\n",
      "land_surface_condition_Steep_slope_1 1\n"
     ],
     "output_type": "stream"
    }
   ],
   "source": [
    "import pandas as pd\n",
    "land_surface_condition=pd.get_dummies(data['land_surface_condition'])\n",
    "\n",
    "land_surface_condition.drop('Flat', axis=1, inplace=True)\n",
    "data.drop('land_surface_condition', axis=1, inplace=True)\n",
    "\n",
    "land_surface_condition.columns = ['land_surface_condition_Moderate_slope_0', 'land_surface_condition_Steep_slope_1']\n",
    "\n",
    "count = 0\n",
    "for col in land_surface_condition.columns: \n",
    "    print(str(col) + \" \" +str(count))\n",
    "    count+=1"
   ],
   "metadata": {
    "collapsed": false,
    "pycharm": {
     "name": "#%%\n",
     "is_executing": false
    }
   }
  },
  {
   "cell_type": "code",
   "execution_count": 177,
   "outputs": [
    {
     "name": "stdout",
     "text": [
      "roof_type_Bamboo/Timber-Heavy_roof 0\n",
      "roof_type_Bamboo/Timber-Light_roof 1\n"
     ],
     "output_type": "stream"
    }
   ],
   "source": [
    "roof_type=pd.get_dummies(data['roof_type'])\n",
    "\n",
    "roof_type.drop('RCC/RB/RBC', axis=1, inplace=True)\n",
    "data.drop('roof_type', axis=1, inplace=True)\n",
    "\n",
    "roof_type.columns = ['roof_type_Bamboo/Timber-Heavy_roof', 'roof_type_Bamboo/Timber-Light_roof']\n",
    "\n",
    "\n",
    "count = 0\n",
    "for col in roof_type.columns: \n",
    "    print(str(col) + \" \" +str(count))\n",
    "    count+=1"
   ],
   "metadata": {
    "collapsed": false,
    "pycharm": {
     "name": "#%%\n",
     "is_executing": false
    }
   }
  },
  {
   "cell_type": "code",
   "execution_count": 178,
   "outputs": [
    {
     "name": "stdout",
     "text": [
      "ground_floor_type_Brick/Stone 0\n",
      "ground_floor_type_Mud 1\n",
      "ground_floor_type_RC 2\n",
      "ground_floor_type_Timber 3\n"
     ],
     "output_type": "stream"
    }
   ],
   "source": [
    "ground_floor_type=pd.get_dummies(data['ground_floor_type'])\n",
    "\n",
    "ground_floor_type.drop('Other', axis=1, inplace=True)\n",
    "data.drop('ground_floor_type', axis=1, inplace=True)\n",
    "\n",
    "ground_floor_type.columns = ['ground_floor_type_Brick/Stone', 'ground_floor_type_Mud', \"ground_floor_type_RC\", \"ground_floor_type_Timber\"]\n",
    "\n",
    "\n",
    "count = 0\n",
    "for col in ground_floor_type.columns: \n",
    "    print(str(col) + \" \" +str(count))\n",
    "    count+=1"
   ],
   "metadata": {
    "collapsed": false,
    "pycharm": {
     "name": "#%%\n",
     "is_executing": false
    }
   }
  },
  {
   "cell_type": "code",
   "execution_count": 179,
   "outputs": [
    {
     "name": "stdout",
     "text": [
      "other_floor_type_Not_applicable 0\n",
      "other_floor_type_TImber/Bamboo-Mud 1\n",
      "other_floor_type_Timber-Planck 2\n"
     ],
     "output_type": "stream"
    }
   ],
   "source": [
    "other_floor_type=pd.get_dummies(data['other_floor_type'])\n",
    "\n",
    "other_floor_type.drop('RCC/RB/RBC', axis=1, inplace=True)\n",
    "data.drop('other_floor_type', axis=1, inplace=True)\n",
    "\n",
    "other_floor_type.columns = ['other_floor_type_Not_applicable', 'other_floor_type_TImber/Bamboo-Mud', \"other_floor_type_Timber-Planck\"]\n",
    "\n",
    "\n",
    "count = 0\n",
    "for col in other_floor_type.columns: \n",
    "    print(str(col) + \" \" +str(count))\n",
    "    count+=1"
   ],
   "metadata": {
    "collapsed": false,
    "pycharm": {
     "name": "#%%\n",
     "is_executing": false
    }
   }
  },
  {
   "cell_type": "code",
   "execution_count": 180,
   "outputs": [
    {
     "name": "stdout",
     "text": [
      "foundation_type_Bamboo/Timber 0\n",
      "foundation_type_Cement-Stone/Brick 1\n",
      "foundation_type_Mud mortar-Stone/Brick 2\n",
      "foundation_type_RC 3\n"
     ],
     "output_type": "stream"
    }
   ],
   "source": [
    "foundation_type=pd.get_dummies(data['foundation_type'])\n",
    "\n",
    "foundation_type.drop('Other', axis=1, inplace=True)\n",
    "data.drop('foundation_type', axis=1, inplace=True)\n",
    "\n",
    "foundation_type.columns = ['foundation_type_Bamboo/Timber', 'foundation_type_Cement-Stone/Brick', \"foundation_type_Mud mortar-Stone/Brick\", \"foundation_type_RC\"]\n",
    "\n",
    "\n",
    "count = 0\n",
    "for col in foundation_type.columns: \n",
    "    print(str(col) + \" \" +str(count))\n",
    "    count+=1"
   ],
   "metadata": {
    "collapsed": false,
    "pycharm": {
     "name": "#%%\n",
     "is_executing": false
    }
   }
  },
  {
   "cell_type": "code",
   "execution_count": 181,
   "outputs": [
    {
     "name": "stdout",
     "text": [
      "position_Attached-1_side 0\n",
      "position_Attached-2_side 1\n",
      "position_Not_attached 2\n"
     ],
     "output_type": "stream"
    }
   ],
   "source": [
    "position=pd.get_dummies(data['position'])\n",
    "\n",
    "position.drop('Attached-3 side', axis=1, inplace=True)\n",
    "data.drop('position', axis=1, inplace=True)\n",
    "\n",
    "position.columns = ['position_Attached-1_side', 'position_Attached-2_side', \"position_Not_attached\"]\n",
    "\n",
    "\n",
    "count = 0\n",
    "for col in position.columns: \n",
    "    print(str(col) + \" \" +str(count))\n",
    "    count+=1"
   ],
   "metadata": {
    "collapsed": false,
    "pycharm": {
     "name": "#%%\n",
     "is_executing": false
    }
   }
  },
  {
   "cell_type": "code",
   "execution_count": 182,
   "outputs": [
    {
     "name": "stdout",
     "text": [
      "plan_configuration_Building_with_Central_Courtyard 0\n",
      "plan_configuration_E-shape 1\n",
      "plan_configuration_H-shape 2\n",
      "plan_configuration_L-shape 3\n",
      "plan_configuration_Multi_Projected 4\n",
      "plan_configuration_Rectangular 5\n",
      "plan_configuration_Square 6\n",
      "plan_configuration_T_Shape 7\n",
      "plan_configuration_U_Shape 8\n"
     ],
     "output_type": "stream"
    }
   ],
   "source": [
    "plan_configuration=pd.get_dummies(data['plan_configuration'])\n",
    "\n",
    "plan_configuration.drop('Others', axis=1, inplace=True)\n",
    "data.drop('plan_configuration', axis=1, inplace=True)\n",
    "\n",
    "plan_configuration.columns = [\"plan_configuration_Building_with_Central_Courtyard\", \"plan_configuration_E-shape\", \"plan_configuration_H-shape\", \"plan_configuration_L-shape\", \"plan_configuration_Multi_Projected\", \"plan_configuration_Rectangular\", \"plan_configuration_Square\", \"plan_configuration_T_Shape\", \"plan_configuration_U_Shape\"]\n",
    "\n",
    "\n",
    "count = 0\n",
    "for col in plan_configuration.columns: \n",
    "    print(str(col) + \" \" +str(count))\n",
    "    count+=1"
   ],
   "metadata": {
    "collapsed": false,
    "pycharm": {
     "name": "#%%\n",
     "is_executing": false
    }
   }
  },
  {
   "cell_type": "code",
   "execution_count": 183,
   "outputs": [
    {
     "name": "stdout",
     "text": [
      "count_floors_pre_eq 0\n",
      "age_building 1\n",
      "plinth_area_sq_ft 2\n",
      "height_ft_pre_eq 3\n",
      "has_superstructure_adobe_mud 4\n",
      "has_superstructure_mud_mortar_stone 5\n",
      "has_superstructure_stone_flag 6\n",
      "has_superstructure_cement_mortar_stone 7\n",
      "has_superstructure_mud_mortar_brick 8\n",
      "has_superstructure_cement_mortar_brick 9\n",
      "has_superstructure_timber 10\n",
      "has_superstructure_bamboo 11\n",
      "has_superstructure_rc_non_engineered 12\n",
      "has_superstructure_rc_engineered 13\n",
      "has_superstructure_other 14\n",
      "land_surface_condition_Moderate_slope_0 15\n",
      "land_surface_condition_Steep_slope_1 16\n",
      "roof_type_Bamboo/Timber-Heavy_roof 17\n",
      "roof_type_Bamboo/Timber-Light_roof 18\n",
      "ground_floor_type_Brick/Stone 19\n",
      "ground_floor_type_Mud 20\n",
      "ground_floor_type_RC 21\n",
      "ground_floor_type_Timber 22\n",
      "other_floor_type_Not_applicable 23\n",
      "other_floor_type_TImber/Bamboo-Mud 24\n",
      "other_floor_type_Timber-Planck 25\n",
      "foundation_type_Bamboo/Timber 26\n",
      "foundation_type_Cement-Stone/Brick 27\n",
      "foundation_type_Mud mortar-Stone/Brick 28\n",
      "foundation_type_RC 29\n",
      "position_Attached-1_side 30\n",
      "position_Attached-2_side 31\n",
      "position_Not_attached 32\n",
      "plan_configuration_Building_with_Central_Courtyard 33\n",
      "plan_configuration_E-shape 34\n",
      "plan_configuration_H-shape 35\n",
      "plan_configuration_L-shape 36\n",
      "plan_configuration_Multi_Projected 37\n",
      "plan_configuration_Rectangular 38\n",
      "plan_configuration_Square 39\n",
      "plan_configuration_T_Shape 40\n",
      "plan_configuration_U_Shape 41\n",
      "target 42\n",
      "------------------------------------\n",
      "43\n",
      "------------------------------------\n",
      "   count_floors_pre_eq  age_building  plinth_area_sq_ft  height_ft_pre_eq  \\\n",
      "0                    1             1                288                 9   \n",
      "1                    1             3                364                 9   \n",
      "2                    1             4                384                 9   \n",
      "3                    1             4                312                 9   \n",
      "4                    1             6                308                 9   \n",
      "\n",
      "   has_superstructure_adobe_mud  has_superstructure_mud_mortar_stone  \\\n",
      "0                             0                                    1   \n",
      "1                             0                                    1   \n",
      "2                             0                                    1   \n",
      "3                             0                                    1   \n",
      "4                             0                                    1   \n",
      "\n",
      "   has_superstructure_stone_flag  has_superstructure_cement_mortar_stone  \\\n",
      "0                              0                                       0   \n",
      "1                              0                                       0   \n",
      "2                              0                                       0   \n",
      "3                              0                                       0   \n",
      "4                              0                                       0   \n",
      "\n",
      "   has_superstructure_mud_mortar_brick  \\\n",
      "0                                    0   \n",
      "1                                    0   \n",
      "2                                    0   \n",
      "3                                    0   \n",
      "4                                    0   \n",
      "\n",
      "   has_superstructure_cement_mortar_brick  ...  \\\n",
      "0                                       0  ...   \n",
      "1                                       0  ...   \n",
      "2                                       0  ...   \n",
      "3                                       0  ...   \n",
      "4                                       0  ...   \n",
      "\n",
      "   plan_configuration_Building_with_Central_Courtyard  \\\n",
      "0                                                  0    \n",
      "1                                                  0    \n",
      "2                                                  0    \n",
      "3                                                  0    \n",
      "4                                                  0    \n",
      "\n",
      "   plan_configuration_E-shape  plan_configuration_H-shape  \\\n",
      "0                           0                           0   \n",
      "1                           0                           0   \n",
      "2                           0                           0   \n",
      "3                           0                           0   \n",
      "4                           0                           0   \n",
      "\n",
      "   plan_configuration_L-shape  plan_configuration_Multi_Projected  \\\n",
      "0                           0                                   0   \n",
      "1                           0                                   0   \n",
      "2                           0                                   0   \n",
      "3                           0                                   0   \n",
      "4                           0                                   0   \n",
      "\n",
      "   plan_configuration_Rectangular  plan_configuration_Square  \\\n",
      "0                               1                          0   \n",
      "1                               1                          0   \n",
      "2                               1                          0   \n",
      "3                               1                          0   \n",
      "4                               1                          0   \n",
      "\n",
      "   plan_configuration_T_Shape  plan_configuration_U_Shape  target  \n",
      "0                           0                           0       3  \n",
      "1                           0                           0       5  \n",
      "2                           0                           0       2  \n",
      "3                           0                           0       2  \n",
      "4                           0                           0       1  \n",
      "\n",
      "[5 rows x 43 columns]\n"
     ],
     "output_type": "stream"
    }
   ],
   "source": [
    "data = pd.concat([data,land_surface_condition], axis=1)\n",
    "\n",
    "data = pd.concat([data,roof_type], axis=1)\n",
    "\n",
    "data = pd.concat([data,ground_floor_type], axis=1)\n",
    "\n",
    "data = pd.concat([data,other_floor_type], axis=1)\n",
    "\n",
    "data = pd.concat([data,foundation_type], axis=1)\n",
    "\n",
    "data = pd.concat([data,position], axis=1)\n",
    "\n",
    "data = pd.concat([data,plan_configuration], axis=1)\n",
    "\n",
    "data['target'] = data['damage_grade'].apply(grade_to_numeric)\n",
    "data.drop('damage_grade', axis=1, inplace=True)\n",
    "data.drop('technical_solution_proposed', axis=1, inplace=True)\n",
    "\n",
    "data.drop('district_id', axis=1, inplace=True)\n",
    "data.drop('vdcmun_id', axis=1, inplace=True)\n",
    "data.drop('ward_id', axis=1, inplace=True)\n",
    "data.drop('count_floors_post_eq', axis=1, inplace=True)\n",
    "data.drop('height_ft_post_eq', axis=1, inplace=True)\n",
    "\n",
    "\n",
    "data.drop('building_id', axis=1, inplace=True)\n",
    "data.drop('condition_post_eq', axis=1, inplace=True)\n",
    "\n",
    "\n",
    "\n",
    "\n",
    "count = 0\n",
    "for col in data.columns: \n",
    "    print(str(col) + \" \" +str(count))\n",
    "    count+=1\n",
    "\n",
    "print(\"------------------------------------\")\n",
    "print(count)\n",
    "print(\"------------------------------------\")\n",
    "\n",
    "print(data.head())\n",
    "\n",
    "\n"
   ],
   "metadata": {
    "collapsed": false,
    "pycharm": {
     "name": "#%%\n",
     "is_executing": false
    }
   }
  },
  {
   "cell_type": "code",
   "execution_count": 184,
   "outputs": [],
   "source": [
    "corr_matrix = data.corr()\n",
    "feature = corr_matrix.index\n",
    "plt.figure(figsize=(45,45))\n",
    "g=sns.heatmap(corr_matrix,linewidths=0.1,annot=True)\n",
    "bottom, top = g.get_ylim()\n",
    "g.set_ylim(bottom + 0.5, top - 0.5)\n",
    "plt.savefig('corr_mat.png',bbox_inches = \"tight\")\n",
    "print(corr_matrix[\"target\"])\n",
    "\n"
   ],
   "metadata": {
    "collapsed": false,
    "pycharm": {
     "name": "#%%\n",
     "is_executing": false
    }
   }
  },
  {
   "cell_type": "code",
   "execution_count": 186,
   "outputs": [
    {
     "name": "stdout",
     "text": [
      "        count_floors_pre_eq  age_building  plinth_area_sq_ft  \\\n",
      "0                     False         False              False   \n",
      "1                     False         False              False   \n",
      "2                     False         False              False   \n",
      "3                     False         False              False   \n",
      "4                     False         False              False   \n",
      "...                     ...           ...                ...   \n",
      "762101                False         False              False   \n",
      "762102                False         False              False   \n",
      "762103                False         False              False   \n",
      "762104                False         False              False   \n",
      "762105                False         False              False   \n",
      "\n",
      "        height_ft_pre_eq  has_superstructure_adobe_mud  \\\n",
      "0                  False                         False   \n",
      "1                  False                         False   \n",
      "2                  False                         False   \n",
      "3                  False                         False   \n",
      "4                  False                         False   \n",
      "...                  ...                           ...   \n",
      "762101             False                         False   \n",
      "762102             False                         False   \n",
      "762103             False                         False   \n",
      "762104             False                         False   \n",
      "762105             False                         False   \n",
      "\n",
      "        has_superstructure_mud_mortar_stone  has_superstructure_stone_flag  \\\n",
      "0                                     False                          False   \n",
      "1                                     False                          False   \n",
      "2                                     False                          False   \n",
      "3                                     False                          False   \n",
      "4                                     False                          False   \n",
      "...                                     ...                            ...   \n",
      "762101                                False                          False   \n",
      "762102                                False                          False   \n",
      "762103                                False                          False   \n",
      "762104                                False                          False   \n",
      "762105                                False                          False   \n",
      "\n",
      "        has_superstructure_cement_mortar_stone  \\\n",
      "0                                        False   \n",
      "1                                        False   \n",
      "2                                        False   \n",
      "3                                        False   \n",
      "4                                        False   \n",
      "...                                        ...   \n",
      "762101                                   False   \n",
      "762102                                   False   \n",
      "762103                                   False   \n",
      "762104                                   False   \n",
      "762105                                   False   \n",
      "\n",
      "        has_superstructure_mud_mortar_brick  \\\n",
      "0                                     False   \n",
      "1                                     False   \n",
      "2                                     False   \n",
      "3                                     False   \n",
      "4                                     False   \n",
      "...                                     ...   \n",
      "762101                                False   \n",
      "762102                                False   \n",
      "762103                                False   \n",
      "762104                                False   \n",
      "762105                                False   \n",
      "\n",
      "        has_superstructure_cement_mortar_brick  ...  \\\n",
      "0                                        False  ...   \n",
      "1                                        False  ...   \n",
      "2                                        False  ...   \n",
      "3                                        False  ...   \n",
      "4                                        False  ...   \n",
      "...                                        ...  ...   \n",
      "762101                                   False  ...   \n",
      "762102                                   False  ...   \n",
      "762103                                   False  ...   \n",
      "762104                                   False  ...   \n",
      "762105                                   False  ...   \n",
      "\n",
      "        plan_configuration_Building_with_Central_Courtyard  \\\n",
      "0                                                   False    \n",
      "1                                                   False    \n",
      "2                                                   False    \n",
      "3                                                   False    \n",
      "4                                                   False    \n",
      "...                                                   ...    \n",
      "762101                                              False    \n",
      "762102                                              False    \n",
      "762103                                              False    \n",
      "762104                                              False    \n",
      "762105                                              False    \n",
      "\n",
      "        plan_configuration_E-shape  plan_configuration_H-shape  \\\n",
      "0                            False                       False   \n",
      "1                            False                       False   \n",
      "2                            False                       False   \n",
      "3                            False                       False   \n",
      "4                            False                       False   \n",
      "...                            ...                         ...   \n",
      "762101                       False                       False   \n",
      "762102                       False                       False   \n",
      "762103                       False                       False   \n",
      "762104                       False                       False   \n",
      "762105                       False                       False   \n",
      "\n",
      "        plan_configuration_L-shape  plan_configuration_Multi_Projected  \\\n",
      "0                            False                               False   \n",
      "1                            False                               False   \n",
      "2                            False                               False   \n",
      "3                            False                               False   \n",
      "4                            False                               False   \n",
      "...                            ...                                 ...   \n",
      "762101                       False                               False   \n",
      "762102                       False                               False   \n",
      "762103                       False                               False   \n",
      "762104                       False                               False   \n",
      "762105                       False                               False   \n",
      "\n",
      "        plan_configuration_Rectangular  plan_configuration_Square  \\\n",
      "0                                False                      False   \n",
      "1                                False                      False   \n",
      "2                                False                      False   \n",
      "3                                False                      False   \n",
      "4                                False                      False   \n",
      "...                                ...                        ...   \n",
      "762101                           False                      False   \n",
      "762102                           False                      False   \n",
      "762103                           False                      False   \n",
      "762104                           False                      False   \n",
      "762105                           False                      False   \n",
      "\n",
      "        plan_configuration_T_Shape  plan_configuration_U_Shape  target  \n",
      "0                            False                       False   False  \n",
      "1                            False                       False   False  \n",
      "2                            False                       False   False  \n",
      "3                            False                       False   False  \n",
      "4                            False                       False   False  \n",
      "...                            ...                         ...     ...  \n",
      "762101                       False                       False   False  \n",
      "762102                       False                       False   False  \n",
      "762103                       False                       False   False  \n",
      "762104                       False                       False   False  \n",
      "762105                       False                       False   False  \n",
      "\n",
      "[762106 rows x 43 columns]\n"
     ],
     "output_type": "stream"
    }
   ],
   "source": [],
   "metadata": {
    "collapsed": false,
    "pycharm": {
     "name": "#%%\n",
     "is_executing": false
    }
   }
  },
  {
   "cell_type": "code",
   "execution_count": null,
   "outputs": [],
   "source": [
    "\n"
   ],
   "metadata": {
    "collapsed": false,
    "pycharm": {
     "name": "#%%\n"
    }
   }
  },
  {
   "cell_type": "code",
   "execution_count": null,
   "outputs": [],
   "source": [
    "\n",
    "\n"
   ],
   "metadata": {
    "collapsed": false,
    "pycharm": {
     "name": "#%%\n"
    }
   }
  },
  {
   "cell_type": "code",
   "execution_count": null,
   "outputs": [],
   "source": [
    "\n"
   ],
   "metadata": {
    "collapsed": false,
    "pycharm": {
     "name": "#%%\n"
    }
   }
  },
  {
   "cell_type": "code",
   "execution_count": null,
   "outputs": [],
   "source": [
    "\n"
   ],
   "metadata": {
    "collapsed": false,
    "pycharm": {
     "name": "#%%\n"
    }
   }
  },
  {
   "cell_type": "code",
   "execution_count": null,
   "outputs": [],
   "source": [
    "\n"
   ],
   "metadata": {
    "collapsed": false,
    "pycharm": {
     "name": "#%%\n"
    }
   }
  },
  {
   "cell_type": "code",
   "execution_count": null,
   "outputs": [],
   "source": [],
   "metadata": {
    "collapsed": false,
    "pycharm": {
     "name": "#%%\n"
    }
   }
  }
 ],
 "metadata": {
  "kernelspec": {
   "display_name": "Python 3",
   "language": "python",
   "name": "python3"
  },
  "language_info": {
   "codemirror_mode": {
    "name": "ipython",
    "version": 3
   },
   "file_extension": ".py",
   "mimetype": "text/x-python",
   "name": "python",
   "nbconvert_exporter": "python",
   "pygments_lexer": "ipython3",
   "version": "3.6.3"
  },
  "pycharm": {
   "stem_cell": {
    "cell_type": "raw",
    "source": [],
    "metadata": {
     "collapsed": false
    }
   }
  }
 },
 "nbformat": 4,
 "nbformat_minor": 1
}