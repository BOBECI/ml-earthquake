{
 "cells": [
  {
   "cell_type": "code",
   "execution_count": 24,
   "metadata": {
    "pycharm": {
     "is_executing": false
    }
   },
   "outputs": [],
   "source": [
    "# import libraries\n",
    "import pandas as pd\n",
    "import numpy as np\n",
    "from sklearn.model_selection import train_test_split\n",
    "import matplotlib.pyplot as plt\n",
    "from imblearn.combine import SMOTEENN\n",
    "from imblearn.combine import SMOTETomek\n",
    "import datetime\n",
    "import lightgbm as lgb\n",
    "import os\n",
    "import time"
   ]
  },
  {
   "cell_type": "code",
   "execution_count": 2,
   "outputs": [],
   "source": [
    "# read dataset\n",
    "data = pd.read_csv(\"dataset/preprocessed.csv\")\n",
    "data_npWNan = data.iloc[:, :].values\n",
    "data_np = data_npWNan[data_npWNan[:,-1]!= -1 ]"
   ],
   "metadata": {
    "collapsed": false,
    "pycharm": {
     "name": "#%%\n",
     "is_executing": false
    }
   }
  },
  {
   "cell_type": "code",
   "execution_count": 3,
   "metadata": {
    "pycharm": {
     "is_executing": false
    }
   },
   "outputs": [],
   "source": [
    "# Separate input features and target\n",
    "feature = data_np[:, :-1]\n",
    "target = data_np[:, -1]\n",
    "target -= 1"
   ]
  },
  {
   "cell_type": "code",
   "execution_count": 4,
   "metadata": {
    "pycharm": {
     "is_executing": false
    }
   },
   "outputs": [],
   "source": [
    "# split train and test part\n",
    "X_train, X_test, y_train, y_test = train_test_split(feature, target, test_size = 0.2, random_state = 0)"
   ]
  },
  {
   "cell_type": "code",
   "execution_count": 5,
   "outputs": [
    {
     "name": "stdout",
     "text": [
      "Frequency of unique values of the said array:\n",
      "[[     0      1      2      3      4]\n",
      " [ 62846  69846 109216 147032 220735]]\n"
     ],
     "output_type": "stream"
    }
   ],
   "source": [
    "# print distribution before re-sampling\n",
    "unique_elements, counts_elements = np.unique(y_train, return_counts=True)\n",
    "print(\"Frequency of unique values of the said array:\")\n",
    "print(np.asarray((unique_elements, counts_elements)))"
   ],
   "metadata": {
    "collapsed": false,
    "pycharm": {
     "name": "#%%\n",
     "is_executing": false
    }
   }
  },
  {
   "cell_type": "code",
   "execution_count": 6,
   "outputs": [
    {
     "data": {
      "text/plain": "Text(0.5, 1.0, 'Unbalanced Data Distribution')"
     },
     "metadata": {},
     "output_type": "execute_result",
     "execution_count": 6
    },
    {
     "data": {
      "text/plain": "<Figure size 432x288 with 1 Axes>",
      "image/png": "[encoded data removed]"
     },
     "metadata": {
      "needs_background": "light"
     },
     "output_type": "display_data"
    }
   ],
   "source": [
    "# plot distribution before re-sampling\n",
    "objects = ('dam lev 1', 'dam lev 2', 'dam lev 3', 'dam lev 4', 'dam lev 5')\n",
    "y_pos = np.arange(len(objects))\n",
    "plt.bar(y_pos, counts_elements, align='center', alpha=0.5)\n",
    "plt.xticks(y_pos, objects)\n",
    "plt.ylabel('number of sample')\n",
    "plt.title('Unbalanced Data Distribution')"
   ],
   "metadata": {
    "collapsed": false,
    "pycharm": {
     "name": "#%%\n",
     "is_executing": false
    }
   }
  },
  {
   "cell_type": "code",
   "execution_count": 7,
   "outputs": [
    {
     "name": "stderr",
     "text": [
      "/home/emreunel/anaconda3/envs/ass3/lib/python3.7/site-packages/imblearn/utils/deprecation.py:50: DeprecationWarning: 'k' is deprecated from 0.2 and will be removed in 0.4. Use 'k_neighbors' instead.\n",
      "  category=DeprecationWarning)\n",
      "/home/emreunel/anaconda3/envs/ass3/lib/python3.7/site-packages/imblearn/utils/deprecation.py:50: DeprecationWarning: 'm' is deprecated from 0.2 and will be removed in 0.4. Use 'm_neighbors' instead.\n",
      "  category=DeprecationWarning)\n"
     ],
     "output_type": "stream"
    }
   ],
   "source": [
    "# apply re-sampling\n",
    "sm = SMOTETomek(random_state = 27, n_jobs = -1)\n",
    "X_train, y_train = sm.fit_sample(X_train, y_train)"
   ],
   "metadata": {
    "collapsed": false,
    "pycharm": {
     "name": "#%%\n",
     "is_executing": false
    }
   }
  },
  {
   "cell_type": "code",
   "execution_count": 8,
   "outputs": [
    {
     "name": "stdout",
     "text": [
      "Frequency of unique values of the said array:\n",
      "[[     0      1      2      3      4]\n",
      " [204152 195863 187569 181912 186017]]\n"
     ],
     "output_type": "stream"
    }
   ],
   "source": [
    "# print distribution after re-sampling\n",
    "unique_elements, counts_elements = np.unique(y_train, return_counts=True)\n",
    "print(\"Frequency of unique values of the said array:\")\n",
    "print(np.asarray((unique_elements, counts_elements)))"
   ],
   "metadata": {
    "collapsed": false,
    "pycharm": {
     "name": "#%%\n",
     "is_executing": false
    }
   }
  },
  {
   "cell_type": "code",
   "execution_count": 9,
   "outputs": [
    {
     "data": {
      "text/plain": "Text(0.5, 1.0, 'After Re-sampling Data Distribution')"
     },
     "metadata": {},
     "output_type": "execute_result",
     "execution_count": 9
    },
    {
     "data": {
      "text/plain": "<Figure size 432x288 with 1 Axes>",
      "image/png": "[encoded data removed]"
     },
     "metadata": {
      "needs_background": "light"
     },
     "output_type": "display_data"
    }
   ],
   "source": [
    "# plot distribution after re-sampling\n",
    "objects = ('dam lev 1', 'dam lev 2', 'dam lev 3', 'dam lev 4', 'dam lev 5')\n",
    "y_pos = np.arange(len(objects))\n",
    "plt.bar(y_pos, counts_elements, align='center', alpha=0.5)\n",
    "plt.xticks(y_pos, objects)\n",
    "plt.ylabel('number of sample')\n",
    "plt.title('After Re-sampling Data Distribution')"
   ],
   "metadata": {
    "collapsed": false,
    "pycharm": {
     "name": "#%%\n",
     "is_executing": false
    }
   }
  },
  {
   "cell_type": "code",
   "execution_count": 10,
   "metadata": {
    "pycharm": {
     "is_executing": false
    }
   },
   "outputs": [
    {
     "name": "stderr",
     "text": [
      "/home/emreunel/anaconda3/envs/ass3/lib/python3.7/site-packages/sklearn/utils/validation.py:475: DataConversionWarning: Data with input dtype int64 was converted to float64 by StandardScaler.\n",
      "  warnings.warn(msg, DataConversionWarning)\n"
     ],
     "output_type": "stream"
    }
   ],
   "source": [
    "# apply feature scaling\n",
    "from sklearn.preprocessing import StandardScaler\n",
    "sc = StandardScaler()\n",
    "X_train = sc.fit_transform(X_train)\n",
    "X_test = sc.transform(X_test)"
   ]
  },
  {
   "cell_type": "code",
   "execution_count": 11,
   "outputs": [],
   "source": [
    "from sklearn.model_selection import GridSearchCV\n",
    "def algorithm_pipeline(X_train_data, X_test_data, y_train_data, y_test_data, \n",
    "                       model, param_grid, cv=10, scoring_fit='neg_mean_squared_error',\n",
    "                       do_probabilities = False):\n",
    "    gs = GridSearchCV(\n",
    "        estimator=model,\n",
    "        param_grid=param_grid, \n",
    "        cv=cv, \n",
    "        n_jobs = 1, \n",
    "        scoring=scoring_fit,\n",
    "        verbose=2\n",
    "    )\n",
    "    fitted_model = gs.fit(X_train_data, y_train_data)\n",
    "    if do_probabilities:\n",
    "      pred = fitted_model.predict_proba(X_test_data)\n",
    "    else:\n",
    "      pred = fitted_model.predict(X_test_data)\n",
    "    return fitted_model, pred"
   ],
   "metadata": {
    "collapsed": false,
    "pycharm": {
     "name": "#%%\n",
     "is_executing": false
    }
   }
  },
  {
   "cell_type": "code",
   "execution_count": 12,
   "outputs": [],
   "source": [
    "# calculate class weights\n",
    "from sklearn.utils.class_weight import compute_class_weight\n",
    "class_weights = compute_class_weight('balanced', np.unique(y_train), y_train)"
   ],
   "metadata": {
    "collapsed": false,
    "pycharm": {
     "name": "#%%\n",
     "is_executing": false
    }
   }
  },
  {
   "cell_type": "code",
   "execution_count": 13,
   "outputs": [
    {
     "name": "stdout",
     "text": [
      "Fitting 2 folds for each of 3 candidates, totalling 6 fits\n",
      "[CV] boosting_type=gbdt, colsample_bytree=1.0, learning_rate=0.5, max_depth=40, min_split_gain=0.3, n_estimators=500, num_leaves=50, objective=multiclass, reg_alpha=1.1, reg_lambda=1.1, subsample=0.5, subsample_for_bin=100, subsample_freq=1 \n",
      "[CV]  boosting_type=gbdt, colsample_bytree=1.0, learning_rate=0.5, max_depth=40, min_split_gain=0.3, n_estimators=500, num_leaves=50, objective=multiclass, reg_alpha=1.1, reg_lambda=1.1, subsample=0.5, subsample_for_bin=100, subsample_freq=1, total= 1.1min\n",
      "[CV] boosting_type=gbdt, colsample_bytree=1.0, learning_rate=0.5, max_depth=40, min_split_gain=0.3, n_estimators=500, num_leaves=50, objective=multiclass, reg_alpha=1.1, reg_lambda=1.1, subsample=0.5, subsample_for_bin=100, subsample_freq=1 \n",
      "[CV]  boosting_type=gbdt, colsample_bytree=1.0, learning_rate=0.5, max_depth=40, min_split_gain=0.3, n_estimators=500, num_leaves=50, objective=multiclass, reg_alpha=1.1, reg_lambda=1.1, subsample=0.5, subsample_for_bin=100, subsample_freq=1, total= 1.1min\n",
      "[CV] boosting_type=gbdt, colsample_bytree=1.0, learning_rate=0.5, max_depth=40, min_split_gain=0.4, n_estimators=500, num_leaves=50, objective=multiclass, reg_alpha=1.1, reg_lambda=1.1, subsample=0.5, subsample_for_bin=100, subsample_freq=1 \n",
      "[CV]  boosting_type=gbdt, colsample_bytree=1.0, learning_rate=0.5, max_depth=40, min_split_gain=0.4, n_estimators=500, num_leaves=50, objective=multiclass, reg_alpha=1.1, reg_lambda=1.1, subsample=0.5, subsample_for_bin=100, subsample_freq=1, total= 1.1min\n",
      "[CV] boosting_type=gbdt, colsample_bytree=1.0, learning_rate=0.5, max_depth=40, min_split_gain=0.4, n_estimators=500, num_leaves=50, objective=multiclass, reg_alpha=1.1, reg_lambda=1.1, subsample=0.5, subsample_for_bin=100, subsample_freq=1 \n",
      "[CV]  boosting_type=gbdt, colsample_bytree=1.0, learning_rate=0.5, max_depth=40, min_split_gain=0.4, n_estimators=500, num_leaves=50, objective=multiclass, reg_alpha=1.1, reg_lambda=1.1, subsample=0.5, subsample_for_bin=100, subsample_freq=1, total= 1.2min\n",
      "[CV] boosting_type=gbdt, colsample_bytree=1.0, learning_rate=0.5, max_depth=40, min_split_gain=0.5, n_estimators=500, num_leaves=50, objective=multiclass, reg_alpha=1.1, reg_lambda=1.1, subsample=0.5, subsample_for_bin=100, subsample_freq=1 \n",
      "[CV]  boosting_type=gbdt, colsample_bytree=1.0, learning_rate=0.5, max_depth=40, min_split_gain=0.5, n_estimators=500, num_leaves=50, objective=multiclass, reg_alpha=1.1, reg_lambda=1.1, subsample=0.5, subsample_for_bin=100, subsample_freq=1, total= 1.0min\n",
      "[CV] boosting_type=gbdt, colsample_bytree=1.0, learning_rate=0.5, max_depth=40, min_split_gain=0.5, n_estimators=500, num_leaves=50, objective=multiclass, reg_alpha=1.1, reg_lambda=1.1, subsample=0.5, subsample_for_bin=100, subsample_freq=1 \n",
      "[CV]  boosting_type=gbdt, colsample_bytree=1.0, learning_rate=0.5, max_depth=40, min_split_gain=0.5, n_estimators=500, num_leaves=50, objective=multiclass, reg_alpha=1.1, reg_lambda=1.1, subsample=0.5, subsample_for_bin=100, subsample_freq=1, total=  59.1s\n"
     ],
     "output_type": "stream"
    },
    {
     "name": "stderr",
     "text": [
      "/home/emreunel/anaconda3/envs/ass3/lib/python3.7/site-packages/sklearn/preprocessing/label.py:151: DeprecationWarning: The truth value of an empty array is ambiguous. Returning False, but in future this will result in an error. Use `array.size > 0` to check that an array is not empty.\n",
      "  if diff:\n",
      "/home/emreunel/anaconda3/envs/ass3/lib/python3.7/site-packages/sklearn/preprocessing/label.py:151: DeprecationWarning: The truth value of an empty array is ambiguous. Returning False, but in future this will result in an error. Use `array.size > 0` to check that an array is not empty.\n",
      "  if diff:\n",
      "[Parallel(n_jobs=1)]: Done   1 out of   1 | elapsed:  1.4min remaining:    0.0s\n",
      "/home/emreunel/anaconda3/envs/ass3/lib/python3.7/site-packages/sklearn/preprocessing/label.py:151: DeprecationWarning: The truth value of an empty array is ambiguous. Returning False, but in future this will result in an error. Use `array.size > 0` to check that an array is not empty.\n",
      "  if diff:\n",
      "/home/emreunel/anaconda3/envs/ass3/lib/python3.7/site-packages/sklearn/preprocessing/label.py:151: DeprecationWarning: The truth value of an empty array is ambiguous. Returning False, but in future this will result in an error. Use `array.size > 0` to check that an array is not empty.\n",
      "  if diff:\n",
      "/home/emreunel/anaconda3/envs/ass3/lib/python3.7/site-packages/sklearn/preprocessing/label.py:151: DeprecationWarning: The truth value of an empty array is ambiguous. Returning False, but in future this will result in an error. Use `array.size > 0` to check that an array is not empty.\n",
      "  if diff:\n",
      "/home/emreunel/anaconda3/envs/ass3/lib/python3.7/site-packages/sklearn/preprocessing/label.py:151: DeprecationWarning: The truth value of an empty array is ambiguous. Returning False, but in future this will result in an error. Use `array.size > 0` to check that an array is not empty.\n",
      "  if diff:\n",
      "/home/emreunel/anaconda3/envs/ass3/lib/python3.7/site-packages/sklearn/preprocessing/label.py:151: DeprecationWarning: The truth value of an empty array is ambiguous. Returning False, but in future this will result in an error. Use `array.size > 0` to check that an array is not empty.\n",
      "  if diff:\n",
      "/home/emreunel/anaconda3/envs/ass3/lib/python3.7/site-packages/sklearn/preprocessing/label.py:151: DeprecationWarning: The truth value of an empty array is ambiguous. Returning False, but in future this will result in an error. Use `array.size > 0` to check that an array is not empty.\n",
      "  if diff:\n",
      "/home/emreunel/anaconda3/envs/ass3/lib/python3.7/site-packages/sklearn/preprocessing/label.py:151: DeprecationWarning: The truth value of an empty array is ambiguous. Returning False, but in future this will result in an error. Use `array.size > 0` to check that an array is not empty.\n",
      "  if diff:\n",
      "/home/emreunel/anaconda3/envs/ass3/lib/python3.7/site-packages/sklearn/preprocessing/label.py:151: DeprecationWarning: The truth value of an empty array is ambiguous. Returning False, but in future this will result in an error. Use `array.size > 0` to check that an array is not empty.\n",
      "  if diff:\n",
      "/home/emreunel/anaconda3/envs/ass3/lib/python3.7/site-packages/sklearn/preprocessing/label.py:151: DeprecationWarning: The truth value of an empty array is ambiguous. Returning False, but in future this will result in an error. Use `array.size > 0` to check that an array is not empty.\n",
      "  if diff:\n",
      "/home/emreunel/anaconda3/envs/ass3/lib/python3.7/site-packages/sklearn/preprocessing/label.py:151: DeprecationWarning: The truth value of an empty array is ambiguous. Returning False, but in future this will result in an error. Use `array.size > 0` to check that an array is not empty.\n",
      "  if diff:\n",
      "[Parallel(n_jobs=1)]: Done   6 out of   6 | elapsed:  8.3min finished\n",
      "/home/emreunel/anaconda3/envs/ass3/lib/python3.7/site-packages/sklearn/preprocessing/label.py:151: DeprecationWarning: The truth value of an empty array is ambiguous. Returning False, but in future this will result in an error. Use `array.size > 0` to check that an array is not empty.\n",
      "  if diff:\n"
     ],
     "output_type": "stream"
    }
   ],
   "source": [
    "# test algorithm with different settings and choose best one\n",
    "import datetime\n",
    "a = datetime.datetime.now().replace(microsecond=0)\n",
    "\n",
    "model = lgb.LGBMClassifier(n_jobs = -1)\n",
    "param_grid = {\n",
    "    'min_split_gain': [0.3, 0.4, 0.5],\n",
    "    'learning_rate' : [0.5],\n",
    "    'boosting_type' : ['gbdt'],\n",
    "    'objective' : ['multiclass'], \n",
    "    'n_estimators': [500],\n",
    "    'colsample_bytree': [1.0],\n",
    "    'max_depth': [40],\n",
    "    'num_leaves': [50],\n",
    "    'reg_alpha': [1.1],\n",
    "    'reg_lambda': [1.1],\n",
    "    'subsample': [0.5],\n",
    "    'subsample_freq': [1],\n",
    "    'subsample_for_bin' : [100],\n",
    "}\n",
    "model, pred = algorithm_pipeline(X_train, X_test, y_train, y_test, model, \n",
    "                                 param_grid, cv = 2, scoring_fit='accuracy')"
   ],
   "metadata": {
    "collapsed": false,
    "pycharm": {
     "name": "#%%\n",
     "is_executing": false
    }
   }
  },
  {
   "cell_type": "code",
   "execution_count": 14,
   "outputs": [
    {
     "name": "stdout",
     "text": [
      "0.5209630847513326\n"
     ],
     "output_type": "stream"
    }
   ],
   "source": [
    "# print best accuracy\n",
    "print(model.best_score_)"
   ],
   "metadata": {
    "collapsed": false,
    "pycharm": {
     "name": "#%%\n",
     "is_executing": false
    }
   }
  },
  {
   "cell_type": "code",
   "execution_count": 15,
   "outputs": [
    {
     "name": "stdout",
     "text": [
      "{'boosting_type': 'gbdt', 'colsample_bytree': 1.0, 'learning_rate': 0.5, 'max_depth': 40, 'min_split_gain': 0.3, 'n_estimators': 500, 'num_leaves': 50, 'objective': 'multiclass', 'reg_alpha': 1.1, 'reg_lambda': 1.1, 'subsample': 0.5, 'subsample_for_bin': 100, 'subsample_freq': 1}\n"
     ],
     "output_type": "stream"
    }
   ],
   "source": [
    "# print best parameters\n",
    "print(model.best_params_)"
   ],
   "metadata": {
    "collapsed": false,
    "pycharm": {
     "name": "#%%\n",
     "is_executing": false
    }
   }
  },
  {
   "cell_type": "code",
   "execution_count": 16,
   "outputs": [
    {
     "name": "stdout",
     "text": [
      "0:10:02\n"
     ],
     "output_type": "stream"
    }
   ],
   "source": [
    "b = datetime.datetime.now().replace(microsecond=0)\n",
    "print(b-a)"
   ],
   "metadata": {
    "collapsed": false,
    "pycharm": {
     "name": "#%%\n",
     "is_executing": false
    }
   }
  },
  {
   "cell_type": "code",
   "execution_count": 17,
   "outputs": [],
   "source": [
    "params = model.best_params_"
   ],
   "metadata": {
    "collapsed": false,
    "pycharm": {
     "name": "#%%\n",
     "is_executing": false
    }
   }
  },
  {
   "cell_type": "code",
   "execution_count": 18,
   "outputs": [],
   "source": [
    "model = lgb.LGBMClassifier(n_jobs = -1,\n",
    "                           boosting_type = params['boosting_type'],\n",
    "                           colsample_bytree = params['colsample_bytree'],\n",
    "                           learning_rate = params['learning_rate'],\n",
    "                           max_depth = params['max_depth'],\n",
    "                           min_split_gain = params['min_split_gain'],\n",
    "                           # n_estimators = params['n_estimators'],\n",
    "                           n_estimators = 3500,\n",
    "                           num_leaves = params['num_leaves'],\n",
    "                           objective = params['objective'],\n",
    "                           reg_alpha = params['reg_alpha'],\n",
    "                           reg_lambda = params['reg_lambda'],\n",
    "                           subsample = params['subsample'],\n",
    "                           subsample_for_bin = params['subsample_for_bin'],\n",
    "                           subsample_freq = params['subsample_freq'],\n",
    "                           )"
   ],
   "metadata": {
    "collapsed": false,
    "pycharm": {
     "name": "#%%\n",
     "is_executing": false
    }
   }
  },
  {
   "cell_type": "code",
   "source": [
    "model.fit(X_train, y_train)\n",
    "b = datetime.datetime.now().replace(microsecond=0)"
   ],
   "metadata": {
    "collapsed": false,
    "pycharm": {
     "name": "#%% \n",
     "is_executing": false
    }
   },
   "execution_count": 19,
   "outputs": []
  },
  {
   "cell_type": "code",
   "source": [
    "#Prediction\n",
    "y_pred=model.predict(X_test)"
   ],
   "metadata": {
    "collapsed": false,
    "pycharm": {
     "name": "#%% \n",
     "is_executing": false
    }
   },
   "execution_count": 20,
   "outputs": [
    {
     "name": "stderr",
     "text": [
      "/home/emreunel/anaconda3/envs/ass3/lib/python3.7/site-packages/sklearn/preprocessing/label.py:151: DeprecationWarning: The truth value of an empty array is ambiguous. Returning False, but in future this will result in an error. Use `array.size > 0` to check that an array is not empty.\n",
      "  if diff:\n"
     ],
     "output_type": "stream"
    }
   ]
  },
  {
   "cell_type": "code",
   "source": [
    "# print results\n",
    "from sklearn.metrics import accuracy_score,recall_score,precision_score,f1_score\n",
    "print(\"Accuracy: \\t\", accuracy_score(y_test, y_pred))\n",
    "print(\"F1 Score: \\t\", f1_score(y_test, y_pred, average = 'macro'))\n",
    "print(\"Precision:\\t\", precision_score(y_test, y_pred, average = 'macro'))\n",
    "print(\"Recall:   \\t\", recall_score(y_test, y_pred, average = 'macro'))"
   ],
   "metadata": {
    "collapsed": false,
    "pycharm": {
     "name": "#%% \n",
     "is_executing": false
    }
   },
   "execution_count": 21,
   "outputs": [
    {
     "name": "stdout",
     "text": [
      "Accuracy: \t 0.5215753941437747\n",
      "F1 Score: \t 0.4805193326913647\n",
      "Precision:\t 0.4765297481313433\n",
      "Recall:   \t 0.48739635776867807\n"
     ],
     "output_type": "stream"
    }
   ]
  },
  {
   "cell_type": "code",
   "source": [
    "#Confusion matrix\n",
    "from sklearn.metrics import confusion_matrix\n",
    "cm = confusion_matrix(y_test, y_pred)\n",
    "cm = cm.astype('float') / cm.sum(axis=1)[:, np.newaxis]\n",
    "plt.imshow(cm, interpolation='nearest',cmap=\"RdYlGn\")\n",
    "plt.title(\"Confusion Matrix\")\n",
    "plt.colorbar()\n",
    "plt.ylabel('True label')\n",
    "plt.xlabel('Predicted label')\n",
    "for i in range(5):\n",
    "    for j in range(5):\n",
    "        plt.text(j,i,format(cm[i][j],\".2f\"),horizontalalignment=\"center\",color=\"black\")\n",
    "plt.tight_layout()\n",
    "plt.show()\n",
    "cm"
   ],
   "metadata": {
    "collapsed": false,
    "pycharm": {
     "name": "#%% \n",
     "is_executing": false
    }
   },
   "execution_count": 22,
   "outputs": [
    {
     "data": {
      "text/plain": "<Figure size 432x288 with 2 Axes>",
      "image/png": "[encoded data removed]"
     },
     "metadata": {
      "needs_background": "light"
     },
     "output_type": "display_data"
    },
    {
     "data": {
      "text/plain": "array([[0.66109337, 0.17984846, 0.07539608, 0.04402279, 0.0396393 ],\n       [0.2301993 , 0.31841939, 0.21182011, 0.12451898, 0.11504221],\n       [0.08295338, 0.14980144, 0.33795411, 0.23367407, 0.195617  ],\n       [0.03066935, 0.06381071, 0.17219928, 0.40628056, 0.3270401 ],\n       [0.01550035, 0.03058276, 0.07962785, 0.16105468, 0.71323436]])"
     },
     "metadata": {},
     "output_type": "execute_result",
     "execution_count": 22
    }
   ]
  }
 ],
 "metadata": {
  "kernelspec": {
   "display_name": "Python 3",
   "language": "python",
   "name": "python3"
  },
  "language_info": {
   "codemirror_mode": {
    "name": "ipython",
    "version": 3
   },
   "file_extension": ".py",
   "mimetype": "text/x-python",
   "name": "python",
   "nbconvert_exporter": "python",
   "pygments_lexer": "ipython3",
   "version": "3.7.4"
  },
  "pycharm": {
   "stem_cell": {
    "cell_type": "raw",
    "source": [],
    "metadata": {
     "collapsed": false
    }
   }
  }
 },
 "nbformat": 4,
 "nbformat_minor": 2
}