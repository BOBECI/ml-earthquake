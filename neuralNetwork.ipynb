{
 "cells": [
  {
   "cell_type": "markdown",
   "source": [
    "data normalization ok\n",
    "batch normalization ok\n",
    "momentum learning rate ok\n",
    "learning rate decay ok\n",
    "weight initialize ok\n",
    "dropout ok\n",
    "weight regularization ok\n",
    "early stopping ok\n",
    "\n",
    "\n",
    "weight pruning\n",
    "focal loss\n",
    "penalty"
   ],
   "metadata": {
    "collapsed": false,
    "pycharm": {
     "name": "#%% md\n"
    }
   }
  },
  {
   "cell_type": "code",
   "execution_count": 1,
   "metadata": {
    "pycharm": {
     "is_executing": false
    }
   },
   "outputs": [
    {
     "name": "stderr",
     "text": [
      "/home/emreunel/anaconda3/envs/ass3/lib/python3.7/site-packages/sklearn/utils/__init__.py:4: DeprecationWarning: Using or importing the ABCs from 'collections' instead of from 'collections.abc' is deprecated since Python 3.3,and in 3.9 it will stop working\n",
      "  from collections import Sequence\n",
      "/home/emreunel/anaconda3/envs/ass3/lib/python3.7/site-packages/sklearn/model_selection/_search.py:16: DeprecationWarning: Using or importing the ABCs from 'collections' instead of from 'collections.abc' is deprecated since Python 3.3,and in 3.9 it will stop working\n",
      "  from collections import Mapping, namedtuple, defaultdict, Sequence\n",
      "/home/emreunel/anaconda3/envs/ass3/lib/python3.7/site-packages/sklearn/ensemble/weight_boosting.py:29: DeprecationWarning: numpy.core.umath_tests is an internal NumPy module and should not be imported. It will be removed in a future NumPy release.\n",
      "  from numpy.core.umath_tests import inner1d\n"
     ],
     "output_type": "stream"
    }
   ],
   "source": [
    "import pandas as pd\n",
    "import numpy as np\n",
    "import torch\n",
    "import matplotlib.pyplot as plt\n",
    "from sklearn.metrics import accuracy_score\n",
    "from torch.autograd import Variable\n",
    "import torchvision.transforms as transforms\n",
    "import torchvision.datasets as dsets\n",
    "from sklearn.model_selection import train_test_split\n",
    "from sklearn.preprocessing import StandardScaler\n",
    "from torch.utils.data import Dataset, DataLoader\n",
    "from imblearn.combine import SMOTEENN\n",
    "from imblearn.combine import SMOTETomek"
   ]
  },
  {
   "cell_type": "code",
   "execution_count": 2,
   "outputs": [],
   "source": [
    "dtype = torch.cuda.FloatTensor # Uncomment this to run on GPU"
   ],
   "metadata": {
    "collapsed": false,
    "pycharm": {
     "name": "#%%\n",
     "is_executing": false
    }
   }
  },
  {
   "cell_type": "code",
   "execution_count": 3,
   "metadata": {
    "pycharm": {
     "is_executing": false
    }
   },
   "outputs": [],
   "source": [
    "data = pd.read_csv(\"dataset/preprocessed.csv\")"
   ]
  },
  {
   "cell_type": "code",
   "execution_count": 4,
   "metadata": {
    "pycharm": {
     "is_executing": false,
     "name": "#%%\n"
    }
   },
   "outputs": [
    {
     "data": {
      "text/plain": "(762094, 44)"
     },
     "metadata": {},
     "output_type": "execute_result",
     "execution_count": 4
    }
   ],
   "source": [
    "data = data.drop(data[data.target == -1].index)\n",
    "data.shape"
   ]
  },
  {
   "cell_type": "code",
   "execution_count": 5,
   "outputs": [],
   "source": [
    "# Separate input features and target\n",
    "targets = data.target\n",
    "targets -= 1\n"
   ],
   "metadata": {
    "collapsed": false,
    "pycharm": {
     "name": "#%%\n",
     "is_executing": false
    }
   }
  },
  {
   "cell_type": "code",
   "execution_count": 6,
   "metadata": {
    "pycharm": {
     "is_executing": false,
     "name": "#%%\n"
    }
   },
   "outputs": [],
   "source": [
    "targets = targets.to_numpy()"
   ]
  },
  {
   "cell_type": "code",
   "execution_count": 7,
   "metadata": {
    "pycharm": {
     "is_executing": false,
     "name": "#%%\n"
    }
   },
   "outputs": [],
   "source": [
    "features = data.drop('target', axis=1)"
   ]
  },
  {
   "cell_type": "code",
   "execution_count": 8,
   "metadata": {
    "pycharm": {
     "is_executing": false,
     "name": "#%%\n"
    }
   },
   "outputs": [],
   "source": [
    "features = features.to_numpy()"
   ]
  },
  {
   "cell_type": "code",
   "execution_count": 9,
   "metadata": {
    "pycharm": {
     "is_executing": false,
     "name": "#%%\n"
    }
   },
   "outputs": [],
   "source": [
    "X_trainAndVal, X_test, y_trainAndVal, y_test = train_test_split(features, targets, test_size = 0.2, random_state = 0)"
   ]
  },
  {
   "cell_type": "code",
   "execution_count": 10,
   "metadata": {
    "pycharm": {
     "is_executing": false,
     "name": "#%%\n"
    }
   },
   "outputs": [],
   "source": [
    "X_train, X_val, y_train, y_val = train_test_split(X_trainAndVal, y_trainAndVal, test_size = 0.2, random_state = 0)"
   ]
  },
  {
   "cell_type": "code",
   "execution_count": 11,
   "metadata": {
    "pycharm": {
     "is_executing": false,
     "name": "#%%\n"
    }
   },
   "outputs": [
    {
     "data": {
      "text/plain": "(487740, 43)"
     },
     "metadata": {},
     "output_type": "execute_result",
     "execution_count": 11
    }
   ],
   "source": [
    "X_train.shape"
   ]
  },
  {
   "cell_type": "code",
   "execution_count": 12,
   "metadata": {
    "pycharm": {
     "is_executing": false,
     "name": "#%%\n"
    }
   },
   "outputs": [
    {
     "name": "stdout",
     "text": [
      "Frequency of unique values of the said array:\n",
      "[[     0      1      2      3      4]\n",
      " [ 50166  55949  87609 117459 176557]]\n"
     ],
     "output_type": "stream"
    }
   ],
   "source": [
    "unique_elements, counts_elements = np.unique(y_train, return_counts=True)\n",
    "print(\"Frequency of unique values of the said array:\")\n",
    "print(np.asarray((unique_elements, counts_elements)))"
   ]
  },
  {
   "cell_type": "code",
   "execution_count": 13,
   "outputs": [
    {
     "data": {
      "text/plain": "Text(0.5, 1.0, 'Unbalanced Data Distribution')"
     },
     "metadata": {},
     "output_type": "execute_result",
     "execution_count": 13
    },
    {
     "data": {
      "text/plain": "<Figure size 432x288 with 1 Axes>",
      "image/png": "[encoded data removed]"
     },
     "metadata": {
      "needs_background": "light"
     },
     "output_type": "display_data"
    }
   ],
   "source": [
    "objects = ('dam lev 1', 'dam lev 2', 'dam lev 3', 'dam lev 4', 'dam lev 5')\n",
    "y_pos = np.arange(len(objects))\n",
    "plt.bar(y_pos, counts_elements, align='center', alpha=0.5)\n",
    "plt.xticks(y_pos, objects)\n",
    "plt.ylabel('number of sample')\n",
    "plt.title('Unbalanced Data Distribution')"
   ],
   "metadata": {
    "collapsed": false,
    "pycharm": {
     "name": "#%%\n",
     "is_executing": false
    }
   }
  },
  {
   "cell_type": "code",
   "execution_count": 14,
   "metadata": {
    "pycharm": {
     "is_executing": false,
     "name": "#%%\n"
    }
   },
   "outputs": [
    {
     "name": "stderr",
     "text": [
      "/home/emreunel/anaconda3/envs/ass3/lib/python3.7/site-packages/imblearn/utils/deprecation.py:50: DeprecationWarning: 'k' is deprecated from 0.2 and will be removed in 0.4. Use 'k_neighbors' instead.\n",
      "  category=DeprecationWarning)\n",
      "/home/emreunel/anaconda3/envs/ass3/lib/python3.7/site-packages/imblearn/utils/deprecation.py:50: DeprecationWarning: 'm' is deprecated from 0.2 and will be removed in 0.4. Use 'm_neighbors' instead.\n",
      "  category=DeprecationWarning)\n"
     ],
     "output_type": "stream"
    }
   ],
   "source": [
    "sm = SMOTETomek(random_state = 27, n_jobs = -1)\n",
    "\n",
    "X_train, y_train = sm.fit_sample(X_train, y_train)"
   ]
  },
  {
   "cell_type": "code",
   "execution_count": 15,
   "metadata": {
    "pycharm": {
     "is_executing": false,
     "name": "#%%\n"
    }
   },
   "outputs": [
    {
     "name": "stdout",
     "text": [
      "Frequency of unique values of the said array:\n",
      "[[     0      1      2      3      4]\n",
      " [162635 155765 149211 144863 147975]]\n"
     ],
     "output_type": "stream"
    }
   ],
   "source": [
    "unique_elements, counts_elements = np.unique(y_train, return_counts=True)\n",
    "print(\"Frequency of unique values of the said array:\")\n",
    "print(np.asarray((unique_elements, counts_elements)))"
   ]
  },
  {
   "cell_type": "code",
   "execution_count": 16,
   "outputs": [
    {
     "data": {
      "text/plain": "Text(0.5, 1.0, 'After Re-sampling Data Distribution')"
     },
     "metadata": {},
     "output_type": "execute_result",
     "execution_count": 16
    },
    {
     "data": {
      "text/plain": "<Figure size 432x288 with 1 Axes>",
      "image/png": "[encoded data removed]"
     },
     "metadata": {
      "needs_background": "light"
     },
     "output_type": "display_data"
    }
   ],
   "source": [
    "objects = ('dam lev 1', 'dam lev 2', 'dam lev 3', 'dam lev 4', 'dam lev 5')\n",
    "y_pos = np.arange(len(objects))\n",
    "plt.bar(y_pos, counts_elements, align='center', alpha=0.5)\n",
    "plt.xticks(y_pos, objects)\n",
    "plt.ylabel('number of sample')\n",
    "plt.title('After Re-sampling Data Distribution')"
   ],
   "metadata": {
    "collapsed": false,
    "pycharm": {
     "name": "#%%\n",
     "is_executing": false
    }
   }
  },
  {
   "cell_type": "code",
   "execution_count": 17,
   "metadata": {
    "pycharm": {
     "is_executing": false,
     "name": "#%%\n"
    }
   },
   "outputs": [
    {
     "name": "stdout",
     "text": [
      "(760449, 43)\n",
      "(760449,)\n"
     ],
     "output_type": "stream"
    }
   ],
   "source": [
    "print((X_train ).shape)\n",
    "print(( y_train).shape)\n"
   ]
  },
  {
   "cell_type": "code",
   "execution_count": 18,
   "metadata": {
    "pycharm": {
     "is_executing": false,
     "name": "#%%\n"
    }
   },
   "outputs": [
    {
     "name": "stderr",
     "text": [
      "/home/emreunel/anaconda3/envs/ass3/lib/python3.7/site-packages/sklearn/utils/validation.py:475: DataConversionWarning: Data with input dtype int64 was converted to float64 by StandardScaler.\n",
      "  warnings.warn(msg, DataConversionWarning)\n"
     ],
     "output_type": "stream"
    }
   ],
   "source": [
    "sc = StandardScaler()\n",
    "X_train = sc.fit_transform(X_train)\n",
    "X_val = sc.transform(X_val)\n",
    "X_test = sc.transform(X_test)\n"
   ]
  },
  {
   "cell_type": "code",
   "execution_count": 19,
   "metadata": {
    "pycharm": {
     "is_executing": false
    }
   },
   "outputs": [
    {
     "data": {
      "text/plain": "tensor([0.9352, 0.9764, 1.0193, 1.0499, 1.0278], dtype=torch.float64)"
     },
     "metadata": {},
     "output_type": "execute_result",
     "execution_count": 19
    }
   ],
   "source": [
    "from sklearn.utils.class_weight import compute_class_weight\n",
    "class_weights = compute_class_weight('balanced', np.unique(y_train), y_train)\n",
    "class_weights = torch.from_numpy(class_weights)\n",
    "class_weights\n",
    "\n"
   ]
  },
  {
   "cell_type": "code",
   "execution_count": 20,
   "metadata": {
    "pycharm": {
     "is_executing": false
    }
   },
   "outputs": [],
   "source": [
    "batch_size = 100\n",
    "epochs = 100000\n",
    "input_dim = 43\n",
    "output_dim = 5\n",
    "lr_rate = 0.1\n",
    "momentum_val = 0.9\n",
    "weight_decay_val = 0.000001\n",
    "\n",
    "gamma_val = 0.5\n",
    "prob = 0.2\n",
    "\n",
    "\n",
    "old_loss = 2.0\n",
    "cur_loss = 0.0\n",
    "\n",
    "loss_dicrease_count = 0\n",
    "loss_dicrease_limit = 5\n",
    "loss_dicrease_threshold = 0.05\n",
    "\n",
    "early_stop_epoch = 0"
   ]
  },
  {
   "cell_type": "code",
   "execution_count": 21,
   "metadata": {
    "pycharm": {
     "is_executing": false
    }
   },
   "outputs": [],
   "source": [
    "class datasetLoad(Dataset):\n",
    "    def __init__(self, features,labels):\n",
    "        self.features = features\n",
    "        self.labels = labels\n",
    "    def __len__(self):\n",
    "        return len(self.features)\n",
    "    def __getitem__(self, index):\n",
    "        return self.features[index], self.labels[index]"
   ]
  },
  {
   "cell_type": "code",
   "execution_count": 22,
   "metadata": {
    "pycharm": {
     "is_executing": false,
     "name": "#%%\n"
    }
   },
   "outputs": [],
   "source": [
    "X_train = datasetLoad(X_train, y_train)\n",
    "X_val = datasetLoad(X_val, y_val)"
   ]
  },
  {
   "cell_type": "code",
   "execution_count": 23,
   "metadata": {
    "pycharm": {
     "is_executing": false
    }
   },
   "outputs": [],
   "source": [
    "train_loader = torch.utils.data.DataLoader(dataset = X_train, batch_size = batch_size, shuffle=True)\n",
    "val_loader = torch.utils.data.DataLoader(dataset = X_val, batch_size = batch_size, shuffle=True)"
   ]
  },
  {
   "cell_type": "code",
   "execution_count": 24,
   "metadata": {
    "pycharm": {
     "is_executing": false
    }
   },
   "outputs": [],
   "source": [
    "import torch.nn as nn\n",
    "import torch.nn.functional as F\n",
    "class neuralNetwork(torch.nn.Module):\n",
    "    def __init__(self, input_dim, hidden1_dim, hidden2_dim, hidden3_dim, output_dim, dropout_p):\n",
    "        super(neuralNetwork, self).__init__()\n",
    "        \n",
    "        # self.hidden1 = nn.Linear(input_dim, hidden1_dim)\n",
    "        self.hidden1 = nn.Linear(input_dim, hidden1_dim, bias=True) \n",
    "        torch.nn.init.xavier_uniform(self.hidden1.weight)\n",
    "        self.bnhidden1 = nn.BatchNorm1d(hidden1_dim)\n",
    "        \n",
    "        # self.hidden2 = nn.Linear(hidden1_dim, hidden2_dim)\n",
    "        self.hidden2 = nn.Linear(hidden1_dim, hidden2_dim, bias=True) \n",
    "        torch.nn.init.xavier_uniform(self.hidden2.weight)\n",
    "        self.bnhidden2 = nn.BatchNorm1d(hidden2_dim)\n",
    "        \n",
    "        # self.hidden3 = nn.Linear(hidden2_dim, hidden3_dim)\n",
    "        self.hidden3 = nn.Linear(hidden2_dim, hidden3_dim, bias=True) \n",
    "        torch.nn.init.xavier_uniform(self.hidden3.weight)\n",
    "        self.bnhidden3 = nn.BatchNorm1d(hidden3_dim)\n",
    "        \n",
    "        # self.output = nn.Linear(hidden3_dim, output_dim)\n",
    "        self.output = nn.Linear(hidden3_dim, output_dim, bias=True) \n",
    "        torch.nn.init.xavier_uniform(self.output.weight)\n",
    "\n",
    "        self.dropout = nn.Dropout(dropout_p)\n",
    "    def forward(self, x):\n",
    "        \n",
    "        x = self.hidden1(x)   \n",
    "        x = self.dropout(x)\n",
    "        x = self.bnhidden1(x)        \n",
    "        x = F.leaky_relu_(x, negative_slope=0.01)\n",
    "        \n",
    "        x = self.hidden2(x)        \n",
    "        x = self.dropout(x)\n",
    "        x = self.bnhidden2(x)\n",
    "        x = F.leaky_relu_(x, negative_slope=0.01)\n",
    "        \n",
    "        x = self.hidden3(x)\n",
    "        x = self.dropout(x)\n",
    "        x = self.bnhidden3(x)\n",
    "        x = F.leaky_relu_(x, negative_slope=0.01)\n",
    "        \n",
    "        outputs = self.output(x)\n",
    "        return outputs"
   ]
  },
  {
   "cell_type": "code",
   "execution_count": 25,
   "metadata": {
    "pycharm": {
     "is_executing": false
    }
   },
   "outputs": [
    {
     "name": "stderr",
     "text": [
      "/home/emreunel/anaconda3/envs/ass3/lib/python3.7/site-packages/ipykernel_launcher.py:9: UserWarning: nn.init.xavier_uniform is now deprecated in favor of nn.init.xavier_uniform_.\n",
      "  if __name__ == '__main__':\n",
      "/home/emreunel/anaconda3/envs/ass3/lib/python3.7/site-packages/ipykernel_launcher.py:14: UserWarning: nn.init.xavier_uniform is now deprecated in favor of nn.init.xavier_uniform_.\n",
      "  \n",
      "/home/emreunel/anaconda3/envs/ass3/lib/python3.7/site-packages/ipykernel_launcher.py:19: UserWarning: nn.init.xavier_uniform is now deprecated in favor of nn.init.xavier_uniform_.\n",
      "/home/emreunel/anaconda3/envs/ass3/lib/python3.7/site-packages/ipykernel_launcher.py:24: UserWarning: nn.init.xavier_uniform is now deprecated in favor of nn.init.xavier_uniform_.\n"
     ],
     "output_type": "stream"
    }
   ],
   "source": [
    "model = neuralNetwork(input_dim, 20,20, 20, output_dim, prob)"
   ]
  },
  {
   "cell_type": "code",
   "execution_count": 26,
   "metadata": {
    "pycharm": {
     "is_executing": false
    }
   },
   "outputs": [],
   "source": [
    "criterion = torch.nn.CrossEntropyLoss(weight = class_weights.float())"
   ]
  },
  {
   "cell_type": "code",
   "execution_count": 27,
   "metadata": {
    "pycharm": {
     "is_executing": false
    }
   },
   "outputs": [],
   "source": [
    "from torch.optim.lr_scheduler import MultiStepLR\n",
    "\n",
    "optimizer = torch.optim.SGD(model.parameters(), lr = lr_rate, momentum = momentum_val, weight_decay = weight_decay_val)\n",
    "\n",
    "\n",
    "scheduler = MultiStepLR(optimizer, milestones=[10, 30, 50, 100, 250], gamma = gamma_val)"
   ]
  },
  {
   "cell_type": "code",
   "execution_count": null,
   "metadata": {
    "pycharm": {
     "is_executing": true
    }
   },
   "outputs": [
    {
     "name": "stdout",
     "text": [
      "{\n",
      "Epoch: 0. Train Loss: 1.3355053541128539. \n",
      "Epoch: 0. Validation Loss: 1.5825775933128776. Validation Accuracy: 30.947126388549805.\n",
      "}\n"
     ],
     "output_type": "stream"
    }
   ],
   "source": [
    "import datetime\n",
    "a = datetime.datetime.now().replace(microsecond=0)\n",
    "train_loss = []\n",
    "validation_loss = []\n",
    "for epoch in range(epochs):\n",
    "    train_loss_val = 0.0\n",
    "    num_of_train_iter = 0\n",
    "    for i, (features, labels) in enumerate(train_loader):\n",
    "        features = Variable(features)\n",
    "        labels = Variable(labels)\n",
    "\n",
    "        optimizer.zero_grad()\n",
    "        outputs = model(features.float())\n",
    "        loss = criterion(outputs.float(), labels)\n",
    "        loss.backward()\n",
    "        optimizer.step()\n",
    "        train_loss_val += loss.item()\n",
    "        num_of_train_iter = i\n",
    "    train_loss_val /= num_of_train_iter\n",
    "    \n",
    "    validation_loss_val = 0.0\n",
    "    num_of_val_iter = 0\n",
    "        \n",
    "    # calculate Accuracy\n",
    "    correct = 0.0\n",
    "    total = 0\n",
    "    accuracy = 0.0\n",
    "    for i, (features, labels) in enumerate( val_loader):\n",
    "        features = Variable(features)\n",
    "        with torch.no_grad():\n",
    "            outputs = model(features.float())\n",
    "        loss = criterion(outputs.float(), labels)\n",
    "        validation_loss_val += loss.item()\n",
    "        _, predicted = torch.max(outputs.data, 1)\n",
    "        total+= labels.size(0)\n",
    "        # for gpu, bring the predicted and labels back to cpu fro python operations to work\n",
    "        correct+= (predicted == labels).sum()\n",
    "        accuracy += 100 * correct/total\n",
    "        num_of_val_iter = i\n",
    "    validation_loss_val /= num_of_val_iter\n",
    "    accuracy /=  num_of_val_iter\n",
    "    \n",
    "    cur_loss = validation_loss_val\n",
    "    \n",
    "    if(cur_loss < old_loss):\n",
    "        torch.save(model.state_dict(), 'weights_only.pth')\n",
    "        early_stop_epoch = epoch\n",
    "    if(cur_loss > old_loss + loss_dicrease_threshold):\n",
    "        loss_dicrease_count += 1\n",
    "        \n",
    "    if(cur_loss + loss_dicrease_threshold < old_loss):\n",
    "        loss_dicrease_count = 0\n",
    "        \n",
    "    if(loss_dicrease_count == loss_dicrease_limit):\n",
    "        print(\"--------------------\\n\\n\\nYOU NEED STOP\\n\\n\\n\\n----------\")\n",
    "        break\n",
    "    old_loss = cur_loss\n",
    "    \n",
    "    \n",
    "    \n",
    "    scheduler.step()\n",
    "     \n",
    "    \n",
    "    train_loss.append(train_loss_val)\n",
    "    validation_loss.append(validation_loss_val)\n",
    "    if(epoch % 5 == 0):\n",
    "        print(\"{\")\n",
    "        print(\"Epoch: {}. Train Loss: {}. \".format(epoch, train_loss_val))\n",
    "        print(\"Epoch: {}. Validation Loss: {}. Validation Accuracy: {}.\".format(epoch, validation_loss_val, accuracy))\n",
    "        print(\"}\")\n",
    "    # print(\"{\")\n",
    "    # print(\"Epoch: {}. Train Loss: {}. \".format(epoch, train_loss_val))\n",
    "    # print(\"Epoch: {}. Validation Loss: {}. Validation Accuracy: {}.\".format(epoch, validation_loss_val, accuracy))\n",
    "    # print(\"}\")"
   ]
  },
  {
   "cell_type": "code",
   "execution_count": null,
   "metadata": {
    "pycharm": {
     "is_executing": true,
     "name": "#%%\n"
    }
   },
   "outputs": [],
   "source": [
    "b = datetime.datetime.now().replace(microsecond=0)\n",
    "print(b-a)"
   ]
  },
  {
   "cell_type": "code",
   "execution_count": null,
   "outputs": [],
   "source": [
    "# plotting the training and validation loss\n",
    "plt.plot(train_loss, label='Training loss')\n",
    "plt.plot(validation_loss, label='Validation loss')\n",
    "x = np.full([100], early_stop_epoch, dtype = int)\n",
    "y = np.linspace(0, len(train_loss), 100) \n",
    "plt.plot(x, y, '-r', label='y=2x+1')\n",
    "plt.title('Graph of y=2x+1')\n",
    "plt.xlabel('x', color='#1C2833')\n",
    "plt.ylabel('y', color='#1C2833')\n",
    "plt.legend(loc='upper left')\n",
    "plt.legend()\n",
    "plt.grid()\n",
    "plt.show()"
   ],
   "metadata": {
    "collapsed": false,
    "pycharm": {
     "name": "#%%\n",
     "is_executing": true
    }
   }
  },
  {
   "cell_type": "code",
   "execution_count": null,
   "outputs": [],
   "source": [
    "the_model = neuralNetwork(input_dim, 20,20, 20, output_dim, prob)"
   ],
   "metadata": {
    "collapsed": false,
    "pycharm": {
     "name": "#%%\n",
     "is_executing": true
    }
   }
  },
  {
   "cell_type": "code",
   "execution_count": null,
   "outputs": [],
   "source": [
    "the_model.load_state_dict(torch.load(\"weights_only.pth\"))"
   ],
   "metadata": {
    "collapsed": false,
    "pycharm": {
     "name": "#%%\n",
     "is_executing": true
    }
   }
  },
  {
   "cell_type": "code",
   "execution_count": null,
   "metadata": {
    "pycharm": {
     "is_executing": true,
     "name": "#%%\n"
    }
   },
   "outputs": [],
   "source": [
    "with torch.no_grad():\n",
    "    outputs = the_model(torch.from_numpy(X_test).float())\n",
    "_, predicted = torch.max(outputs.data, 1)\n"
   ]
  },
  {
   "cell_type": "code",
   "execution_count": null,
   "metadata": {
    "pycharm": {
     "is_executing": true,
     "name": "#%%\n"
    }
   },
   "outputs": [],
   "source": [
    "from sklearn.metrics import accuracy_score\n",
    "accuracy=accuracy_score(predicted,y_test)\n",
    "accuracy*100"
   ]
  },
  {
   "cell_type": "code",
   "execution_count": null,
   "metadata": {
    "pycharm": {
     "is_executing": true,
     "name": "#%%\n"
    }
   },
   "outputs": [],
   "source": [
    "from sklearn.metrics import confusion_matrix\n",
    "cm = confusion_matrix(y_test, predicted)\n",
    "cm = cm.astype('float') / cm.sum(axis=1)[:, np.newaxis]\n",
    "plt.imshow(cm, interpolation='nearest',cmap=\"RdYlGn\")\n",
    "plt.title(\"Confusion Matrix\")\n",
    "plt.colorbar()\n",
    "plt.ylabel('True label')\n",
    "plt.xlabel('Predicted label')\n",
    "for i in range(5):\n",
    "    for j in range(5):\n",
    "        plt.text(j,i,format(cm[i][j],\".2f\"),horizontalalignment=\"center\",color=\"black\")\n",
    "plt.tight_layout()\n",
    "plt.show()\n",
    "\n",
    "\n",
    "\n"
   ]
  }
 ],
 "metadata": {
  "kernelspec": {
   "display_name": "Python 3",
   "language": "python",
   "name": "python3"
  },
  "language_info": {
   "codemirror_mode": {
    "name": "ipython",
    "version": 3
   },
   "file_extension": ".py",
   "mimetype": "text/x-python",
   "name": "python",
   "nbconvert_exporter": "python",
   "pygments_lexer": "ipython3",
   "version": "3.7.4"
  },
  "pycharm": {
   "stem_cell": {
    "cell_type": "raw",
    "source": [],
    "metadata": {
     "collapsed": false
    }
   }
  }
 },
 "nbformat": 4,
 "nbformat_minor": 2
}