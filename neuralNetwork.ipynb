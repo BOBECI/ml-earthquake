{
 "cells": [
  {
   "cell_type": "markdown",
   "metadata": {
    "pycharm": {
     "name": "#%% md\n"
    }
   },
   "source": [
    "data normalization ok\n",
    "batch normalization ok\n",
    "momentum learning rate ok\n",
    "learning rate decay ok\n",
    "weight initialize ok\n",
    "dropout ok\n",
    "weight regularization ok\n",
    "early stopping ok\n",
    "focal loss ok\n",
    "penalty ok\n",
    "\n",
    "weight pruning"
   ]
  },
  {
   "cell_type": "code",
   "execution_count": 1,
   "metadata": {
    "pycharm": {
     "is_executing": false
    }
   },
   "outputs": [
    {
     "name": "stderr",
     "text": [
      "/home/emreunel/anaconda3/envs/ass3/lib/python3.7/site-packages/sklearn/utils/__init__.py:4: DeprecationWarning: Using or importing the ABCs from 'collections' instead of from 'collections.abc' is deprecated since Python 3.3,and in 3.9 it will stop working\n",
      "  from collections import Sequence\n",
      "/home/emreunel/anaconda3/envs/ass3/lib/python3.7/site-packages/sklearn/model_selection/_search.py:16: DeprecationWarning: Using or importing the ABCs from 'collections' instead of from 'collections.abc' is deprecated since Python 3.3,and in 3.9 it will stop working\n",
      "  from collections import Mapping, namedtuple, defaultdict, Sequence\n",
      "/home/emreunel/anaconda3/envs/ass3/lib/python3.7/site-packages/sklearn/ensemble/weight_boosting.py:29: DeprecationWarning: numpy.core.umath_tests is an internal NumPy module and should not be imported. It will be removed in a future NumPy release.\n",
      "  from numpy.core.umath_tests import inner1d\n"
     ],
     "output_type": "stream"
    }
   ],
   "source": [
    "#importing libraries\n",
    "import pandas as pd\n",
    "import numpy as np\n",
    "import torch\n",
    "import matplotlib.pyplot as plt\n",
    "from sklearn.metrics import accuracy_score\n",
    "from torch.autograd import Variable\n",
    "import torchvision.transforms as transforms\n",
    "import torchvision.datasets as dsets\n",
    "from sklearn.model_selection import train_test_split\n",
    "from sklearn.preprocessing import StandardScaler\n",
    "from torch.utils.data import Dataset, DataLoader\n",
    "from imblearn.combine import SMOTEENN\n",
    "from imblearn.combine import SMOTETomek\n",
    "import torch.nn as nn\n",
    "import torch.nn.functional as F\n",
    "from sklearn.metrics import accuracy_score, precision_score, recall_score, f1_score"
   ]
  },
  {
   "cell_type": "code",
   "execution_count": 2,
   "metadata": {
    "pycharm": {
     "is_executing": false,
     "name": "#%%\n"
    }
   },
   "outputs": [],
   "source": [
    "import torchvision\n",
    "import torchvision.transforms as transforms\n",
    "from torch.utils.tensorboard import SummaryWriter\n",
    "dtype = torch.cuda.FloatTensor # Uncomment this to run on GPU"
   ]
  },
  {
   "cell_type": "code",
   "execution_count": 3,
   "metadata": {
    "pycharm": {
     "is_executing": false
    }
   },
   "outputs": [
    {
     "data": {
      "text/plain": "(762094, 44)"
     },
     "metadata": {},
     "output_type": "execute_result",
     "execution_count": 3
    }
   ],
   "source": [
    "# load dataset\n",
    "data = pd.read_csv(\"dataset/preprocessed.csv\")\n",
    "data = data.drop(data[data.target == -1].index)\n",
    "data.shape"
   ]
  },
  {
   "cell_type": "code",
   "execution_count": 4,
   "metadata": {
    "pycharm": {
     "is_executing": false,
     "name": "#%%\n"
    }
   },
   "outputs": [],
   "source": [
    "# Separate input features and target\n",
    "targets = data.target\n",
    "targets -= 1\n",
    "targets = targets.to_numpy()"
   ]
  },
  {
   "cell_type": "code",
   "execution_count": 5,
   "metadata": {
    "pycharm": {
     "is_executing": false,
     "name": "#%%\n"
    }
   },
   "outputs": [],
   "source": [
    "features = data.drop('target', axis=1)\n",
    "features = features.to_numpy()"
   ]
  },
  {
   "cell_type": "code",
   "execution_count": 6,
   "metadata": {
    "pycharm": {
     "is_executing": false,
     "name": "#%%\n"
    }
   },
   "outputs": [],
   "source": [
    "# split test part\n",
    "X_trainAndVal, X_test, y_trainAndVal, y_test = train_test_split(features, targets, test_size = 0.25, random_state = 0)"
   ]
  },
  {
   "cell_type": "code",
   "execution_count": 7,
   "metadata": {
    "pycharm": {
     "is_executing": false,
     "name": "#%%\n"
    }
   },
   "outputs": [],
   "source": [
    "# split train and validation part\n",
    "X_train, X_val, y_train, y_val = train_test_split(X_trainAndVal, y_trainAndVal, test_size = 0.25, random_state = 0)"
   ]
  },
  {
   "cell_type": "code",
   "execution_count": 8,
   "metadata": {
    "pycharm": {
     "is_executing": false,
     "name": "#%%\n"
    }
   },
   "outputs": [
    {
     "name": "stdout",
     "text": [
      "Frequency of unique values of the said array:\n",
      "[[     0      1      2      3      4]\n",
      " [ 44236  49097  76576 103538 155230]]\n"
     ],
     "output_type": "stream"
    }
   ],
   "source": [
    "# print distribution before re-sampling\n",
    "unique_elements, counts_elements = np.unique(y_train, return_counts=True)\n",
    "print(\"Frequency of unique values of the said array:\")\n",
    "print(np.asarray((unique_elements, counts_elements)))"
   ]
  },
  {
   "cell_type": "code",
   "execution_count": 9,
   "metadata": {
    "pycharm": {
     "is_executing": false,
     "name": "#%%\n"
    }
   },
   "outputs": [
    {
     "data": {
      "text/plain": "<Figure size 432x288 with 1 Axes>",
      "image/png": "[encoded data removed]"
     },
     "metadata": {
      "needs_background": "light"
     },
     "output_type": "display_data"
    }
   ],
   "source": [
    "# plot distribution before re-sampling\n",
    "objects = ('dam lev 1', 'dam lev 2', 'dam lev 3', 'dam lev 4', 'dam lev 5')\n",
    "y_pos = np.arange(len(objects))\n",
    "plt.bar(y_pos, counts_elements, align='center', alpha=0.5)\n",
    "plt.xticks(y_pos, objects)\n",
    "plt.ylabel('number of sample')\n",
    "plt.title('Imbalanced Data Distribution')\n",
    "plt.savefig(\"imbalanced.png\")"
   ]
  },
  {
   "cell_type": "code",
   "execution_count": 10,
   "metadata": {
    "pycharm": {
     "is_executing": false,
     "name": "#%%\n"
    }
   },
   "outputs": [],
   "source": [
    "# re-sampling may use\n",
    "# sm = SMOTETomek(random_state = 27, n_jobs = -1)\n",
    "# X_train, y_train = sm.fit_sample(X_train, y_train)"
   ]
  },
  {
   "cell_type": "code",
   "execution_count": 11,
   "metadata": {
    "pycharm": {
     "is_executing": false,
     "name": "#%%\n"
    }
   },
   "outputs": [],
   "source": [
    "# print distribution after re-sampling\n",
    "# unique_elements, counts_elements = np.unique(y_train, return_counts=True)\n",
    "# print(\"Frequency of unique values of the said array:\")\n",
    "# print(np.asarray((unique_elements, counts_elements)))"
   ]
  },
  {
   "cell_type": "code",
   "execution_count": 12,
   "outputs": [],
   "source": [
    "# plot distribution after re-sampling\n",
    "# objects = ('dam lev 1', 'dam lev 2', 'dam lev 3', 'dam lev 4', 'dam lev 5')\n",
    "# y_pos = np.arange(len(objects))\n",
    "# plt.bar(y_pos, counts_elements, align='center', alpha=0.5)\n",
    "# plt.xticks(y_pos, objects)\n",
    "# plt.ylabel('number of sample')\n",
    "# plt.title('After Re-sampling Data Distribution')\n",
    "# plt.savefig(\"resample.png\")"
   ],
   "metadata": {
    "collapsed": false,
    "pycharm": {
     "name": "#%%\n",
     "is_executing": false
    }
   }
  },
  {
   "cell_type": "code",
   "execution_count": 13,
   "metadata": {
    "pycharm": {
     "is_executing": false,
     "name": "#%%\n"
    }
   },
   "outputs": [
    {
     "name": "stderr",
     "text": [
      "/home/emreunel/anaconda3/envs/ass3/lib/python3.7/site-packages/sklearn/utils/validation.py:475: DataConversionWarning: Data with input dtype int64 was converted to float64 by StandardScaler.\n",
      "  warnings.warn(msg, DataConversionWarning)\n"
     ],
     "output_type": "stream"
    }
   ],
   "source": [
    "#Scale data\n",
    "sc = StandardScaler()\n",
    "X_train = sc.fit_transform(X_train)\n",
    "X_val = sc.transform(X_val)\n",
    "X_test = sc.transform(X_test)"
   ]
  },
  {
   "cell_type": "code",
   "execution_count": 14,
   "metadata": {
    "pycharm": {
     "is_executing": false
    }
   },
   "outputs": [
    {
     "data": {
      "text/plain": "tensor([1.9381, 1.7462, 1.1196, 0.8281, 0.5523], dtype=torch.float64)"
     },
     "metadata": {},
     "output_type": "execute_result",
     "execution_count": 14
    }
   ],
   "source": [
    "# calculate weight for targets\n",
    "from sklearn.utils.class_weight import compute_class_weight\n",
    "class_weights = compute_class_weight('balanced', np.unique(y_train), y_train)\n",
    "class_weights = torch.from_numpy(class_weights)\n",
    "class_weights"
   ]
  },
  {
   "cell_type": "code",
   "execution_count": 15,
   "metadata": {
    "pycharm": {
     "is_executing": false
    }
   },
   "outputs": [],
   "source": [
    "# network settings\n",
    "import sys\n",
    "epsilon = sys.float_info.epsilon\n",
    "\n",
    "batch_size = 100000\n",
    "epochs = 100\n",
    "input_dim = 43\n",
    "output_dim = 5\n",
    "lr = 0.05\n",
    "momentum_val = 0.9\n",
    "weight_decay_val = 0.00001\n",
    "\n",
    "gamma_val = 0.5\n",
    "prob = 0.1\n",
    "\n",
    "old_loss = 1 / epsilon\n",
    "cur_loss = 0.0\n",
    "best_loss = 1 / epsilon\n",
    "\n",
    "loss_dicrease_count = 0\n",
    "loss_dicrease_limit = 3\n",
    "loss_dicrease_threshold = 0.001\n",
    "\n",
    "early_stop_epoch = 0"
   ]
  },
  {
   "cell_type": "code",
   "execution_count": 16,
   "metadata": {
    "pycharm": {
     "is_executing": false
    }
   },
   "outputs": [],
   "source": [
    "# data load\n",
    "class datasetLoad(Dataset):\n",
    "    def __init__(self, features,labels):\n",
    "        self.features = features\n",
    "        self.labels = labels\n",
    "    def __len__(self):\n",
    "        return len(self.features)\n",
    "    def __getitem__(self, index):\n",
    "        return self.features[index], self.labels[index]\n",
    "X_train = datasetLoad(X_train, y_train)\n",
    "X_val = datasetLoad(X_val, y_val)"
   ]
  },
  {
   "cell_type": "code",
   "execution_count": 17,
   "metadata": {
    "pycharm": {
     "is_executing": false
    }
   },
   "outputs": [],
   "source": [
    "# dataLoader\n",
    "train_loader = torch.utils.data.DataLoader(dataset = X_train, batch_size = batch_size, shuffle=True, num_workers = 1)\n",
    "val_loader = torch.utils.data.DataLoader(dataset = X_val, batch_size = batch_size, shuffle=True, num_workers = 1)"
   ]
  },
  {
   "cell_type": "code",
   "execution_count": 18,
   "metadata": {
    "pycharm": {
     "is_executing": false,
     "name": "#%% \n"
    }
   },
   "outputs": [],
   "source": [
    "# focal loss\n",
    "class FocalLoss(nn.Module):\n",
    "    def __init__(self, focusing_param = 2, balance_param=0.5):\n",
    "        super(FocalLoss, self).__init__()\n",
    "        self.focusing_param = focusing_param\n",
    "        self.balance_param = balance_param\n",
    "    def forward(self, output, target):\n",
    "        cross_entropy = F.cross_entropy(output, target)\n",
    "        cross_entropy_log = torch.log(cross_entropy)\n",
    "        logpt = - F.cross_entropy(output, target)\n",
    "        pt    = torch.exp(logpt)\n",
    "        focal_loss = -((1 - pt) ** self.focusing_param) * logpt\n",
    "        balanced_focal_loss = self.balance_param * focal_loss\n",
    "        return balanced_focal_loss"
   ]
  },
  {
   "cell_type": "code",
   "execution_count": 19,
   "metadata": {
    "pycharm": {
     "is_executing": false
    }
   },
   "outputs": [],
   "source": [
    "# network\n",
    "class neuralNetwork(torch.nn.Module):\n",
    "    def __init__(self, input_dim, hidden1_dim, hidden2_dim, output_dim, dropout_p):\n",
    "        super(neuralNetwork, self).__init__()\n",
    "        \n",
    "        self.hidden1 = nn.Linear(input_dim, hidden1_dim, bias=True) \n",
    "        torch.nn.init.xavier_uniform(self.hidden1.weight)\n",
    "        self.bnhidden1 = nn.BatchNorm1d(hidden1_dim)\n",
    "        \n",
    "        self.hidden2 = nn.Linear(hidden1_dim, hidden2_dim, bias=True) \n",
    "        torch.nn.init.xavier_uniform(self.hidden2.weight)\n",
    "        self.bnhidden2 = nn.BatchNorm1d(hidden2_dim)\n",
    "        \n",
    "        self.output = nn.Linear(hidden2_dim, output_dim, bias=True)\n",
    "        torch.nn.init.xavier_uniform(self.output.weight)\n",
    "\n",
    "        self.dropout = nn.Dropout(dropout_p)\n",
    "    def forward(self, x):\n",
    "        \n",
    "        x = self.hidden1(x)   \n",
    "        x = self.dropout(x)\n",
    "        x = self.bnhidden1(x)        \n",
    "        x = F.leaky_relu_(x, negative_slope=0.01)\n",
    "        \n",
    "        x = self.hidden2(x)        \n",
    "        x = self.dropout(x)\n",
    "        x = self.bnhidden2(x)\n",
    "        x = F.leaky_relu_(x, negative_slope=0.01)\n",
    "        \n",
    "        \n",
    "        outputs = self.output(x)\n",
    "        return outputs"
   ]
  },
  {
   "cell_type": "code",
   "execution_count": 20,
   "metadata": {
    "pycharm": {
     "is_executing": false
    }
   },
   "outputs": [
    {
     "name": "stderr",
     "text": [
      "/home/emreunel/anaconda3/envs/ass3/lib/python3.7/site-packages/ipykernel_launcher.py:7: UserWarning: nn.init.xavier_uniform is now deprecated in favor of nn.init.xavier_uniform_.\n",
      "  import sys\n",
      "/home/emreunel/anaconda3/envs/ass3/lib/python3.7/site-packages/ipykernel_launcher.py:11: UserWarning: nn.init.xavier_uniform is now deprecated in favor of nn.init.xavier_uniform_.\n",
      "  # This is added back by InteractiveShellApp.init_path()\n",
      "/home/emreunel/anaconda3/envs/ass3/lib/python3.7/site-packages/ipykernel_launcher.py:15: UserWarning: nn.init.xavier_uniform is now deprecated in favor of nn.init.xavier_uniform_.\n",
      "  from ipykernel import kernelapp as app\n"
     ],
     "output_type": "stream"
    }
   ],
   "source": [
    "# create network object\n",
    "model = neuralNetwork(input_dim, 20, 10, output_dim, prob)"
   ]
  },
  {
   "cell_type": "code",
   "execution_count": 21,
   "metadata": {
    "pycharm": {
     "is_executing": false
    }
   },
   "outputs": [],
   "source": [
    "# choose loss function\n",
    "# criterion = torch.nn.CrossEntropyLoss()\n",
    "# criterion = torch.nn.CrossEntropyLoss(weight = class_weights.float())\n",
    "criterion = FocalLoss()"
   ]
  },
  {
   "cell_type": "code",
   "execution_count": 22,
   "metadata": {
    "pycharm": {
     "is_executing": false
    }
   },
   "outputs": [],
   "source": [
    "# choose optimizer and learning rate decay\n",
    "from torch.optim.lr_scheduler import MultiStepLR\n",
    "\n",
    "# optimizer = torch.optim.SGD(model.parameters(), lr = lr, momentum = momentum_val, weight_decay = weight_decay_val)\n",
    "optimizer = torch.optim.Adam(model.parameters(), lr=lr)\n",
    "\n",
    "scheduler = MultiStepLR(optimizer, milestones=[30, 60, 80], gamma = gamma_val)"
   ]
  },
  {
   "cell_type": "code",
   "execution_count": 23,
   "metadata": {
    "pycharm": {
     "is_executing": false,
     "name": "#%%\n"
    }
   },
   "outputs": [],
   "source": [
    "# convert network to CUDA\n",
    "if torch.cuda.is_available():\n",
    "    model = model.cuda()\n",
    "    criterion = criterion.cuda()"
   ]
  },
  {
   "cell_type": "code",
   "execution_count": 24,
   "metadata": {
    "pycharm": {
     "is_executing": false,
     "name": "#%%\n"
    }
   },
   "outputs": [],
   "source": [
    "feature_train, label_train = next(iter(train_loader))\n",
    "if torch.cuda.is_available():\n",
    "    feature_train = feature_train.cuda()\n",
    "grid_train = torchvision.utils.make_grid(feature_train)"
   ]
  },
  {
   "cell_type": "code",
   "execution_count": 25,
   "metadata": {
    "pycharm": {
     "is_executing": false,
     "name": "#%%\n"
    }
   },
   "outputs": [],
   "source": [
    "# create Tensorboard object\n",
    "tb = SummaryWriter('runs')"
   ]
  },
  {
   "cell_type": "code",
   "execution_count": 26,
   "metadata": {
    "pycharm": {
     "is_executing": false,
     "name": "#%%\n"
    }
   },
   "outputs": [],
   "source": [
    "# Upload network and example to Tensorboard\n",
    "tb.add_image(\"features\", grid_train)\n",
    "tb.add_graph(model, feature_train.float())"
   ]
  },
  {
   "cell_type": "code",
   "metadata": {
    "pycharm": {
     "is_executing": false,
     "name": "#%% \n"
    }
   },
   "source": [
    "# apply neural network\n",
    "import datetime\n",
    "a = datetime.datetime.now().replace(microsecond=0)\n",
    "train_loss = []\n",
    "validation_loss = []\n",
    "for epoch in range(epochs):\n",
    "    train_loss_val = 0.0\n",
    "    train_counter = 0\n",
    "    validation_loss_val = 0.0\n",
    "    val_counter = 0\n",
    "    accuracy = 0.0\n",
    "    for i, (features_train, labels_train) in enumerate(train_loader):\n",
    "        features_train = Variable(features_train)\n",
    "        labels_train = Variable(labels_train)\n",
    "        if torch.cuda.is_available():\n",
    "            features_train = features_train.cuda()\n",
    "            labels_train = labels_train.cuda()        \n",
    "        optimizer.zero_grad()\n",
    "        outputs_train = model(features_train.float())\n",
    "        loss_train = criterion(outputs_train.float(), labels_train)\n",
    "        loss_train.backward()\n",
    "        optimizer.step()\n",
    "        train_loss_val += loss_train.item()\n",
    "        train_counter += 1\n",
    "        del features_train\n",
    "        del labels_train        \n",
    "        torch.cuda.empty_cache()\n",
    "        \n",
    "    train_loss_val /= train_counter    \n",
    "           \n",
    "    for i, (features_val, labels_val) in enumerate( val_loader):\n",
    "        features_val = Variable(features_val)\n",
    "        labels_val = Variable(labels_val)\n",
    "        if torch.cuda.is_available():\n",
    "            features_val = features_val.cuda()\n",
    "            labels_val = labels_val.cuda() \n",
    "        with torch.no_grad():\n",
    "            outputs_val = model(features_val.float())\n",
    "        loss_val = criterion(outputs_val.float(), labels_val)\n",
    "        validation_loss_val += loss_val.item()\n",
    "        _, predicted = torch.max(outputs_val.data, 1)\n",
    "        # for gpu, bring the predicted and labels back to cpu fro python operations to work\n",
    "        accuracy += f1_score(labels_val.cpu(), predicted.cpu(), average = 'weighted') * 100\n",
    "        val_counter += 1\n",
    "        del features_val\n",
    "        del labels_val          \n",
    "        torch.cuda.empty_cache()\n",
    "        \n",
    "    validation_loss_val /= val_counter\n",
    "    accuracy /=  val_counter\n",
    "        \n",
    "    cur_loss = validation_loss_val\n",
    "    \n",
    "    if(cur_loss < best_loss):\n",
    "        torch.save(model.state_dict(), 'weights_only.pth')\n",
    "        early_stop_epoch = epoch\n",
    "        best_loss = cur_loss\n",
    "        \n",
    "    if(cur_loss > old_loss + loss_dicrease_threshold):\n",
    "        loss_dicrease_count += 1\n",
    "        \n",
    "    if(cur_loss + loss_dicrease_threshold < old_loss):\n",
    "        loss_dicrease_count = 0\n",
    "        \n",
    "    if(loss_dicrease_count == loss_dicrease_limit):\n",
    "        print(\"--------------------\\n\\n\\nYOU NEED STOP\\n\\n\\n\\n----------\")\n",
    "        break\n",
    "    \n",
    "    old_loss = cur_loss\n",
    "       \n",
    "    scheduler.step()\n",
    "     \n",
    "    \n",
    "    train_loss.append(train_loss_val)\n",
    "    validation_loss.append(validation_loss_val)\n",
    "    if(epoch % 20 == 0):\n",
    "        print(\"{\")\n",
    "        print(\"Epoch: {}. Train Loss: {}. \".format(epoch, train_loss_val))\n",
    "        print(\"Epoch: {}. Validation Loss: {}. Validation Accuracy: {}.\".format(epoch, validation_loss_val, accuracy))\n",
    "        print(\"}\")\n",
    "        \n",
    "    tb.add_scalar(\"Train Loss \", train_loss_val, epoch)\n",
    "    tb.add_scalar(\"Validation Loss \", validation_loss_val, epoch)\n",
    "    tb.add_scalar(\"Validation Accur \", accuracy, epoch) \n",
    "        \n",
    "    for name, weight in model.named_parameters():\n",
    "        tb.add_histogram(name, weight, epoch)\n",
    "        tb.add_histogram(f'{name}.grad', weight.grad, epoch)\n",
    "    \n",
    "tb.close()"
   ],
   "execution_count": 27,
   "outputs": [
    {
     "name": "stdout",
     "text": [
      "{\n",
      "Epoch: 0. Train Loss: 0.5097930550575256. \n",
      "Epoch: 0. Validation Loss: 0.40167586505413055. Validation Accuracy: 27.41515136858753.\n",
      "}\n",
      "{\n",
      "Epoch: 20. Train Loss: 0.321930992603302. \n",
      "Epoch: 20. Validation Loss: 0.32288913428783417. Validation Accuracy: 39.49070996590237.\n",
      "}\n",
      "{\n",
      "Epoch: 40. Train Loss: 0.315349942445755. \n",
      "Epoch: 40. Validation Loss: 0.3168076276779175. Validation Accuracy: 40.31294105655663.\n",
      "}\n",
      "{\n",
      "Epoch: 60. Train Loss: 0.3129290759563446. \n",
      "Epoch: 60. Validation Loss: 0.3157006949186325. Validation Accuracy: 41.031949550582326.\n",
      "}\n",
      "{\n",
      "Epoch: 80. Train Loss: 0.3123372972011566. \n",
      "Epoch: 80. Validation Loss: 0.31478723883628845. Validation Accuracy: 41.09559046216939.\n",
      "}\n"
     ],
     "output_type": "stream"
    }
   ]
  },
  {
   "cell_type": "code",
   "execution_count": 28,
   "metadata": {
    "pycharm": {
     "is_executing": false,
     "name": "#%%\n"
    }
   },
   "outputs": [
    {
     "name": "stdout",
     "text": [
      "0:07:10\n"
     ],
     "output_type": "stream"
    }
   ],
   "source": [
    "# calculate time difference and give warning when the epochs finish\n",
    "b = datetime.datetime.now().replace(microsecond=0)\n",
    "print(b-a)\n",
    "import os,time\n",
    "counter = 0\n",
    "while(counter < 1):\n",
    "    os.system('spd-say \"your program has finished\"')\n",
    "    time.sleep(3)\n",
    "    counter += 1"
   ]
  },
  {
   "cell_type": "code",
   "execution_count": 29,
   "metadata": {
    "pycharm": {
     "is_executing": false,
     "name": "#%%\n"
    }
   },
   "outputs": [
    {
     "data": {
      "text/plain": "<Figure size 432x288 with 1 Axes>",
      "image/png": "[encoded data removed]"
     },
     "metadata": {
      "needs_background": "light"
     },
     "output_type": "display_data"
    }
   ],
   "source": [
    "# plotting the training and validation loss\n",
    "plt.plot(train_loss, label='Training loss')\n",
    "plt.plot(validation_loss, label='Validation loss')\n",
    "x = np.full([2], early_stop_epoch, dtype = int)\n",
    "y = np.linspace(min(train_loss), max(validation_loss), 2) \n",
    "plt.plot(x, y, '-r', label='Early stopping Line')\n",
    "plt.title('Train and Validation Loss')\n",
    "plt.xlabel('Epoch', color='#1C2833')\n",
    "plt.ylabel('Validation Loss', color='#1C2833')\n",
    "plt.legend(loc='upper left')\n",
    "plt.legend()\n",
    "plt.grid()\n",
    "# plt.show()\n",
    "plt.savefig(\"loss.png\")"
   ]
  },
  {
   "cell_type": "code",
   "execution_count": 30,
   "metadata": {
    "pycharm": {
     "is_executing": false,
     "name": "#%%\n"
    }
   },
   "outputs": [
    {
     "name": "stdout",
     "text": [
      "89\n"
     ],
     "output_type": "stream"
    },
    {
     "name": "stderr",
     "text": [
      "/home/emreunel/anaconda3/envs/ass3/lib/python3.7/site-packages/ipykernel_launcher.py:7: UserWarning: nn.init.xavier_uniform is now deprecated in favor of nn.init.xavier_uniform_.\n",
      "  import sys\n",
      "/home/emreunel/anaconda3/envs/ass3/lib/python3.7/site-packages/ipykernel_launcher.py:11: UserWarning: nn.init.xavier_uniform is now deprecated in favor of nn.init.xavier_uniform_.\n",
      "  # This is added back by InteractiveShellApp.init_path()\n",
      "/home/emreunel/anaconda3/envs/ass3/lib/python3.7/site-packages/ipykernel_launcher.py:15: UserWarning: nn.init.xavier_uniform is now deprecated in favor of nn.init.xavier_uniform_.\n",
      "  from ipykernel import kernelapp as app\n"
     ],
     "output_type": "stream"
    }
   ],
   "source": [
    "# print the early stopping epoch and create a new network\n",
    "print(early_stop_epoch)\n",
    "the_model = neuralNetwork(input_dim, 20, 10, output_dim, prob)"
   ]
  },
  {
   "cell_type": "code",
   "execution_count": 31,
   "metadata": {
    "pycharm": {
     "is_executing": false,
     "name": "#%%\n"
    }
   },
   "outputs": [],
   "source": [
    "if torch.cuda.is_available():\n",
    "    the_model = the_model.cuda()"
   ]
  },
  {
   "cell_type": "code",
   "execution_count": 32,
   "metadata": {
    "pycharm": {
     "is_executing": false,
     "name": "#%%\n"
    }
   },
   "outputs": [
    {
     "data": {
      "text/plain": "<All keys matched successfully>"
     },
     "metadata": {},
     "output_type": "execute_result",
     "execution_count": 32
    }
   ],
   "source": [
    "# load best weight to new network\n",
    "the_model.load_state_dict(torch.load(\"weights_only.pth\"))"
   ]
  },
  {
   "cell_type": "code",
   "execution_count": 33,
   "metadata": {
    "pycharm": {
     "is_executing": false,
     "name": "#%%\n"
    }
   },
   "outputs": [],
   "source": [
    "X_test  = torch.from_numpy(X_test)\n",
    "y_test = torch.from_numpy(y_test)"
   ]
  },
  {
   "cell_type": "code",
   "execution_count": 34,
   "metadata": {
    "pycharm": {
     "is_executing": false,
     "name": "#%%\n"
    }
   },
   "outputs": [],
   "source": [
    "if torch.cuda.is_available():\n",
    "    X_test = X_test.cuda()\n",
    "    y_test = y_test.cuda() "
   ]
  },
  {
   "cell_type": "code",
   "execution_count": 35,
   "metadata": {
    "pycharm": {
     "is_executing": false,
     "name": "#%%\n"
    }
   },
   "outputs": [],
   "source": [
    "# calculate test results\n",
    "with torch.no_grad():\n",
    "    outputs = the_model(X_test.float())\n",
    "_, predicted = torch.max(outputs.data, 1)"
   ]
  },
  {
   "cell_type": "code",
   "execution_count": 36,
   "metadata": {
    "pycharm": {
     "is_executing": false,
     "name": "#%%\n"
    }
   },
   "outputs": [
    {
     "name": "stdout",
     "text": [
      "Accuracy: \t 0.46310701014045474\n",
      "F1 Score: \t 0.41290069496309384\n",
      "Precision:\t 0.4142764473840717\n",
      "Recall:   \t 0.46310701014045474\n"
     ],
     "output_type": "stream"
    }
   ],
   "source": [
    "# print results\n",
    "print(\"Accuracy: \\t\", accuracy_score(y_test.cpu(), predicted.cpu()))\n",
    "print(\"F1 Score: \\t\", f1_score(y_test.cpu(), predicted.cpu(), average = 'weighted'))\n",
    "print(\"Precision:\\t\", precision_score(y_test.cpu(), predicted.cpu(), average = 'weighted'))\n",
    "print(\"Recall:   \\t\", recall_score(y_test.cpu(), predicted.cpu(), average = 'weighted'))"
   ]
  },
  {
   "cell_type": "code",
   "execution_count": 37,
   "metadata": {
    "pycharm": {
     "is_executing": false,
     "name": "#%%\n"
    }
   },
   "outputs": [
    {
     "data": {
      "text/plain": "<Figure size 432x288 with 2 Axes>",
      "image/png": "[encoded data removed]"
     },
     "metadata": {
      "needs_background": "light"
     },
     "output_type": "display_data"
    }
   ],
   "source": [
    "# show confusion matrix\n",
    "from sklearn.metrics import confusion_matrix\n",
    "cm = confusion_matrix(y_test.cpu(), predicted.cpu())\n",
    "cm = cm.astype('float') / cm.sum(axis=1)[:, np.newaxis]\n",
    "plt.imshow(cm, interpolation='nearest',cmap=\"RdYlGn\")\n",
    "plt.title(\"Confusion Matrix\")\n",
    "plt.colorbar()\n",
    "plt.ylabel('True label')\n",
    "plt.xlabel('Predicted label')\n",
    "for i in range(5):\n",
    "    for j in range(5):\n",
    "        plt.text(j,i,format(cm[i][j],\".2f\"),horizontalalignment=\"center\",color=\"black\")\n",
    "plt.tight_layout()\n",
    "# plt.show()\n",
    "plt.savefig(\"confusion.png\")"
   ]
  }
 ],
 "metadata": {
  "kernelspec": {
   "display_name": "Python 3",
   "language": "python",
   "name": "python3"
  },
  "language_info": {
   "codemirror_mode": {
    "name": "ipython",
    "version": 3
   },
   "file_extension": ".py",
   "mimetype": "text/x-python",
   "name": "python",
   "nbconvert_exporter": "python",
   "pygments_lexer": "ipython3",
   "version": "3.7.4"
  },
  "pycharm": {
   "stem_cell": {
    "cell_type": "raw",
    "source": [],
    "metadata": {
     "collapsed": false
    }
   }
  }
 },
 "nbformat": 4,
 "nbformat_minor": 2
}