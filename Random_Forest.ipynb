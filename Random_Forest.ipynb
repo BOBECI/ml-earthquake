{
 "cells": [
  {
   "cell_type": "code",
   "execution_count": 50,
   "metadata": {
    "collapsed": true,
    "pycharm": {
     "is_executing": false
    }
   },
   "outputs": [
    {
     "data": {
      "text/plain": "(762106, 44)"
     },
     "metadata": {},
     "output_type": "execute_result",
     "execution_count": 50
    }
   ],
   "source": [
    "import pandas as pd\n",
    "from imblearn.combine import SMOTEENN\n",
    "from sklearn.model_selection import train_test_split\n",
    "from sklearn.metrics import accuracy_score, precision_score, recall_score, f1_score, plot_confusion_matrix\n",
    "from sklearn.ensemble import RandomForestClassifier\n",
    "\n",
    "df = pd.read_csv(\"dataset/preprocessed.csv\")\n",
    "df.shape"
   ]
  },
  {
   "cell_type": "code",
   "execution_count": 51,
   "outputs": [
    {
     "data": {
      "text/plain": "(762094, 44)"
     },
     "metadata": {},
     "output_type": "execute_result",
     "execution_count": 51
    }
   ],
   "source": [
    "df = df.drop(df[df.target == -1].index)\n",
    "df.shape"
   ],
   "metadata": {
    "collapsed": false,
    "pycharm": {
     "name": "#%%\n",
     "is_executing": false
    }
   }
  },
  {
   "cell_type": "code",
   "execution_count": 52,
   "outputs": [],
   "source": [
    "# Separate input features and target\n",
    "y = df.target"
   ],
   "metadata": {
    "collapsed": false,
    "pycharm": {
     "name": "#%%\n",
     "is_executing": false
    }
   }
  },
  {
   "cell_type": "code",
   "execution_count": 53,
   "outputs": [],
   "source": [
    "X = df.drop('target', axis = 1)"
   ],
   "metadata": {
    "collapsed": false,
    "pycharm": {
     "name": "#%%\n",
     "is_executing": false
    }
   }
  },
  {
   "cell_type": "code",
   "execution_count": 54,
   "outputs": [],
   "source": [
    "# setting up testing and training sets\n",
    "\n",
    "X_train, X_test, y_train, y_test = train_test_split(X, y, test_size=0.25, random_state=27)\n"
   ],
   "metadata": {
    "collapsed": false,
    "pycharm": {
     "name": "#%%\n",
     "is_executing": false
    }
   }
  },
  {
   "cell_type": "markdown",
   "source": [
    "### Train the model without re-sampling"
   ],
   "metadata": {
    "collapsed": false,
    "pycharm": {
     "name": "#%% md\n",
     "is_executing": false
    }
   }
  },
  {
   "cell_type": "code",
   "execution_count": 55,
   "outputs": [],
   "source": [
    "# Train the model\n",
    "\n",
    "rfc = RandomForestClassifier(n_estimators = 100, n_jobs = -1).fit(X_train, y_train)\n",
    "rfc_pred = rfc.predict(X_test)"
   ],
   "metadata": {
    "collapsed": false,
    "pycharm": {
     "name": "#%%\n",
     "is_executing": false
    }
   }
  },
  {
   "cell_type": "code",
   "execution_count": 66,
   "outputs": [
    {
     "name": "stdout",
     "text": [
      "Accuracy: \t 0.5393073838466544\n",
      "F1 Score: \t 0.49431185854810317\n",
      "Precision:\t 0.49554771601617575\n",
      "Recall:   \t 0.49684951164875046\n"
     ],
     "output_type": "stream"
    }
   ],
   "source": [
    "# Performance results\n",
    "\n",
    "print(\"Accuracy: \\t\", accuracy_score(y_test, rfc_pred))\n",
    "print(\"F1 Score: \\t\", f1_score(y_test, rfc_pred, average = 'macro'))\n",
    "print(\"Precision:\\t\", precision_score(y_test, rfc_pred, average = 'macro'))\n",
    "print(\"Recall:   \\t\", recall_score(y_test, rfc_pred, average = 'macro'))"
   ],
   "metadata": {
    "collapsed": false,
    "pycharm": {
     "name": "#%%\n",
     "is_executing": false
    }
   }
  },
  {
   "cell_type": "code",
   "execution_count": 57,
   "outputs": [
    {
     "data": {
      "text/plain": "<Figure size 432x288 with 2 Axes>",
      "image/png": "[encoded data removed]"
     },
     "metadata": {
      "needs_background": "light"
     },
     "output_type": "display_data"
    }
   ],
   "source": [
    "# Plot normalized confusion matrix\n",
    "\n",
    "import matplotlib.pyplot as plt\n",
    "\n",
    "classes = [\"1\", \"2\", \"3\", \"4\", \"5\"]\n",
    "title = \"Random Forest Without Re-sample\"\n",
    "disp = plot_confusion_matrix(rfc, X_test, y_test, display_labels = classes, cmap = \"copper\", normalize = \"true\")\n",
    "disp.ax_.set_title(title)\n",
    "plt.show()"
   ],
   "metadata": {
    "collapsed": false,
    "pycharm": {
     "name": "#%%\n",
     "is_executing": false
    }
   }
  },
  {
   "cell_type": "markdown",
   "source": [
    "### Train the model with re-sampling"
   ],
   "metadata": {
    "collapsed": false,
    "pycharm": {
     "name": "#%% md\n",
     "is_executing": false
    }
   }
  },
  {
   "cell_type": "code",
   "execution_count": 58,
   "outputs": [],
   "source": [
    "# Re-sample the training set\n",
    "\n",
    "sm = SMOTEENN(random_state = 27, n_jobs = -1)\n",
    "X_train, y_train = sm.fit_sample(X_train, y_train)"
   ],
   "metadata": {
    "collapsed": false,
    "pycharm": {
     "name": "#%%\n",
     "is_executing": false
    }
   }
  },
  {
   "cell_type": "code",
   "execution_count": 59,
   "outputs": [
    {
     "name": "stdout",
     "text": [
      "(426472, 43)\n"
     ],
     "output_type": "stream"
    }
   ],
   "source": [
    "print(X_train.shape)"
   ],
   "metadata": {
    "collapsed": false,
    "pycharm": {
     "name": "#%%\n",
     "is_executing": false
    }
   }
  },
  {
   "cell_type": "code",
   "execution_count": 60,
   "outputs": [],
   "source": [
    "# Train the model\n",
    "\n",
    "rfc_sampled = RandomForestClassifier(n_estimators = 100, n_jobs = -1).fit(X_train, y_train)\n",
    "rfc_sampled_pred = rfc_sampled.predict(X_test)"
   ],
   "metadata": {
    "collapsed": false,
    "pycharm": {
     "name": "#%%\n",
     "is_executing": false
    }
   }
  },
  {
   "cell_type": "code",
   "execution_count": 65,
   "outputs": [
    {
     "name": "stdout",
     "text": [
      "Accuracy: \t 0.5317807730259705\n",
      "F1 Score: \t 0.49581962892703685\n",
      "Precision:\t 0.4859187899718974\n",
      "Recall:   \t 0.517050210422324\n"
     ],
     "output_type": "stream"
    }
   ],
   "source": [
    "# Performance results\n",
    "\n",
    "print(\"Accuracy: \\t\", accuracy_score(y_test, rfc_sampled_pred))\n",
    "print(\"F1 Score: \\t\", f1_score(y_test, rfc_sampled_pred, average = 'macro'))\n",
    "print(\"Precision:\\t\", precision_score(y_test, rfc_sampled_pred, average = 'macro'))\n",
    "print(\"Recall:   \\t\", recall_score(y_test, rfc_sampled_pred, average = 'macro'))"
   ],
   "metadata": {
    "collapsed": false,
    "pycharm": {
     "name": "#%%\n",
     "is_executing": false
    }
   }
  },
  {
   "cell_type": "code",
   "execution_count": 62,
   "outputs": [
    {
     "data": {
      "text/plain": "<Figure size 432x288 with 2 Axes>",
      "image/png": "[encoded data removed]"
     },
     "metadata": {
      "needs_background": "light"
     },
     "output_type": "display_data"
    }
   ],
   "source": [
    "# Plot normalized confusion matrix\n",
    "\n",
    "classes = [\"1\", \"2\", \"3\", \"4\", \"5\"]\n",
    "title = \"Random Forest With Re-sample\"\n",
    "disp = plot_confusion_matrix(rfc_sampled, X_test, y_test, display_labels = classes, cmap = \"copper\", normalize = \"true\")\n",
    "disp.ax_.set_title(title)\n",
    "plt.show()\n"
   ],
   "metadata": {
    "collapsed": false,
    "pycharm": {
     "name": "#%%\n",
     "is_executing": false
    }
   }
  }
 ],
 "metadata": {
  "kernelspec": {
   "display_name": "Python 3",
   "language": "python",
   "name": "python3"
  },
  "language_info": {
   "codemirror_mode": {
    "name": "ipython",
    "version": 2
   },
   "file_extension": ".py",
   "mimetype": "text/x-python",
   "name": "python",
   "nbconvert_exporter": "python",
   "pygments_lexer": "ipython2",
   "version": "2.7.6"
  },
  "pycharm": {
   "stem_cell": {
    "cell_type": "raw",
    "source": [],
    "metadata": {
     "collapsed": false
    }
   }
  }
 },
 "nbformat": 4,
 "nbformat_minor": 0
}
