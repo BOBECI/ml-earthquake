{
 "cells": [
  {
   "cell_type": "code",
   "execution_count": 1,
   "metadata": {
    "collapsed": true,
    "pycharm": {
     "is_executing": false
    }
   },
   "outputs": [
    {
     "data": {
      "text/plain": "(762106, 44)"
     },
     "metadata": {},
     "output_type": "execute_result",
     "execution_count": 1
    }
   ],
   "source": [
    "import pandas as pd\n",
    "from imblearn.combine import SMOTEENN\n",
    "from sklearn.model_selection import train_test_split\n",
    "from sklearn.metrics import accuracy_score, precision_score, recall_score, f1_score, plot_confusion_matrix\n",
    "from sklearn.ensemble import RandomForestClassifier\n",
    "\n",
    "df = pd.read_csv(\"dataset/preprocessed.csv\")\n",
    "df.shape"
   ]
  },
  {
   "cell_type": "code",
   "execution_count": 2,
   "outputs": [
    {
     "data": {
      "text/plain": "(762094, 44)"
     },
     "metadata": {},
     "output_type": "execute_result",
     "execution_count": 2
    }
   ],
   "source": [
    "df = df.drop(df[df.target == -1].index)\n",
    "df.shape"
   ],
   "metadata": {
    "collapsed": false,
    "pycharm": {
     "name": "#%%\n",
     "is_executing": false
    }
   }
  },
  {
   "cell_type": "code",
   "execution_count": 3,
   "outputs": [],
   "source": [
    "# Separate input features and target\n",
    "y = df.target"
   ],
   "metadata": {
    "collapsed": false,
    "pycharm": {
     "name": "#%%\n",
     "is_executing": false
    }
   }
  },
  {
   "cell_type": "code",
   "execution_count": 4,
   "outputs": [],
   "source": [
    "X = df.drop('target', axis = 1)"
   ],
   "metadata": {
    "collapsed": false,
    "pycharm": {
     "name": "#%%\n",
     "is_executing": false
    }
   }
  },
  {
   "cell_type": "code",
   "execution_count": 5,
   "outputs": [],
   "source": [
    "# setting up testing and training sets\n",
    "\n",
    "X_train, X_test, y_train, y_test = train_test_split(X, y, test_size = 0.25, random_state = 27)\n",
    "y_test_3_class = [\"Low\" if x == 1 or x == 2 else \"Medium\" if x == 3  else 'High' for x in y_test]\n",
    "y_train_3_class = [\"Low\" if i == 1 or i == 2 else \"Medium\" if i == 3  else 'High' for i in y_train]"
   ],
   "metadata": {
    "collapsed": false,
    "pycharm": {
     "name": "#%%\n",
     "is_executing": false
    }
   }
  },
  {
   "cell_type": "markdown",
   "source": [
    "### Train the model without re-sampling (5 - classes)"
   ],
   "metadata": {
    "collapsed": false,
    "pycharm": {
     "name": "#%% md\n",
     "is_executing": false
    }
   }
  },
  {
   "cell_type": "code",
   "execution_count": 23,
   "outputs": [],
   "source": [
    "# Train the model\n",
    "\n",
    "rfc = RandomForestClassifier(n_estimators = 100, n_jobs = -1).fit(X_train, y_train)\n",
    "rfc_pred = rfc.predict(X_test)"
   ],
   "metadata": {
    "collapsed": false,
    "pycharm": {
     "name": "#%%\n",
     "is_executing": false
    }
   }
  },
  {
   "cell_type": "code",
   "execution_count": 24,
   "outputs": [
    {
     "name": "stdout",
     "text": [
      "Accuracy: \t 0.538562070920199\n",
      "F1 Score: \t 0.49362060507397076\n",
      "Precision:\t 0.49485217151380567\n",
      "Recall:   \t 0.49604627996597134\n"
     ],
     "output_type": "stream"
    }
   ],
   "source": [
    "# Performance results\n",
    "\n",
    "print(\"Accuracy: \\t\", accuracy_score(y_test, rfc_pred))\n",
    "print(\"F1 Score: \\t\", f1_score(y_test, rfc_pred, average = 'macro'))\n",
    "print(\"Precision:\\t\", precision_score(y_test, rfc_pred, average = 'macro'))\n",
    "print(\"Recall:   \\t\", recall_score(y_test, rfc_pred, average = 'macro'))"
   ],
   "metadata": {
    "collapsed": false,
    "pycharm": {
     "name": "#%%\n",
     "is_executing": false
    }
   }
  },
  {
   "cell_type": "code",
   "execution_count": 25,
   "outputs": [
    {
     "data": {
      "text/plain": "<Figure size 432x288 with 2 Axes>",
      "image/png": "[encoded data removed]"
     },
     "metadata": {
      "needs_background": "light"
     },
     "output_type": "display_data"
    }
   ],
   "source": [
    "# Plot normalized confusion matrix\n",
    "\n",
    "import matplotlib.pyplot as plt\n",
    "\n",
    "classes = [\"1\", \"2\", \"3\", \"4\", \"5\"]\n",
    "title = \"Random Forest Without Re-sample 5-class\"\n",
    "disp = plot_confusion_matrix(rfc, X_test, y_test, display_labels = classes, cmap = \"copper\", normalize = \"true\")\n",
    "disp.ax_.set_title(title)\n",
    "plt.show()"
   ],
   "metadata": {
    "collapsed": false,
    "pycharm": {
     "name": "#%%\n",
     "is_executing": false
    }
   }
  },
  {
   "cell_type": "markdown",
   "source": [
    "### Train the model without re-sampling (3 - classes)"
   ],
   "metadata": {
    "collapsed": false
   }
  },
  {
   "cell_type": "code",
   "execution_count": 9,
   "outputs": [],
   "source": [
    "# Train the model\n",
    "\n",
    "rfc = RandomForestClassifier(n_estimators = 100, n_jobs = -1).fit(X_train, y_train_3_class)\n",
    "rfc_pred = rfc.predict(X_test)"
   ],
   "metadata": {
    "collapsed": false,
    "pycharm": {
     "name": "#%%\n",
     "is_executing": false
    }
   }
  },
  {
   "cell_type": "code",
   "execution_count": 10,
   "outputs": [
    {
     "name": "stdout",
     "text": [
      "Accuracy: \t 0.7322017173689404\n",
      "F1 Score: \t 0.6168616996159987\n",
      "Precision:\t 0.6406490149438215\n",
      "Recall:   \t 0.61055934680182\n"
     ],
     "output_type": "stream"
    }
   ],
   "source": [
    "# Performance results\n",
    "\n",
    "print(\"Accuracy: \\t\", accuracy_score(y_test_3_class, rfc_pred))\n",
    "print(\"F1 Score: \\t\", f1_score(y_test_3_class, rfc_pred, average = 'macro'))\n",
    "print(\"Precision:\\t\", precision_score(y_test_3_class, rfc_pred, average = 'macro'))\n",
    "print(\"Recall:   \\t\", recall_score(y_test_3_class, rfc_pred, average = 'macro'))"
   ],
   "metadata": {
    "collapsed": false,
    "pycharm": {
     "name": "#%%\n",
     "is_executing": false
    }
   }
  },
  {
   "cell_type": "code",
   "execution_count": 11,
   "outputs": [
    {
     "data": {
      "text/plain": "<Figure size 432x288 with 2 Axes>",
      "image/png": "[encoded data removed]"
     },
     "metadata": {
      "needs_background": "light"
     },
     "output_type": "display_data"
    }
   ],
   "source": [
    "# Plot normalized confusion matrix\n",
    "\n",
    "import matplotlib.pyplot as plt\n",
    "\n",
    "classes = [\"Low\", \"Medium\", \"High\"]\n",
    "title = \"Random Forest Without Re-sample 3-class\"\n",
    "disp = plot_confusion_matrix(rfc, X_test, y_test_3_class, display_labels = classes, cmap = \"copper\", normalize = \"true\")\n",
    "disp.ax_.set_title(title)\n",
    "plt.show()"
   ],
   "metadata": {
    "collapsed": false,
    "pycharm": {
     "name": "#%%\n",
     "is_executing": false
    }
   }
  },
  {
   "cell_type": "markdown",
   "source": [
    "### Train the model with re-sampling (5 - Classes)"
   ],
   "metadata": {
    "collapsed": false,
    "pycharm": {
     "name": "#%% md\n",
     "is_executing": false
    }
   }
  },
  {
   "cell_type": "code",
   "execution_count": 12,
   "outputs": [],
   "source": [
    "# Re-sample the training set\n",
    "\n",
    "sm = SMOTEENN(random_state = 27, n_jobs = -1)\n",
    "X_train_sampled_5_class, y_train_sampled_5_class = sm.fit_sample(X_train, y_train)"
   ],
   "metadata": {
    "collapsed": false,
    "pycharm": {
     "name": "#%%\n",
     "is_executing": false
    }
   }
  },
  {
   "cell_type": "code",
   "execution_count": 13,
   "outputs": [
    {
     "name": "stdout",
     "text": [
      "(426472, 43)\n"
     ],
     "output_type": "stream"
    }
   ],
   "source": [
    "print(X_train_sampled_5_class.shape)"
   ],
   "metadata": {
    "collapsed": false,
    "pycharm": {
     "name": "#%%\n",
     "is_executing": false
    }
   }
  },
  {
   "cell_type": "code",
   "execution_count": 14,
   "outputs": [],
   "source": [
    "# Train the model\n",
    "\n",
    "rfc_sampled = RandomForestClassifier(n_estimators = 100, n_jobs = -1).fit(X_train_sampled_5_class, y_train_sampled_5_class)\n",
    "rfc_sampled_pred = rfc_sampled.predict(X_test)"
   ],
   "metadata": {
    "collapsed": false,
    "pycharm": {
     "name": "#%%\n",
     "is_executing": false
    }
   }
  },
  {
   "cell_type": "code",
   "execution_count": 15,
   "outputs": [
    {
     "name": "stdout",
     "text": [
      "Accuracy: \t 0.5315760744053243\n",
      "F1 Score: \t 0.49552755701851686\n",
      "Precision:\t 0.48563387312863293\n",
      "Recall:   \t 0.516616830977954\n"
     ],
     "output_type": "stream"
    }
   ],
   "source": [
    "# Performance results\n",
    "\n",
    "print(\"Accuracy: \\t\", accuracy_score(y_test, rfc_sampled_pred))\n",
    "print(\"F1 Score: \\t\", f1_score(y_test, rfc_sampled_pred, average = 'macro'))\n",
    "print(\"Precision:\\t\", precision_score(y_test, rfc_sampled_pred, average = 'macro'))\n",
    "print(\"Recall:   \\t\", recall_score(y_test, rfc_sampled_pred, average = 'macro'))"
   ],
   "metadata": {
    "collapsed": false,
    "pycharm": {
     "name": "#%%\n",
     "is_executing": false
    }
   }
  },
  {
   "cell_type": "code",
   "execution_count": 16,
   "outputs": [
    {
     "data": {
      "text/plain": "<Figure size 432x288 with 2 Axes>",
      "image/png": "[encoded data removed]"
     },
     "metadata": {
      "needs_background": "light"
     },
     "output_type": "display_data"
    }
   ],
   "source": [
    "# Plot normalized confusion matrix\n",
    "\n",
    "classes = [\"1\", \"2\", \"3\", \"4\", \"5\"]\n",
    "title = \"Random Forest With Re-sample\"\n",
    "disp = plot_confusion_matrix(rfc_sampled, X_test, y_test, display_labels = classes, cmap = \"copper\", normalize = \"true\")\n",
    "disp.ax_.set_title(title)\n",
    "plt.show()"
   ],
   "metadata": {
    "collapsed": false,
    "pycharm": {
     "name": "#%%\n",
     "is_executing": false
    }
   }
  },
  {
   "cell_type": "markdown",
   "source": [
    "### Train the model with re-sampling (3 - Classes)"
   ],
   "metadata": {
    "collapsed": false
   }
  },
  {
   "cell_type": "code",
   "execution_count": 17,
   "outputs": [],
   "source": [
    "# Re-sample the training set\n",
    "\n",
    "sm = SMOTEENN(random_state = 27, n_jobs = -1)\n",
    "X_train_sampled_3_class, y_train_sampled_3_class = sm.fit_sample(X_train, y_train_3_class)"
   ],
   "metadata": {
    "collapsed": false,
    "pycharm": {
     "name": "#%%\n",
     "is_executing": false
    }
   }
  },
  {
   "cell_type": "code",
   "execution_count": 18,
   "outputs": [
    {
     "name": "stdout",
     "text": [
      "(589004, 43)\n"
     ],
     "output_type": "stream"
    }
   ],
   "source": [
    "print(X_train_sampled_3_class.shape)"
   ],
   "metadata": {
    "collapsed": false,
    "pycharm": {
     "name": "#%%\n",
     "is_executing": false
    }
   }
  },
  {
   "cell_type": "code",
   "execution_count": 19,
   "outputs": [],
   "source": [
    "# Train the model\n",
    "\n",
    "rfc_sampled = RandomForestClassifier(n_estimators = 100, n_jobs = -1).fit(X_train_sampled_3_class, y_train_sampled_3_class)\n",
    "rfc_sampled_pred = rfc_sampled.predict(X_test)"
   ],
   "metadata": {
    "collapsed": false,
    "pycharm": {
     "name": "#%%\n",
     "is_executing": false
    }
   }
  },
  {
   "cell_type": "code",
   "execution_count": 20,
   "outputs": [
    {
     "name": "stdout",
     "text": [
      "Accuracy: \t 0.7093332073649514\n",
      "F1 Score: \t 0.6409748808911516\n",
      "Precision:\t 0.6322314166399473\n",
      "Recall:   \t 0.654221754126946\n"
     ],
     "output_type": "stream"
    }
   ],
   "source": [
    "# Performance results\n",
    "\n",
    "print(\"Accuracy: \\t\", accuracy_score(y_test_3_class, rfc_sampled_pred))\n",
    "print(\"F1 Score: \\t\", f1_score(y_test_3_class, rfc_sampled_pred, average = 'macro'))\n",
    "print(\"Precision:\\t\", precision_score(y_test_3_class, rfc_sampled_pred, average = 'macro'))\n",
    "print(\"Recall:   \\t\", recall_score(y_test_3_class, rfc_sampled_pred, average = 'macro'))"
   ],
   "metadata": {
    "collapsed": false,
    "pycharm": {
     "name": "#%%\n",
     "is_executing": false
    }
   }
  },
  {
   "cell_type": "code",
   "execution_count": 21,
   "outputs": [
    {
     "data": {
      "text/plain": "<Figure size 432x288 with 2 Axes>",
      "image/png": "[encoded data removed]"
     },
     "metadata": {
      "needs_background": "light"
     },
     "output_type": "display_data"
    }
   ],
   "source": [
    "# Plot normalized confusion matrix\n",
    "\n",
    "classes = [\"Low\", \"Medium\", \"High\"]\n",
    "title = \"Random Forest With Re-sample 3-class\"\n",
    "disp = plot_confusion_matrix(rfc_sampled, X_test, y_test_3_class, display_labels = classes, cmap = \"copper\", normalize = \"true\")\n",
    "disp.ax_.set_title(title)\n",
    "plt.show()\n"
   ],
   "metadata": {
    "collapsed": false,
    "pycharm": {
     "name": "#%%\n",
     "is_executing": false
    }
   }
  }
 ],
 "metadata": {
  "kernelspec": {
   "display_name": "Python 3",
   "language": "python",
   "name": "python3"
  },
  "language_info": {
   "codemirror_mode": {
    "name": "ipython",
    "version": 2
   },
   "file_extension": ".py",
   "mimetype": "text/x-python",
   "name": "python",
   "nbconvert_exporter": "python",
   "pygments_lexer": "ipython2",
   "version": "2.7.6"
  },
  "pycharm": {
   "stem_cell": {
    "cell_type": "raw",
    "source": [],
    "metadata": {
     "collapsed": false
    }
   }
  }
 },
 "nbformat": 4,
 "nbformat_minor": 0
}