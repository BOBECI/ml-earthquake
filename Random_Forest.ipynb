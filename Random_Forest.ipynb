{
 "cells": [
  {
   "cell_type": "code",
   "execution_count": 1,
   "metadata": {
    "pycharm": {
     "is_executing": false
    }
   },
   "outputs": [],
   "source": [
    "import pandas as pd\n",
    "import numpy as np\n",
    "\n",
    "data = pd.read_csv(\"dataset/preprocessed.csv\")\n",
    "data = data.drop([\"Unnamed: 0\"], axis = 1)"
   ]
  },
  {
   "cell_type": "code",
   "execution_count": 2,
   "outputs": [],
   "source": [
    "# Find and return the correlation of the train set\n",
    "\n",
    "def find_corr(dataset, x_train, y_train):\n",
    "    names_of_features = dataset.columns\n",
    "    features = x_train\n",
    "    targets = y_train\n",
    "    \n",
    "    targets = targets.reshape(targets.shape[0], 1)\n",
    "    data_np = np.append(features, targets, axis = 1)\n",
    "    train_set = pd.DataFrame(data = data_np, columns = names_of_features)\n",
    "    \n",
    "    corr_matrix = train_set.corr()    \n",
    "    sorted_feature_corr = corr_matrix[\"target\"].sort_values(ascending = False).to_frame()\n",
    "    return sorted_feature_corr"
   ],
   "metadata": {
    "collapsed": false,
    "pycharm": {
     "name": "#%%\n",
     "is_executing": false
    }
   }
  },
  {
   "cell_type": "code",
   "execution_count": 3,
   "outputs": [
    {
     "name": "stdout",
     "text": [
      "Frequencies of the classes:\n",
      "[[     1      2      3      4      5]\n",
      " [ 78815  87257 136412 183844 275766]]\n"
     ],
     "output_type": "stream"
    }
   ],
   "source": [
    "data_npWNan = data.iloc[:, :].values\n",
    "data_np = data_npWNan[data_npWNan[:, -1] != -1]\n",
    "unique_elements, counts_elements = np.unique(data_np[:, -1], return_counts = True)\n",
    "print(\"Frequencies of the classes:\")\n",
    "print(np.asarray((unique_elements, counts_elements)))"
   ],
   "metadata": {
    "collapsed": false,
    "pycharm": {
     "name": "#%%\n",
     "is_executing": false
    }
   }
  },
  {
   "cell_type": "code",
   "execution_count": 4,
   "outputs": [],
   "source": [
    "feature = data_np[:, :-1]\n",
    "target = data_np[:, -1]"
   ],
   "metadata": {
    "collapsed": false,
    "pycharm": {
     "name": "#%%\n",
     "is_executing": false
    }
   }
  },
  {
   "cell_type": "code",
   "execution_count": 5,
   "outputs": [],
   "source": [
    "from sklearn.model_selection import train_test_split\n",
    "X_train, X_test, Y_train, Y_test = train_test_split(feature, target, test_size = 0.2, random_state = 0)"
   ],
   "metadata": {
    "collapsed": false,
    "pycharm": {
     "name": "#%%\n",
     "is_executing": false
    }
   }
  },
  {
   "cell_type": "code",
   "execution_count": 6,
   "outputs": [],
   "source": [
    "from imblearn.combine import SMOTEENN\n",
    "\n",
    "sme = SMOTEENN(random_state = 47, n_jobs = -1)\n",
    "sampled_X, sampled_Y = sme.fit_resample(X_train, Y_train)"
   ],
   "metadata": {
    "collapsed": false,
    "pycharm": {
     "name": "#%%\n",
     "is_executing": false
    }
   }
  },
  {
   "cell_type": "code",
   "execution_count": 7,
   "metadata": {
    "pycharm": {
     "is_executing": false,
     "name": "#%%\n"
    }
   },
   "outputs": [],
   "source": [
    "# 42 (+1 target) features we have\n",
    "first_feature_count =           21\n",
    "last_feature_count =            20\n",
    "depth   =   first_feature_count     +   last_feature_count  -1  -  (first_feature_count    +   last_feature_count) // 5"
   ]
  },
  {
   "cell_type": "code",
   "execution_count": 8,
   "metadata": {
    "pycharm": {
     "is_executing": false,
     "name": "#%%\n"
    }
   },
   "outputs": [],
   "source": [
    "corrs = find_corr(data, feature, target)"
   ]
  },
  {
   "cell_type": "code",
   "execution_count": 9,
   "outputs": [
    {
     "data": {
      "text/plain": "                                                      target\ntarget                                              1.000000\nhas_superstructure_mud_mortar_stone                 0.480441\nfoundation_type_Mud mortar-Stone/Brick              0.445882\nground_floor_type_Mud                               0.295451\nother_floor_type_TImber/Bamboo-Mud                  0.251744\nage_building                                        0.208027\ncount_floors_pre_eq                                 0.188363\nroof_type_Bamboo/Timber-Light_roof                  0.106321\nroof_type_Bamboo/Timber-Heavy_roof                  0.075047\nhas_superstructure_stone_flag                       0.065972\nplan_configuration_Rectangular                      0.065104\nheight_ft_pre_eq                                    0.055052\nposition_Attached-1_side                            0.053221\nother_floor_type_Timber-Planck                      0.032841\nground_floor_type_Brick/Stone                       0.026403\nland_surface_condition_Steep_slope                  0.019598\nland_surface_condition_Moderate_slope               0.015998\nhas_superstructure_adobe_mud                        0.005949\nplan_configuration_Square                          -0.000287\nplan_configuration_H-shape                         -0.002527\nplan_configuration_E-shape                         -0.003181\nplan_configuration_Building_with_Central_Courtyard -0.011384\nplan_configuration_U_Shape                         -0.016949\nplan_configuration_T_Shape                         -0.017516\nposition_Not_attached                              -0.019973\nground_floor_type_Timber                           -0.024010\nplan_configuration_Multi_Projected                 -0.029850\nhas_superstructure_mud_mortar_brick                -0.031637\nhas_superstructure_other                           -0.049159\nposition_Attached-2_side                           -0.058691\nhas_superstructure_cement_mortar_stone             -0.066205\nplan_configuration_L-shape                         -0.086150\nhas_superstructure_bamboo                          -0.110477\nhas_superstructure_timber                          -0.111689\nplinth_area_sq_ft                                  -0.168073\nfoundation_type_Cement-Stone/Brick                 -0.175588\nother_floor_type_Not_applicable                    -0.206360\nhas_superstructure_rc_non_engineered               -0.208014\nhas_superstructure_rc_engineered                   -0.211588\nfoundation_type_Bamboo/Timber                      -0.243453\nfoundation_type_RC                                 -0.319930\nhas_superstructure_cement_mortar_brick             -0.349376\nground_floor_type_RC                               -0.408884",
      "text/html": "<div>\n<style scoped>\n    .dataframe tbody tr th:only-of-type {\n        vertical-align: middle;\n    }\n\n    .dataframe tbody tr th {\n        vertical-align: top;\n    }\n\n    .dataframe thead th {\n        text-align: right;\n    }\n</style>\n<table border=\"1\" class=\"dataframe\">\n  <thead>\n    <tr style=\"text-align: right;\">\n      <th></th>\n      <th>target</th>\n    </tr>\n  </thead>\n  <tbody>\n    <tr>\n      <td>target</td>\n      <td>1.000000</td>\n    </tr>\n    <tr>\n      <td>has_superstructure_mud_mortar_stone</td>\n      <td>0.480441</td>\n    </tr>\n    <tr>\n      <td>foundation_type_Mud mortar-Stone/Brick</td>\n      <td>0.445882</td>\n    </tr>\n    <tr>\n      <td>ground_floor_type_Mud</td>\n      <td>0.295451</td>\n    </tr>\n    <tr>\n      <td>other_floor_type_TImber/Bamboo-Mud</td>\n      <td>0.251744</td>\n    </tr>\n    <tr>\n      <td>age_building</td>\n      <td>0.208027</td>\n    </tr>\n    <tr>\n      <td>count_floors_pre_eq</td>\n      <td>0.188363</td>\n    </tr>\n    <tr>\n      <td>roof_type_Bamboo/Timber-Light_roof</td>\n      <td>0.106321</td>\n    </tr>\n    <tr>\n      <td>roof_type_Bamboo/Timber-Heavy_roof</td>\n      <td>0.075047</td>\n    </tr>\n    <tr>\n      <td>has_superstructure_stone_flag</td>\n      <td>0.065972</td>\n    </tr>\n    <tr>\n      <td>plan_configuration_Rectangular</td>\n      <td>0.065104</td>\n    </tr>\n    <tr>\n      <td>height_ft_pre_eq</td>\n      <td>0.055052</td>\n    </tr>\n    <tr>\n      <td>position_Attached-1_side</td>\n      <td>0.053221</td>\n    </tr>\n    <tr>\n      <td>other_floor_type_Timber-Planck</td>\n      <td>0.032841</td>\n    </tr>\n    <tr>\n      <td>ground_floor_type_Brick/Stone</td>\n      <td>0.026403</td>\n    </tr>\n    <tr>\n      <td>land_surface_condition_Steep_slope</td>\n      <td>0.019598</td>\n    </tr>\n    <tr>\n      <td>land_surface_condition_Moderate_slope</td>\n      <td>0.015998</td>\n    </tr>\n    <tr>\n      <td>has_superstructure_adobe_mud</td>\n      <td>0.005949</td>\n    </tr>\n    <tr>\n      <td>plan_configuration_Square</td>\n      <td>-0.000287</td>\n    </tr>\n    <tr>\n      <td>plan_configuration_H-shape</td>\n      <td>-0.002527</td>\n    </tr>\n    <tr>\n      <td>plan_configuration_E-shape</td>\n      <td>-0.003181</td>\n    </tr>\n    <tr>\n      <td>plan_configuration_Building_with_Central_Courtyard</td>\n      <td>-0.011384</td>\n    </tr>\n    <tr>\n      <td>plan_configuration_U_Shape</td>\n      <td>-0.016949</td>\n    </tr>\n    <tr>\n      <td>plan_configuration_T_Shape</td>\n      <td>-0.017516</td>\n    </tr>\n    <tr>\n      <td>position_Not_attached</td>\n      <td>-0.019973</td>\n    </tr>\n    <tr>\n      <td>ground_floor_type_Timber</td>\n      <td>-0.024010</td>\n    </tr>\n    <tr>\n      <td>plan_configuration_Multi_Projected</td>\n      <td>-0.029850</td>\n    </tr>\n    <tr>\n      <td>has_superstructure_mud_mortar_brick</td>\n      <td>-0.031637</td>\n    </tr>\n    <tr>\n      <td>has_superstructure_other</td>\n      <td>-0.049159</td>\n    </tr>\n    <tr>\n      <td>position_Attached-2_side</td>\n      <td>-0.058691</td>\n    </tr>\n    <tr>\n      <td>has_superstructure_cement_mortar_stone</td>\n      <td>-0.066205</td>\n    </tr>\n    <tr>\n      <td>plan_configuration_L-shape</td>\n      <td>-0.086150</td>\n    </tr>\n    <tr>\n      <td>has_superstructure_bamboo</td>\n      <td>-0.110477</td>\n    </tr>\n    <tr>\n      <td>has_superstructure_timber</td>\n      <td>-0.111689</td>\n    </tr>\n    <tr>\n      <td>plinth_area_sq_ft</td>\n      <td>-0.168073</td>\n    </tr>\n    <tr>\n      <td>foundation_type_Cement-Stone/Brick</td>\n      <td>-0.175588</td>\n    </tr>\n    <tr>\n      <td>other_floor_type_Not_applicable</td>\n      <td>-0.206360</td>\n    </tr>\n    <tr>\n      <td>has_superstructure_rc_non_engineered</td>\n      <td>-0.208014</td>\n    </tr>\n    <tr>\n      <td>has_superstructure_rc_engineered</td>\n      <td>-0.211588</td>\n    </tr>\n    <tr>\n      <td>foundation_type_Bamboo/Timber</td>\n      <td>-0.243453</td>\n    </tr>\n    <tr>\n      <td>foundation_type_RC</td>\n      <td>-0.319930</td>\n    </tr>\n    <tr>\n      <td>has_superstructure_cement_mortar_brick</td>\n      <td>-0.349376</td>\n    </tr>\n    <tr>\n      <td>ground_floor_type_RC</td>\n      <td>-0.408884</td>\n    </tr>\n  </tbody>\n</table>\n</div>"
     },
     "metadata": {},
     "output_type": "execute_result",
     "execution_count": 9
    }
   ],
   "source": [
    "corrs"
   ],
   "metadata": {
    "collapsed": false,
    "pycharm": {
     "name": "#%%\n",
     "is_executing": false
    }
   }
  },
  {
   "cell_type": "code",
   "execution_count": 10,
   "outputs": [
    {
     "data": {
      "text/plain": "Index(['target', 'has_superstructure_mud_mortar_stone',\n       'foundation_type_Mud mortar-Stone/Brick', 'ground_floor_type_Mud',\n       'other_floor_type_TImber/Bamboo-Mud', 'age_building',\n       'count_floors_pre_eq', 'roof_type_Bamboo/Timber-Light_roof',\n       'roof_type_Bamboo/Timber-Heavy_roof', 'has_superstructure_stone_flag',\n       'plan_configuration_Rectangular', 'height_ft_pre_eq',\n       'position_Attached-1_side', 'other_floor_type_Timber-Planck',\n       'ground_floor_type_Brick/Stone', 'land_surface_condition_Steep_slope',\n       'land_surface_condition_Moderate_slope', 'has_superstructure_adobe_mud',\n       'plan_configuration_Square', 'plan_configuration_H-shape',\n       'plan_configuration_E-shape',\n       'plan_configuration_Building_with_Central_Courtyard',\n       'plan_configuration_U_Shape', 'plan_configuration_T_Shape',\n       'position_Not_attached', 'ground_floor_type_Timber',\n       'plan_configuration_Multi_Projected',\n       'has_superstructure_mud_mortar_brick', 'has_superstructure_other',\n       'position_Attached-2_side', 'has_superstructure_cement_mortar_stone',\n       'plan_configuration_L-shape', 'has_superstructure_bamboo',\n       'has_superstructure_timber', 'plinth_area_sq_ft',\n       'foundation_type_Cement-Stone/Brick', 'other_floor_type_Not_applicable',\n       'has_superstructure_rc_non_engineered',\n       'has_superstructure_rc_engineered', 'foundation_type_Bamboo/Timber',\n       'foundation_type_RC', 'has_superstructure_cement_mortar_brick',\n       'ground_floor_type_RC'],\n      dtype='object')"
     },
     "metadata": {},
     "output_type": "execute_result",
     "execution_count": 10
    }
   ],
   "source": [
    "a = corrs.iloc[:, 0]\n",
    "a = a.to_frame()\n",
    "a.index"
   ],
   "metadata": {
    "collapsed": false,
    "pycharm": {
     "name": "#%%\n",
     "is_executing": false
    }
   }
  },
  {
   "cell_type": "code",
   "execution_count": 11,
   "outputs": [
    {
     "data": {
      "text/plain": "(315389, 42)"
     },
     "metadata": {},
     "output_type": "execute_result",
     "execution_count": 11
    }
   ],
   "source": [
    "sampled_X.shape"
   ],
   "metadata": {
    "collapsed": false,
    "pycharm": {
     "name": "#%%\n",
     "is_executing": false
    }
   }
  },
  {
   "cell_type": "code",
   "execution_count": 12,
   "outputs": [
    {
     "name": "stdout",
     "text": [
      "INDEX:  21\n",
      "INDEX OF FEATURE:  33\n"
     ],
     "output_type": "stream"
    }
   ],
   "source": [
    "# Delete features which have low correlation\n",
    "\n",
    "for i in range(first_feature_count, corrs.shape[0] - 1 - last_feature_count):\n",
    "    print(\"INDEX: \", i)\n",
    "    index_of_feature = data.columns.get_loc(a.index[i])\n",
    "    print(\"INDEX OF FEATURE: \", index_of_feature)\n",
    "    sampled_X = np.delete(sampled_X, index_of_feature, axis = 1)\n",
    "    new_x_test = np.delete(X_test, index_of_feature, axis = 1)\n",
    "\n",
    "#sampled_X = np.delete(sampled_X, list(sampled_X.columns)[0], axis = 1)"
   ],
   "metadata": {
    "collapsed": false,
    "pycharm": {
     "name": "#%%\n",
     "is_executing": false
    }
   }
  },
  {
   "cell_type": "code",
   "execution_count": 13,
   "outputs": [
    {
     "data": {
      "text/plain": "(315389, 41)"
     },
     "metadata": {},
     "output_type": "execute_result",
     "execution_count": 13
    }
   ],
   "source": [
    "sampled_X.shape\n"
   ],
   "metadata": {
    "collapsed": false,
    "pycharm": {
     "name": "#%%\n",
     "is_executing": false
    }
   }
  },
  {
   "cell_type": "code",
   "execution_count": 14,
   "metadata": {
    "pycharm": {
     "is_executing": false,
     "name": "#%%\n"
    }
   },
   "outputs": [
    {
     "name": "stdout",
     "text": [
      "1  tree\n",
      "5  tree\n",
      "10  tree\n",
      "50  tree\n",
      "100  tree\n",
      "250  tree\n",
      "500  tree\n"
     ],
     "output_type": "stream"
    }
   ],
   "source": [
    "from sklearn.metrics import accuracy_score, confusion_matrix\n",
    "from sklearn.ensemble import RandomForestClassifier\n",
    "\n",
    "tree = [1, 5, 10, 50, 100, 250, 500]\n",
    "acclist = []\n",
    "\n",
    "for i in tree:\n",
    "    model = RandomForestClassifier(n_estimators=i,\n",
    "                                   n_jobs=-1,\n",
    "                                   bootstrap = True,\n",
    "                                   max_depth = depth,\n",
    "                                   max_features = 'auto')\n",
    "    \n",
    "    model.fit(sampled_X, sampled_Y)\n",
    "    RF_predictions =  model.predict(new_x_test)\n",
    "    acc = accuracy_score(Y_test, RF_predictions)\n",
    "    acclist.append(acc)\n",
    "    print(i,\" tree\")"
   ]
  },
  {
   "cell_type": "code",
   "execution_count": 18,
   "metadata": {
    "pycharm": {
     "is_executing": false,
     "name": "#%%\n"
    }
   },
   "outputs": [
    {
     "data": {
      "text/plain": "<Figure size 432x288 with 2 Axes>",
      "image/png": "[encoded data removed]"
     },
     "metadata": {
      "needs_background": "light"
     },
     "output_type": "display_data"
    }
   ],
   "source": [
    "import matplotlib.pyplot as plt\n",
    "cm = confusion_matrix(Y_test, RF_predictions)\n",
    "cm = cm.astype('float') / cm.sum(axis = 1)[:, np.newaxis]\n",
    "plt.imshow(cm, interpolation = 'nearest',cmap = \"RdYlGn\")\n",
    "plt.title(\"Confusion Matrix\")\n",
    "plt.colorbar()\n",
    "plt.ylabel('True label')\n",
    "plt.xlabel('Predicted label')\n",
    "\n",
    "for i in range(5):\n",
    "    for j in range(5):\n",
    "        plt.text(j, i, format(cm[i][j], \".2f\"), horizontalalignment = \"center\",color = \"black\")\n",
    "\n",
    "plt.tight_layout()\n",
    "plt.show()"
   ]
  },
  {
   "cell_type": "code",
   "execution_count": 16,
   "metadata": {
    "pycharm": {
     "is_executing": false,
     "name": "#%%\n"
    }
   },
   "outputs": [
    {
     "data": {
      "text/plain": "<Figure size 432x288 with 1 Axes>",
      "image/png": "[encoded data removed]"
     },
     "metadata": {
      "needs_background": "light"
     },
     "output_type": "display_data"
    }
   ],
   "source": [
    "plt.plot(tree, acclist, label = 'Random Forest accuracy')\n",
    "plt.legend()\n",
    "plt.show()"
   ]
  },
  {
   "cell_type": "code",
   "execution_count": 17,
   "metadata": {
    "pycharm": {
     "is_executing": false,
     "name": "#%%\n"
    }
   },
   "outputs": [
    {
     "name": "stdout",
     "text": [
      "[0.3524232543186873, 0.3696914426679089, 0.3807071296885559, 0.3873401610035494, 0.38848175096280646, 0.39043688778958, 0.39071244398664207]\n"
     ],
     "output_type": "stream"
    }
   ],
   "source": [
    "print(acclist)"
   ]
  }
 ],
 "metadata": {
  "kernelspec": {
   "display_name": "Python 3",
   "language": "python",
   "name": "python3"
  },
  "language_info": {
   "codemirror_mode": {
    "name": "ipython",
    "version": 3
   },
   "file_extension": ".py",
   "mimetype": "text/x-python",
   "name": "python",
   "nbconvert_exporter": "python",
   "pygments_lexer": "ipython3",
   "version": "3.7.5"
  },
  "pycharm": {
   "stem_cell": {
    "cell_type": "raw",
    "source": [],
    "metadata": {
     "collapsed": false
    }
   }
  }
 },
 "nbformat": 4,
 "nbformat_minor": 1
}