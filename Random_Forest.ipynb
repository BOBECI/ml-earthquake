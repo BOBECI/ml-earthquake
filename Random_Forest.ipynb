{
 "cells": [
  {
   "cell_type": "code",
   "execution_count": 1,
   "metadata": {
    "pycharm": {
     "is_executing": false
    }
   },
   "outputs": [],
   "source": [
    "import pandas as pd\n",
    "import numpy as np\n",
    "\n",
    "sortedFeatureCorr = pd.read_csv(\"dataset/corr.csv\")\n",
    "data = pd.read_csv(\"dataset/preprocessed.csv\")"
   ]
  },
  {
   "cell_type": "code",
   "execution_count": 2,
   "metadata": {
    "pycharm": {
     "is_executing": false,
     "name": "#%%\n"
    }
   },
   "outputs": [],
   "source": [
    "#42 feature we have\n",
    "first_feature_count =           21\n",
    "last_feature_count =            20\n",
    "depth   =   first_feature_count     +   last_feature_count  -1  -  (first_feature_count    +   last_feature_count)//5"
   ]
  },
  {
   "cell_type": "code",
   "execution_count": 3,
   "metadata": {
    "pycharm": {
     "is_executing": false,
     "name": "#%%\n"
    }
   },
   "outputs": [],
   "source": [
    "a = sortedFeatureCorr.iloc[:, 0].values"
   ]
  },
  {
   "cell_type": "code",
   "execution_count": 4,
   "metadata": {
    "pycharm": {
     "is_executing": false,
     "name": "#%%\n"
    }
   },
   "outputs": [],
   "source": [
    "for i in range(first_feature_count , sortedFeatureCorr.shape[0] - last_feature_count):\n",
    "    data = data.drop(a[i], axis=1)\n",
    "data=data.drop(list(data.columns)[0], axis=1)"
   ]
  },
  {
   "cell_type": "code",
   "execution_count": 5,
   "metadata": {
    "pycharm": {
     "is_executing": false,
     "name": "#%%\n"
    }
   },
   "outputs": [
    {
     "name": "stdout",
     "output_type": "stream",
     "text": [
      "Frequency of unique values of the said array:\n",
      "[[     1      2      3      4      5]\n",
      " [ 78815  87257 136412 183844 275766]]\n"
     ]
    }
   ],
   "source": [
    "data_npWNan = data.iloc[:, :].values\n",
    "data_np = data_npWNan[data_npWNan[:,-1]!= -1 ]\n",
    "unique_elements, counts_elements = np.unique(data_np[:,-1], return_counts=True)\n",
    "print(\"Frequency of unique values of the said array:\")\n",
    "print(np.asarray((unique_elements, counts_elements)))"
   ]
  },
  {
   "cell_type": "code",
   "execution_count": 6,
   "metadata": {
    "pycharm": {
     "is_executing": false,
     "name": "#%%\n"
    }
   },
   "outputs": [
    {
     "name": "stdout",
     "output_type": "stream",
     "text": [
      "feature (762094, 41)\n"
     ]
    }
   ],
   "source": [
    "print(\"feature \" + str(data_np.shape))"
   ]
  },
  {
   "cell_type": "code",
   "execution_count": 7,
   "metadata": {
    "pycharm": {
     "is_executing": false,
     "name": "#%%\n"
    }
   },
   "outputs": [],
   "source": [
    "feature = data_np[:, :-1]\n",
    "target = data_np[:, -1]"
   ]
  },
  {
   "cell_type": "code",
   "execution_count": 8,
   "metadata": {
    "pycharm": {
     "is_executing": false,
     "name": "#%%\n"
    }
   },
   "outputs": [],
   "source": [
    "from sklearn.model_selection import train_test_split\n",
    "X_train, X_test, y_train, y_test = train_test_split(feature, target, test_size = 0.2, random_state = 0)\n"
   ]
  },
  {
   "cell_type": "code",
   "execution_count": 9,
   "metadata": {
    "pycharm": {
     "is_executing": false,
     "name": "#%%\n"
    }
   },
   "outputs": [
    {
     "name": "stdout",
     "output_type": "stream",
     "text": [
      "(609675, 40)\n",
      "(609675,)\n"
     ]
    }
   ],
   "source": [
    "print(X_train.shape)\n",
    "print(y_train.shape)"
   ]
  },
  {
   "cell_type": "code",
   "execution_count": 10,
   "metadata": {
    "pycharm": {
     "is_executing": false,
     "name": "#%%\n"
    }
   },
   "outputs": [
    {
     "name": "stdout",
     "output_type": "stream",
     "text": [
      "1  tree\n",
      "5  tree\n",
      "10  tree\n",
      "50  tree\n",
      "100  tree\n",
      "250  tree\n",
      "500  tree\n"
     ]
    }
   ],
   "source": [
    "from sklearn.metrics import accuracy_score , confusion_matrix\n",
    "from sklearn.ensemble import RandomForestClassifier\n",
    "tree=[1,5,10,50,100,250,500]\n",
    "acclist=[]\n",
    "for i in tree:\n",
    "    model = RandomForestClassifier(n_estimators=i,\n",
    "                                   n_jobs=-1,\n",
    "                                   bootstrap = True,\n",
    "                                   max_depth=depth,\n",
    "                                   max_features = 'auto')\n",
    "    \n",
    "    model.fit(X_train,y_train)\n",
    "    RF_predictions  =   model.predict(X_test)\n",
    "    acc=accuracy_score(y_test,RF_predictions)\n",
    "    acclist.append(acc)\n",
    "    print(i,\" tree\")"
   ]
  },
  {
   "cell_type": "code",
   "execution_count": 11,
   "metadata": {
    "pycharm": {
     "is_executing": false,
     "name": "#%%\n"
    }
   },
   "outputs": [
    {
     "data": {
      "image/png": "[encoded data removed]",
      "text/plain": [
       "<Figure size 432x288 with 2 Axes>"
      ]
     },
     "metadata": {
      "needs_background": "light"
     },
     "output_type": "display_data"
    }
   ],
   "source": [
    "import matplotlib.pyplot as plt\n",
    "cm=confusion_matrix(y_test,RF_predictions)\n",
    "cm = cm.astype('float') / cm.sum(axis=1)[:, np.newaxis]\n",
    "plt.imshow(cm, interpolation='nearest',cmap=\"RdYlGn\")\n",
    "plt.title(\"Confusion Matrix\")\n",
    "plt.colorbar()\n",
    "plt.ylabel('True label')\n",
    "plt.xlabel('Predicted label')\n",
    "for i in range(5):\n",
    "    for j in range(5):\n",
    "        plt.text(j,i,format(cm[i][j],\".2f\"),horizontalalignment=\"center\",color=\"black\")\n",
    "plt.tight_layout()\n",
    "plt.show()"
   ]
  },
  {
   "cell_type": "code",
   "execution_count": 12,
   "metadata": {
    "pycharm": {
     "is_executing": false,
     "name": "#%%\n"
    }
   },
   "outputs": [
    {
     "data": {
      "image/png": "[encoded data removed]",
      "text/plain": [
       "<Figure size 432x288 with 1 Axes>"
      ]
     },
     "metadata": {
      "needs_background": "light"
     },
     "output_type": "display_data"
    }
   ],
   "source": [
    "plt.plot(tree, acclist, label = 'Random Forest accuracy')\n",
    "plt.legend()\n",
    "plt.show()"
   ]
  },
  {
   "cell_type": "code",
   "execution_count": 13,
   "metadata": {
    "pycharm": {
     "is_executing": false,
     "name": "#%%\n"
    }
   },
   "outputs": [
    {
     "name": "stdout",
     "output_type": "stream",
     "text": [
      "[0.41082804637217146, 0.43900038709084827, 0.4480478155610521, 0.45296846193716006, 0.45400507810706014, 0.45527132444117857, 0.4560258235521818]\n"
     ]
    }
   ],
   "source": [
    "print(acclist)"
   ]
  }
 ],
 "metadata": {
  "kernelspec": {
   "display_name": "Python 3",
   "language": "python",
   "name": "python3"
  },
  "language_info": {
   "codemirror_mode": {
    "name": "ipython",
    "version": 3
   },
   "file_extension": ".py",
   "mimetype": "text/x-python",
   "name": "python",
   "nbconvert_exporter": "python",
   "pygments_lexer": "ipython3",
   "version": "3.7.5"
  },
  "pycharm": {
   "stem_cell": {
    "cell_type": "raw",
    "metadata": {
     "collapsed": false
    },
    "source": []
   }
  }
 },
 "nbformat": 4,
 "nbformat_minor": 1
}
