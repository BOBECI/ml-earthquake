{
 "cells": [
  {
   "cell_type": "code",
   "execution_count": 1,
   "metadata": {
    "pycharm": {
     "is_executing": false,
     "name": "#%%\n"
    }
   },
   "outputs": [],
   "source": [
    "import pandas as pd\n",
    "\n",
    "from sklearn.model_selection import train_test_split\n",
    "\n",
    "\n",
    "data = pd.read_csv(\"dataset/preprocessed.csv\")\n",
    "\n",
    "data = data.drop(data.columns[0],axis=1)"
   ]
  },
  {
   "cell_type": "code",
   "execution_count": 2,
   "metadata": {
    "pycharm": {
     "is_executing": false,
     "name": "#%%\n"
    }
   },
   "outputs": [],
   "source": [
    "data = data.drop(data[data.target   ==  -1].index)"
   ]
  },
  {
   "cell_type": "code",
   "execution_count": 3,
   "metadata": {
    "pycharm": {
     "is_executing": false,
     "name": "#%%\n"
    }
   },
   "outputs": [],
   "source": [
    "y = data.target\n",
    "\n",
    "X = data.drop(\"target\",axis=1)"
   ]
  },
  {
   "cell_type": "code",
   "execution_count": 4,
   "metadata": {
    "pycharm": {
     "is_executing": false,
     "name": "#%%\n"
    }
   },
   "outputs": [
    {
     "name": "stdout",
     "output_type": "stream",
     "text": [
      "(571570, 42)\n",
      "(190524, 42)\n"
     ]
    }
   ],
   "source": [
    "X_train, X_test, y_train, y_test = train_test_split(X, y, test_size=0.25, random_state=18)\n",
    "\n",
    "print(X_train.shape)\n",
    "print(X_test.shape)"
   ]
  },
  {
   "cell_type": "code",
   "execution_count": 5,
   "metadata": {
    "pycharm": {
     "is_executing": false,
     "name": "#%%\n"
    }
   },
   "outputs": [],
   "source": [
    "from imblearn.combine import SMOTEENN\n",
    "\n",
    "sm = SMOTEENN(random_state = 52, n_jobs = -1)\n",
    "\n",
    "X_train, y_train = sm.fit_sample(X_train ,y_train)"
   ]
  },
  {
   "cell_type": "code",
   "execution_count": 6,
   "metadata": {
    "pycharm": {
     "is_executing": false,
     "name": "#%%\n"
    }
   },
   "outputs": [
    {
     "name": "stdout",
     "output_type": "stream",
     "text": [
      "(295997, 42)\n"
     ]
    }
   ],
   "source": [
    "print(X_train.shape)"
   ]
  },
  {
   "cell_type": "code",
   "execution_count": 7,
   "metadata": {
    "pycharm": {
     "is_executing": false,
     "name": "#%%\n"
    }
   },
   "outputs": [],
   "source": [
    "from sklearn.preprocessing import StandardScaler\n",
    "\n",
    "sc = StandardScaler()\n",
    "\n",
    "X_train = sc.fit_transform(X_train)\n",
    "\n",
    "X_test = sc.transform(X_test)"
   ]
  },
  {
   "cell_type": "code",
   "execution_count": 8,
   "metadata": {
    "pycharm": {
     "is_executing": false,
     "name": "#%% \n"
    }
   },
   "outputs": [
    {
     "name": "stdout",
     "output_type": "stream",
     "text": [
      "k Value 20and Score : 0.8425291507976438\n",
      "k Value 60and Score : 0.8418331873885441\n",
      "k Value 100and Score : 0.841039257512352\n",
      "k Value 140and Score : 0.8403297905197673\n",
      "k Value 200and Score : 0.8390797812745683\n"
     ]
    }
   ],
   "source": [
    "# Fitting K-NN to the Training set\n",
    "from sklearn.neighbors import KNeighborsClassifier\n",
    "from sklearn.model_selection import GridSearchCV\n",
    "\n",
    "knn = KNeighborsClassifier(weights = \"distance\",metric = \"minkowski\",p = 1, n_jobs = -1)\n",
    "\n",
    "k_values=[20,60,100,140,200]\n",
    "\n",
    "for k in k_values:\n",
    "    \n",
    "    \n",
    "    param_grid = {\"n_neighbors\": [k]}\n",
    "    \n",
    "    #gridsearch to test all values\n",
    "    knn_gscv = GridSearchCV(knn, param_grid, cv = 10)\n",
    "    \n",
    "    #fit model\n",
    "    knn_gscv.fit(X_train, y_train)\n",
    "    \n",
    "    score = knn_gscv.best_score_\n",
    "    \n",
    "    print(\"k Value \" + str(k) + \"and Score : \" + str(score))\n"
   ]
  },
  {
   "cell_type": "code",
   "execution_count": 13,
   "metadata": {
    "pycharm": {
     "is_executing": false,
     "name": "#%%\n"
    }
   },
   "outputs": [
    {
     "name": "stdout",
     "output_type": "stream",
     "text": [
      "Accuracy score:  0.3816841972664861\n",
      "f1 score:  0.38435510181291777\n",
      "Precision score:  0.3982320432463995\n",
      "Recall score:  0.3816841972664861\n"
     ]
    }
   ],
   "source": [
    "knn = KNeighborsClassifier(n_neighbors=20 ,weights = \"distance\", metric = \"minkowski\", p = 1, n_jobs = -1)\n",
    "    \n",
    "knn.fit(X_train,y_train)\n",
    "    \n",
    "predic = knn.predict(X_test)\n",
    "    \n",
    "from sklearn.metrics import accuracy_score, precision_score, recall_score, f1_score\n",
    "    \n",
    "print(\"Accuracy score: \", accuracy_score(y_test, predic))\n",
    "print(\"f1 score: \", f1_score(y_test, predic, average = 'weighted'))\n",
    "print(\"Precision score: \", precision_score(y_test, predic, average = 'weighted'))\n",
    "print(\"Recall score: \", recall_score(y_test, predic, average = 'weighted'))"
   ]
  },
  {
   "cell_type": "code",
   "execution_count": 15,
   "metadata": {
    "pycharm": {
     "is_executing": false,
     "name": "#%% \n"
    }
   },
   "outputs": [
    {
     "data": {
      "image/png": "[encoded data removed]",
      "text/plain": [
       "<Figure size 432x288 with 2 Axes>"
      ]
     },
     "metadata": {
      "needs_background": "light"
     },
     "output_type": "display_data"
    }
   ],
   "source": [
    "import matplotlib.pyplot as plt\n",
    "from sklearn.metrics import plot_confusion_matrix\n",
    "\n",
    "classes = [\"1\", \"2\", \"3\", \"4\", \"5\"]\n",
    "title = \"KNN Normalized confusion matrix\"\n",
    "disp = plot_confusion_matrix(knn, X_test, y_test, display_labels = classes, cmap = \"RdYlGn\", normalize = \"true\")\n",
    "disp.ax_.set_title(title)\n",
    "plt.show()"
   ]
  }
 ],
 "metadata": {
  "kernelspec": {
   "display_name": "Python 3",
   "language": "python",
   "name": "python3"
  },
  "language_info": {
   "codemirror_mode": {
    "name": "ipython",
    "version": 3
   },
   "file_extension": ".py",
   "mimetype": "text/x-python",
   "name": "python",
   "nbconvert_exporter": "python",
   "pygments_lexer": "ipython3",
   "version": "3.7.5"
  },
  "pycharm": {
   "stem_cell": {
    "cell_type": "raw",
    "metadata": {
     "collapsed": false
    },
    "source": []
   }
  }
 },
 "nbformat": 4,
 "nbformat_minor": 1
}
