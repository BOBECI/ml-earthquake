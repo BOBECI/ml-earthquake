{
 "cells": [
  {
   "cell_type": "code",
   "execution_count": 1,
   "metadata": {
    "pycharm": {
     "is_executing": false
    }
   },
   "outputs": [],
   "source": [
    "import pandas as pd\n",
    "import numpy as np\n",
    "import torch\n",
    "import matplotlib.pyplot as plt\n",
    "from sklearn.metrics import accuracy_score\n",
    "from torch.autograd import Variable\n",
    "import torchvision.transforms as transforms\n",
    "import torchvision.datasets as dsets\n",
    "from sklearn.model_selection import train_test_split\n",
    "from sklearn.preprocessing import StandardScaler\n",
    "from torch.utils.data import Dataset, DataLoader"
   ]
  },
  {
   "cell_type": "code",
   "execution_count": 2,
   "metadata": {},
   "outputs": [],
   "source": [
    "dtype = torch.cuda.FloatTensor # Uncomment this to run on GPU"
   ]
  },
  {
   "cell_type": "code",
   "execution_count": 3,
   "metadata": {
    "pycharm": {
     "is_executing": false,
     "name": "#%%\n"
    }
   },
   "outputs": [],
   "source": [
    "sortedFeatureCorr = pd.read_csv(\"dataset/corr.csv\")\n",
    "data = pd.read_csv(\"dataset/preprocessed.csv\")"
   ]
  },
  {
   "cell_type": "code",
   "execution_count": 4,
   "metadata": {
    "pycharm": {
     "is_executing": false,
     "name": "#%%\n"
    }
   },
   "outputs": [],
   "source": [
    "# time stamp will add"
   ]
  },
  {
   "cell_type": "code",
   "execution_count": 5,
   "metadata": {
    "pycharm": {
     "is_executing": false,
     "name": "#%%\n"
    }
   },
   "outputs": [],
   "source": [
    "first_feature_count =           22\n",
    "last_feature_count =            21"
   ]
  },
  {
   "cell_type": "code",
   "execution_count": 6,
   "metadata": {
    "pycharm": {
     "is_executing": false,
     "name": "#%%\n"
    }
   },
   "outputs": [],
   "source": [
    "a = sortedFeatureCorr.iloc[:, 0].values"
   ]
  },
  {
   "cell_type": "code",
   "execution_count": 7,
   "metadata": {},
   "outputs": [
    {
     "name": "stdout",
     "output_type": "stream",
     "text": [
      "(43,)\n"
     ]
    }
   ],
   "source": [
    "print(a.shape)"
   ]
  },
  {
   "cell_type": "code",
   "execution_count": 8,
   "metadata": {
    "pycharm": {
     "is_executing": false,
     "name": "#%%\n"
    }
   },
   "outputs": [],
   "source": [
    "for i in range(first_feature_count , sortedFeatureCorr.shape[0] - last_feature_count):\n",
    "    data = data.drop(a[i], axis=1)\n",
    "data=data.drop(list(data.columns)[0], axis=1)\n"
   ]
  },
  {
   "cell_type": "code",
   "execution_count": 9,
   "metadata": {
    "pycharm": {
     "is_executing": false,
     "name": "#%%\n"
    }
   },
   "outputs": [
    {
     "name": "stdout",
     "output_type": "stream",
     "text": [
      "Frequency of unique values of the said array:\n",
      "[[     1      2      3      4      5]\n",
      " [ 78815  87257 136412 183844 275766]]\n"
     ]
    }
   ],
   "source": [
    "data_npWNan = data.iloc[:, :].values\n",
    "\n",
    "data_np = data_npWNan[data_npWNan[:,-1]!= -1 ]\n",
    "unique_elements, counts_elements = np.unique(data_np[:,-1], return_counts=True)\n",
    "print(\"Frequency of unique values of the said array:\")\n",
    "print(np.asarray((unique_elements, counts_elements)))"
   ]
  },
  {
   "cell_type": "code",
   "execution_count": 10,
   "metadata": {
    "pycharm": {
     "is_executing": false,
     "name": "#%%\n"
    }
   },
   "outputs": [
    {
     "name": "stdout",
     "output_type": "stream",
     "text": [
      "feature (762094, 43)\n"
     ]
    }
   ],
   "source": [
    "print(\"feature \" + str(data_np.shape))\n"
   ]
  },
  {
   "cell_type": "code",
   "execution_count": 11,
   "metadata": {
    "pycharm": {
     "is_executing": false,
     "name": "#%%\n"
    }
   },
   "outputs": [],
   "source": [
    "feature = data_np[:, :-1]\n",
    "# target = data_np[:, -1].reshape(data_np.shape[0], 1)\n",
    "target = data_np[:, -1]\n"
   ]
  },
  {
   "cell_type": "code",
   "execution_count": 12,
   "metadata": {},
   "outputs": [],
   "source": [
    "# for x in range(10):\n",
    "#     print(target[x])"
   ]
  },
  {
   "cell_type": "code",
   "execution_count": 13,
   "metadata": {},
   "outputs": [],
   "source": [
    "target -= 1\n",
    "# for x in range(10):\n",
    "#     print(target[x])"
   ]
  },
  {
   "cell_type": "code",
   "execution_count": 14,
   "metadata": {
    "pycharm": {
     "is_executing": false,
     "name": "#%%\n"
    }
   },
   "outputs": [],
   "source": [
    "X_trainAndVal, X_test, y_trainAndVal, y_test = train_test_split(feature, target, test_size = 0.2, random_state = 0)"
   ]
  },
  {
   "cell_type": "code",
   "execution_count": 15,
   "metadata": {
    "pycharm": {
     "is_executing": false,
     "name": "#%%\n"
    }
   },
   "outputs": [],
   "source": [
    "X_train, X_val, y_train, y_val = train_test_split(X_trainAndVal, y_trainAndVal, test_size = 0.2, random_state = 0)"
   ]
  },
  {
   "cell_type": "code",
   "execution_count": 16,
   "metadata": {
    "pycharm": {
     "is_executing": false,
     "name": "#%%\n"
    }
   },
   "outputs": [
    {
     "name": "stdout",
     "output_type": "stream",
     "text": [
      "(487740, 42)\n",
      "(487740,)\n"
     ]
    }
   ],
   "source": [
    "print((X_train ).shape)\n",
    "print(( y_train).shape)\n"
   ]
  },
  {
   "cell_type": "code",
   "execution_count": 17,
   "metadata": {
    "pycharm": {
     "is_executing": false,
     "name": "#%%\n"
    }
   },
   "outputs": [],
   "source": [
    "sc = StandardScaler()\n",
    "X_train = sc.fit_transform(X_train)\n",
    "X_val = sc.transform(X_val)\n",
    "X_test = sc.transform(X_test)"
   ]
  },
  {
   "cell_type": "code",
   "execution_count": 18,
   "metadata": {
    "pycharm": {
     "is_executing": false,
     "name": "#%%\n"
    }
   },
   "outputs": [],
   "source": [
    "batch_size = 1000\n",
    "epochs = 50\n",
    "input_dim = first_feature_count + last_feature_count - 1\n",
    "output_dim = 5\n",
    "lr_rate = 0.001\n"
   ]
  },
  {
   "cell_type": "code",
   "execution_count": 19,
   "metadata": {
    "pycharm": {
     "is_executing": false,
     "name": "#%%\n"
    }
   },
   "outputs": [],
   "source": [
    "class datasetLoad(Dataset):\n",
    "    def __init__(self, features,labels):\n",
    "        self.features = features\n",
    "        self.labels = labels\n",
    "    def __len__(self):\n",
    "        return len(self.features)\n",
    "    def __getitem__(self, index):\n",
    "        return self.features[index], self.labels[index]\n",
    "    \n",
    "        \n",
    "    "
   ]
  },
  {
   "cell_type": "code",
   "execution_count": 20,
   "metadata": {},
   "outputs": [],
   "source": [
    "# asdasd=1"
   ]
  },
  {
   "cell_type": "code",
   "execution_count": 21,
   "metadata": {},
   "outputs": [],
   "source": [
    "# print(X_train[asdasd])"
   ]
  },
  {
   "cell_type": "code",
   "execution_count": 22,
   "metadata": {},
   "outputs": [],
   "source": [
    "# print(X_val[asdasd])"
   ]
  },
  {
   "cell_type": "code",
   "execution_count": 23,
   "metadata": {},
   "outputs": [],
   "source": [
    "# print(X_test[asdasd])"
   ]
  },
  {
   "cell_type": "code",
   "execution_count": null,
   "outputs": [],
   "source": [
    "X_train = datasetLoad(X_train, y_train)\n",
    "X_val = datasetLoad(X_val, y_val)\n",
    "X_test = datasetLoad(X_test, y_test)\n"
   ],
   "metadata": {
    "collapsed": false,
    "pycharm": {
     "name": "#%%\n"
    }
   }
  },
  {
   "cell_type": "code",
   "execution_count": null,
   "outputs": [],
   "source": [],
   "metadata": {
    "collapsed": false,
    "pycharm": {
     "name": "#%%\n"
    }
   }
  },
  {
   "cell_type": "code",
   "execution_count": null,
   "outputs": [],
   "source": [
    "# print(X_train.__getitem__(asdasd))\n",
    "# print(X_train.__len__())\n"
   ],
   "metadata": {
    "collapsed": false,
    "pycharm": {
     "name": "#%%\n"
    }
   }
  },
  {
   "cell_type": "code",
   "execution_count": null,
   "outputs": [],
   "source": [
    "# print(X_val.__getitem__(asdasd))\n",
    "# print(X_val.__len__())"
   ],
   "metadata": {
    "collapsed": false,
    "pycharm": {
     "name": "#%%\n"
    }
   }
  },
  {
   "cell_type": "code",
   "execution_count": null,
   "outputs": [],
   "source": [
    "# print(X_test.__getitem__(asdasd))\n",
    "# print(X_test.__len__())"
   ],
   "metadata": {
    "collapsed": false,
    "pycharm": {
     "name": "#%%\n"
    }
   }
  },
  {
   "cell_type": "code",
   "execution_count": null,
   "outputs": [],
   "source": [
    "train_loader = torch.utils.data.DataLoader(dataset = X_train, batch_size = batch_size, shuffle=True)\n",
    "val_loader = torch.utils.data.DataLoader(dataset = X_val, batch_size = batch_size, shuffle=True)\n",
    "test_loader = torch.utils.data.DataLoader(dataset = X_test, batch_size = batch_size, shuffle=True)"
   ],
   "metadata": {
    "collapsed": false,
    "pycharm": {
     "name": "#%%\n"
    }
   }
  },
  {
   "cell_type": "code",
   "execution_count": null,
   "outputs": [],
   "source": [
    "class LogisticRegression(torch.nn.Module):\n",
    "    def __init__(self, input_dim, output_dim):\n",
    "        super(LogisticRegression, self).__init__()\n",
    "        self.linear = torch.nn.Linear(input_dim, output_dim)\n",
    "\n",
    "    def forward(self, x):\n",
    "        outputs = self.linear(x)\n",
    "        return outputs\n",
    "    \n",
    "    "
   ],
   "metadata": {
    "collapsed": false,
    "pycharm": {
     "name": "#%%\n"
    }
   }
  },
  {
   "cell_type": "code",
   "execution_count": null,
   "outputs": [],
   "source": [
    "model = LogisticRegression(input_dim, output_dim)"
   ],
   "metadata": {
    "collapsed": false,
    "pycharm": {
     "name": "#%%\n"
    }
   }
  },
  {
   "cell_type": "code",
   "execution_count": null,
   "outputs": [],
   "source": [
    "criterion = torch.nn.CrossEntropyLoss()\n"
   ],
   "metadata": {
    "collapsed": false,
    "pycharm": {
     "name": "#%%\n"
    }
   }
  },
  {
   "cell_type": "code",
   "execution_count": null,
   "outputs": [],
   "source": [
    "# sgd ya da adam kullanilabilir\n",
    "optimizer = torch.optim.SGD(model.parameters(), lr=lr_rate)"
   ],
   "metadata": {
    "collapsed": false,
    "pycharm": {
     "name": "#%%\n"
    }
   }
  },
  {
   "cell_type": "code",
   "execution_count": null,
   "outputs": [],
   "source": [
    "print(len(X_train))"
   ],
   "metadata": {
    "collapsed": false,
    "pycharm": {
     "name": "#%%\n"
    }
   }
  },
  {
   "cell_type": "code",
   "execution_count": null,
   "outputs": [],
   "source": [
    "import datetime\n",
    "a = datetime.datetime.now().replace(microsecond=0)\n",
    "for epoch in range(epochs):\n",
    "    for i, (features, labels) in enumerate(train_loader):\n",
    "        \n",
    "\n",
    "#         print(type(features))\n",
    "#         print(type(labels))\n",
    "        features = Variable(features)\n",
    "        labels = Variable(labels)\n",
    "#         print(type(features))\n",
    "#         print(type(labels))\n",
    "#         print(features.shape)\n",
    "#         print(labels.shape)\n",
    "\n",
    "        optimizer.zero_grad()\n",
    "        outputs = model(features.float())\n",
    "#         print(\"output \",outputs.shape)\n",
    "#         print(\"label \",labels.shape)\n",
    "#         print(\"output \",outputs[0])\n",
    "#         print(\"label \",labels[0])\n",
    "        loss = criterion(outputs.float(), labels)\n",
    "        loss.backward()\n",
    "        optimizer.step()\n",
    "\n",
    "        \n",
    "        if i % (len(X_train)// (4 * batch_size))  == 0:\n",
    "            # calculate Accuracy\n",
    "            val_correct = 0\n",
    "            val_total = 0\n",
    "#             print(\"val\")\n",
    "#             x=0\n",
    "#             for val_features, val_labels in test_loader:\n",
    "#                 if(x>1):\n",
    "#                     break\n",
    "#                 x+=1\n",
    "#                 print(val_features[0], \"  \" , val_labels[0])\n",
    "            for val_features, val_labels in val_loader:\n",
    "                val_features = Variable(val_features)\n",
    "                val_outputs = model(val_features.float())\n",
    "#                 if(i==0): \n",
    "#                     print(\"val\")\n",
    "#                     print(val_outputs)\n",
    "                _, val_predicted = torch.max(val_outputs.data, 1)\n",
    "                val_total+= val_labels.size(0)\n",
    "                # for gpu, bring the predicted and labels back to cpu fro python operations to work\n",
    "                val_correct+= (val_predicted == val_labels).sum()\n",
    "#             print(\"val\")\n",
    "#             print(val_outputs.shape)\n",
    "            val_accuracy = 100 * val_correct / val_total\n",
    "            print(\"val Epoch: {}. Iteration: {}. Loss: {}. Accuracy: {}.\".format(epoch, i, loss.item(), val_accuracy))\n",
    "        if i % (len(X_train)// (4 * batch_size))  == 0:\n",
    "            # calculate Accuracy\n",
    "            test_correct = 0\n",
    "            test_total = 0\n",
    "#             print(\"test\")\n",
    "#             x=0\n",
    "#             for test_features, test_labels in test_loader:\n",
    "#                 if(x>1):\n",
    "#                     break\n",
    "#                 x+=1\n",
    "#                 print(test_features[0], \"  \" , test_labels[0])\n",
    "            for test_features, test_labels in test_loader:\n",
    "                test_features = Variable(test_features)\n",
    "                test_outputs = model(test_features.float())\n",
    "#                 if(i==0):\n",
    "#                     print(\"test\")\n",
    "#                     print(test_outputs)\n",
    "                \n",
    "                _, test_predicted = torch.max(test_outputs.data, 1)\n",
    "                test_total+= test_labels.size(0)\n",
    "                # for gpu, bring the predicted and labels back to cpu fro python operations to work\n",
    "                test_correct+= (test_predicted == test_labels).sum()\n",
    "            test_accuracy = 100 * test_correct / test_total\n",
    "#             print(\"test\")\n",
    "#             print(test_outputs.shape)\n",
    "            print(\"test Epoch: {}. Iteration: {}. Loss: {}. Accuracy: {}.\".format(epoch, i, loss.item(), test_accuracy))\n",
    "\n",
    "            \n"
   ],
   "metadata": {
    "collapsed": false,
    "pycharm": {
     "name": "#%%\n"
    }
   }
  },
  {
   "cell_type": "code",
   "execution_count": null,
   "outputs": [],
   "source": [
    "b = datetime.datetime.now().replace(microsecond=0)\n",
    "print(b-a)"
   ],
   "metadata": {
    "collapsed": false,
    "pycharm": {
     "name": "#%%\n"
    }
   }
  },
  {
   "cell_type": "code",
   "execution_count": null,
   "outputs": [],
   "source": [],
   "metadata": {
    "collapsed": false,
    "pycharm": {
     "name": "#%%\n"
    }
   }
  },
  {
   "cell_type": "code",
   "execution_count": 24,
   "metadata": {
    "pycharm": {
     "is_executing": false,
     "name": "#%%\n"
    }
   },
   "outputs": [],
   "source": []
  },
  {
   "cell_type": "code",
   "execution_count": null,
   "metadata": {},
   "outputs": [],
   "source": []
  },
  {
   "cell_type": "code",
   "execution_count": 25,
   "metadata": {},
   "outputs": [],
   "source": [
    "# print(X_train.__getitem__(asdasd))\n",
    "# print(X_train.__len__())\n"
   ]
  },
  {
   "cell_type": "code",
   "execution_count": 26,
   "metadata": {},
   "outputs": [],
   "source": [
    "# print(X_val.__getitem__(asdasd))\n",
    "# print(X_val.__len__())"
   ]
  },
  {
   "cell_type": "code",
   "execution_count": 27,
   "metadata": {},
   "outputs": [],
   "source": [
    "# print(X_test.__getitem__(asdasd))\n",
    "# print(X_test.__len__())"
   ]
  },
  {
   "cell_type": "code",
   "execution_count": 28,
   "metadata": {
    "pycharm": {
     "is_executing": false,
     "name": "#%%\n"
    }
   },
   "outputs": [],
   "source": [
    "train_loader = torch.utils.data.DataLoader(dataset = X_train, batch_size = batch_size, shuffle=True)\n",
    "val_loader = torch.utils.data.DataLoader(dataset = X_val, batch_size = batch_size, shuffle=True)\n",
    "test_loader = torch.utils.data.DataLoader(dataset = X_test, batch_size = batch_size, shuffle=True)"
   ]
  },
  {
   "cell_type": "code",
   "execution_count": 29,
   "metadata": {
    "pycharm": {
     "is_executing": true,
     "name": "#%%\n"
    }
   },
   "outputs": [],
   "source": [
    "class LogisticRegression(torch.nn.Module):\n",
    "    def __init__(self, input_dim, output_dim):\n",
    "        super(LogisticRegression, self).__init__()\n",
    "        self.linear = torch.nn.Linear(input_dim, output_dim)\n",
    "\n",
    "    def forward(self, x):\n",
    "        outputs = self.linear(x)\n",
    "        return outputs\n",
    "    \n",
    "    "
   ]
  },
  {
   "cell_type": "code",
   "execution_count": 30,
   "metadata": {
    "pycharm": {
     "is_executing": true,
     "name": "#%%\n"
    }
   },
   "outputs": [],
   "source": [
    "model = LogisticRegression(input_dim, output_dim)"
   ]
  },
  {
   "cell_type": "code",
   "execution_count": 31,
   "metadata": {
    "pycharm": {
     "is_executing": true,
     "name": "#%%\n"
    }
   },
   "outputs": [],
   "source": [
    "criterion = torch.nn.CrossEntropyLoss()\n"
   ]
  },
  {
   "cell_type": "code",
   "execution_count": 32,
   "metadata": {
    "pycharm": {
     "is_executing": true,
     "name": "#%%\n"
    }
   },
   "outputs": [],
   "source": [
    "# sgd ya da adam kullanilabilir\n",
    "optimizer = torch.optim.SGD(model.parameters(), lr=lr_rate)"
   ]
  },
  {
   "cell_type": "code",
   "execution_count": 33,
   "metadata": {},
   "outputs": [
    {
     "name": "stdout",
     "output_type": "stream",
     "text": [
      "487740\n"
     ]
    }
   ],
   "source": [
    "print(len(X_train))"
   ]
  },
  {
   "cell_type": "code",
   "execution_count": 34,
   "metadata": {
    "pycharm": {
     "is_executing": true,
     "name": "#%%\n"
    }
   },
   "outputs": [
    {
     "name": "stdout",
     "output_type": "stream",
     "text": [
      "val Epoch: 0. Iteration: 0. Loss: 1.6612980365753174. Accuracy: 20.\n",
      "test Epoch: 0. Iteration: 0. Loss: 1.6612980365753174. Accuracy: 20.\n",
      "val Epoch: 0. Iteration: 121. Loss: 1.6268490552902222. Accuracy: 22.\n",
      "test Epoch: 0. Iteration: 121. Loss: 1.6268490552902222. Accuracy: 22.\n",
      "val Epoch: 0. Iteration: 242. Loss: 1.6288831233978271. Accuracy: 25.\n",
      "test Epoch: 0. Iteration: 242. Loss: 1.6288831233978271. Accuracy: 25.\n",
      "val Epoch: 0. Iteration: 363. Loss: 1.5850733518600464. Accuracy: 28.\n",
      "test Epoch: 0. Iteration: 363. Loss: 1.5850733518600464. Accuracy: 28.\n",
      "val Epoch: 0. Iteration: 484. Loss: 1.554494023323059. Accuracy: 31.\n",
      "test Epoch: 0. Iteration: 484. Loss: 1.554494023323059. Accuracy: 31.\n",
      "val Epoch: 1. Iteration: 0. Loss: 1.5513596534729004. Accuracy: 31.\n",
      "test Epoch: 1. Iteration: 0. Loss: 1.5513596534729004. Accuracy: 31.\n",
      "val Epoch: 1. Iteration: 121. Loss: 1.5703109502792358. Accuracy: 33.\n",
      "test Epoch: 1. Iteration: 121. Loss: 1.5703109502792358. Accuracy: 33.\n",
      "val Epoch: 1. Iteration: 242. Loss: 1.519036889076233. Accuracy: 34.\n",
      "test Epoch: 1. Iteration: 242. Loss: 1.519036889076233. Accuracy: 35.\n",
      "val Epoch: 1. Iteration: 363. Loss: 1.5036500692367554. Accuracy: 35.\n",
      "test Epoch: 1. Iteration: 363. Loss: 1.5036500692367554. Accuracy: 36.\n",
      "val Epoch: 1. Iteration: 484. Loss: 1.541608452796936. Accuracy: 36.\n",
      "test Epoch: 1. Iteration: 484. Loss: 1.541608452796936. Accuracy: 36.\n",
      "val Epoch: 2. Iteration: 0. Loss: 1.5175143480300903. Accuracy: 36.\n",
      "test Epoch: 2. Iteration: 0. Loss: 1.5175143480300903. Accuracy: 36.\n",
      "val Epoch: 2. Iteration: 121. Loss: 1.470328450202942. Accuracy: 37.\n",
      "test Epoch: 2. Iteration: 121. Loss: 1.470328450202942. Accuracy: 37.\n",
      "val Epoch: 2. Iteration: 242. Loss: 1.4613478183746338. Accuracy: 37.\n",
      "test Epoch: 2. Iteration: 242. Loss: 1.4613478183746338. Accuracy: 37.\n",
      "val Epoch: 2. Iteration: 363. Loss: 1.4865385293960571. Accuracy: 38.\n",
      "test Epoch: 2. Iteration: 363. Loss: 1.4865385293960571. Accuracy: 38.\n",
      "val Epoch: 2. Iteration: 484. Loss: 1.4131371974945068. Accuracy: 38.\n",
      "test Epoch: 2. Iteration: 484. Loss: 1.4131371974945068. Accuracy: 38.\n",
      "val Epoch: 3. Iteration: 0. Loss: 1.4439783096313477. Accuracy: 38.\n",
      "test Epoch: 3. Iteration: 0. Loss: 1.4439783096313477. Accuracy: 38.\n",
      "val Epoch: 3. Iteration: 121. Loss: 1.4440757036209106. Accuracy: 39.\n",
      "test Epoch: 3. Iteration: 121. Loss: 1.4440757036209106. Accuracy: 38.\n",
      "val Epoch: 3. Iteration: 242. Loss: 1.4534684419631958. Accuracy: 39.\n",
      "test Epoch: 3. Iteration: 242. Loss: 1.4534684419631958. Accuracy: 39.\n",
      "val Epoch: 3. Iteration: 363. Loss: 1.4837285280227661. Accuracy: 39.\n",
      "test Epoch: 3. Iteration: 363. Loss: 1.4837285280227661. Accuracy: 39.\n",
      "val Epoch: 3. Iteration: 484. Loss: 1.4470834732055664. Accuracy: 40.\n",
      "test Epoch: 3. Iteration: 484. Loss: 1.4470834732055664. Accuracy: 40.\n",
      "val Epoch: 4. Iteration: 0. Loss: 1.453735589981079. Accuracy: 40.\n",
      "test Epoch: 4. Iteration: 0. Loss: 1.453735589981079. Accuracy: 40.\n",
      "val Epoch: 4. Iteration: 121. Loss: 1.3876463174819946. Accuracy: 40.\n",
      "test Epoch: 4. Iteration: 121. Loss: 1.3876463174819946. Accuracy: 40.\n",
      "val Epoch: 4. Iteration: 242. Loss: 1.398443579673767. Accuracy: 40.\n",
      "test Epoch: 4. Iteration: 242. Loss: 1.398443579673767. Accuracy: 40.\n",
      "val Epoch: 4. Iteration: 363. Loss: 1.440730333328247. Accuracy: 41.\n",
      "test Epoch: 4. Iteration: 363. Loss: 1.440730333328247. Accuracy: 41.\n",
      "val Epoch: 4. Iteration: 484. Loss: 1.4011107683181763. Accuracy: 41.\n",
      "test Epoch: 4. Iteration: 484. Loss: 1.4011107683181763. Accuracy: 41.\n",
      "val Epoch: 5. Iteration: 0. Loss: 1.422996997833252. Accuracy: 41.\n",
      "test Epoch: 5. Iteration: 0. Loss: 1.422996997833252. Accuracy: 41.\n",
      "val Epoch: 5. Iteration: 121. Loss: 1.4236046075820923. Accuracy: 41.\n",
      "test Epoch: 5. Iteration: 121. Loss: 1.4236046075820923. Accuracy: 41.\n",
      "val Epoch: 5. Iteration: 242. Loss: 1.4217215776443481. Accuracy: 41.\n",
      "test Epoch: 5. Iteration: 242. Loss: 1.4217215776443481. Accuracy: 41.\n",
      "val Epoch: 5. Iteration: 363. Loss: 1.395849347114563. Accuracy: 41.\n",
      "test Epoch: 5. Iteration: 363. Loss: 1.395849347114563. Accuracy: 41.\n",
      "val Epoch: 5. Iteration: 484. Loss: 1.3883229494094849. Accuracy: 41.\n",
      "test Epoch: 5. Iteration: 484. Loss: 1.3883229494094849. Accuracy: 41.\n",
      "val Epoch: 6. Iteration: 0. Loss: 1.4128773212432861. Accuracy: 41.\n",
      "test Epoch: 6. Iteration: 0. Loss: 1.4128773212432861. Accuracy: 41.\n",
      "val Epoch: 6. Iteration: 121. Loss: 1.4368802309036255. Accuracy: 41.\n",
      "test Epoch: 6. Iteration: 121. Loss: 1.4368802309036255. Accuracy: 41.\n",
      "val Epoch: 6. Iteration: 242. Loss: 1.377608060836792. Accuracy: 42.\n",
      "test Epoch: 6. Iteration: 242. Loss: 1.377608060836792. Accuracy: 41.\n",
      "val Epoch: 6. Iteration: 363. Loss: 1.3948016166687012. Accuracy: 42.\n",
      "test Epoch: 6. Iteration: 363. Loss: 1.3948016166687012. Accuracy: 41.\n",
      "val Epoch: 6. Iteration: 484. Loss: 1.3950519561767578. Accuracy: 42.\n",
      "test Epoch: 6. Iteration: 484. Loss: 1.3950519561767578. Accuracy: 42.\n",
      "val Epoch: 7. Iteration: 0. Loss: 1.3835241794586182. Accuracy: 42.\n",
      "test Epoch: 7. Iteration: 0. Loss: 1.3835241794586182. Accuracy: 42.\n",
      "val Epoch: 7. Iteration: 121. Loss: 1.3868976831436157. Accuracy: 42.\n",
      "test Epoch: 7. Iteration: 121. Loss: 1.3868976831436157. Accuracy: 42.\n",
      "val Epoch: 7. Iteration: 242. Loss: 1.39531409740448. Accuracy: 42.\n",
      "test Epoch: 7. Iteration: 242. Loss: 1.39531409740448. Accuracy: 42.\n",
      "val Epoch: 7. Iteration: 363. Loss: 1.3680986166000366. Accuracy: 42.\n",
      "test Epoch: 7. Iteration: 363. Loss: 1.3680986166000366. Accuracy: 42.\n",
      "val Epoch: 7. Iteration: 484. Loss: 1.3623238801956177. Accuracy: 42.\n",
      "test Epoch: 7. Iteration: 484. Loss: 1.3623238801956177. Accuracy: 42.\n",
      "val Epoch: 8. Iteration: 0. Loss: 1.3840755224227905. Accuracy: 42.\n",
      "test Epoch: 8. Iteration: 0. Loss: 1.3840755224227905. Accuracy: 42.\n",
      "val Epoch: 8. Iteration: 121. Loss: 1.3910083770751953. Accuracy: 42.\n",
      "test Epoch: 8. Iteration: 121. Loss: 1.3910083770751953. Accuracy: 42.\n",
      "val Epoch: 8. Iteration: 242. Loss: 1.3970564603805542. Accuracy: 42.\n",
      "test Epoch: 8. Iteration: 242. Loss: 1.3970564603805542. Accuracy: 42.\n",
      "val Epoch: 8. Iteration: 363. Loss: 1.3547312021255493. Accuracy: 42.\n",
      "test Epoch: 8. Iteration: 363. Loss: 1.3547312021255493. Accuracy: 42.\n",
      "val Epoch: 8. Iteration: 484. Loss: 1.3672763109207153. Accuracy: 42.\n",
      "test Epoch: 8. Iteration: 484. Loss: 1.3672763109207153. Accuracy: 42.\n",
      "val Epoch: 9. Iteration: 0. Loss: 1.3687618970870972. Accuracy: 42.\n",
      "test Epoch: 9. Iteration: 0. Loss: 1.3687618970870972. Accuracy: 42.\n",
      "val Epoch: 9. Iteration: 121. Loss: 1.3672009706497192. Accuracy: 42.\n",
      "test Epoch: 9. Iteration: 121. Loss: 1.3672009706497192. Accuracy: 42.\n",
      "val Epoch: 9. Iteration: 242. Loss: 1.3680168390274048. Accuracy: 42.\n",
      "test Epoch: 9. Iteration: 242. Loss: 1.3680168390274048. Accuracy: 42.\n",
      "val Epoch: 9. Iteration: 363. Loss: 1.3321254253387451. Accuracy: 42.\n",
      "test Epoch: 9. Iteration: 363. Loss: 1.3321254253387451. Accuracy: 42.\n",
      "val Epoch: 9. Iteration: 484. Loss: 1.3780415058135986. Accuracy: 42.\n",
      "test Epoch: 9. Iteration: 484. Loss: 1.3780415058135986. Accuracy: 42.\n",
      "val Epoch: 10. Iteration: 0. Loss: 1.390248417854309. Accuracy: 42.\n",
      "test Epoch: 10. Iteration: 0. Loss: 1.390248417854309. Accuracy: 42.\n",
      "val Epoch: 10. Iteration: 121. Loss: 1.3457504510879517. Accuracy: 42.\n",
      "test Epoch: 10. Iteration: 121. Loss: 1.3457504510879517. Accuracy: 42.\n",
      "val Epoch: 10. Iteration: 242. Loss: 1.3839749097824097. Accuracy: 42.\n",
      "test Epoch: 10. Iteration: 242. Loss: 1.3839749097824097. Accuracy: 42.\n",
      "val Epoch: 10. Iteration: 363. Loss: 1.362053394317627. Accuracy: 42.\n",
      "test Epoch: 10. Iteration: 363. Loss: 1.362053394317627. Accuracy: 42.\n",
      "val Epoch: 10. Iteration: 484. Loss: 1.355278491973877. Accuracy: 42.\n",
      "test Epoch: 10. Iteration: 484. Loss: 1.355278491973877. Accuracy: 42.\n",
      "val Epoch: 11. Iteration: 0. Loss: 1.3579201698303223. Accuracy: 42.\n",
      "test Epoch: 11. Iteration: 0. Loss: 1.3579201698303223. Accuracy: 42.\n",
      "val Epoch: 11. Iteration: 121. Loss: 1.373966097831726. Accuracy: 42.\n",
      "test Epoch: 11. Iteration: 121. Loss: 1.373966097831726. Accuracy: 42.\n",
      "val Epoch: 11. Iteration: 242. Loss: 1.3571782112121582. Accuracy: 42.\n",
      "test Epoch: 11. Iteration: 242. Loss: 1.3571782112121582. Accuracy: 42.\n",
      "val Epoch: 11. Iteration: 363. Loss: 1.3554730415344238. Accuracy: 42.\n",
      "test Epoch: 11. Iteration: 363. Loss: 1.3554730415344238. Accuracy: 42.\n"
     ]
    },
    {
     "name": "stdout",
     "output_type": "stream",
     "text": [
      "val Epoch: 11. Iteration: 484. Loss: 1.3586117029190063. Accuracy: 42.\n",
      "test Epoch: 11. Iteration: 484. Loss: 1.3586117029190063. Accuracy: 42.\n",
      "val Epoch: 12. Iteration: 0. Loss: 1.365082859992981. Accuracy: 42.\n",
      "test Epoch: 12. Iteration: 0. Loss: 1.365082859992981. Accuracy: 42.\n",
      "val Epoch: 12. Iteration: 121. Loss: 1.331795573234558. Accuracy: 43.\n",
      "test Epoch: 12. Iteration: 121. Loss: 1.331795573234558. Accuracy: 42.\n",
      "val Epoch: 12. Iteration: 242. Loss: 1.3464843034744263. Accuracy: 43.\n",
      "test Epoch: 12. Iteration: 242. Loss: 1.3464843034744263. Accuracy: 42.\n",
      "val Epoch: 12. Iteration: 363. Loss: 1.357080340385437. Accuracy: 43.\n",
      "test Epoch: 12. Iteration: 363. Loss: 1.357080340385437. Accuracy: 42.\n",
      "val Epoch: 12. Iteration: 484. Loss: 1.3508505821228027. Accuracy: 43.\n",
      "test Epoch: 12. Iteration: 484. Loss: 1.3508505821228027. Accuracy: 42.\n",
      "val Epoch: 13. Iteration: 0. Loss: 1.379441499710083. Accuracy: 43.\n",
      "test Epoch: 13. Iteration: 0. Loss: 1.379441499710083. Accuracy: 42.\n",
      "val Epoch: 13. Iteration: 121. Loss: 1.3379707336425781. Accuracy: 43.\n",
      "test Epoch: 13. Iteration: 121. Loss: 1.3379707336425781. Accuracy: 43.\n",
      "val Epoch: 13. Iteration: 242. Loss: 1.3707680702209473. Accuracy: 43.\n",
      "test Epoch: 13. Iteration: 242. Loss: 1.3707680702209473. Accuracy: 43.\n",
      "val Epoch: 13. Iteration: 363. Loss: 1.3627986907958984. Accuracy: 43.\n",
      "test Epoch: 13. Iteration: 363. Loss: 1.3627986907958984. Accuracy: 43.\n",
      "val Epoch: 13. Iteration: 484. Loss: 1.3476364612579346. Accuracy: 43.\n",
      "test Epoch: 13. Iteration: 484. Loss: 1.3476364612579346. Accuracy: 43.\n",
      "val Epoch: 14. Iteration: 0. Loss: 1.3729928731918335. Accuracy: 43.\n",
      "test Epoch: 14. Iteration: 0. Loss: 1.3729928731918335. Accuracy: 43.\n",
      "val Epoch: 14. Iteration: 121. Loss: 1.3264902830123901. Accuracy: 43.\n",
      "test Epoch: 14. Iteration: 121. Loss: 1.3264902830123901. Accuracy: 43.\n",
      "val Epoch: 14. Iteration: 242. Loss: 1.3632293939590454. Accuracy: 43.\n",
      "test Epoch: 14. Iteration: 242. Loss: 1.3632293939590454. Accuracy: 43.\n",
      "val Epoch: 14. Iteration: 363. Loss: 1.3571535348892212. Accuracy: 43.\n",
      "test Epoch: 14. Iteration: 363. Loss: 1.3571535348892212. Accuracy: 43.\n",
      "val Epoch: 14. Iteration: 484. Loss: 1.3896586894989014. Accuracy: 43.\n",
      "test Epoch: 14. Iteration: 484. Loss: 1.3896586894989014. Accuracy: 43.\n",
      "val Epoch: 15. Iteration: 0. Loss: 1.3570683002471924. Accuracy: 43.\n",
      "test Epoch: 15. Iteration: 0. Loss: 1.3570683002471924. Accuracy: 43.\n",
      "val Epoch: 15. Iteration: 121. Loss: 1.3459216356277466. Accuracy: 43.\n",
      "test Epoch: 15. Iteration: 121. Loss: 1.3459216356277466. Accuracy: 43.\n",
      "val Epoch: 15. Iteration: 242. Loss: 1.3171336650848389. Accuracy: 43.\n",
      "test Epoch: 15. Iteration: 242. Loss: 1.3171336650848389. Accuracy: 43.\n",
      "val Epoch: 15. Iteration: 363. Loss: 1.342574954032898. Accuracy: 43.\n",
      "test Epoch: 15. Iteration: 363. Loss: 1.342574954032898. Accuracy: 43.\n",
      "val Epoch: 15. Iteration: 484. Loss: 1.358340859413147. Accuracy: 43.\n",
      "test Epoch: 15. Iteration: 484. Loss: 1.358340859413147. Accuracy: 43.\n",
      "val Epoch: 16. Iteration: 0. Loss: 1.3264551162719727. Accuracy: 43.\n",
      "test Epoch: 16. Iteration: 0. Loss: 1.3264551162719727. Accuracy: 43.\n",
      "val Epoch: 16. Iteration: 121. Loss: 1.3412935733795166. Accuracy: 43.\n",
      "test Epoch: 16. Iteration: 121. Loss: 1.3412935733795166. Accuracy: 43.\n",
      "val Epoch: 16. Iteration: 242. Loss: 1.3284872770309448. Accuracy: 43.\n",
      "test Epoch: 16. Iteration: 242. Loss: 1.3284872770309448. Accuracy: 43.\n",
      "val Epoch: 16. Iteration: 363. Loss: 1.3281893730163574. Accuracy: 43.\n",
      "test Epoch: 16. Iteration: 363. Loss: 1.3281893730163574. Accuracy: 43.\n",
      "val Epoch: 16. Iteration: 484. Loss: 1.3251874446868896. Accuracy: 43.\n",
      "test Epoch: 16. Iteration: 484. Loss: 1.3251874446868896. Accuracy: 43.\n",
      "val Epoch: 17. Iteration: 0. Loss: 1.3219115734100342. Accuracy: 43.\n",
      "test Epoch: 17. Iteration: 0. Loss: 1.3219115734100342. Accuracy: 43.\n",
      "val Epoch: 17. Iteration: 121. Loss: 1.3405559062957764. Accuracy: 43.\n",
      "test Epoch: 17. Iteration: 121. Loss: 1.3405559062957764. Accuracy: 43.\n",
      "val Epoch: 17. Iteration: 242. Loss: 1.3309943675994873. Accuracy: 43.\n",
      "test Epoch: 17. Iteration: 242. Loss: 1.3309943675994873. Accuracy: 43.\n",
      "val Epoch: 17. Iteration: 363. Loss: 1.3555564880371094. Accuracy: 43.\n",
      "test Epoch: 17. Iteration: 363. Loss: 1.3555564880371094. Accuracy: 43.\n",
      "val Epoch: 17. Iteration: 484. Loss: 1.3642234802246094. Accuracy: 43.\n",
      "test Epoch: 17. Iteration: 484. Loss: 1.3642234802246094. Accuracy: 43.\n",
      "val Epoch: 18. Iteration: 0. Loss: 1.320521354675293. Accuracy: 43.\n",
      "test Epoch: 18. Iteration: 0. Loss: 1.320521354675293. Accuracy: 43.\n",
      "val Epoch: 18. Iteration: 121. Loss: 1.343546748161316. Accuracy: 43.\n",
      "test Epoch: 18. Iteration: 121. Loss: 1.343546748161316. Accuracy: 43.\n",
      "val Epoch: 18. Iteration: 242. Loss: 1.3531653881072998. Accuracy: 43.\n",
      "test Epoch: 18. Iteration: 242. Loss: 1.3531653881072998. Accuracy: 43.\n",
      "val Epoch: 18. Iteration: 363. Loss: 1.3438795804977417. Accuracy: 43.\n",
      "test Epoch: 18. Iteration: 363. Loss: 1.3438795804977417. Accuracy: 43.\n",
      "val Epoch: 18. Iteration: 484. Loss: 1.3375871181488037. Accuracy: 43.\n",
      "test Epoch: 18. Iteration: 484. Loss: 1.3375871181488037. Accuracy: 43.\n",
      "val Epoch: 19. Iteration: 0. Loss: 1.3449878692626953. Accuracy: 43.\n",
      "test Epoch: 19. Iteration: 0. Loss: 1.3449878692626953. Accuracy: 43.\n",
      "val Epoch: 19. Iteration: 121. Loss: 1.3101738691329956. Accuracy: 43.\n",
      "test Epoch: 19. Iteration: 121. Loss: 1.3101738691329956. Accuracy: 43.\n",
      "val Epoch: 19. Iteration: 242. Loss: 1.3606895208358765. Accuracy: 43.\n",
      "test Epoch: 19. Iteration: 242. Loss: 1.3606895208358765. Accuracy: 43.\n",
      "val Epoch: 19. Iteration: 363. Loss: 1.371713399887085. Accuracy: 43.\n",
      "test Epoch: 19. Iteration: 363. Loss: 1.371713399887085. Accuracy: 43.\n",
      "val Epoch: 19. Iteration: 484. Loss: 1.2989497184753418. Accuracy: 43.\n",
      "test Epoch: 19. Iteration: 484. Loss: 1.2989497184753418. Accuracy: 43.\n",
      "val Epoch: 20. Iteration: 0. Loss: 1.3191134929656982. Accuracy: 43.\n",
      "test Epoch: 20. Iteration: 0. Loss: 1.3191134929656982. Accuracy: 43.\n",
      "val Epoch: 20. Iteration: 121. Loss: 1.304370403289795. Accuracy: 43.\n",
      "test Epoch: 20. Iteration: 121. Loss: 1.304370403289795. Accuracy: 43.\n",
      "val Epoch: 20. Iteration: 242. Loss: 1.3553506135940552. Accuracy: 43.\n",
      "test Epoch: 20. Iteration: 242. Loss: 1.3553506135940552. Accuracy: 43.\n",
      "val Epoch: 20. Iteration: 363. Loss: 1.3654260635375977. Accuracy: 43.\n",
      "test Epoch: 20. Iteration: 363. Loss: 1.3654260635375977. Accuracy: 43.\n",
      "val Epoch: 20. Iteration: 484. Loss: 1.3315058946609497. Accuracy: 43.\n",
      "test Epoch: 20. Iteration: 484. Loss: 1.3315058946609497. Accuracy: 43.\n",
      "val Epoch: 21. Iteration: 0. Loss: 1.3186887502670288. Accuracy: 43.\n",
      "test Epoch: 21. Iteration: 0. Loss: 1.3186887502670288. Accuracy: 43.\n",
      "val Epoch: 21. Iteration: 121. Loss: 1.3391739130020142. Accuracy: 43.\n",
      "test Epoch: 21. Iteration: 121. Loss: 1.3391739130020142. Accuracy: 43.\n",
      "val Epoch: 21. Iteration: 242. Loss: 1.3113882541656494. Accuracy: 43.\n",
      "test Epoch: 21. Iteration: 242. Loss: 1.3113882541656494. Accuracy: 43.\n",
      "val Epoch: 21. Iteration: 363. Loss: 1.3363856077194214. Accuracy: 43.\n",
      "test Epoch: 21. Iteration: 363. Loss: 1.3363856077194214. Accuracy: 43.\n",
      "val Epoch: 21. Iteration: 484. Loss: 1.3614693880081177. Accuracy: 43.\n",
      "test Epoch: 21. Iteration: 484. Loss: 1.3614693880081177. Accuracy: 43.\n",
      "val Epoch: 22. Iteration: 0. Loss: 1.3522123098373413. Accuracy: 43.\n",
      "test Epoch: 22. Iteration: 0. Loss: 1.3522123098373413. Accuracy: 43.\n",
      "val Epoch: 22. Iteration: 121. Loss: 1.3310511112213135. Accuracy: 43.\n",
      "test Epoch: 22. Iteration: 121. Loss: 1.3310511112213135. Accuracy: 43.\n",
      "val Epoch: 22. Iteration: 242. Loss: 1.3446264266967773. Accuracy: 43.\n",
      "test Epoch: 22. Iteration: 242. Loss: 1.3446264266967773. Accuracy: 43.\n",
      "val Epoch: 22. Iteration: 363. Loss: 1.3403924703598022. Accuracy: 43.\n",
      "test Epoch: 22. Iteration: 363. Loss: 1.3403924703598022. Accuracy: 43.\n",
      "val Epoch: 22. Iteration: 484. Loss: 1.3147541284561157. Accuracy: 43.\n",
      "test Epoch: 22. Iteration: 484. Loss: 1.3147541284561157. Accuracy: 43.\n",
      "val Epoch: 23. Iteration: 0. Loss: 1.350050449371338. Accuracy: 43.\n",
      "test Epoch: 23. Iteration: 0. Loss: 1.350050449371338. Accuracy: 43.\n",
      "val Epoch: 23. Iteration: 121. Loss: 1.327795386314392. Accuracy: 43.\n",
      "test Epoch: 23. Iteration: 121. Loss: 1.327795386314392. Accuracy: 43.\n"
     ]
    },
    {
     "name": "stdout",
     "output_type": "stream",
     "text": [
      "val Epoch: 23. Iteration: 242. Loss: 1.2921334505081177. Accuracy: 43.\n",
      "test Epoch: 23. Iteration: 242. Loss: 1.2921334505081177. Accuracy: 43.\n",
      "val Epoch: 23. Iteration: 363. Loss: 1.3209654092788696. Accuracy: 43.\n",
      "test Epoch: 23. Iteration: 363. Loss: 1.3209654092788696. Accuracy: 43.\n",
      "val Epoch: 23. Iteration: 484. Loss: 1.3378890752792358. Accuracy: 43.\n",
      "test Epoch: 23. Iteration: 484. Loss: 1.3378890752792358. Accuracy: 43.\n",
      "val Epoch: 24. Iteration: 0. Loss: 1.3550090789794922. Accuracy: 43.\n",
      "test Epoch: 24. Iteration: 0. Loss: 1.3550090789794922. Accuracy: 43.\n",
      "val Epoch: 24. Iteration: 121. Loss: 1.3020809888839722. Accuracy: 43.\n",
      "test Epoch: 24. Iteration: 121. Loss: 1.3020809888839722. Accuracy: 43.\n",
      "val Epoch: 24. Iteration: 242. Loss: 1.3334583044052124. Accuracy: 43.\n",
      "test Epoch: 24. Iteration: 242. Loss: 1.3334583044052124. Accuracy: 43.\n",
      "val Epoch: 24. Iteration: 363. Loss: 1.3133807182312012. Accuracy: 43.\n",
      "test Epoch: 24. Iteration: 363. Loss: 1.3133807182312012. Accuracy: 43.\n",
      "val Epoch: 24. Iteration: 484. Loss: 1.3414578437805176. Accuracy: 43.\n",
      "test Epoch: 24. Iteration: 484. Loss: 1.3414578437805176. Accuracy: 43.\n",
      "val Epoch: 25. Iteration: 0. Loss: 1.3183645009994507. Accuracy: 43.\n",
      "test Epoch: 25. Iteration: 0. Loss: 1.3183645009994507. Accuracy: 43.\n",
      "val Epoch: 25. Iteration: 121. Loss: 1.2937613725662231. Accuracy: 43.\n",
      "test Epoch: 25. Iteration: 121. Loss: 1.2937613725662231. Accuracy: 43.\n",
      "val Epoch: 25. Iteration: 242. Loss: 1.3129805326461792. Accuracy: 43.\n",
      "test Epoch: 25. Iteration: 242. Loss: 1.3129805326461792. Accuracy: 43.\n",
      "val Epoch: 25. Iteration: 363. Loss: 1.3249531984329224. Accuracy: 43.\n",
      "test Epoch: 25. Iteration: 363. Loss: 1.3249531984329224. Accuracy: 43.\n",
      "val Epoch: 25. Iteration: 484. Loss: 1.3422943353652954. Accuracy: 43.\n",
      "test Epoch: 25. Iteration: 484. Loss: 1.3422943353652954. Accuracy: 43.\n",
      "val Epoch: 26. Iteration: 0. Loss: 1.3129031658172607. Accuracy: 43.\n",
      "test Epoch: 26. Iteration: 0. Loss: 1.3129031658172607. Accuracy: 43.\n",
      "val Epoch: 26. Iteration: 121. Loss: 1.3161720037460327. Accuracy: 43.\n",
      "test Epoch: 26. Iteration: 121. Loss: 1.3161720037460327. Accuracy: 43.\n",
      "val Epoch: 26. Iteration: 242. Loss: 1.3016362190246582. Accuracy: 43.\n",
      "test Epoch: 26. Iteration: 242. Loss: 1.3016362190246582. Accuracy: 43.\n",
      "val Epoch: 26. Iteration: 363. Loss: 1.3245362043380737. Accuracy: 43.\n",
      "test Epoch: 26. Iteration: 363. Loss: 1.3245362043380737. Accuracy: 43.\n",
      "val Epoch: 26. Iteration: 484. Loss: 1.3021749258041382. Accuracy: 43.\n",
      "test Epoch: 26. Iteration: 484. Loss: 1.3021749258041382. Accuracy: 43.\n",
      "val Epoch: 27. Iteration: 0. Loss: 1.3219923973083496. Accuracy: 43.\n",
      "test Epoch: 27. Iteration: 0. Loss: 1.3219923973083496. Accuracy: 43.\n",
      "val Epoch: 27. Iteration: 121. Loss: 1.3010088205337524. Accuracy: 43.\n",
      "test Epoch: 27. Iteration: 121. Loss: 1.3010088205337524. Accuracy: 43.\n",
      "val Epoch: 27. Iteration: 242. Loss: 1.3265854120254517. Accuracy: 43.\n",
      "test Epoch: 27. Iteration: 242. Loss: 1.3265854120254517. Accuracy: 43.\n",
      "val Epoch: 27. Iteration: 363. Loss: 1.3018540143966675. Accuracy: 43.\n",
      "test Epoch: 27. Iteration: 363. Loss: 1.3018540143966675. Accuracy: 43.\n",
      "val Epoch: 27. Iteration: 484. Loss: 1.3286722898483276. Accuracy: 43.\n",
      "test Epoch: 27. Iteration: 484. Loss: 1.3286722898483276. Accuracy: 43.\n",
      "val Epoch: 28. Iteration: 0. Loss: 1.3540693521499634. Accuracy: 43.\n",
      "test Epoch: 28. Iteration: 0. Loss: 1.3540693521499634. Accuracy: 43.\n",
      "val Epoch: 28. Iteration: 121. Loss: 1.3013086318969727. Accuracy: 43.\n",
      "test Epoch: 28. Iteration: 121. Loss: 1.3013086318969727. Accuracy: 43.\n",
      "val Epoch: 28. Iteration: 242. Loss: 1.3189809322357178. Accuracy: 43.\n",
      "test Epoch: 28. Iteration: 242. Loss: 1.3189809322357178. Accuracy: 43.\n",
      "val Epoch: 28. Iteration: 363. Loss: 1.320698857307434. Accuracy: 43.\n",
      "test Epoch: 28. Iteration: 363. Loss: 1.320698857307434. Accuracy: 43.\n",
      "val Epoch: 28. Iteration: 484. Loss: 1.3065556287765503. Accuracy: 43.\n",
      "test Epoch: 28. Iteration: 484. Loss: 1.3065556287765503. Accuracy: 43.\n",
      "val Epoch: 29. Iteration: 0. Loss: 1.335083246231079. Accuracy: 43.\n",
      "test Epoch: 29. Iteration: 0. Loss: 1.335083246231079. Accuracy: 43.\n",
      "val Epoch: 29. Iteration: 121. Loss: 1.3353615999221802. Accuracy: 43.\n",
      "test Epoch: 29. Iteration: 121. Loss: 1.3353615999221802. Accuracy: 43.\n",
      "val Epoch: 29. Iteration: 242. Loss: 1.3403165340423584. Accuracy: 43.\n",
      "test Epoch: 29. Iteration: 242. Loss: 1.3403165340423584. Accuracy: 43.\n",
      "val Epoch: 29. Iteration: 363. Loss: 1.3072322607040405. Accuracy: 43.\n",
      "test Epoch: 29. Iteration: 363. Loss: 1.3072322607040405. Accuracy: 43.\n",
      "val Epoch: 29. Iteration: 484. Loss: 1.3354966640472412. Accuracy: 43.\n",
      "test Epoch: 29. Iteration: 484. Loss: 1.3354966640472412. Accuracy: 43.\n",
      "val Epoch: 30. Iteration: 0. Loss: 1.3344132900238037. Accuracy: 43.\n",
      "test Epoch: 30. Iteration: 0. Loss: 1.3344132900238037. Accuracy: 43.\n",
      "val Epoch: 30. Iteration: 121. Loss: 1.3474047183990479. Accuracy: 43.\n",
      "test Epoch: 30. Iteration: 121. Loss: 1.3474047183990479. Accuracy: 43.\n",
      "val Epoch: 30. Iteration: 242. Loss: 1.342814564704895. Accuracy: 43.\n",
      "test Epoch: 30. Iteration: 242. Loss: 1.342814564704895. Accuracy: 43.\n",
      "val Epoch: 30. Iteration: 363. Loss: 1.3398158550262451. Accuracy: 43.\n",
      "test Epoch: 30. Iteration: 363. Loss: 1.3398158550262451. Accuracy: 43.\n",
      "val Epoch: 30. Iteration: 484. Loss: 1.3068187236785889. Accuracy: 43.\n",
      "test Epoch: 30. Iteration: 484. Loss: 1.3068187236785889. Accuracy: 43.\n",
      "val Epoch: 31. Iteration: 0. Loss: 1.3235933780670166. Accuracy: 43.\n",
      "test Epoch: 31. Iteration: 0. Loss: 1.3235933780670166. Accuracy: 43.\n",
      "val Epoch: 31. Iteration: 121. Loss: 1.3521138429641724. Accuracy: 43.\n",
      "test Epoch: 31. Iteration: 121. Loss: 1.3521138429641724. Accuracy: 43.\n",
      "val Epoch: 31. Iteration: 242. Loss: 1.321387767791748. Accuracy: 43.\n",
      "test Epoch: 31. Iteration: 242. Loss: 1.321387767791748. Accuracy: 43.\n",
      "val Epoch: 31. Iteration: 363. Loss: 1.3173080682754517. Accuracy: 43.\n",
      "test Epoch: 31. Iteration: 363. Loss: 1.3173080682754517. Accuracy: 43.\n",
      "val Epoch: 31. Iteration: 484. Loss: 1.3365154266357422. Accuracy: 43.\n",
      "test Epoch: 31. Iteration: 484. Loss: 1.3365154266357422. Accuracy: 43.\n",
      "val Epoch: 32. Iteration: 0. Loss: 1.3136323690414429. Accuracy: 43.\n",
      "test Epoch: 32. Iteration: 0. Loss: 1.3136323690414429. Accuracy: 43.\n",
      "val Epoch: 32. Iteration: 121. Loss: 1.3186672925949097. Accuracy: 43.\n",
      "test Epoch: 32. Iteration: 121. Loss: 1.3186672925949097. Accuracy: 43.\n",
      "val Epoch: 32. Iteration: 242. Loss: 1.3243944644927979. Accuracy: 43.\n",
      "test Epoch: 32. Iteration: 242. Loss: 1.3243944644927979. Accuracy: 43.\n",
      "val Epoch: 32. Iteration: 363. Loss: 1.324236273765564. Accuracy: 43.\n",
      "test Epoch: 32. Iteration: 363. Loss: 1.324236273765564. Accuracy: 43.\n",
      "val Epoch: 32. Iteration: 484. Loss: 1.3000667095184326. Accuracy: 43.\n",
      "test Epoch: 32. Iteration: 484. Loss: 1.3000667095184326. Accuracy: 43.\n",
      "val Epoch: 33. Iteration: 0. Loss: 1.3033827543258667. Accuracy: 43.\n",
      "test Epoch: 33. Iteration: 0. Loss: 1.3033827543258667. Accuracy: 43.\n",
      "val Epoch: 33. Iteration: 121. Loss: 1.3361848592758179. Accuracy: 43.\n",
      "test Epoch: 33. Iteration: 121. Loss: 1.3361848592758179. Accuracy: 43.\n",
      "val Epoch: 33. Iteration: 242. Loss: 1.3268917798995972. Accuracy: 43.\n",
      "test Epoch: 33. Iteration: 242. Loss: 1.3268917798995972. Accuracy: 43.\n",
      "val Epoch: 33. Iteration: 363. Loss: 1.313376545906067. Accuracy: 43.\n",
      "test Epoch: 33. Iteration: 363. Loss: 1.313376545906067. Accuracy: 43.\n",
      "val Epoch: 33. Iteration: 484. Loss: 1.2997421026229858. Accuracy: 43.\n",
      "test Epoch: 33. Iteration: 484. Loss: 1.2997421026229858. Accuracy: 43.\n",
      "val Epoch: 34. Iteration: 0. Loss: 1.2816890478134155. Accuracy: 43.\n",
      "test Epoch: 34. Iteration: 0. Loss: 1.2816890478134155. Accuracy: 43.\n",
      "val Epoch: 34. Iteration: 121. Loss: 1.3343687057495117. Accuracy: 43.\n",
      "test Epoch: 34. Iteration: 121. Loss: 1.3343687057495117. Accuracy: 43.\n",
      "val Epoch: 34. Iteration: 242. Loss: 1.323272705078125. Accuracy: 43.\n",
      "test Epoch: 34. Iteration: 242. Loss: 1.323272705078125. Accuracy: 43.\n",
      "val Epoch: 34. Iteration: 363. Loss: 1.314990758895874. Accuracy: 43.\n",
      "test Epoch: 34. Iteration: 363. Loss: 1.314990758895874. Accuracy: 43.\n",
      "val Epoch: 34. Iteration: 484. Loss: 1.3421857357025146. Accuracy: 43.\n",
      "test Epoch: 34. Iteration: 484. Loss: 1.3421857357025146. Accuracy: 43.\n"
     ]
    },
    {
     "name": "stdout",
     "output_type": "stream",
     "text": [
      "val Epoch: 35. Iteration: 0. Loss: 1.3318341970443726. Accuracy: 43.\n",
      "test Epoch: 35. Iteration: 0. Loss: 1.3318341970443726. Accuracy: 43.\n",
      "val Epoch: 35. Iteration: 121. Loss: 1.3546011447906494. Accuracy: 43.\n",
      "test Epoch: 35. Iteration: 121. Loss: 1.3546011447906494. Accuracy: 43.\n",
      "val Epoch: 35. Iteration: 242. Loss: 1.3247289657592773. Accuracy: 43.\n",
      "test Epoch: 35. Iteration: 242. Loss: 1.3247289657592773. Accuracy: 43.\n",
      "val Epoch: 35. Iteration: 363. Loss: 1.3175629377365112. Accuracy: 43.\n",
      "test Epoch: 35. Iteration: 363. Loss: 1.3175629377365112. Accuracy: 43.\n",
      "val Epoch: 35. Iteration: 484. Loss: 1.3365792036056519. Accuracy: 43.\n",
      "test Epoch: 35. Iteration: 484. Loss: 1.3365792036056519. Accuracy: 43.\n",
      "val Epoch: 36. Iteration: 0. Loss: 1.3434083461761475. Accuracy: 43.\n",
      "test Epoch: 36. Iteration: 0. Loss: 1.3434083461761475. Accuracy: 43.\n",
      "val Epoch: 36. Iteration: 121. Loss: 1.3469691276550293. Accuracy: 43.\n",
      "test Epoch: 36. Iteration: 121. Loss: 1.3469691276550293. Accuracy: 43.\n",
      "val Epoch: 36. Iteration: 242. Loss: 1.3066593408584595. Accuracy: 43.\n",
      "test Epoch: 36. Iteration: 242. Loss: 1.3066593408584595. Accuracy: 43.\n",
      "val Epoch: 36. Iteration: 363. Loss: 1.2946009635925293. Accuracy: 43.\n",
      "test Epoch: 36. Iteration: 363. Loss: 1.2946009635925293. Accuracy: 43.\n",
      "val Epoch: 36. Iteration: 484. Loss: 1.3278979063034058. Accuracy: 43.\n",
      "test Epoch: 36. Iteration: 484. Loss: 1.3278979063034058. Accuracy: 43.\n",
      "val Epoch: 37. Iteration: 0. Loss: 1.2963645458221436. Accuracy: 43.\n",
      "test Epoch: 37. Iteration: 0. Loss: 1.2963645458221436. Accuracy: 43.\n",
      "val Epoch: 37. Iteration: 121. Loss: 1.3007639646530151. Accuracy: 43.\n",
      "test Epoch: 37. Iteration: 121. Loss: 1.3007639646530151. Accuracy: 43.\n",
      "val Epoch: 37. Iteration: 242. Loss: 1.3224281072616577. Accuracy: 43.\n",
      "test Epoch: 37. Iteration: 242. Loss: 1.3224281072616577. Accuracy: 43.\n",
      "val Epoch: 37. Iteration: 363. Loss: 1.3049967288970947. Accuracy: 43.\n",
      "test Epoch: 37. Iteration: 363. Loss: 1.3049967288970947. Accuracy: 43.\n",
      "val Epoch: 37. Iteration: 484. Loss: 1.3206368684768677. Accuracy: 43.\n",
      "test Epoch: 37. Iteration: 484. Loss: 1.3206368684768677. Accuracy: 43.\n",
      "val Epoch: 38. Iteration: 0. Loss: 1.3166972398757935. Accuracy: 43.\n",
      "test Epoch: 38. Iteration: 0. Loss: 1.3166972398757935. Accuracy: 43.\n",
      "val Epoch: 38. Iteration: 121. Loss: 1.3091672658920288. Accuracy: 43.\n",
      "test Epoch: 38. Iteration: 121. Loss: 1.3091672658920288. Accuracy: 43.\n",
      "val Epoch: 38. Iteration: 242. Loss: 1.314953327178955. Accuracy: 43.\n",
      "test Epoch: 38. Iteration: 242. Loss: 1.314953327178955. Accuracy: 43.\n",
      "val Epoch: 38. Iteration: 363. Loss: 1.300784707069397. Accuracy: 43.\n",
      "test Epoch: 38. Iteration: 363. Loss: 1.300784707069397. Accuracy: 43.\n",
      "val Epoch: 38. Iteration: 484. Loss: 1.3071061372756958. Accuracy: 43.\n",
      "test Epoch: 38. Iteration: 484. Loss: 1.3071061372756958. Accuracy: 43.\n",
      "val Epoch: 39. Iteration: 0. Loss: 1.2793495655059814. Accuracy: 43.\n",
      "test Epoch: 39. Iteration: 0. Loss: 1.2793495655059814. Accuracy: 43.\n",
      "val Epoch: 39. Iteration: 121. Loss: 1.3273147344589233. Accuracy: 43.\n",
      "test Epoch: 39. Iteration: 121. Loss: 1.3273147344589233. Accuracy: 43.\n",
      "val Epoch: 39. Iteration: 242. Loss: 1.3100976943969727. Accuracy: 43.\n",
      "test Epoch: 39. Iteration: 242. Loss: 1.3100976943969727. Accuracy: 43.\n",
      "val Epoch: 39. Iteration: 363. Loss: 1.3088253736495972. Accuracy: 43.\n",
      "test Epoch: 39. Iteration: 363. Loss: 1.3088253736495972. Accuracy: 43.\n",
      "val Epoch: 39. Iteration: 484. Loss: 1.2749100923538208. Accuracy: 43.\n",
      "test Epoch: 39. Iteration: 484. Loss: 1.2749100923538208. Accuracy: 43.\n",
      "val Epoch: 40. Iteration: 0. Loss: 1.3166507482528687. Accuracy: 43.\n",
      "test Epoch: 40. Iteration: 0. Loss: 1.3166507482528687. Accuracy: 43.\n",
      "val Epoch: 40. Iteration: 121. Loss: 1.3174126148223877. Accuracy: 43.\n",
      "test Epoch: 40. Iteration: 121. Loss: 1.3174126148223877. Accuracy: 43.\n",
      "val Epoch: 40. Iteration: 242. Loss: 1.3344544172286987. Accuracy: 43.\n",
      "test Epoch: 40. Iteration: 242. Loss: 1.3344544172286987. Accuracy: 43.\n",
      "val Epoch: 40. Iteration: 363. Loss: 1.3324947357177734. Accuracy: 43.\n",
      "test Epoch: 40. Iteration: 363. Loss: 1.3324947357177734. Accuracy: 43.\n",
      "val Epoch: 40. Iteration: 484. Loss: 1.3545842170715332. Accuracy: 43.\n",
      "test Epoch: 40. Iteration: 484. Loss: 1.3545842170715332. Accuracy: 43.\n",
      "val Epoch: 41. Iteration: 0. Loss: 1.318494439125061. Accuracy: 43.\n",
      "test Epoch: 41. Iteration: 0. Loss: 1.318494439125061. Accuracy: 43.\n",
      "val Epoch: 41. Iteration: 121. Loss: 1.3269599676132202. Accuracy: 43.\n",
      "test Epoch: 41. Iteration: 121. Loss: 1.3269599676132202. Accuracy: 43.\n",
      "val Epoch: 41. Iteration: 242. Loss: 1.3292570114135742. Accuracy: 43.\n",
      "test Epoch: 41. Iteration: 242. Loss: 1.3292570114135742. Accuracy: 43.\n",
      "val Epoch: 41. Iteration: 363. Loss: 1.323852300643921. Accuracy: 43.\n",
      "test Epoch: 41. Iteration: 363. Loss: 1.323852300643921. Accuracy: 43.\n",
      "val Epoch: 41. Iteration: 484. Loss: 1.2744841575622559. Accuracy: 43.\n",
      "test Epoch: 41. Iteration: 484. Loss: 1.2744841575622559. Accuracy: 43.\n",
      "val Epoch: 42. Iteration: 0. Loss: 1.33229398727417. Accuracy: 43.\n",
      "test Epoch: 42. Iteration: 0. Loss: 1.33229398727417. Accuracy: 43.\n",
      "val Epoch: 42. Iteration: 121. Loss: 1.304431438446045. Accuracy: 43.\n",
      "test Epoch: 42. Iteration: 121. Loss: 1.304431438446045. Accuracy: 43.\n",
      "val Epoch: 42. Iteration: 242. Loss: 1.318596363067627. Accuracy: 43.\n",
      "test Epoch: 42. Iteration: 242. Loss: 1.318596363067627. Accuracy: 43.\n",
      "val Epoch: 42. Iteration: 363. Loss: 1.3316452503204346. Accuracy: 43.\n",
      "test Epoch: 42. Iteration: 363. Loss: 1.3316452503204346. Accuracy: 43.\n",
      "val Epoch: 42. Iteration: 484. Loss: 1.3317625522613525. Accuracy: 43.\n",
      "test Epoch: 42. Iteration: 484. Loss: 1.3317625522613525. Accuracy: 43.\n",
      "val Epoch: 43. Iteration: 0. Loss: 1.3445217609405518. Accuracy: 43.\n",
      "test Epoch: 43. Iteration: 0. Loss: 1.3445217609405518. Accuracy: 43.\n",
      "val Epoch: 43. Iteration: 121. Loss: 1.2898093461990356. Accuracy: 43.\n",
      "test Epoch: 43. Iteration: 121. Loss: 1.2898093461990356. Accuracy: 43.\n",
      "val Epoch: 43. Iteration: 242. Loss: 1.3183259963989258. Accuracy: 43.\n",
      "test Epoch: 43. Iteration: 242. Loss: 1.3183259963989258. Accuracy: 43.\n",
      "val Epoch: 43. Iteration: 363. Loss: 1.3223236799240112. Accuracy: 43.\n",
      "test Epoch: 43. Iteration: 363. Loss: 1.3223236799240112. Accuracy: 43.\n",
      "val Epoch: 43. Iteration: 484. Loss: 1.308695673942566. Accuracy: 43.\n",
      "test Epoch: 43. Iteration: 484. Loss: 1.308695673942566. Accuracy: 43.\n",
      "val Epoch: 44. Iteration: 0. Loss: 1.2878540754318237. Accuracy: 43.\n",
      "test Epoch: 44. Iteration: 0. Loss: 1.2878540754318237. Accuracy: 43.\n",
      "val Epoch: 44. Iteration: 121. Loss: 1.3139111995697021. Accuracy: 43.\n",
      "test Epoch: 44. Iteration: 121. Loss: 1.3139111995697021. Accuracy: 43.\n",
      "val Epoch: 44. Iteration: 242. Loss: 1.318298101425171. Accuracy: 43.\n",
      "test Epoch: 44. Iteration: 242. Loss: 1.318298101425171. Accuracy: 43.\n",
      "val Epoch: 44. Iteration: 363. Loss: 1.3264427185058594. Accuracy: 43.\n",
      "test Epoch: 44. Iteration: 363. Loss: 1.3264427185058594. Accuracy: 43.\n",
      "val Epoch: 44. Iteration: 484. Loss: 1.3237630128860474. Accuracy: 43.\n",
      "test Epoch: 44. Iteration: 484. Loss: 1.3237630128860474. Accuracy: 43.\n",
      "val Epoch: 45. Iteration: 0. Loss: 1.3106673955917358. Accuracy: 43.\n",
      "test Epoch: 45. Iteration: 0. Loss: 1.3106673955917358. Accuracy: 43.\n",
      "val Epoch: 45. Iteration: 121. Loss: 1.2879459857940674. Accuracy: 43.\n",
      "test Epoch: 45. Iteration: 121. Loss: 1.2879459857940674. Accuracy: 43.\n",
      "val Epoch: 45. Iteration: 242. Loss: 1.360910415649414. Accuracy: 43.\n",
      "test Epoch: 45. Iteration: 242. Loss: 1.360910415649414. Accuracy: 43.\n",
      "val Epoch: 45. Iteration: 363. Loss: 1.3450998067855835. Accuracy: 43.\n",
      "test Epoch: 45. Iteration: 363. Loss: 1.3450998067855835. Accuracy: 43.\n",
      "val Epoch: 45. Iteration: 484. Loss: 1.3000237941741943. Accuracy: 43.\n",
      "test Epoch: 45. Iteration: 484. Loss: 1.3000237941741943. Accuracy: 43.\n",
      "val Epoch: 46. Iteration: 0. Loss: 1.3274800777435303. Accuracy: 43.\n",
      "test Epoch: 46. Iteration: 0. Loss: 1.3274800777435303. Accuracy: 43.\n",
      "val Epoch: 46. Iteration: 121. Loss: 1.3342006206512451. Accuracy: 43.\n",
      "test Epoch: 46. Iteration: 121. Loss: 1.3342006206512451. Accuracy: 43.\n",
      "val Epoch: 46. Iteration: 242. Loss: 1.3138213157653809. Accuracy: 43.\n",
      "test Epoch: 46. Iteration: 242. Loss: 1.3138213157653809. Accuracy: 43.\n"
     ]
    },
    {
     "name": "stdout",
     "output_type": "stream",
     "text": [
      "val Epoch: 46. Iteration: 363. Loss: 1.31023371219635. Accuracy: 43.\n",
      "test Epoch: 46. Iteration: 363. Loss: 1.31023371219635. Accuracy: 43.\n",
      "val Epoch: 46. Iteration: 484. Loss: 1.2808936834335327. Accuracy: 43.\n",
      "test Epoch: 46. Iteration: 484. Loss: 1.2808936834335327. Accuracy: 43.\n",
      "val Epoch: 47. Iteration: 0. Loss: 1.3229483366012573. Accuracy: 43.\n",
      "test Epoch: 47. Iteration: 0. Loss: 1.3229483366012573. Accuracy: 43.\n",
      "val Epoch: 47. Iteration: 121. Loss: 1.3129817247390747. Accuracy: 43.\n",
      "test Epoch: 47. Iteration: 121. Loss: 1.3129817247390747. Accuracy: 43.\n",
      "val Epoch: 47. Iteration: 242. Loss: 1.3262349367141724. Accuracy: 43.\n",
      "test Epoch: 47. Iteration: 242. Loss: 1.3262349367141724. Accuracy: 43.\n",
      "val Epoch: 47. Iteration: 363. Loss: 1.3154207468032837. Accuracy: 43.\n",
      "test Epoch: 47. Iteration: 363. Loss: 1.3154207468032837. Accuracy: 43.\n",
      "val Epoch: 47. Iteration: 484. Loss: 1.317575216293335. Accuracy: 43.\n",
      "test Epoch: 47. Iteration: 484. Loss: 1.317575216293335. Accuracy: 43.\n",
      "val Epoch: 48. Iteration: 0. Loss: 1.335357427597046. Accuracy: 43.\n",
      "test Epoch: 48. Iteration: 0. Loss: 1.335357427597046. Accuracy: 43.\n",
      "val Epoch: 48. Iteration: 121. Loss: 1.319620966911316. Accuracy: 43.\n",
      "test Epoch: 48. Iteration: 121. Loss: 1.319620966911316. Accuracy: 43.\n",
      "val Epoch: 48. Iteration: 242. Loss: 1.3144803047180176. Accuracy: 43.\n",
      "test Epoch: 48. Iteration: 242. Loss: 1.3144803047180176. Accuracy: 43.\n",
      "val Epoch: 48. Iteration: 363. Loss: 1.3082776069641113. Accuracy: 43.\n",
      "test Epoch: 48. Iteration: 363. Loss: 1.3082776069641113. Accuracy: 43.\n",
      "val Epoch: 48. Iteration: 484. Loss: 1.3167392015457153. Accuracy: 43.\n",
      "test Epoch: 48. Iteration: 484. Loss: 1.3167392015457153. Accuracy: 43.\n",
      "val Epoch: 49. Iteration: 0. Loss: 1.304227590560913. Accuracy: 43.\n",
      "test Epoch: 49. Iteration: 0. Loss: 1.304227590560913. Accuracy: 43.\n",
      "val Epoch: 49. Iteration: 121. Loss: 1.3218693733215332. Accuracy: 43.\n",
      "test Epoch: 49. Iteration: 121. Loss: 1.3218693733215332. Accuracy: 43.\n",
      "val Epoch: 49. Iteration: 242. Loss: 1.3158622980117798. Accuracy: 43.\n",
      "test Epoch: 49. Iteration: 242. Loss: 1.3158622980117798. Accuracy: 43.\n",
      "val Epoch: 49. Iteration: 363. Loss: 1.317577838897705. Accuracy: 43.\n",
      "test Epoch: 49. Iteration: 363. Loss: 1.317577838897705. Accuracy: 43.\n",
      "val Epoch: 49. Iteration: 484. Loss: 1.2971844673156738. Accuracy: 43.\n",
      "test Epoch: 49. Iteration: 484. Loss: 1.2971844673156738. Accuracy: 43.\n"
     ]
    }
   ],
   "source": [
    "import datetime\n",
    "a = datetime.datetime.now().replace(microsecond=0)\n",
    "for epoch in range(epochs):\n",
    "    for i, (features, labels) in enumerate(train_loader):\n",
    "        \n",
    "\n",
    "#         print(type(features))\n",
    "#         print(type(labels))\n",
    "        features = Variable(features)\n",
    "        labels = Variable(labels)\n",
    "#         print(type(features))\n",
    "#         print(type(labels))\n",
    "#         print(features.shape)\n",
    "#         print(labels.shape)\n",
    "\n",
    "        optimizer.zero_grad()\n",
    "        outputs = model(features.float())\n",
    "#         print(\"output \",outputs.shape)\n",
    "#         print(\"label \",labels.shape)\n",
    "#         print(\"output \",outputs[0])\n",
    "#         print(\"label \",labels[0])\n",
    "        loss = criterion(outputs.float(), labels)\n",
    "        loss.backward()\n",
    "        optimizer.step()\n",
    "\n",
    "        \n",
    "        if i % (len(X_train)// (4 * batch_size))  == 0:\n",
    "            # calculate Accuracy\n",
    "            val_correct = 0\n",
    "            val_total = 0\n",
    "#             print(\"val\")\n",
    "#             x=0\n",
    "#             for val_features, val_labels in test_loader:\n",
    "#                 if(x>1):\n",
    "#                     break\n",
    "#                 x+=1\n",
    "#                 print(val_features[0], \"  \" , val_labels[0])\n",
    "            for val_features, val_labels in val_loader:\n",
    "                val_features = Variable(val_features)\n",
    "                val_outputs = model(val_features.float())\n",
    "#                 if(i==0): \n",
    "#                     print(\"val\")\n",
    "#                     print(val_outputs)\n",
    "                _, val_predicted = torch.max(val_outputs.data, 1)\n",
    "                val_total+= val_labels.size(0)\n",
    "                # for gpu, bring the predicted and labels back to cpu fro python operations to work\n",
    "                val_correct+= (val_predicted == val_labels).sum()\n",
    "#             print(\"val\")\n",
    "#             print(val_outputs.shape)\n",
    "            val_accuracy = 100 * val_correct / val_total\n",
    "            print(\"val Epoch: {}. Iteration: {}. Loss: {}. Accuracy: {}.\".format(epoch, i, loss.item(), val_accuracy))\n",
    "        if i % (len(X_train)// (4 * batch_size))  == 0:\n",
    "            # calculate Accuracy\n",
    "            test_correct = 0\n",
    "            test_total = 0\n",
    "#             print(\"test\")\n",
    "#             x=0\n",
    "#             for test_features, test_labels in test_loader:\n",
    "#                 if(x>1):\n",
    "#                     break\n",
    "#                 x+=1\n",
    "#                 print(test_features[0], \"  \" , test_labels[0])\n",
    "            for test_features, test_labels in test_loader:\n",
    "                test_features = Variable(test_features)\n",
    "                test_outputs = model(test_features.float())\n",
    "#                 if(i==0):\n",
    "#                     print(\"test\")\n",
    "#                     print(test_outputs)\n",
    "                \n",
    "                _, test_predicted = torch.max(test_outputs.data, 1)\n",
    "                test_total+= test_labels.size(0)\n",
    "                # for gpu, bring the predicted and labels back to cpu fro python operations to work\n",
    "                test_correct+= (test_predicted == test_labels).sum()\n",
    "            test_accuracy = 100 * test_correct / test_total\n",
    "#             print(\"test\")\n",
    "#             print(test_outputs.shape)\n",
    "            print(\"test Epoch: {}. Iteration: {}. Loss: {}. Accuracy: {}.\".format(epoch, i, loss.item(), test_accuracy))\n",
    "\n",
    "            \n"
   ]
  },
  {
   "cell_type": "code",
   "execution_count": 35,
   "metadata": {},
   "outputs": [
    {
     "name": "stdout",
     "output_type": "stream",
     "text": [
      "0:15:20\n"
     ]
    }
   ],
   "source": [
    "b = datetime.datetime.now().replace(microsecond=0)\n",
    "print(b-a)"
   ]
  },
  {
   "cell_type": "code",
   "execution_count": null,
   "metadata": {},
   "outputs": [],
   "source": []
  }
 ],
 "metadata": {
  "kernelspec": {
   "display_name": "Python 3",
   "language": "python",
   "name": "python3"
  },
  "language_info": {
   "codemirror_mode": {
    "name": "ipython",
    "version": 3
   },
   "file_extension": ".py",
   "mimetype": "text/x-python",
   "name": "python",
   "nbconvert_exporter": "python",
   "pygments_lexer": "ipython3",
   "version": "3.7.4"
  },
  "pycharm": {
   "stem_cell": {
    "cell_type": "raw",
    "source": [],
    "metadata": {
     "collapsed": false
    }
   }
  }
 },
 "nbformat": 4,
 "nbformat_minor": 1
}