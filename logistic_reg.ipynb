{
 "cells": [
  {
   "cell_type": "code",
   "execution_count": 1,
   "metadata": {
    "pycharm": {
     "is_executing": false
    }
   },
   "outputs": [
    {
     "name": "stderr",
     "text": [
      "/home/emreunel/anaconda3/envs/ass3/lib/python3.7/site-packages/sklearn/utils/__init__.py:4: DeprecationWarning: Using or importing the ABCs from 'collections' instead of from 'collections.abc' is deprecated since Python 3.3,and in 3.9 it will stop working\n",
      "  from collections import Sequence\n",
      "/home/emreunel/anaconda3/envs/ass3/lib/python3.7/site-packages/sklearn/model_selection/_search.py:16: DeprecationWarning: Using or importing the ABCs from 'collections' instead of from 'collections.abc' is deprecated since Python 3.3,and in 3.9 it will stop working\n",
      "  from collections import Mapping, namedtuple, defaultdict, Sequence\n",
      "/home/emreunel/anaconda3/envs/ass3/lib/python3.7/site-packages/sklearn/ensemble/weight_boosting.py:29: DeprecationWarning: numpy.core.umath_tests is an internal NumPy module and should not be imported. It will be removed in a future NumPy release.\n",
      "  from numpy.core.umath_tests import inner1d\n"
     ],
     "output_type": "stream"
    }
   ],
   "source": [
    "import pandas as pd\n",
    "import numpy as np\n",
    "import torch\n",
    "import matplotlib.pyplot as plt\n",
    "from sklearn.metrics import accuracy_score\n",
    "from torch.autograd import Variable\n",
    "import torchvision.transforms as transforms\n",
    "import torchvision.datasets as dsets\n",
    "from sklearn.model_selection import train_test_split\n",
    "from sklearn.preprocessing import StandardScaler\n",
    "from torch.utils.data import Dataset, DataLoader\n",
    "from imblearn.combine import SMOTEENN\n",
    "from imblearn.combine import SMOTETomek"
   ]
  },
  {
   "cell_type": "code",
   "execution_count": 2,
   "metadata": {
    "pycharm": {
     "is_executing": false
    }
   },
   "outputs": [],
   "source": [
    "dtype = torch.cuda.FloatTensor # Uncomment this to run on GPU"
   ]
  },
  {
   "cell_type": "code",
   "execution_count": 3,
   "metadata": {
    "pycharm": {
     "is_executing": false,
     "name": "#%%\n"
    }
   },
   "outputs": [
    {
     "data": {
      "text/plain": "(762106, 44)"
     },
     "metadata": {},
     "output_type": "execute_result",
     "execution_count": 3
    }
   ],
   "source": [
    "data = pd.read_csv(\"dataset/preprocessed.csv\")\n",
    "data.shape"
   ]
  },
  {
   "cell_type": "code",
   "execution_count": 4,
   "outputs": [
    {
     "data": {
      "text/plain": "(762094, 44)"
     },
     "metadata": {},
     "output_type": "execute_result",
     "execution_count": 4
    }
   ],
   "source": [
    "data = data.drop(data[data.target == -1].index)\n",
    "data.shape"
   ],
   "metadata": {
    "collapsed": false,
    "pycharm": {
     "name": "#%%\n",
     "is_executing": false
    }
   }
  },
  {
   "cell_type": "code",
   "execution_count": 5,
   "outputs": [
    {
     "data": {
      "text/plain": "0    3\n1    5\n2    2\n3    2\n4    1\nName: target, dtype: int64"
     },
     "metadata": {},
     "output_type": "execute_result",
     "execution_count": 5
    }
   ],
   "source": [
    "# Separate input features and target\n",
    "targets = data.target\n",
    "targets.head()"
   ],
   "metadata": {
    "collapsed": false,
    "pycharm": {
     "name": "#%%\n",
     "is_executing": false
    }
   }
  },
  {
   "cell_type": "code",
   "execution_count": 6,
   "outputs": [
    {
     "data": {
      "text/plain": "0    2\n1    4\n2    1\n3    1\n4    0\nName: target, dtype: int64"
     },
     "metadata": {},
     "output_type": "execute_result",
     "execution_count": 6
    }
   ],
   "source": [
    "targets -= 1\n",
    "targets.head()"
   ],
   "metadata": {
    "collapsed": false,
    "pycharm": {
     "name": "#%%\n",
     "is_executing": false
    }
   }
  },
  {
   "cell_type": "code",
   "execution_count": 7,
   "outputs": [],
   "source": [
    "targets = targets.to_numpy()"
   ],
   "metadata": {
    "collapsed": false,
    "pycharm": {
     "name": "#%%\n",
     "is_executing": false
    }
   }
  },
  {
   "cell_type": "code",
   "execution_count": 8,
   "outputs": [],
   "source": [
    "features = data.drop('target', axis=1)"
   ],
   "metadata": {
    "collapsed": false,
    "pycharm": {
     "name": "#%%\n",
     "is_executing": false
    }
   }
  },
  {
   "cell_type": "code",
   "execution_count": 9,
   "outputs": [],
   "source": [
    "features = features.to_numpy()"
   ],
   "metadata": {
    "collapsed": false,
    "pycharm": {
     "name": "#%%\n",
     "is_executing": false
    }
   }
  },
  {
   "cell_type": "code",
   "execution_count": 10,
   "outputs": [],
   "source": [
    "X_trainAndVal, X_test, y_trainAndVal, y_test = train_test_split(features, targets, test_size = 0.2, random_state = 0)"
   ],
   "metadata": {
    "collapsed": false,
    "pycharm": {
     "name": "#%%\n",
     "is_executing": false
    }
   }
  },
  {
   "cell_type": "code",
   "execution_count": 11,
   "outputs": [],
   "source": [
    "X_train, X_val, y_train, y_val = train_test_split(X_trainAndVal, y_trainAndVal, test_size = 0.2, random_state = 0)"
   ],
   "metadata": {
    "collapsed": false,
    "pycharm": {
     "name": "#%%\n",
     "is_executing": false
    }
   }
  },
  {
   "cell_type": "code",
   "execution_count": 12,
   "outputs": [
    {
     "data": {
      "text/plain": "(487740, 43)"
     },
     "metadata": {},
     "output_type": "execute_result",
     "execution_count": 12
    }
   ],
   "source": [
    "X_train.shape\n",
    "\n"
   ],
   "metadata": {
    "collapsed": false,
    "pycharm": {
     "name": "#%%\n",
     "is_executing": false
    }
   }
  },
  {
   "cell_type": "code",
   "execution_count": 13,
   "outputs": [
    {
     "name": "stdout",
     "text": [
      "Frequency of unique values of the said array:\n",
      "[[     0      1      2      3      4]\n",
      " [ 50166  55949  87609 117459 176557]]\n"
     ],
     "output_type": "stream"
    }
   ],
   "source": [
    "unique_elements, counts_elements = np.unique(y_train, return_counts=True)\n",
    "print(\"Frequency of unique values of the said array:\")\n",
    "print(np.asarray((unique_elements, counts_elements)))"
   ],
   "metadata": {
    "collapsed": false,
    "pycharm": {
     "name": "#%%\n",
     "is_executing": false
    }
   }
  },
  {
   "cell_type": "code",
   "execution_count": 14,
   "outputs": [
    {
     "data": {
      "text/plain": "Text(0.5, 1.0, 'Unbalanced Data Distribution')"
     },
     "metadata": {},
     "output_type": "execute_result",
     "execution_count": 14
    },
    {
     "data": {
      "text/plain": "<Figure size 432x288 with 1 Axes>",
      "image/png": "[encoded data removed]"
     },
     "metadata": {
      "needs_background": "light"
     },
     "output_type": "display_data"
    }
   ],
   "source": [
    "objects = ('dam lev 1', 'dam lev 2', 'dam lev 3', 'dam lev 4', 'dam lev 5')\n",
    "y_pos = np.arange(len(objects))\n",
    "plt.bar(y_pos, counts_elements, align='center', alpha=0.5)\n",
    "plt.xticks(y_pos, objects)\n",
    "plt.ylabel('number of sample')\n",
    "plt.title('Unbalanced Data Distribution')"
   ],
   "metadata": {
    "collapsed": false,
    "pycharm": {
     "name": "#%%\n",
     "is_executing": false
    }
   }
  },
  {
   "cell_type": "code",
   "execution_count": 15,
   "outputs": [
    {
     "name": "stderr",
     "text": [
      "/home/emreunel/anaconda3/envs/ass3/lib/python3.7/site-packages/imblearn/utils/deprecation.py:50: DeprecationWarning: 'k' is deprecated from 0.2 and will be removed in 0.4. Use 'k_neighbors' instead.\n",
      "  category=DeprecationWarning)\n",
      "/home/emreunel/anaconda3/envs/ass3/lib/python3.7/site-packages/imblearn/utils/deprecation.py:50: DeprecationWarning: 'm' is deprecated from 0.2 and will be removed in 0.4. Use 'm_neighbors' instead.\n",
      "  category=DeprecationWarning)\n"
     ],
     "output_type": "stream"
    }
   ],
   "source": [
    "sm = SMOTETomek(random_state = 27, n_jobs = -1)\n",
    "\n",
    "X_train, y_train = sm.fit_sample(X_train, y_train)"
   ],
   "metadata": {
    "collapsed": false,
    "pycharm": {
     "name": "#%%\n",
     "is_executing": false
    }
   }
  },
  {
   "cell_type": "code",
   "execution_count": 16,
   "outputs": [
    {
     "name": "stdout",
     "text": [
      "Frequency of unique values of the said array:\n",
      "[[     0      1      2      3      4]\n",
      " [162635 155765 149211 144863 147975]]\n"
     ],
     "output_type": "stream"
    }
   ],
   "source": [
    "unique_elements, counts_elements = np.unique(y_train, return_counts=True)\n",
    "print(\"Frequency of unique values of the said array:\")\n",
    "print(np.asarray((unique_elements, counts_elements)))"
   ],
   "metadata": {
    "collapsed": false,
    "pycharm": {
     "name": "#%%\n",
     "is_executing": false
    }
   }
  },
  {
   "cell_type": "code",
   "execution_count": 17,
   "outputs": [
    {
     "data": {
      "text/plain": "Text(0.5, 1.0, 'After Re-sampling Data Distribution')"
     },
     "metadata": {},
     "output_type": "execute_result",
     "execution_count": 17
    },
    {
     "data": {
      "text/plain": "<Figure size 432x288 with 1 Axes>",
      "image/png": "[encoded data removed]"
     },
     "metadata": {
      "needs_background": "light"
     },
     "output_type": "display_data"
    }
   ],
   "source": [
    "objects = ('dam lev 1', 'dam lev 2', 'dam lev 3', 'dam lev 4', 'dam lev 5')\n",
    "y_pos = np.arange(len(objects))\n",
    "plt.bar(y_pos, counts_elements, align='center', alpha=0.5)\n",
    "plt.xticks(y_pos, objects)\n",
    "plt.ylabel('number of sample')\n",
    "plt.title('After Re-sampling Data Distribution')"
   ],
   "metadata": {
    "collapsed": false,
    "pycharm": {
     "name": "#%%\n",
     "is_executing": false
    }
   }
  },
  {
   "cell_type": "code",
   "execution_count": 18,
   "outputs": [
    {
     "data": {
      "text/plain": "(760449, 43)"
     },
     "metadata": {},
     "output_type": "execute_result",
     "execution_count": 18
    }
   ],
   "source": [
    "X_train.shape\n",
    "\n",
    "\n",
    "\n"
   ],
   "metadata": {
    "collapsed": false,
    "pycharm": {
     "name": "#%%\n",
     "is_executing": false
    }
   }
  },
  {
   "cell_type": "code",
   "execution_count": 19,
   "metadata": {
    "pycharm": {
     "is_executing": false,
     "name": "#%%\n"
    }
   },
   "outputs": [
    {
     "name": "stdout",
     "text": [
      "(760449, 43)\n",
      "(760449,)\n"
     ],
     "output_type": "stream"
    }
   ],
   "source": [
    "print((X_train ).shape)\n",
    "print(( y_train).shape)\n"
   ]
  },
  {
   "cell_type": "code",
   "execution_count": 20,
   "metadata": {
    "pycharm": {
     "is_executing": false,
     "name": "#%%\n"
    }
   },
   "outputs": [
    {
     "name": "stderr",
     "text": [
      "/home/emreunel/anaconda3/envs/ass3/lib/python3.7/site-packages/sklearn/utils/validation.py:475: DataConversionWarning: Data with input dtype int64 was converted to float64 by StandardScaler.\n",
      "  warnings.warn(msg, DataConversionWarning)\n"
     ],
     "output_type": "stream"
    }
   ],
   "source": [
    "sc = StandardScaler()\n",
    "X_train = sc.fit_transform(X_train)\n",
    "X_val = sc.transform(X_val)\n",
    "X_test = sc.transform(X_test)"
   ]
  },
  {
   "cell_type": "code",
   "execution_count": 21,
   "metadata": {
    "pycharm": {
     "is_executing": false,
     "name": "#%%\n"
    }
   },
   "outputs": [],
   "source": [
    "batch_size = 10000\n",
    "epochs = 50\n",
    "input_dim = 43\n",
    "output_dim = 5\n",
    "lr_rate = 0.01\n"
   ]
  },
  {
   "cell_type": "code",
   "execution_count": 22,
   "metadata": {
    "pycharm": {
     "is_executing": false,
     "name": "#%%\n"
    }
   },
   "outputs": [],
   "source": [
    "class datasetLoad(Dataset):\n",
    "    def __init__(self, features,labels):\n",
    "        self.features = features\n",
    "        self.labels = labels\n",
    "    def __len__(self):\n",
    "        return len(self.features)\n",
    "    def __getitem__(self, index):\n",
    "        return self.features[index], self.labels[index]\n",
    "    \n"
   ]
  },
  {
   "cell_type": "code",
   "execution_count": 23,
   "outputs": [
    {
     "name": "stdout",
     "text": [
      "<class 'numpy.ndarray'>\n"
     ],
     "output_type": "stream"
    }
   ],
   "source": [
    "print(type(X_train))\n",
    "X_train = datasetLoad(X_train, y_train)\n",
    "X_val = datasetLoad(X_val, y_val)\n",
    "# X_test = datasetLoad(X_test, y_test)"
   ],
   "metadata": {
    "collapsed": false,
    "pycharm": {
     "name": "#%%\n",
     "is_executing": false
    }
   }
  },
  {
   "cell_type": "code",
   "execution_count": 24,
   "outputs": [
    {
     "name": "stdout",
     "text": [
      "<class '__main__.datasetLoad'>\n"
     ],
     "output_type": "stream"
    }
   ],
   "source": [
    "print(type(X_train))\n",
    "train_loader = torch.utils.data.DataLoader(dataset = X_train, batch_size = batch_size, shuffle=True)\n",
    "val_loader = torch.utils.data.DataLoader(dataset = X_val, batch_size = batch_size, shuffle=True)\n",
    "# test_loader = torch.utils.data.DataLoader(dataset = X_test, batch_size = batch_size, shuffle=True)"
   ],
   "metadata": {
    "collapsed": false,
    "pycharm": {
     "name": "#%%\n",
     "is_executing": false
    }
   }
  },
  {
   "cell_type": "code",
   "execution_count": 25,
   "outputs": [],
   "source": [
    "class LogisticRegression(torch.nn.Module):\n",
    "    def __init__(self, input_dim, output_dim):\n",
    "        super(LogisticRegression, self).__init__()\n",
    "        self.linear = torch.nn.Linear(input_dim, output_dim)\n",
    "\n",
    "    def forward(self, x):\n",
    "        outputs = self.linear(x)\n",
    "        return outputs\n",
    "    \n",
    "    "
   ],
   "metadata": {
    "collapsed": false,
    "pycharm": {
     "name": "#%%\n",
     "is_executing": false
    }
   }
  },
  {
   "cell_type": "code",
   "execution_count": 26,
   "outputs": [],
   "source": [
    "model = LogisticRegression(input_dim, output_dim)"
   ],
   "metadata": {
    "collapsed": false,
    "pycharm": {
     "name": "#%%\n",
     "is_executing": false
    }
   }
  },
  {
   "cell_type": "code",
   "execution_count": 27,
   "outputs": [],
   "source": [
    "criterion = torch.nn.CrossEntropyLoss()\n"
   ],
   "metadata": {
    "collapsed": false,
    "pycharm": {
     "name": "#%%\n",
     "is_executing": false
    }
   }
  },
  {
   "cell_type": "code",
   "execution_count": 28,
   "outputs": [],
   "source": [
    "# sgd ya da adam kullanilabilir\n",
    "optimizer = torch.optim.SGD(model.parameters(), lr=lr_rate)"
   ],
   "metadata": {
    "collapsed": false,
    "pycharm": {
     "name": "#%%\n",
     "is_executing": false
    }
   }
  },
  {
   "cell_type": "code",
   "execution_count": 29,
   "outputs": [
    {
     "name": "stdout",
     "text": [
      "cuda\n"
     ],
     "output_type": "stream"
    }
   ],
   "source": [
    "if torch.cuda.is_available():\n",
    "    print(\"cuda\")\n",
    "    model = model.cuda()\n",
    "    criterion = criterion.cuda()"
   ],
   "metadata": {
    "collapsed": false,
    "pycharm": {
     "name": "#%%\n",
     "is_executing": false
    }
   }
  },
  {
   "cell_type": "code",
   "execution_count": 30,
   "outputs": [
    {
     "name": "stdout",
     "text": [
      "760449\n"
     ],
     "output_type": "stream"
    }
   ],
   "source": [
    "print(len(X_train))"
   ],
   "metadata": {
    "collapsed": false,
    "pycharm": {
     "name": "#%%\n",
     "is_executing": false
    }
   }
  },
  {
   "cell_type": "code",
   "execution_count": 31,
   "outputs": [
    {
     "name": "stdout",
     "text": [
      "{\n",
      "Epoch: 0. Train Loss: 1.6283476603658575. \n",
      "Epoch: 0. Validation Loss: 1.661226620276769. Validation Accuracy: 35.122314453125.\n",
      "}\n",
      "{\n",
      "Epoch: 5. Train Loss: 1.422559347591902. \n",
      "Epoch: 5. Validation Loss: 1.5307888587315877. Validation Accuracy: 41.24092483520508.\n",
      "}\n",
      "{\n",
      "Epoch: 10. Train Loss: 1.3947865053227073. \n",
      "Epoch: 10. Validation Loss: 1.511972814798355. Validation Accuracy: 43.07335662841797.\n",
      "}\n",
      "{\n",
      "Epoch: 15. Train Loss: 1.3842540571564121. \n",
      "Epoch: 15. Validation Loss: 1.5078479945659637. Validation Accuracy: 43.483116149902344.\n",
      "}\n",
      "{\n",
      "Epoch: 20. Train Loss: 1.3797814061767177. \n",
      "Epoch: 20. Validation Loss: 1.506134917338689. Validation Accuracy: 43.70792770385742.\n",
      "}\n",
      "{\n",
      "Epoch: 25. Train Loss: 1.3766902747907137. \n",
      "Epoch: 25. Validation Loss: 1.5069701770941417. Validation Accuracy: 43.90155029296875.\n",
      "}\n",
      "{\n",
      "Epoch: 30. Train Loss: 1.3752039937596572. \n",
      "Epoch: 30. Validation Loss: 1.5062110523382823. Validation Accuracy: 43.71706771850586.\n",
      "}\n",
      "{\n",
      "Epoch: 35. Train Loss: 1.37441401575741. \n",
      "Epoch: 35. Validation Loss: 1.5063529113928478. Validation Accuracy: 43.50065231323242.\n",
      "}\n",
      "{\n",
      "Epoch: 40. Train Loss: 1.373464120061774. \n",
      "Epoch: 40. Validation Loss: 1.507138083378474. Validation Accuracy: 43.6385612487793.\n",
      "}\n",
      "{\n",
      "Epoch: 45. Train Loss: 1.373040757681194. \n",
      "Epoch: 45. Validation Loss: 1.5065417389074962. Validation Accuracy: 43.68156051635742.\n",
      "}\n"
     ],
     "output_type": "stream"
    }
   ],
   "source": [
    "import datetime\n",
    "a = datetime.datetime.now().replace(microsecond=0)\n",
    "train_loss = []\n",
    "validation_loss = []\n",
    "for epoch in range(epochs):\n",
    "    train_loss_val = 0.0\n",
    "    num_of_train_iter = 0\n",
    "    for i, (train_feature, train_label) in enumerate(train_loader):\n",
    "        train_feature = Variable(train_feature)\n",
    "        train_label = Variable(train_label)\n",
    "        if torch.cuda.is_available():\n",
    "            train_feature = train_feature.cuda()\n",
    "            train_label = train_label.cuda() \n",
    "        optimizer.zero_grad()\n",
    "        outputs = model(train_feature.float())\n",
    "        loss = criterion(outputs.float(), train_label)\n",
    "        loss.backward()\n",
    "        optimizer.step()\n",
    "        train_loss_val += loss.item()\n",
    "        num_of_train_iter = i\n",
    "        del train_feature\n",
    "        del train_label        \n",
    "        torch.cuda.empty_cache()\n",
    "    train_loss_val /= num_of_train_iter\n",
    "\n",
    "        \n",
    "    validation_loss_val = 0.0\n",
    "    num_of_val_iter = 0\n",
    "        \n",
    "    # calculate Accuracy\n",
    "    correct = 0.0\n",
    "    total = 0\n",
    "    accuracy = 0.0\n",
    "    for i, (features, labels) in enumerate( val_loader):\n",
    "        features = Variable(features)\n",
    "        labels = Variable(labels)\n",
    "        if torch.cuda.is_available():\n",
    "            features = features.cuda()\n",
    "            labels = labels.cuda() \n",
    "        with torch.no_grad():\n",
    "            outputs = model(features.float())\n",
    "        loss = criterion(outputs.float(), labels)\n",
    "        validation_loss_val += loss.item()\n",
    "        _, predicted = torch.max(outputs.data, 1)\n",
    "        total+= labels.size(0)\n",
    "        # for gpu, bring the predicted and labels back to cpu fro python operations to work\n",
    "        correct+= (predicted == labels).sum()\n",
    "        accuracy += 100 * correct/total\n",
    "        num_of_val_iter = i\n",
    "        del features\n",
    "        del labels        \n",
    "        torch.cuda.empty_cache()\n",
    "    validation_loss_val /= num_of_val_iter\n",
    "    accuracy /=  num_of_val_iter\n",
    "    \n",
    "    train_loss.append(train_loss_val)\n",
    "    validation_loss.append(validation_loss_val)\n",
    "    if(epoch % 5 == 0):   \n",
    "        print(\"{\")\n",
    "        print(\"Epoch: {}. Train Loss: {}. \".format(epoch, train_loss_val))\n",
    "        print(\"Epoch: {}. Validation Loss: {}. Validation Accuracy: {}.\".format(epoch, validation_loss_val, accuracy))\n",
    "        print(\"}\")\n"
   ],
   "metadata": {
    "collapsed": false,
    "pycharm": {
     "name": "#%%\n",
     "is_executing": false
    }
   }
  },
  {
   "cell_type": "code",
   "execution_count": 32,
   "outputs": [
    {
     "name": "stdout",
     "text": [
      "0:04:36\n"
     ],
     "output_type": "stream"
    }
   ],
   "source": [
    "b = datetime.datetime.now().replace(microsecond=0)\n",
    "print(b-a)"
   ],
   "metadata": {
    "collapsed": false,
    "pycharm": {
     "name": "#%%\n",
     "is_executing": false
    }
   }
  },
  {
   "cell_type": "code",
   "execution_count": 33,
   "outputs": [
    {
     "data": {
      "text/plain": "<Figure size 432x288 with 1 Axes>",
      "image/png": "[encoded data removed]"
     },
     "metadata": {
      "needs_background": "light"
     },
     "output_type": "display_data"
    }
   ],
   "source": [
    "# plotting the training and validation loss\n",
    "plt.plot(train_loss, label='Training loss')\n",
    "plt.plot(validation_loss, label='Validation loss')\n",
    "plt.legend()\n",
    "plt.show()"
   ],
   "metadata": {
    "collapsed": false,
    "pycharm": {
     "name": "#%%\n",
     "is_executing": false
    }
   }
  },
  {
   "cell_type": "code",
   "execution_count": 34,
   "outputs": [],
   "source": [
    "X_test  = torch.from_numpy(X_test)\n",
    "y_test = torch.from_numpy(y_test)"
   ],
   "metadata": {
    "collapsed": false,
    "pycharm": {
     "name": "#%%\n",
     "is_executing": false
    }
   }
  },
  {
   "cell_type": "code",
   "execution_count": 35,
   "outputs": [],
   "source": [
    "if torch.cuda.is_available():\n",
    "    X_test = X_test.cuda()\n",
    "    y_test = y_test.cuda() "
   ],
   "metadata": {
    "collapsed": false,
    "pycharm": {
     "name": "#%%\n",
     "is_executing": false
    }
   }
  },
  {
   "cell_type": "code",
   "execution_count": 36,
   "outputs": [],
   "source": [
    "with torch.no_grad():\n",
    "    outputs = model(X_test.float())\n",
    "_, predicted = torch.max(outputs.data, 1)\n"
   ],
   "metadata": {
    "collapsed": false,
    "pycharm": {
     "name": "#%%\n",
     "is_executing": false
    }
   }
  },
  {
   "cell_type": "code",
   "execution_count": 37,
   "outputs": [
    {
     "data": {
      "text/plain": "39.853955215557114"
     },
     "metadata": {},
     "output_type": "execute_result",
     "execution_count": 37
    }
   ],
   "source": [
    "from sklearn.metrics import accuracy_score\n",
    "accuracy=accuracy_score(predicted.cpu().numpy(),y_test.cpu())\n",
    "accuracy*100"
   ],
   "metadata": {
    "collapsed": false,
    "pycharm": {
     "name": "#%%\n",
     "is_executing": false
    }
   }
  },
  {
   "cell_type": "code",
   "execution_count": 38,
   "outputs": [
    {
     "data": {
      "text/plain": "<Figure size 432x288 with 2 Axes>",
      "image/png": "[encoded data removed]"
     },
     "metadata": {
      "needs_background": "light"
     },
     "output_type": "display_data"
    },
    {
     "data": {
      "text/plain": "array([[0.69008704, 0.09293005, 0.06199512, 0.06687958, 0.08810821],\n       [0.35087014, 0.1322727 , 0.12497846, 0.17500431, 0.21687439],\n       [0.13704221, 0.10097073, 0.16123695, 0.27728342, 0.32346669],\n       [0.04838096, 0.06598392, 0.13609692, 0.33888406, 0.41065413],\n       [0.03060093, 0.03875997, 0.09002199, 0.2852574 , 0.55535971]])"
     },
     "metadata": {},
     "output_type": "execute_result",
     "execution_count": 38
    }
   ],
   "source": [
    "from sklearn.metrics import confusion_matrix\n",
    "cm = confusion_matrix(y_test.cpu(), predicted.cpu())\n",
    "cm = cm.astype('float') / cm.sum(axis=1)[:, np.newaxis]\n",
    "plt.imshow(cm, interpolation='nearest',cmap=\"RdYlGn\")\n",
    "plt.title(\"Confusion Matrix\")\n",
    "plt.colorbar()\n",
    "plt.ylabel('True label')\n",
    "plt.xlabel('Predicted label')\n",
    "for i in range(5):\n",
    "    for j in range(5):\n",
    "        plt.text(j,i,format(cm[i][j],\".2f\"),horizontalalignment=\"center\",color=\"black\")\n",
    "plt.tight_layout()\n",
    "plt.show()\n",
    "cm"
   ],
   "metadata": {
    "collapsed": false,
    "pycharm": {
     "name": "#%%\n",
     "is_executing": false
    }
   }
  }
 ],
 "metadata": {
  "kernelspec": {
   "display_name": "Python 3",
   "language": "python",
   "name": "python3"
  },
  "language_info": {
   "codemirror_mode": {
    "name": "ipython",
    "version": 3
   },
   "file_extension": ".py",
   "mimetype": "text/x-python",
   "name": "python",
   "nbconvert_exporter": "python",
   "pygments_lexer": "ipython3",
   "version": "3.7.4"
  },
  "pycharm": {
   "stem_cell": {
    "cell_type": "raw",
    "source": [],
    "metadata": {
     "collapsed": false
    }
   }
  }
 },
 "nbformat": 4,
 "nbformat_minor": 1
}