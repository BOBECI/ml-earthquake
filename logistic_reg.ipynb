{
 "cells": [
  {
   "cell_type": "code",
   "execution_count": 1,
   "metadata": {
    "pycharm": {
     "is_executing": false
    }
   },
   "outputs": [
    {
     "name": "stderr",
     "text": [
      "/home/emreunel/anaconda3/envs/ass3/lib/python3.7/site-packages/sklearn/utils/__init__.py:4: DeprecationWarning: Using or importing the ABCs from 'collections' instead of from 'collections.abc' is deprecated since Python 3.3,and in 3.9 it will stop working\n",
      "  from collections import Sequence\n",
      "/home/emreunel/anaconda3/envs/ass3/lib/python3.7/site-packages/sklearn/model_selection/_search.py:16: DeprecationWarning: Using or importing the ABCs from 'collections' instead of from 'collections.abc' is deprecated since Python 3.3,and in 3.9 it will stop working\n",
      "  from collections import Mapping, namedtuple, defaultdict, Sequence\n",
      "/home/emreunel/anaconda3/envs/ass3/lib/python3.7/site-packages/sklearn/ensemble/weight_boosting.py:29: DeprecationWarning: numpy.core.umath_tests is an internal NumPy module and should not be imported. It will be removed in a future NumPy release.\n",
      "  from numpy.core.umath_tests import inner1d\n"
     ],
     "output_type": "stream"
    }
   ],
   "source": [
    "import pandas as pd\n",
    "import numpy as np\n",
    "import torch\n",
    "import matplotlib.pyplot as plt\n",
    "from sklearn.metrics import accuracy_score\n",
    "from torch.autograd import Variable\n",
    "import torchvision.transforms as transforms\n",
    "import torchvision.datasets as dsets\n",
    "from sklearn.model_selection import train_test_split\n",
    "from sklearn.preprocessing import StandardScaler\n",
    "from torch.utils.data import Dataset, DataLoader\n",
    "from imblearn.combine import SMOTEENN\n",
    "from imblearn.combine import SMOTETomek"
   ]
  },
  {
   "cell_type": "code",
   "execution_count": 2,
   "metadata": {
    "pycharm": {
     "is_executing": false
    }
   },
   "outputs": [],
   "source": [
    "dtype = torch.cuda.FloatTensor # Uncomment this to run on GPU"
   ]
  },
  {
   "cell_type": "code",
   "execution_count": 3,
   "metadata": {
    "pycharm": {
     "is_executing": false,
     "name": "#%%\n"
    }
   },
   "outputs": [
    {
     "data": {
      "text/plain": "(762106, 44)"
     },
     "metadata": {},
     "output_type": "execute_result",
     "execution_count": 3
    }
   ],
   "source": [
    "data = pd.read_csv(\"dataset/preprocessed.csv\")\n",
    "data.shape"
   ]
  },
  {
   "cell_type": "code",
   "execution_count": 4,
   "outputs": [
    {
     "data": {
      "text/plain": "(762094, 44)"
     },
     "metadata": {},
     "output_type": "execute_result",
     "execution_count": 4
    }
   ],
   "source": [
    "data = data.drop(data[data.target == -1].index)\n",
    "data.shape"
   ],
   "metadata": {
    "collapsed": false,
    "pycharm": {
     "name": "#%%\n",
     "is_executing": false
    }
   }
  },
  {
   "cell_type": "code",
   "execution_count": 5,
   "outputs": [
    {
     "data": {
      "text/plain": "0    3\n1    5\n2    2\n3    2\n4    1\nName: target, dtype: int64"
     },
     "metadata": {},
     "output_type": "execute_result",
     "execution_count": 5
    }
   ],
   "source": [
    "# Separate input features and target\n",
    "targets = data.target\n",
    "targets.head()"
   ],
   "metadata": {
    "collapsed": false,
    "pycharm": {
     "name": "#%%\n",
     "is_executing": false
    }
   }
  },
  {
   "cell_type": "code",
   "execution_count": 6,
   "outputs": [
    {
     "data": {
      "text/plain": "0    2\n1    4\n2    1\n3    1\n4    0\nName: target, dtype: int64"
     },
     "metadata": {},
     "output_type": "execute_result",
     "execution_count": 6
    }
   ],
   "source": [
    "targets -= 1\n",
    "targets.head()"
   ],
   "metadata": {
    "collapsed": false,
    "pycharm": {
     "name": "#%%\n",
     "is_executing": false
    }
   }
  },
  {
   "cell_type": "code",
   "execution_count": 7,
   "outputs": [],
   "source": [
    "targets = targets.to_numpy()"
   ],
   "metadata": {
    "collapsed": false,
    "pycharm": {
     "name": "#%%\n",
     "is_executing": false
    }
   }
  },
  {
   "cell_type": "code",
   "execution_count": 8,
   "outputs": [],
   "source": [
    "features = data.drop('target', axis=1)"
   ],
   "metadata": {
    "collapsed": false,
    "pycharm": {
     "name": "#%%\n",
     "is_executing": false
    }
   }
  },
  {
   "cell_type": "code",
   "execution_count": 9,
   "outputs": [],
   "source": [
    "features = features.to_numpy()"
   ],
   "metadata": {
    "collapsed": false,
    "pycharm": {
     "name": "#%%\n",
     "is_executing": false
    }
   }
  },
  {
   "cell_type": "code",
   "execution_count": 10,
   "outputs": [],
   "source": [
    "X_trainAndVal, X_test, y_trainAndVal, y_test = train_test_split(features, targets, test_size = 0.2, random_state = 0)"
   ],
   "metadata": {
    "collapsed": false,
    "pycharm": {
     "name": "#%%\n",
     "is_executing": false
    }
   }
  },
  {
   "cell_type": "code",
   "execution_count": 11,
   "outputs": [],
   "source": [
    "X_train, X_val, y_train, y_val = train_test_split(X_trainAndVal, y_trainAndVal, test_size = 0.2, random_state = 0)"
   ],
   "metadata": {
    "collapsed": false,
    "pycharm": {
     "name": "#%%\n",
     "is_executing": false
    }
   }
  },
  {
   "cell_type": "code",
   "execution_count": 12,
   "outputs": [
    {
     "data": {
      "text/plain": "(487740, 43)"
     },
     "metadata": {},
     "output_type": "execute_result",
     "execution_count": 12
    }
   ],
   "source": [
    "X_train.shape\n",
    "\n"
   ],
   "metadata": {
    "collapsed": false,
    "pycharm": {
     "name": "#%%\n",
     "is_executing": false
    }
   }
  },
  {
   "cell_type": "code",
   "execution_count": 14,
   "outputs": [
    {
     "name": "stdout",
     "text": [
      "Frequency of unique values of the said array:\n",
      "[[     0      1      2      3      4]\n",
      " [ 50166  55949  87609 117459 176557]]\n"
     ],
     "output_type": "stream"
    }
   ],
   "source": [
    "unique_elements, counts_elements = np.unique(y_train, return_counts=True)\n",
    "print(\"Frequency of unique values of the said array:\")\n",
    "print(np.asarray((unique_elements, counts_elements)))"
   ],
   "metadata": {
    "collapsed": false,
    "pycharm": {
     "name": "#%%\n",
     "is_executing": false
    }
   }
  },
  {
   "cell_type": "code",
   "execution_count": 15,
   "outputs": [
    {
     "name": "stderr",
     "text": [
      "/home/emreunel/anaconda3/envs/ass3/lib/python3.7/site-packages/imblearn/utils/deprecation.py:50: DeprecationWarning: 'k' is deprecated from 0.2 and will be removed in 0.4. Use 'k_neighbors' instead.\n",
      "  category=DeprecationWarning)\n",
      "/home/emreunel/anaconda3/envs/ass3/lib/python3.7/site-packages/imblearn/utils/deprecation.py:50: DeprecationWarning: 'm' is deprecated from 0.2 and will be removed in 0.4. Use 'm_neighbors' instead.\n",
      "  category=DeprecationWarning)\n"
     ],
     "output_type": "stream"
    }
   ],
   "source": [
    "sm = SMOTETomek(random_state = 27, n_jobs = -1)\n",
    "\n",
    "X_train, y_train = sm.fit_sample(X_train, y_train)"
   ],
   "metadata": {
    "collapsed": false,
    "pycharm": {
     "name": "#%%\n",
     "is_executing": false
    }
   }
  },
  {
   "cell_type": "code",
   "execution_count": 16,
   "outputs": [
    {
     "name": "stdout",
     "text": [
      "Frequency of unique values of the said array:\n",
      "[[     0      1      2      3      4]\n",
      " [162635 155765 149211 144863 147975]]\n"
     ],
     "output_type": "stream"
    }
   ],
   "source": [
    "unique_elements, counts_elements = np.unique(y_train, return_counts=True)\n",
    "print(\"Frequency of unique values of the said array:\")\n",
    "print(np.asarray((unique_elements, counts_elements)))"
   ],
   "metadata": {
    "collapsed": false,
    "pycharm": {
     "name": "#%%\n",
     "is_executing": false
    }
   }
  },
  {
   "cell_type": "code",
   "execution_count": 17,
   "outputs": [
    {
     "data": {
      "text/plain": "(760449, 43)"
     },
     "metadata": {},
     "output_type": "execute_result",
     "execution_count": 17
    }
   ],
   "source": [
    "X_train.shape\n"
   ],
   "metadata": {
    "collapsed": false,
    "pycharm": {
     "name": "#%%\n",
     "is_executing": false
    }
   }
  },
  {
   "cell_type": "code",
   "metadata": {
    "pycharm": {
     "is_executing": false,
     "name": "#%% \n"
    }
   },
   "source": [
    "first_feature_count =           22\n",
    "last_feature_count =            21\n"
   ],
   "execution_count": 18,
   "outputs": []
  },
  {
   "cell_type": "code",
   "execution_count": 19,
   "metadata": {
    "pycharm": {
     "is_executing": false,
     "name": "#%%\n"
    }
   },
   "outputs": [
    {
     "name": "stdout",
     "text": [
      "(760449, 43)\n",
      "(760449,)\n"
     ],
     "output_type": "stream"
    }
   ],
   "source": [
    "print((X_train ).shape)\n",
    "print(( y_train).shape)\n"
   ]
  },
  {
   "cell_type": "code",
   "execution_count": 20,
   "metadata": {
    "pycharm": {
     "is_executing": false,
     "name": "#%%\n"
    }
   },
   "outputs": [
    {
     "name": "stderr",
     "text": [
      "/home/emreunel/anaconda3/envs/ass3/lib/python3.7/site-packages/sklearn/utils/validation.py:475: DataConversionWarning: Data with input dtype int64 was converted to float64 by StandardScaler.\n",
      "  warnings.warn(msg, DataConversionWarning)\n"
     ],
     "output_type": "stream"
    }
   ],
   "source": [
    "sc = StandardScaler()\n",
    "X_train = sc.fit_transform(X_train)\n",
    "X_val = sc.transform(X_val)\n",
    "X_test = sc.transform(X_test)"
   ]
  },
  {
   "cell_type": "code",
   "execution_count": 21,
   "metadata": {
    "pycharm": {
     "is_executing": false,
     "name": "#%%\n"
    }
   },
   "outputs": [],
   "source": [
    "batch_size = 1000\n",
    "epochs = 50\n",
    "input_dim = first_feature_count + last_feature_count \n",
    "output_dim = 5\n",
    "lr_rate = 0.001\n"
   ]
  },
  {
   "cell_type": "code",
   "execution_count": 22,
   "metadata": {
    "pycharm": {
     "is_executing": false,
     "name": "#%%\n"
    }
   },
   "outputs": [],
   "source": [
    "class datasetLoad(Dataset):\n",
    "    def __init__(self, features,labels):\n",
    "        self.features = features\n",
    "        self.labels = labels\n",
    "    def __len__(self):\n",
    "        return len(self.features)\n",
    "    def __getitem__(self, index):\n",
    "        return self.features[index], self.labels[index]\n",
    "    \n"
   ]
  },
  {
   "cell_type": "code",
   "execution_count": 23,
   "outputs": [
    {
     "name": "stdout",
     "text": [
      "<class 'numpy.ndarray'>\n"
     ],
     "output_type": "stream"
    }
   ],
   "source": [
    "print(type(X_train))\n",
    "X_train = datasetLoad(X_train, y_train)\n",
    "X_val = datasetLoad(X_val, y_val)\n",
    "X_test = datasetLoad(X_test, y_test)\n"
   ],
   "metadata": {
    "collapsed": false,
    "pycharm": {
     "name": "#%%\n",
     "is_executing": false
    }
   }
  },
  {
   "cell_type": "code",
   "execution_count": 24,
   "outputs": [
    {
     "name": "stdout",
     "text": [
      "<class '__main__.datasetLoad'>\n"
     ],
     "output_type": "stream"
    }
   ],
   "source": [
    "print(type(X_train))\n",
    "train_loader = torch.utils.data.DataLoader(dataset = X_train, batch_size = batch_size, shuffle=True)\n",
    "val_loader = torch.utils.data.DataLoader(dataset = X_val, batch_size = batch_size, shuffle=True)\n",
    "test_loader = torch.utils.data.DataLoader(dataset = X_test, batch_size = batch_size, shuffle=True)"
   ],
   "metadata": {
    "collapsed": false,
    "pycharm": {
     "name": "#%%\n",
     "is_executing": false
    }
   }
  },
  {
   "cell_type": "code",
   "execution_count": 25,
   "outputs": [],
   "source": [
    "class LogisticRegression(torch.nn.Module):\n",
    "    def __init__(self, input_dim, output_dim):\n",
    "        super(LogisticRegression, self).__init__()\n",
    "        self.linear = torch.nn.Linear(input_dim, output_dim)\n",
    "\n",
    "    def forward(self, x):\n",
    "        outputs = self.linear(x)\n",
    "        return outputs\n",
    "    \n",
    "    "
   ],
   "metadata": {
    "collapsed": false,
    "pycharm": {
     "name": "#%%\n",
     "is_executing": false
    }
   }
  },
  {
   "cell_type": "code",
   "execution_count": 26,
   "outputs": [],
   "source": [
    "model = LogisticRegression(input_dim, output_dim)"
   ],
   "metadata": {
    "collapsed": false,
    "pycharm": {
     "name": "#%%\n",
     "is_executing": false
    }
   }
  },
  {
   "cell_type": "code",
   "execution_count": 27,
   "outputs": [],
   "source": [
    "criterion = torch.nn.CrossEntropyLoss()\n"
   ],
   "metadata": {
    "collapsed": false,
    "pycharm": {
     "name": "#%%\n",
     "is_executing": false
    }
   }
  },
  {
   "cell_type": "code",
   "execution_count": 28,
   "outputs": [],
   "source": [
    "# sgd ya da adam kullanilabilir\n",
    "optimizer = torch.optim.SGD(model.parameters(), lr=lr_rate)"
   ],
   "metadata": {
    "collapsed": false,
    "pycharm": {
     "name": "#%%\n",
     "is_executing": false
    }
   }
  },
  {
   "cell_type": "code",
   "execution_count": 29,
   "outputs": [
    {
     "name": "stdout",
     "text": [
      "760449\n"
     ],
     "output_type": "stream"
    }
   ],
   "source": [
    "print(len(X_train))"
   ],
   "metadata": {
    "collapsed": false,
    "pycharm": {
     "name": "#%%\n",
     "is_executing": false
    }
   }
  },
  {
   "cell_type": "code",
   "execution_count": 30,
   "outputs": [
    {
     "name": "stdout",
     "text": [
      "val Epoch: 0. Iteration: 0. Loss: 1.7577402591705322. Accuracy: 19.\n",
      "val Epoch: 0. Iteration: 190. Loss: 1.7069194316864014. Accuracy: 22.\n",
      "val Epoch: 0. Iteration: 380. Loss: 1.606073260307312. Accuracy: 25.\n",
      "val Epoch: 0. Iteration: 570. Loss: 1.5699493885040283. Accuracy: 28.\n",
      "val Epoch: 0. Iteration: 760. Loss: 1.5322269201278687. Accuracy: 29.\n",
      "val Epoch: 1. Iteration: 0. Loss: 1.5024399757385254. Accuracy: 29.\n",
      "val Epoch: 1. Iteration: 190. Loss: 1.5240098237991333. Accuracy: 29.\n",
      "val Epoch: 1. Iteration: 380. Loss: 1.4797742366790771. Accuracy: 30.\n",
      "val Epoch: 1. Iteration: 570. Loss: 1.47549307346344. Accuracy: 30.\n",
      "val Epoch: 1. Iteration: 760. Loss: 1.4083991050720215. Accuracy: 30.\n",
      "val Epoch: 2. Iteration: 0. Loss: 1.4524184465408325. Accuracy: 30.\n",
      "val Epoch: 2. Iteration: 190. Loss: 1.4410929679870605. Accuracy: 30.\n",
      "val Epoch: 2. Iteration: 380. Loss: 1.4753949642181396. Accuracy: 31.\n",
      "val Epoch: 2. Iteration: 570. Loss: 1.4333246946334839. Accuracy: 31.\n",
      "val Epoch: 2. Iteration: 760. Loss: 1.4494765996932983. Accuracy: 32.\n",
      "val Epoch: 3. Iteration: 0. Loss: 1.4272149801254272. Accuracy: 32.\n",
      "val Epoch: 3. Iteration: 190. Loss: 1.4308017492294312. Accuracy: 32.\n",
      "val Epoch: 3. Iteration: 380. Loss: 1.4436768293380737. Accuracy: 32.\n",
      "val Epoch: 3. Iteration: 570. Loss: 1.439744234085083. Accuracy: 33.\n",
      "val Epoch: 3. Iteration: 760. Loss: 1.362396478652954. Accuracy: 33.\n",
      "val Epoch: 4. Iteration: 0. Loss: 1.3916563987731934. Accuracy: 33.\n",
      "val Epoch: 4. Iteration: 190. Loss: 1.4172778129577637. Accuracy: 33.\n",
      "val Epoch: 4. Iteration: 380. Loss: 1.3759613037109375. Accuracy: 33.\n",
      "val Epoch: 4. Iteration: 570. Loss: 1.4330934286117554. Accuracy: 34.\n",
      "val Epoch: 4. Iteration: 760. Loss: 1.4484895467758179. Accuracy: 34.\n",
      "val Epoch: 5. Iteration: 0. Loss: 1.402151107788086. Accuracy: 34.\n",
      "val Epoch: 5. Iteration: 190. Loss: 1.3672986030578613. Accuracy: 34.\n",
      "val Epoch: 5. Iteration: 380. Loss: 1.4355814456939697. Accuracy: 35.\n",
      "val Epoch: 5. Iteration: 570. Loss: 1.3973653316497803. Accuracy: 35.\n",
      "val Epoch: 5. Iteration: 760. Loss: 1.395127296447754. Accuracy: 36.\n",
      "val Epoch: 6. Iteration: 0. Loss: 1.4160245656967163. Accuracy: 36.\n",
      "val Epoch: 6. Iteration: 190. Loss: 1.37484610080719. Accuracy: 36.\n",
      "val Epoch: 6. Iteration: 380. Loss: 1.3849647045135498. Accuracy: 36.\n",
      "val Epoch: 6. Iteration: 570. Loss: 1.3994104862213135. Accuracy: 37.\n",
      "val Epoch: 6. Iteration: 760. Loss: 1.3976845741271973. Accuracy: 37.\n",
      "val Epoch: 7. Iteration: 0. Loss: 1.4026955366134644. Accuracy: 37.\n",
      "val Epoch: 7. Iteration: 190. Loss: 1.3914207220077515. Accuracy: 37.\n",
      "val Epoch: 7. Iteration: 380. Loss: 1.3610292673110962. Accuracy: 37.\n",
      "val Epoch: 7. Iteration: 570. Loss: 1.3859388828277588. Accuracy: 37.\n",
      "val Epoch: 7. Iteration: 760. Loss: 1.3507459163665771. Accuracy: 38.\n",
      "val Epoch: 8. Iteration: 0. Loss: 1.381171464920044. Accuracy: 38.\n",
      "val Epoch: 8. Iteration: 190. Loss: 1.3448988199234009. Accuracy: 38.\n",
      "val Epoch: 8. Iteration: 380. Loss: 1.3835248947143555. Accuracy: 38.\n",
      "val Epoch: 8. Iteration: 570. Loss: 1.4038326740264893. Accuracy: 38.\n",
      "val Epoch: 8. Iteration: 760. Loss: 1.3565844297409058. Accuracy: 38.\n",
      "val Epoch: 9. Iteration: 0. Loss: 1.3953574895858765. Accuracy: 38.\n",
      "val Epoch: 9. Iteration: 190. Loss: 1.4051363468170166. Accuracy: 38.\n",
      "val Epoch: 9. Iteration: 380. Loss: 1.4259099960327148. Accuracy: 38.\n",
      "val Epoch: 9. Iteration: 570. Loss: 1.3749775886535645. Accuracy: 38.\n",
      "val Epoch: 9. Iteration: 760. Loss: 1.3774113655090332. Accuracy: 38.\n",
      "val Epoch: 10. Iteration: 0. Loss: 1.3956414461135864. Accuracy: 38.\n",
      "val Epoch: 10. Iteration: 190. Loss: 1.365302562713623. Accuracy: 39.\n",
      "val Epoch: 10. Iteration: 380. Loss: 1.3624211549758911. Accuracy: 39.\n",
      "val Epoch: 10. Iteration: 570. Loss: 1.3635871410369873. Accuracy: 39.\n",
      "val Epoch: 10. Iteration: 760. Loss: 1.3539628982543945. Accuracy: 39.\n",
      "val Epoch: 11. Iteration: 0. Loss: 1.3896780014038086. Accuracy: 39.\n",
      "val Epoch: 11. Iteration: 190. Loss: 1.3754174709320068. Accuracy: 39.\n",
      "val Epoch: 11. Iteration: 380. Loss: 1.3562604188919067. Accuracy: 39.\n",
      "val Epoch: 11. Iteration: 570. Loss: 1.3572410345077515. Accuracy: 39.\n",
      "val Epoch: 11. Iteration: 760. Loss: 1.3543908596038818. Accuracy: 39.\n",
      "val Epoch: 12. Iteration: 0. Loss: 1.3813695907592773. Accuracy: 39.\n",
      "val Epoch: 12. Iteration: 190. Loss: 1.3959745168685913. Accuracy: 39.\n",
      "val Epoch: 12. Iteration: 380. Loss: 1.3903450965881348. Accuracy: 39.\n",
      "val Epoch: 12. Iteration: 570. Loss: 1.3887674808502197. Accuracy: 39.\n",
      "val Epoch: 12. Iteration: 760. Loss: 1.4033899307250977. Accuracy: 39.\n",
      "val Epoch: 13. Iteration: 0. Loss: 1.3928148746490479. Accuracy: 39.\n",
      "val Epoch: 13. Iteration: 190. Loss: 1.3805056810379028. Accuracy: 39.\n",
      "val Epoch: 13. Iteration: 380. Loss: 1.3592338562011719. Accuracy: 39.\n",
      "val Epoch: 13. Iteration: 570. Loss: 1.3636183738708496. Accuracy: 39.\n",
      "val Epoch: 13. Iteration: 760. Loss: 1.343186855316162. Accuracy: 39.\n",
      "val Epoch: 14. Iteration: 0. Loss: 1.37990403175354. Accuracy: 39.\n",
      "val Epoch: 14. Iteration: 190. Loss: 1.3926215171813965. Accuracy: 39.\n",
      "val Epoch: 14. Iteration: 380. Loss: 1.3498010635375977. Accuracy: 39.\n",
      "val Epoch: 14. Iteration: 570. Loss: 1.3551744222640991. Accuracy: 39.\n",
      "val Epoch: 14. Iteration: 760. Loss: 1.3650881052017212. Accuracy: 39.\n",
      "val Epoch: 15. Iteration: 0. Loss: 1.3538075685501099. Accuracy: 39.\n",
      "val Epoch: 15. Iteration: 190. Loss: 1.3342801332473755. Accuracy: 39.\n",
      "val Epoch: 15. Iteration: 380. Loss: 1.3823963403701782. Accuracy: 39.\n",
      "val Epoch: 15. Iteration: 570. Loss: 1.3370484113693237. Accuracy: 39.\n",
      "val Epoch: 15. Iteration: 760. Loss: 1.4326684474945068. Accuracy: 39.\n",
      "val Epoch: 16. Iteration: 0. Loss: 1.375381588935852. Accuracy: 39.\n",
      "val Epoch: 16. Iteration: 190. Loss: 1.407344102859497. Accuracy: 39.\n",
      "val Epoch: 16. Iteration: 380. Loss: 1.3871599435806274. Accuracy: 39.\n",
      "val Epoch: 16. Iteration: 570. Loss: 1.341592788696289. Accuracy: 39.\n",
      "val Epoch: 16. Iteration: 760. Loss: 1.3598692417144775. Accuracy: 39.\n",
      "val Epoch: 17. Iteration: 0. Loss: 1.376171350479126. Accuracy: 39.\n",
      "val Epoch: 17. Iteration: 190. Loss: 1.3391332626342773. Accuracy: 39.\n",
      "val Epoch: 17. Iteration: 380. Loss: 1.3748393058776855. Accuracy: 39.\n",
      "val Epoch: 17. Iteration: 570. Loss: 1.3676412105560303. Accuracy: 39.\n",
      "val Epoch: 17. Iteration: 760. Loss: 1.373253583908081. Accuracy: 39.\n",
      "val Epoch: 18. Iteration: 0. Loss: 1.3606780767440796. Accuracy: 39.\n",
      "val Epoch: 18. Iteration: 190. Loss: 1.3637614250183105. Accuracy: 39.\n",
      "val Epoch: 18. Iteration: 380. Loss: 1.355231523513794. Accuracy: 39.\n",
      "val Epoch: 18. Iteration: 570. Loss: 1.353756070137024. Accuracy: 39.\n",
      "val Epoch: 18. Iteration: 760. Loss: 1.412153720855713. Accuracy: 39.\n",
      "val Epoch: 19. Iteration: 0. Loss: 1.337294101715088. Accuracy: 39.\n",
      "val Epoch: 19. Iteration: 190. Loss: 1.3471615314483643. Accuracy: 39.\n",
      "val Epoch: 19. Iteration: 380. Loss: 1.3661704063415527. Accuracy: 39.\n",
      "val Epoch: 19. Iteration: 570. Loss: 1.3681676387786865. Accuracy: 39.\n",
      "val Epoch: 19. Iteration: 760. Loss: 1.3261662721633911. Accuracy: 39.\n",
      "val Epoch: 20. Iteration: 0. Loss: 1.3520137071609497. Accuracy: 39.\n",
      "val Epoch: 20. Iteration: 190. Loss: 1.3630175590515137. Accuracy: 39.\n",
      "val Epoch: 20. Iteration: 380. Loss: 1.3688738346099854. Accuracy: 39.\n",
      "val Epoch: 20. Iteration: 570. Loss: 1.3874133825302124. Accuracy: 39.\n",
      "val Epoch: 20. Iteration: 760. Loss: 1.375113606452942. Accuracy: 39.\n",
      "val Epoch: 21. Iteration: 0. Loss: 1.3665589094161987. Accuracy: 39.\n",
      "val Epoch: 21. Iteration: 190. Loss: 1.3762388229370117. Accuracy: 39.\n",
      "val Epoch: 21. Iteration: 380. Loss: 1.3449424505233765. Accuracy: 39.\n",
      "val Epoch: 21. Iteration: 570. Loss: 1.372574806213379. Accuracy: 40.\n",
      "val Epoch: 21. Iteration: 760. Loss: 1.3698506355285645. Accuracy: 39.\n",
      "val Epoch: 22. Iteration: 0. Loss: 1.3467254638671875. Accuracy: 39.\n",
      "val Epoch: 22. Iteration: 190. Loss: 1.37451171875. Accuracy: 39.\n",
      "val Epoch: 22. Iteration: 380. Loss: 1.3460625410079956. Accuracy: 39.\n",
      "val Epoch: 22. Iteration: 570. Loss: 1.3636524677276611. Accuracy: 40.\n",
      "val Epoch: 22. Iteration: 760. Loss: 1.3276538848876953. Accuracy: 40.\n",
      "val Epoch: 23. Iteration: 0. Loss: 1.3678531646728516. Accuracy: 40.\n",
      "val Epoch: 23. Iteration: 190. Loss: 1.3821208477020264. Accuracy: 40.\n",
      "val Epoch: 23. Iteration: 380. Loss: 1.3248465061187744. Accuracy: 40.\n",
      "val Epoch: 23. Iteration: 570. Loss: 1.36323082447052. Accuracy: 40.\n",
      "val Epoch: 23. Iteration: 760. Loss: 1.357930302619934. Accuracy: 40.\n",
      "val Epoch: 24. Iteration: 0. Loss: 1.3568403720855713. Accuracy: 40.\n",
      "val Epoch: 24. Iteration: 190. Loss: 1.3587405681610107. Accuracy: 40.\n",
      "val Epoch: 24. Iteration: 380. Loss: 1.3632718324661255. Accuracy: 40.\n",
      "val Epoch: 24. Iteration: 570. Loss: 1.3387666940689087. Accuracy: 40.\n",
      "val Epoch: 24. Iteration: 760. Loss: 1.4048514366149902. Accuracy: 40.\n",
      "val Epoch: 25. Iteration: 0. Loss: 1.3544281721115112. Accuracy: 40.\n",
      "val Epoch: 25. Iteration: 190. Loss: 1.392838478088379. Accuracy: 40.\n",
      "val Epoch: 25. Iteration: 380. Loss: 1.3659344911575317. Accuracy: 40.\n",
      "val Epoch: 25. Iteration: 570. Loss: 1.3333029747009277. Accuracy: 40.\n",
      "val Epoch: 25. Iteration: 760. Loss: 1.362001657485962. Accuracy: 40.\n",
      "val Epoch: 26. Iteration: 0. Loss: 1.3974467515945435. Accuracy: 40.\n",
      "val Epoch: 26. Iteration: 190. Loss: 1.3363714218139648. Accuracy: 40.\n",
      "val Epoch: 26. Iteration: 380. Loss: 1.3781832456588745. Accuracy: 40.\n",
      "val Epoch: 26. Iteration: 570. Loss: 1.3547158241271973. Accuracy: 40.\n",
      "val Epoch: 26. Iteration: 760. Loss: 1.326209306716919. Accuracy: 40.\n",
      "val Epoch: 27. Iteration: 0. Loss: 1.3587205410003662. Accuracy: 40.\n",
      "val Epoch: 27. Iteration: 190. Loss: 1.3509645462036133. Accuracy: 40.\n",
      "val Epoch: 27. Iteration: 380. Loss: 1.3754773139953613. Accuracy: 40.\n",
      "val Epoch: 27. Iteration: 570. Loss: 1.3754844665527344. Accuracy: 40.\n",
      "val Epoch: 27. Iteration: 760. Loss: 1.3282729387283325. Accuracy: 40.\n",
      "val Epoch: 28. Iteration: 0. Loss: 1.3114515542984009. Accuracy: 40.\n",
      "val Epoch: 28. Iteration: 190. Loss: 1.3396273851394653. Accuracy: 40.\n",
      "val Epoch: 28. Iteration: 380. Loss: 1.347103238105774. Accuracy: 40.\n",
      "val Epoch: 28. Iteration: 570. Loss: 1.3575444221496582. Accuracy: 40.\n",
      "val Epoch: 28. Iteration: 760. Loss: 1.2870503664016724. Accuracy: 40.\n",
      "val Epoch: 29. Iteration: 0. Loss: 1.3342970609664917. Accuracy: 40.\n",
      "val Epoch: 29. Iteration: 190. Loss: 1.3573622703552246. Accuracy: 40.\n",
      "val Epoch: 29. Iteration: 380. Loss: 1.3445477485656738. Accuracy: 40.\n",
      "val Epoch: 29. Iteration: 570. Loss: 1.34660804271698. Accuracy: 40.\n",
      "val Epoch: 29. Iteration: 760. Loss: 1.3283517360687256. Accuracy: 40.\n",
      "val Epoch: 30. Iteration: 0. Loss: 1.3663393259048462. Accuracy: 40.\n",
      "val Epoch: 30. Iteration: 190. Loss: 1.3308149576187134. Accuracy: 40.\n",
      "val Epoch: 30. Iteration: 380. Loss: 1.3609727621078491. Accuracy: 40.\n",
      "val Epoch: 30. Iteration: 570. Loss: 1.3884086608886719. Accuracy: 40.\n",
      "val Epoch: 30. Iteration: 760. Loss: 1.3440911769866943. Accuracy: 40.\n",
      "val Epoch: 31. Iteration: 0. Loss: 1.3627345561981201. Accuracy: 40.\n",
      "val Epoch: 31. Iteration: 190. Loss: 1.3803901672363281. Accuracy: 40.\n",
      "val Epoch: 31. Iteration: 380. Loss: 1.3532192707061768. Accuracy: 40.\n",
      "val Epoch: 31. Iteration: 570. Loss: 1.3608192205429077. Accuracy: 40.\n",
      "val Epoch: 31. Iteration: 760. Loss: 1.3629802465438843. Accuracy: 40.\n",
      "val Epoch: 32. Iteration: 0. Loss: 1.332679271697998. Accuracy: 40.\n",
      "val Epoch: 32. Iteration: 190. Loss: 1.37067711353302. Accuracy: 40.\n",
      "val Epoch: 32. Iteration: 380. Loss: 1.3743115663528442. Accuracy: 40.\n",
      "val Epoch: 32. Iteration: 570. Loss: 1.3380115032196045. Accuracy: 40.\n",
      "val Epoch: 32. Iteration: 760. Loss: 1.357444167137146. Accuracy: 40.\n",
      "val Epoch: 33. Iteration: 0. Loss: 1.3436497449874878. Accuracy: 40.\n",
      "val Epoch: 33. Iteration: 190. Loss: 1.337533950805664. Accuracy: 40.\n",
      "val Epoch: 33. Iteration: 380. Loss: 1.340293049812317. Accuracy: 40.\n",
      "val Epoch: 33. Iteration: 570. Loss: 1.3422192335128784. Accuracy: 40.\n",
      "val Epoch: 33. Iteration: 760. Loss: 1.3946802616119385. Accuracy: 40.\n",
      "val Epoch: 34. Iteration: 0. Loss: 1.3616074323654175. Accuracy: 40.\n",
      "val Epoch: 34. Iteration: 190. Loss: 1.385392427444458. Accuracy: 40.\n",
      "val Epoch: 34. Iteration: 380. Loss: 1.348750352859497. Accuracy: 40.\n",
      "val Epoch: 34. Iteration: 570. Loss: 1.321727991104126. Accuracy: 40.\n",
      "val Epoch: 34. Iteration: 760. Loss: 1.3707867860794067. Accuracy: 40.\n",
      "val Epoch: 35. Iteration: 0. Loss: 1.3748070001602173. Accuracy: 40.\n",
      "val Epoch: 35. Iteration: 190. Loss: 1.3404487371444702. Accuracy: 40.\n",
      "val Epoch: 35. Iteration: 380. Loss: 1.3717231750488281. Accuracy: 40.\n",
      "val Epoch: 35. Iteration: 570. Loss: 1.332069993019104. Accuracy: 40.\n",
      "val Epoch: 35. Iteration: 760. Loss: 1.3532476425170898. Accuracy: 40.\n",
      "val Epoch: 36. Iteration: 0. Loss: 1.3414617776870728. Accuracy: 40.\n",
      "val Epoch: 36. Iteration: 190. Loss: 1.3375407457351685. Accuracy: 40.\n",
      "val Epoch: 36. Iteration: 380. Loss: 1.3549689054489136. Accuracy: 40.\n",
      "val Epoch: 36. Iteration: 570. Loss: 1.3762211799621582. Accuracy: 40.\n",
      "val Epoch: 36. Iteration: 760. Loss: 1.38357675075531. Accuracy: 40.\n",
      "val Epoch: 37. Iteration: 0. Loss: 1.344367265701294. Accuracy: 40.\n",
      "val Epoch: 37. Iteration: 190. Loss: 1.3686561584472656. Accuracy: 40.\n",
      "val Epoch: 37. Iteration: 380. Loss: 1.369446873664856. Accuracy: 40.\n",
      "val Epoch: 37. Iteration: 570. Loss: 1.342238426208496. Accuracy: 40.\n",
      "val Epoch: 37. Iteration: 760. Loss: 1.37699556350708. Accuracy: 40.\n",
      "val Epoch: 38. Iteration: 0. Loss: 1.3674348592758179. Accuracy: 40.\n",
      "val Epoch: 38. Iteration: 190. Loss: 1.3600200414657593. Accuracy: 40.\n",
      "val Epoch: 38. Iteration: 380. Loss: 1.3567396402359009. Accuracy: 40.\n",
      "val Epoch: 38. Iteration: 570. Loss: 1.3556987047195435. Accuracy: 40.\n",
      "val Epoch: 38. Iteration: 760. Loss: 1.3690886497497559. Accuracy: 40.\n",
      "val Epoch: 39. Iteration: 0. Loss: 1.354427456855774. Accuracy: 40.\n",
      "val Epoch: 39. Iteration: 190. Loss: 1.3561800718307495. Accuracy: 40.\n",
      "val Epoch: 39. Iteration: 380. Loss: 1.337979793548584. Accuracy: 40.\n",
      "val Epoch: 39. Iteration: 570. Loss: 1.3595720529556274. Accuracy: 40.\n",
      "val Epoch: 39. Iteration: 760. Loss: 1.3605300188064575. Accuracy: 40.\n",
      "val Epoch: 40. Iteration: 0. Loss: 1.3504211902618408. Accuracy: 40.\n",
      "val Epoch: 40. Iteration: 190. Loss: 1.3513953685760498. Accuracy: 40.\n",
      "val Epoch: 40. Iteration: 380. Loss: 1.3645333051681519. Accuracy: 40.\n",
      "val Epoch: 40. Iteration: 570. Loss: 1.3631703853607178. Accuracy: 40.\n",
      "val Epoch: 40. Iteration: 760. Loss: 1.3549491167068481. Accuracy: 40.\n",
      "val Epoch: 41. Iteration: 0. Loss: 1.3680307865142822. Accuracy: 40.\n",
      "val Epoch: 41. Iteration: 190. Loss: 1.3937468528747559. Accuracy: 40.\n",
      "val Epoch: 41. Iteration: 380. Loss: 1.3767924308776855. Accuracy: 40.\n",
      "val Epoch: 41. Iteration: 570. Loss: 1.3357510566711426. Accuracy: 40.\n",
      "val Epoch: 41. Iteration: 760. Loss: 1.4004563093185425. Accuracy: 40.\n",
      "val Epoch: 42. Iteration: 0. Loss: 1.3584089279174805. Accuracy: 40.\n",
      "val Epoch: 42. Iteration: 190. Loss: 1.3851051330566406. Accuracy: 40.\n",
      "val Epoch: 42. Iteration: 380. Loss: 1.334355354309082. Accuracy: 40.\n",
      "val Epoch: 42. Iteration: 570. Loss: 1.3575255870819092. Accuracy: 40.\n",
      "val Epoch: 42. Iteration: 760. Loss: 1.3698148727416992. Accuracy: 40.\n",
      "val Epoch: 43. Iteration: 0. Loss: 1.3437976837158203. Accuracy: 40.\n",
      "val Epoch: 43. Iteration: 190. Loss: 1.3573198318481445. Accuracy: 40.\n",
      "val Epoch: 43. Iteration: 380. Loss: 1.3358229398727417. Accuracy: 40.\n",
      "val Epoch: 43. Iteration: 570. Loss: 1.324213981628418. Accuracy: 40.\n",
      "val Epoch: 43. Iteration: 760. Loss: 1.3406682014465332. Accuracy: 40.\n",
      "val Epoch: 44. Iteration: 0. Loss: 1.340086817741394. Accuracy: 40.\n",
      "val Epoch: 44. Iteration: 190. Loss: 1.357621192932129. Accuracy: 40.\n",
      "val Epoch: 44. Iteration: 380. Loss: 1.346380591392517. Accuracy: 40.\n",
      "val Epoch: 44. Iteration: 570. Loss: 1.352168083190918. Accuracy: 40.\n",
      "val Epoch: 44. Iteration: 760. Loss: 1.3538033962249756. Accuracy: 40.\n",
      "val Epoch: 45. Iteration: 0. Loss: 1.3457123041152954. Accuracy: 40.\n",
      "val Epoch: 45. Iteration: 190. Loss: 1.3625365495681763. Accuracy: 40.\n",
      "val Epoch: 45. Iteration: 380. Loss: 1.3365092277526855. Accuracy: 40.\n",
      "val Epoch: 45. Iteration: 570. Loss: 1.3671457767486572. Accuracy: 40.\n",
      "val Epoch: 45. Iteration: 760. Loss: 1.330528736114502. Accuracy: 40.\n",
      "val Epoch: 46. Iteration: 0. Loss: 1.3603562116622925. Accuracy: 40.\n",
      "val Epoch: 46. Iteration: 190. Loss: 1.3465113639831543. Accuracy: 40.\n",
      "val Epoch: 46. Iteration: 380. Loss: 1.3534349203109741. Accuracy: 40.\n",
      "val Epoch: 46. Iteration: 570. Loss: 1.3617557287216187. Accuracy: 40.\n",
      "val Epoch: 46. Iteration: 760. Loss: 1.4046152830123901. Accuracy: 40.\n",
      "val Epoch: 47. Iteration: 0. Loss: 1.3294720649719238. Accuracy: 40.\n",
      "val Epoch: 47. Iteration: 190. Loss: 1.356668472290039. Accuracy: 40.\n",
      "val Epoch: 47. Iteration: 380. Loss: 1.3640774488449097. Accuracy: 40.\n",
      "val Epoch: 47. Iteration: 570. Loss: 1.353743314743042. Accuracy: 40.\n",
      "val Epoch: 47. Iteration: 760. Loss: 1.3480051755905151. Accuracy: 40.\n",
      "val Epoch: 48. Iteration: 0. Loss: 1.3531391620635986. Accuracy: 40.\n",
      "val Epoch: 48. Iteration: 190. Loss: 1.3726236820220947. Accuracy: 40.\n",
      "val Epoch: 48. Iteration: 380. Loss: 1.3457642793655396. Accuracy: 40.\n",
      "val Epoch: 48. Iteration: 570. Loss: 1.351355791091919. Accuracy: 40.\n",
      "val Epoch: 48. Iteration: 760. Loss: 1.3068394660949707. Accuracy: 40.\n",
      "val Epoch: 49. Iteration: 0. Loss: 1.3738514184951782. Accuracy: 40.\n",
      "val Epoch: 49. Iteration: 190. Loss: 1.3562052249908447. Accuracy: 40.\n",
      "val Epoch: 49. Iteration: 380. Loss: 1.3664206266403198. Accuracy: 40.\n",
      "val Epoch: 49. Iteration: 570. Loss: 1.36482834815979. Accuracy: 40.\n",
      "val Epoch: 49. Iteration: 760. Loss: 1.3002710342407227. Accuracy: 40.\n"
     ],
     "output_type": "stream"
    }
   ],
   "source": [
    "import datetime\n",
    "a = datetime.datetime.now().replace(microsecond=0)\n",
    "for epoch in range(epochs):\n",
    "    for i, (train_feature, train_label) in enumerate(train_loader):\n",
    "        train_feature = Variable(train_feature)\n",
    "        train_label = Variable(train_label)\n",
    "\n",
    "        optimizer.zero_grad()\n",
    "        outputs = model(train_feature.float())\n",
    "        loss = criterion(outputs.float(), train_label)\n",
    "        loss.backward()\n",
    "        optimizer.step()\n",
    "\n",
    "        \n",
    "        if i % (len(X_train)// (4 * batch_size))  == 0:\n",
    "            # calculate Accuracy\n",
    "            val_correct = 0\n",
    "            val_total = 0\n",
    "            for val_features, val_labels in val_loader:\n",
    "                val_features = Variable(val_features)\n",
    "                with torch.no_grad():    \n",
    "                    val_outputs = model(val_features.float())\n",
    "                _, val_predicted = torch.max(val_outputs.data, 1)\n",
    "                val_total+= val_labels.size(0)\n",
    "                # for gpu, bring the predicted and labels back to cpu fro python operations to work\n",
    "                val_correct+= (val_predicted == val_labels).sum()\n",
    "            val_accuracy = 100 * val_correct / val_total\n",
    "            # if(epoch % 5 == 0 and i == 0):\n",
    "            #     print(\"val Epoch: {}. Iteration: {}. Loss: {}. Accuracy: {}.\".format(epoch, i, loss.item(), val_accuracy))\n",
    "            print(\"val Epoch: {}. Iteration: {}. Loss: {}. Accuracy: {}.\".format(epoch, i, loss.item(), val_accuracy))\n",
    "             \n"
   ],
   "metadata": {
    "collapsed": false,
    "pycharm": {
     "name": "#%%\n",
     "is_executing": false
    }
   }
  },
  {
   "cell_type": "code",
   "execution_count": 31,
   "outputs": [
    {
     "name": "stdout",
     "text": [
      "0:07:22\n"
     ],
     "output_type": "stream"
    }
   ],
   "source": [
    "b = datetime.datetime.now().replace(microsecond=0)\n",
    "print(b-a)"
   ],
   "metadata": {
    "collapsed": false,
    "pycharm": {
     "name": "#%%\n",
     "is_executing": false
    }
   }
  }
 ],
 "metadata": {
  "kernelspec": {
   "display_name": "Python 3",
   "language": "python",
   "name": "python3"
  },
  "language_info": {
   "codemirror_mode": {
    "name": "ipython",
    "version": 3
   },
   "file_extension": ".py",
   "mimetype": "text/x-python",
   "name": "python",
   "nbconvert_exporter": "python",
   "pygments_lexer": "ipython3",
   "version": "3.7.4"
  },
  "pycharm": {
   "stem_cell": {
    "cell_type": "raw",
    "source": [],
    "metadata": {
     "collapsed": false
    }
   }
  }
 },
 "nbformat": 4,
 "nbformat_minor": 1
}